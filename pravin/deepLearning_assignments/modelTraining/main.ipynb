{
 "cells": [
  {
   "cell_type": "code",
   "execution_count": 2,
   "metadata": {},
   "outputs": [],
   "source": [
    "# TensorFlow and tf.keras\n",
    "import tensorflow as tf\n",
    "import tensorflow\n",
    "from tensorflow.keras import layers, models\n",
    "\n",
    "# Helper libraries\n",
    "import numpy as np\n",
    "import matplotlib.pyplot as plt"
   ]
  },
  {
   "cell_type": "code",
   "execution_count": 3,
   "metadata": {},
   "outputs": [
    {
     "name": "stdout",
     "output_type": "stream",
     "text": [
      "Num GPUs Available:  1\n"
     ]
    }
   ],
   "source": [
    "print(\"Num GPUs Available: \", len(tensorflow.config.experimental.list_physical_devices('GPU')))"
   ]
  },
  {
   "cell_type": "code",
   "execution_count": 4,
   "metadata": {},
   "outputs": [],
   "source": [
    "fashion_mnist = tf.keras.datasets.fashion_mnist\n",
    "\n",
    "(train_images, train_labels), (test_images, test_labels) = fashion_mnist.load_data()"
   ]
  },
  {
   "cell_type": "code",
   "execution_count": 5,
   "metadata": {},
   "outputs": [],
   "source": [
    "class_names = ['T-shirt/top', 'Trouser', 'Pullover', 'Dress', 'Coat', 'Sandal', 'Shirt', 'Sneaker', 'Bag', 'Ankle boot']"
   ]
  },
  {
   "cell_type": "code",
   "execution_count": 6,
   "metadata": {},
   "outputs": [
    {
     "data": {
      "text/plain": [
       "(60000, 28, 28)"
      ]
     },
     "execution_count": 6,
     "metadata": {},
     "output_type": "execute_result"
    }
   ],
   "source": [
    "train_images.shape"
   ]
  },
  {
   "cell_type": "code",
   "execution_count": 7,
   "metadata": {},
   "outputs": [
    {
     "data": {
      "text/plain": [
       "60000"
      ]
     },
     "execution_count": 7,
     "metadata": {},
     "output_type": "execute_result"
    }
   ],
   "source": [
    "len(train_labels)"
   ]
  },
  {
   "cell_type": "code",
   "execution_count": 8,
   "metadata": {},
   "outputs": [
    {
     "data": {
      "text/plain": [
       "(10000, 28, 28)"
      ]
     },
     "execution_count": 8,
     "metadata": {},
     "output_type": "execute_result"
    }
   ],
   "source": [
    "test_images.shape"
   ]
  },
  {
   "cell_type": "code",
   "execution_count": 9,
   "metadata": {},
   "outputs": [],
   "source": [
    "train_images = train_images / 255.0\n",
    "\n",
    "test_images = test_images / 255.0"
   ]
  },
  {
   "cell_type": "code",
   "execution_count": 10,
   "metadata": {},
   "outputs": [],
   "source": [
    "def create_resnet():\n",
    "    inputs = layers.Input(shape=(28, 28, 1))  # Adjust input shape for Fashion MNIST (grayscale)\n",
    "   \n",
    "    # Initial convolutional layer\n",
    "    x = layers.Conv2D(64, (3, 3), padding='same', activation='relu')(inputs)\n",
    "    x = layers.BatchNormalization()(x)\n",
    " \n",
    "    # First residual block\n",
    "    for _ in range(2):\n",
    "        residual = x\n",
    "        x = layers.Conv2D(64, (3, 3), padding='same', activation='relu')(x)\n",
    "        x = layers.BatchNormalization()(x)\n",
    "        x = layers.Conv2D(64, (3, 3), padding='same', activation=None)(x)\n",
    "        x = layers.BatchNormalization()(x)\n",
    "        x = layers.Add()([x, residual])\n",
    "        x = layers.ReLU()(x)\n",
    " \n",
    "    # Second residual block\n",
    "    x = layers.Conv2D(128, (3, 3), strides=(2, 2), padding='same', activation='relu')(x)\n",
    "    x = layers.BatchNormalization()(x)\n",
    "    for _ in range(2):\n",
    "        residual = x\n",
    "        x = layers.Conv2D(128, (3, 3), padding='same', activation='relu')(x)\n",
    "        x = layers.BatchNormalization()(x)\n",
    "        x = layers.Conv2D(128, (3, 3), padding='same', activation=None)(x)\n",
    "        x = layers.BatchNormalization()(x)\n",
    "        x = layers.Add()([x, residual])\n",
    "        x = layers.ReLU()(x)\n",
    " \n",
    "    # Global average pooling and output\n",
    "    x = layers.GlobalAveragePooling2D()(x)\n",
    "    outputs = layers.Dense(10, activation='softmax')(x)  # 10 classes for Fashion MNIST\n",
    " \n",
    "    model = models.Model(inputs, outputs)\n",
    "    return model"
   ]
  },
  {
   "cell_type": "code",
   "execution_count": 11,
   "metadata": {},
   "outputs": [],
   "source": [
    "model = create_resnet()\n",
    "model.compile(optimizer='adam',\n",
    "              loss='sparse_categorical_crossentropy',\n",
    "              metrics=['accuracy'])"
   ]
  },
  {
   "cell_type": "code",
   "execution_count": 12,
   "metadata": {},
   "outputs": [
    {
     "name": "stdout",
     "output_type": "stream",
     "text": [
      "Model: \"model\"\n",
      "__________________________________________________________________________________________________\n",
      " Layer (type)                   Output Shape         Param #     Connected to                     \n",
      "==================================================================================================\n",
      " input_1 (InputLayer)           [(None, 28, 28, 1)]  0           []                               \n",
      "                                                                                                  \n",
      " conv2d (Conv2D)                (None, 28, 28, 64)   640         ['input_1[0][0]']                \n",
      "                                                                                                  \n",
      " batch_normalization (BatchNorm  (None, 28, 28, 64)  256         ['conv2d[0][0]']                 \n",
      " alization)                                                                                       \n",
      "                                                                                                  \n",
      " conv2d_1 (Conv2D)              (None, 28, 28, 64)   36928       ['batch_normalization[0][0]']    \n",
      "                                                                                                  \n",
      " batch_normalization_1 (BatchNo  (None, 28, 28, 64)  256         ['conv2d_1[0][0]']               \n",
      " rmalization)                                                                                     \n",
      "                                                                                                  \n",
      " conv2d_2 (Conv2D)              (None, 28, 28, 64)   36928       ['batch_normalization_1[0][0]']  \n",
      "                                                                                                  \n",
      " batch_normalization_2 (BatchNo  (None, 28, 28, 64)  256         ['conv2d_2[0][0]']               \n",
      " rmalization)                                                                                     \n",
      "                                                                                                  \n",
      " add (Add)                      (None, 28, 28, 64)   0           ['batch_normalization_2[0][0]',  \n",
      "                                                                  'batch_normalization[0][0]']    \n",
      "                                                                                                  \n",
      " re_lu (ReLU)                   (None, 28, 28, 64)   0           ['add[0][0]']                    \n",
      "                                                                                                  \n",
      " conv2d_3 (Conv2D)              (None, 28, 28, 64)   36928       ['re_lu[0][0]']                  \n",
      "                                                                                                  \n",
      " batch_normalization_3 (BatchNo  (None, 28, 28, 64)  256         ['conv2d_3[0][0]']               \n",
      " rmalization)                                                                                     \n",
      "                                                                                                  \n",
      " conv2d_4 (Conv2D)              (None, 28, 28, 64)   36928       ['batch_normalization_3[0][0]']  \n",
      "                                                                                                  \n",
      " batch_normalization_4 (BatchNo  (None, 28, 28, 64)  256         ['conv2d_4[0][0]']               \n",
      " rmalization)                                                                                     \n",
      "                                                                                                  \n",
      " add_1 (Add)                    (None, 28, 28, 64)   0           ['batch_normalization_4[0][0]',  \n",
      "                                                                  're_lu[0][0]']                  \n",
      "                                                                                                  \n",
      " re_lu_1 (ReLU)                 (None, 28, 28, 64)   0           ['add_1[0][0]']                  \n",
      "                                                                                                  \n",
      " conv2d_5 (Conv2D)              (None, 14, 14, 128)  73856       ['re_lu_1[0][0]']                \n",
      "                                                                                                  \n",
      " batch_normalization_5 (BatchNo  (None, 14, 14, 128)  512        ['conv2d_5[0][0]']               \n",
      " rmalization)                                                                                     \n",
      "                                                                                                  \n",
      " conv2d_6 (Conv2D)              (None, 14, 14, 128)  147584      ['batch_normalization_5[0][0]']  \n",
      "                                                                                                  \n",
      " batch_normalization_6 (BatchNo  (None, 14, 14, 128)  512        ['conv2d_6[0][0]']               \n",
      " rmalization)                                                                                     \n",
      "                                                                                                  \n",
      " conv2d_7 (Conv2D)              (None, 14, 14, 128)  147584      ['batch_normalization_6[0][0]']  \n",
      "                                                                                                  \n",
      " batch_normalization_7 (BatchNo  (None, 14, 14, 128)  512        ['conv2d_7[0][0]']               \n",
      " rmalization)                                                                                     \n",
      "                                                                                                  \n",
      " add_2 (Add)                    (None, 14, 14, 128)  0           ['batch_normalization_7[0][0]',  \n",
      "                                                                  'batch_normalization_5[0][0]']  \n",
      "                                                                                                  \n",
      " re_lu_2 (ReLU)                 (None, 14, 14, 128)  0           ['add_2[0][0]']                  \n",
      "                                                                                                  \n",
      " conv2d_8 (Conv2D)              (None, 14, 14, 128)  147584      ['re_lu_2[0][0]']                \n",
      "                                                                                                  \n",
      " batch_normalization_8 (BatchNo  (None, 14, 14, 128)  512        ['conv2d_8[0][0]']               \n",
      " rmalization)                                                                                     \n",
      "                                                                                                  \n",
      " conv2d_9 (Conv2D)              (None, 14, 14, 128)  147584      ['batch_normalization_8[0][0]']  \n",
      "                                                                                                  \n",
      " batch_normalization_9 (BatchNo  (None, 14, 14, 128)  512        ['conv2d_9[0][0]']               \n",
      " rmalization)                                                                                     \n",
      "                                                                                                  \n",
      " add_3 (Add)                    (None, 14, 14, 128)  0           ['batch_normalization_9[0][0]',  \n",
      "                                                                  're_lu_2[0][0]']                \n",
      "                                                                                                  \n",
      " re_lu_3 (ReLU)                 (None, 14, 14, 128)  0           ['add_3[0][0]']                  \n",
      "                                                                                                  \n",
      " global_average_pooling2d (Glob  (None, 128)         0           ['re_lu_3[0][0]']                \n",
      " alAveragePooling2D)                                                                              \n",
      "                                                                                                  \n",
      " dense (Dense)                  (None, 10)           1290        ['global_average_pooling2d[0][0]'\n",
      "                                                                 ]                                \n",
      "                                                                                                  \n",
      "==================================================================================================\n",
      "Total params: 817,674\n",
      "Trainable params: 815,754\n",
      "Non-trainable params: 1,920\n",
      "__________________________________________________________________________________________________\n"
     ]
    }
   ],
   "source": [
    "model.summary()"
   ]
  },
  {
   "cell_type": "code",
   "execution_count": 13,
   "metadata": {},
   "outputs": [],
   "source": [
    "from sklearn.model_selection import train_test_split"
   ]
  },
  {
   "cell_type": "code",
   "execution_count": 14,
   "metadata": {},
   "outputs": [],
   "source": [
    "Train_images, Val_images, Train_labels, Val_labels = train_test_split(train_images, train_labels, test_size=0.2, random_state=42)"
   ]
  },
  {
   "cell_type": "code",
   "execution_count": 15,
   "metadata": {},
   "outputs": [],
   "source": [
    "stop_early = tf.keras.callbacks.EarlyStopping(monitor='val_accuracy', patience=10)"
   ]
  },
  {
   "cell_type": "code",
   "execution_count": 21,
   "metadata": {},
   "outputs": [
    {
     "name": "stdout",
     "output_type": "stream",
     "text": [
      "Epoch 1/50\n",
      "750/750 [==============================] - 51s 19ms/step - loss: 0.4358 - accuracy: 0.8421 - val_loss: 0.4189 - val_accuracy: 0.8500\n",
      "Epoch 2/50\n",
      "750/750 [==============================] - 14s 18ms/step - loss: 0.2695 - accuracy: 0.9020 - val_loss: 0.2762 - val_accuracy: 0.8979\n",
      "Epoch 3/50\n",
      "750/750 [==============================] - 14s 18ms/step - loss: 0.2309 - accuracy: 0.9162 - val_loss: 0.2593 - val_accuracy: 0.9055\n",
      "Epoch 4/50\n",
      "750/750 [==============================] - 14s 18ms/step - loss: 0.2037 - accuracy: 0.9273 - val_loss: 0.5031 - val_accuracy: 0.8384\n",
      "Epoch 5/50\n",
      "750/750 [==============================] - 14s 18ms/step - loss: 0.1865 - accuracy: 0.9335 - val_loss: 0.2370 - val_accuracy: 0.9168\n",
      "Epoch 6/50\n",
      "750/750 [==============================] - 14s 18ms/step - loss: 0.1664 - accuracy: 0.9404 - val_loss: 0.2246 - val_accuracy: 0.9182\n",
      "Epoch 7/50\n",
      "750/750 [==============================] - 14s 18ms/step - loss: 0.1492 - accuracy: 0.9467 - val_loss: 0.2319 - val_accuracy: 0.9208\n",
      "Epoch 8/50\n",
      "750/750 [==============================] - 14s 18ms/step - loss: 0.1346 - accuracy: 0.9517 - val_loss: 0.2266 - val_accuracy: 0.9218\n",
      "Epoch 9/50\n",
      "750/750 [==============================] - 14s 18ms/step - loss: 0.1217 - accuracy: 0.9567 - val_loss: 0.2301 - val_accuracy: 0.9199\n",
      "Epoch 10/50\n",
      "750/750 [==============================] - 14s 18ms/step - loss: 0.1059 - accuracy: 0.9626 - val_loss: 0.2033 - val_accuracy: 0.9323\n",
      "Epoch 11/50\n",
      "750/750 [==============================] - 14s 18ms/step - loss: 0.0952 - accuracy: 0.9658 - val_loss: 0.2805 - val_accuracy: 0.9148\n",
      "Epoch 12/50\n",
      "750/750 [==============================] - 14s 18ms/step - loss: 0.0790 - accuracy: 0.9730 - val_loss: 0.2867 - val_accuracy: 0.9086\n",
      "Epoch 13/50\n",
      "750/750 [==============================] - 14s 18ms/step - loss: 0.0686 - accuracy: 0.9756 - val_loss: 0.2641 - val_accuracy: 0.9195\n",
      "Epoch 14/50\n",
      "750/750 [==============================] - 14s 18ms/step - loss: 0.0596 - accuracy: 0.9788 - val_loss: 0.2421 - val_accuracy: 0.9289\n",
      "Epoch 15/50\n",
      "750/750 [==============================] - 14s 18ms/step - loss: 0.0473 - accuracy: 0.9838 - val_loss: 0.2591 - val_accuracy: 0.9250\n",
      "Epoch 16/50\n",
      "750/750 [==============================] - 14s 18ms/step - loss: 0.0374 - accuracy: 0.9873 - val_loss: 0.2547 - val_accuracy: 0.9308\n",
      "Epoch 17/50\n",
      "750/750 [==============================] - 14s 18ms/step - loss: 0.0348 - accuracy: 0.9882 - val_loss: 0.3310 - val_accuracy: 0.9129\n",
      "Epoch 18/50\n",
      "750/750 [==============================] - 14s 18ms/step - loss: 0.0324 - accuracy: 0.9889 - val_loss: 0.2824 - val_accuracy: 0.9283\n",
      "Epoch 19/50\n",
      "750/750 [==============================] - 14s 18ms/step - loss: 0.0282 - accuracy: 0.9905 - val_loss: 0.3232 - val_accuracy: 0.9258\n",
      "Epoch 20/50\n",
      "750/750 [==============================] - 14s 18ms/step - loss: 0.0292 - accuracy: 0.9895 - val_loss: 0.3200 - val_accuracy: 0.9223\n"
     ]
    },
    {
     "data": {
      "text/plain": [
       "<keras.callbacks.History at 0x2450a2b49d0>"
      ]
     },
     "execution_count": 21,
     "metadata": {},
     "output_type": "execute_result"
    }
   ],
   "source": [
    "model.fit(Train_images, Train_labels, validation_data=(Val_images, Val_labels), epochs=50, batch_size=64, callbacks=[stop_early])"
   ]
  },
  {
   "cell_type": "code",
   "execution_count": 23,
   "metadata": {},
   "outputs": [],
   "source": [
    "model.save('models/resnet_basemodel.h5')"
   ]
  },
  {
   "cell_type": "code",
   "execution_count": 16,
   "metadata": {},
   "outputs": [],
   "source": [
    "base_model = tf.keras.models.load_model('models/resnet_basemodel.h5')"
   ]
  },
  {
   "cell_type": "code",
   "execution_count": 17,
   "metadata": {},
   "outputs": [],
   "source": [
    "import keras_tuner as kt\n",
    "\n",
    "def model_builder(hp):\n",
    "    # Load the pre-trained model\n",
    "    base_model = load_model(r\"D:\\Pravin\\MCW\\Assignments\\resnerArchi\\models\\resnet_basemodel.h5\")\n",
    "\n",
    "    # Compile the model with hyperparameters\n",
    "    hp_learning_rate = hp.Choice('learning_rate', values=[1e-3, 1e-4, 1e-5])\n",
    "    hp_optimizer = hp.Choice('optimizer', values=['adam', 'sgd', 'rmsprop'])\n",
    "\n",
    "    if hp_optimizer == 'adam':\n",
    "        optimizer = tf.keras.optimizers.Adam(learning_rate=hp_learning_rate)\n",
    "    elif hp_optimizer == 'sgd':\n",
    "        optimizer = tf.keras.optimizers.SGD(learning_rate=hp_learning_rate)\n",
    "    else:\n",
    "        optimizer = tf.keras.optimizers.RMSprop(learning_rate=hp_learning_rate)\n",
    "\n",
    "    base_model.compile(optimizer=optimizer,\n",
    "                  loss='sparse_categorical_crossentropy',\n",
    "                  metrics=['accuracy'])\n",
    "    return base_model\n"
   ]
  },
  {
   "cell_type": "code",
   "execution_count": 18,
   "metadata": {},
   "outputs": [
    {
     "name": "stdout",
     "output_type": "stream",
     "text": [
      "Reloading Tuner from resnet_tuning\\fasion-mnist\\tuner0.json\n"
     ]
    }
   ],
   "source": [
    "tuner = kt.Hyperband(\n",
    "    model_builder,\n",
    "    objective='val_accuracy',\n",
    "    max_epochs=20,\n",
    "    factor=3,\n",
    "    directory='resnet_tuning',\n",
    "    project_name='fasion-mnist'\n",
    ")\n"
   ]
  },
  {
   "cell_type": "code",
   "execution_count": 19,
   "metadata": {},
   "outputs": [
    {
     "name": "stdout",
     "output_type": "stream",
     "text": [
      "Best learning rate: 0.0001\n",
      "Best optimizer: rmsprop\n"
     ]
    }
   ],
   "source": [
    "tuner.search(Train_images, Train_labels, epochs=10, validation_data=(Val_images, Val_labels))\n",
    "\n",
    "# Retrieve the best hyperparameters\n",
    "best_hps = tuner.get_best_hyperparameters(num_trials=1)[0]\n",
    "\n",
    "print(f\"Best learning rate: {best_hps.get('learning_rate')}\")\n",
    "print(f\"Best optimizer: {best_hps.get('optimizer')}\")"
   ]
  },
  {
   "cell_type": "code",
   "execution_count": 44,
   "metadata": {},
   "outputs": [
    {
     "name": "stdout",
     "output_type": "stream",
     "text": [
      "Epoch 1/50\n",
      "750/750 [==============================] - 17s 20ms/step - loss: 0.0103 - accuracy: 0.9971 - val_loss: 0.2617 - val_accuracy: 0.9387\n",
      "Epoch 2/50\n",
      "750/750 [==============================] - 15s 20ms/step - loss: 0.0041 - accuracy: 0.9995 - val_loss: 0.2686 - val_accuracy: 0.9402\n",
      "Epoch 3/50\n",
      "750/750 [==============================] - 15s 20ms/step - loss: 0.0022 - accuracy: 0.9999 - val_loss: 0.2764 - val_accuracy: 0.9406\n",
      "Epoch 4/50\n",
      "750/750 [==============================] - 15s 20ms/step - loss: 0.0014 - accuracy: 0.9999 - val_loss: 0.2851 - val_accuracy: 0.9391\n",
      "Epoch 5/50\n",
      "750/750 [==============================] - 15s 20ms/step - loss: 0.0010 - accuracy: 1.0000 - val_loss: 0.2928 - val_accuracy: 0.9414\n",
      "Epoch 6/50\n",
      "750/750 [==============================] - 15s 20ms/step - loss: 7.1293e-04 - accuracy: 1.0000 - val_loss: 0.3006 - val_accuracy: 0.9401\n",
      "Epoch 7/50\n",
      "750/750 [==============================] - 17s 22ms/step - loss: 4.9821e-04 - accuracy: 1.0000 - val_loss: 0.3112 - val_accuracy: 0.9409\n",
      "Epoch 8/50\n",
      "750/750 [==============================] - 17s 22ms/step - loss: 3.6618e-04 - accuracy: 1.0000 - val_loss: 0.3188 - val_accuracy: 0.9408\n",
      "Epoch 9/50\n",
      "750/750 [==============================] - 17s 22ms/step - loss: 2.8205e-04 - accuracy: 1.0000 - val_loss: 0.3272 - val_accuracy: 0.9406\n",
      "Epoch 10/50\n",
      "750/750 [==============================] - 17s 22ms/step - loss: 2.3529e-04 - accuracy: 1.0000 - val_loss: 0.3360 - val_accuracy: 0.9408\n",
      "Epoch 11/50\n",
      "750/750 [==============================] - 17s 22ms/step - loss: 1.6757e-04 - accuracy: 1.0000 - val_loss: 0.3377 - val_accuracy: 0.9405\n",
      "Epoch 12/50\n",
      "750/750 [==============================] - 17s 22ms/step - loss: 1.2535e-04 - accuracy: 1.0000 - val_loss: 0.3467 - val_accuracy: 0.9420\n",
      "Epoch 13/50\n",
      "750/750 [==============================] - 17s 22ms/step - loss: 1.1040e-04 - accuracy: 1.0000 - val_loss: 0.3592 - val_accuracy: 0.9417\n",
      "Epoch 14/50\n",
      "750/750 [==============================] - 17s 22ms/step - loss: 8.9170e-05 - accuracy: 1.0000 - val_loss: 0.3596 - val_accuracy: 0.9411\n",
      "Epoch 15/50\n",
      "750/750 [==============================] - 17s 22ms/step - loss: 8.2846e-05 - accuracy: 1.0000 - val_loss: 0.3696 - val_accuracy: 0.9418\n",
      "Epoch 16/50\n",
      "750/750 [==============================] - 17s 22ms/step - loss: 5.3105e-05 - accuracy: 1.0000 - val_loss: 0.3776 - val_accuracy: 0.9412\n",
      "Epoch 17/50\n",
      "750/750 [==============================] - 16s 22ms/step - loss: 4.8625e-05 - accuracy: 1.0000 - val_loss: 0.3879 - val_accuracy: 0.9417\n",
      "Epoch 18/50\n",
      "750/750 [==============================] - 15s 20ms/step - loss: 3.1992e-05 - accuracy: 1.0000 - val_loss: 0.3899 - val_accuracy: 0.9408\n",
      "Epoch 19/50\n",
      "750/750 [==============================] - 15s 20ms/step - loss: 3.3147e-05 - accuracy: 1.0000 - val_loss: 0.3924 - val_accuracy: 0.9416\n",
      "Epoch 20/50\n",
      "750/750 [==============================] - 15s 20ms/step - loss: 2.5421e-05 - accuracy: 1.0000 - val_loss: 0.4027 - val_accuracy: 0.9403\n",
      "Epoch 21/50\n",
      "750/750 [==============================] - 15s 20ms/step - loss: 3.0136e-05 - accuracy: 1.0000 - val_loss: 0.4050 - val_accuracy: 0.9412\n",
      "Epoch 22/50\n",
      "750/750 [==============================] - 15s 20ms/step - loss: 1.8872e-05 - accuracy: 1.0000 - val_loss: 0.4080 - val_accuracy: 0.9427\n",
      "Epoch 23/50\n",
      "750/750 [==============================] - 15s 20ms/step - loss: 1.5486e-05 - accuracy: 1.0000 - val_loss: 0.4202 - val_accuracy: 0.9416\n",
      "Epoch 24/50\n",
      "750/750 [==============================] - 15s 20ms/step - loss: 1.2411e-05 - accuracy: 1.0000 - val_loss: 0.4246 - val_accuracy: 0.9423\n",
      "Epoch 25/50\n",
      "750/750 [==============================] - 15s 20ms/step - loss: 9.8622e-06 - accuracy: 1.0000 - val_loss: 0.4310 - val_accuracy: 0.9403\n",
      "Epoch 26/50\n",
      "750/750 [==============================] - 15s 20ms/step - loss: 8.1593e-06 - accuracy: 1.0000 - val_loss: 0.4347 - val_accuracy: 0.9414\n",
      "Epoch 27/50\n",
      "750/750 [==============================] - 15s 20ms/step - loss: 7.4123e-06 - accuracy: 1.0000 - val_loss: 0.4268 - val_accuracy: 0.9419\n",
      "Epoch 28/50\n",
      "750/750 [==============================] - 15s 20ms/step - loss: 5.8142e-06 - accuracy: 1.0000 - val_loss: 0.4529 - val_accuracy: 0.9411\n",
      "Epoch 29/50\n",
      "750/750 [==============================] - 15s 20ms/step - loss: 5.0491e-06 - accuracy: 1.0000 - val_loss: 0.4465 - val_accuracy: 0.9406\n",
      "Epoch 30/50\n",
      "750/750 [==============================] - 15s 20ms/step - loss: 5.8459e-06 - accuracy: 1.0000 - val_loss: 0.4582 - val_accuracy: 0.9406\n",
      "Epoch 31/50\n",
      "750/750 [==============================] - 15s 20ms/step - loss: 3.6310e-06 - accuracy: 1.0000 - val_loss: 0.4593 - val_accuracy: 0.9417\n",
      "Epoch 32/50\n",
      "750/750 [==============================] - 15s 20ms/step - loss: 3.4793e-06 - accuracy: 1.0000 - val_loss: 0.4632 - val_accuracy: 0.9412\n"
     ]
    },
    {
     "data": {
      "text/plain": [
       "<keras.callbacks.History at 0x247bec16700>"
      ]
     },
     "execution_count": 44,
     "metadata": {},
     "output_type": "execute_result"
    }
   ],
   "source": [
    "hypertuned_model = tuner.hypermodel.build(best_hps)\n",
    "hypertuned_model.fit(Train_images, Train_labels, epochs=50, validation_data=(Val_images, Val_labels), batch_size=64, callbacks=[stop_early])\n"
   ]
  },
  {
   "cell_type": "code",
   "execution_count": null,
   "metadata": {},
   "outputs": [],
   "source": [
    "hypertuned_model.save('models/resnet_hypertuned_model.h5')"
   ]
  },
  {
   "cell_type": "code",
   "execution_count": 29,
   "metadata": {},
   "outputs": [],
   "source": [
    "hypertuned_model = tensorflow.keras.models.load_model(r\"D:\\Pravin\\MCW\\Assignments\\resnerArchi\\models\\resnet_hypertuned_model.h5\")"
   ]
  },
  {
   "cell_type": "code",
   "execution_count": 21,
   "metadata": {},
   "outputs": [],
   "source": [
    "# Reshape the data to include the channel dimension (for grayscale images)\n",
    "Train_images = Train_images.reshape(-1, 28, 28, 1)\n",
    "Val_images = Val_images.reshape(-1, 28, 28, 1)\n",
    "\n",
    "# Ensure the data is of type float32 and normalized\n",
    "Train_images = Train_images.astype('float32')\n",
    "Val_images = Val_images.astype('float32')\n"
   ]
  },
  {
   "cell_type": "code",
   "execution_count": 22,
   "metadata": {},
   "outputs": [],
   "source": [
    "from tensorflow.keras.preprocessing.image import ImageDataGenerator"
   ]
  },
  {
   "cell_type": "code",
   "execution_count": 23,
   "metadata": {},
   "outputs": [],
   "source": [
    "datagen = ImageDataGenerator(\n",
    "    rotation_range=10,           # Slightly increase to account for diverse orientations\n",
    "    width_shift_range=0.1,       # Smaller shifts since large shifts might cut off important details\n",
    "    height_shift_range=0.1,      # Same as width shift for consistency\n",
    "    shear_range=0.15,            # Slight reduction to avoid excessive distortion\n",
    "    zoom_range=0.1,              # Zoom less to preserve spatial information\n",
    "    fill_mode='nearest'          # Nearest fill mode works well for preserving structure\n",
    ")"
   ]
  },
  {
   "cell_type": "code",
   "execution_count": 24,
   "metadata": {},
   "outputs": [],
   "source": [
    "datagen.fit(Train_images)"
   ]
  },
  {
   "cell_type": "code",
   "execution_count": 25,
   "metadata": {},
   "outputs": [
    {
     "name": "stdout",
     "output_type": "stream",
     "text": [
      "Epoch 1/50\n",
      "750/750 [==============================] - 38s 21ms/step - loss: 0.4952 - accuracy: 0.9115 - val_loss: 0.6410 - val_accuracy: 0.9168\n",
      "Epoch 2/50\n",
      "750/750 [==============================] - 15s 21ms/step - loss: 0.3732 - accuracy: 0.9229 - val_loss: 0.5121 - val_accuracy: 0.9192\n",
      "Epoch 3/50\n",
      "750/750 [==============================] - 15s 21ms/step - loss: 0.3074 - accuracy: 0.9269 - val_loss: 0.4302 - val_accuracy: 0.9219\n",
      "Epoch 4/50\n",
      "750/750 [==============================] - 16s 21ms/step - loss: 0.2661 - accuracy: 0.9297 - val_loss: 0.3970 - val_accuracy: 0.9197\n",
      "Epoch 5/50\n",
      "750/750 [==============================] - 16s 22ms/step - loss: 0.2446 - accuracy: 0.9310 - val_loss: 0.3597 - val_accuracy: 0.9194\n",
      "Epoch 6/50\n",
      "750/750 [==============================] - 17s 23ms/step - loss: 0.2185 - accuracy: 0.9329 - val_loss: 0.3349 - val_accuracy: 0.9197\n",
      "Epoch 7/50\n",
      "750/750 [==============================] - 24s 32ms/step - loss: 0.1989 - accuracy: 0.9341 - val_loss: 0.2802 - val_accuracy: 0.9274\n",
      "Epoch 8/50\n",
      "750/750 [==============================] - 25s 33ms/step - loss: 0.1920 - accuracy: 0.9374 - val_loss: 0.2628 - val_accuracy: 0.9293\n",
      "Epoch 9/50\n",
      "750/750 [==============================] - 23s 31ms/step - loss: 0.1827 - accuracy: 0.9386 - val_loss: 0.2612 - val_accuracy: 0.9277\n",
      "Epoch 10/50\n",
      "750/750 [==============================] - 23s 31ms/step - loss: 0.1721 - accuracy: 0.9395 - val_loss: 0.2525 - val_accuracy: 0.9285\n",
      "Epoch 11/50\n",
      "750/750 [==============================] - 23s 31ms/step - loss: 0.1681 - accuracy: 0.9425 - val_loss: 0.2602 - val_accuracy: 0.9258\n",
      "Epoch 12/50\n",
      "750/750 [==============================] - 23s 31ms/step - loss: 0.1612 - accuracy: 0.9430 - val_loss: 0.2535 - val_accuracy: 0.9258\n",
      "Epoch 13/50\n",
      "750/750 [==============================] - 24s 31ms/step - loss: 0.1592 - accuracy: 0.9440 - val_loss: 0.2381 - val_accuracy: 0.9300\n",
      "Epoch 14/50\n",
      "750/750 [==============================] - 23s 31ms/step - loss: 0.1584 - accuracy: 0.9446 - val_loss: 0.2348 - val_accuracy: 0.9297\n",
      "Epoch 15/50\n",
      "750/750 [==============================] - 23s 31ms/step - loss: 0.1497 - accuracy: 0.9458 - val_loss: 0.2352 - val_accuracy: 0.9296\n",
      "Epoch 16/50\n",
      "750/750 [==============================] - 23s 31ms/step - loss: 0.1492 - accuracy: 0.9470 - val_loss: 0.2553 - val_accuracy: 0.9243\n",
      "Epoch 17/50\n",
      "750/750 [==============================] - 23s 31ms/step - loss: 0.1424 - accuracy: 0.9486 - val_loss: 0.2522 - val_accuracy: 0.9249\n",
      "Epoch 18/50\n",
      "750/750 [==============================] - 24s 32ms/step - loss: 0.1428 - accuracy: 0.9486 - val_loss: 0.2439 - val_accuracy: 0.9250\n",
      "Epoch 19/50\n",
      "750/750 [==============================] - 24s 32ms/step - loss: 0.1382 - accuracy: 0.9498 - val_loss: 0.2336 - val_accuracy: 0.9298\n",
      "Epoch 20/50\n",
      "750/750 [==============================] - 24s 32ms/step - loss: 0.1399 - accuracy: 0.9500 - val_loss: 0.2331 - val_accuracy: 0.9285\n",
      "Epoch 21/50\n",
      "750/750 [==============================] - 24s 32ms/step - loss: 0.1315 - accuracy: 0.9532 - val_loss: 0.2246 - val_accuracy: 0.9332\n",
      "Epoch 22/50\n",
      "750/750 [==============================] - 24s 32ms/step - loss: 0.1348 - accuracy: 0.9516 - val_loss: 0.2349 - val_accuracy: 0.9289\n",
      "Epoch 23/50\n",
      "750/750 [==============================] - 24s 32ms/step - loss: 0.1310 - accuracy: 0.9531 - val_loss: 0.2316 - val_accuracy: 0.9305\n",
      "Epoch 24/50\n",
      "750/750 [==============================] - 24s 32ms/step - loss: 0.1302 - accuracy: 0.9527 - val_loss: 0.2212 - val_accuracy: 0.9324\n",
      "Epoch 25/50\n",
      "750/750 [==============================] - 24s 32ms/step - loss: 0.1275 - accuracy: 0.9529 - val_loss: 0.2477 - val_accuracy: 0.9270\n",
      "Epoch 26/50\n",
      "750/750 [==============================] - 24s 32ms/step - loss: 0.1253 - accuracy: 0.9534 - val_loss: 0.2368 - val_accuracy: 0.9286\n",
      "Epoch 27/50\n",
      "750/750 [==============================] - 24s 32ms/step - loss: 0.1238 - accuracy: 0.9544 - val_loss: 0.2391 - val_accuracy: 0.9298\n",
      "Epoch 28/50\n",
      "750/750 [==============================] - 24s 32ms/step - loss: 0.1231 - accuracy: 0.9557 - val_loss: 0.2398 - val_accuracy: 0.9312\n",
      "Epoch 29/50\n",
      "750/750 [==============================] - 25s 33ms/step - loss: 0.1192 - accuracy: 0.9572 - val_loss: 0.2353 - val_accuracy: 0.9308\n",
      "Epoch 30/50\n",
      "750/750 [==============================] - 24s 33ms/step - loss: 0.1193 - accuracy: 0.9561 - val_loss: 0.2348 - val_accuracy: 0.9310\n",
      "Epoch 31/50\n",
      "750/750 [==============================] - 24s 32ms/step - loss: 0.1157 - accuracy: 0.9581 - val_loss: 0.2293 - val_accuracy: 0.9319\n"
     ]
    }
   ],
   "source": [
    "augmented_model = hypertuned_model.fit(datagen.flow(Train_images, Train_labels, batch_size=64), epochs=50, validation_data=(Val_images, Val_labels), callbacks=[stop_early])\n"
   ]
  },
  {
   "cell_type": "code",
   "execution_count": 27,
   "metadata": {},
   "outputs": [],
   "source": [
    "augmented_model = hypertuned_model"
   ]
  },
  {
   "cell_type": "code",
   "execution_count": 28,
   "metadata": {},
   "outputs": [],
   "source": [
    "augmented_model.save('models/resnet_augmented_model.h5')"
   ]
  },
  {
   "cell_type": "code",
   "execution_count": 40,
   "metadata": {},
   "outputs": [
    {
     "name": "stdout",
     "output_type": "stream",
     "text": [
      "313/313 [==============================] - 3s 10ms/step\n",
      "313/313 [==============================] - 4s 12ms/step\n",
      "313/313 [==============================] - 2s 7ms/step\n",
      "Base Model - Accuracy: 0.9166, F1 Score: 0.9170377265321873, Recall: 0.9166\n",
      "Hypertuned Model - Accuracy: 0.9369, F1 Score: 0.9366843991753389, Recall: 0.9369\n",
      "Augmented Model - Accuracy: 0.9312, F1 Score: 0.9319129805048401, Recall: 0.9312\n"
     ]
    }
   ],
   "source": [
    "from sklearn.metrics import accuracy_score, f1_score, recall_score\n",
    "\n",
    "#check the model performance\n",
    "# Evaluate the base model\n",
    "base_model_predictions = base_model.predict(test_images.reshape(-1, 28, 28, 1))\n",
    "base_model_predictions = np.argmax(base_model_predictions, axis=1)\n",
    "base_model_accuracy = accuracy_score(test_labels, base_model_predictions)\n",
    "base_model_f1 = f1_score(test_labels, base_model_predictions, average='weighted')\n",
    "base_model_recall = recall_score(test_labels, base_model_predictions, average='weighted')\n",
    "\n",
    "# Evaluate the hypertuned model\n",
    "hypertuned_model_predictions = hypertuned_model.predict(test_images.reshape(-1, 28, 28, 1))\n",
    "hypertuned_model_predictions = np.argmax(hypertuned_model_predictions, axis=1)\n",
    "hypertuned_model_accuracy = accuracy_score(test_labels, hypertuned_model_predictions)\n",
    "hypertuned_model_f1 = f1_score(test_labels, hypertuned_model_predictions, average='weighted')\n",
    "hypertuned_model_recall = recall_score(test_labels, hypertuned_model_predictions, average='weighted')\n",
    "\n",
    "# Evaluate the augmented model\n",
    "augmented_model_predictions = augmented_model.predict(test_images.reshape(-1, 28, 28, 1))\n",
    "augmented_model_predictions = np.argmax(augmented_model_predictions, axis=1)\n",
    "augmented_model_accuracy = accuracy_score(test_labels, augmented_model_predictions)\n",
    "augmented_model_f1 = f1_score(test_labels, augmented_model_predictions, average='weighted')\n",
    "augmented_model_recall = recall_score(test_labels, augmented_model_predictions, average='weighted')\n",
    "\n",
    "print(f\"Base Model - Accuracy: {base_model_accuracy}, F1 Score: {base_model_f1}, Recall: {base_model_recall}\")\n",
    "print(f\"Hypertuned Model - Accuracy: {hypertuned_model_accuracy}, F1 Score: {hypertuned_model_f1}, Recall: {hypertuned_model_recall}\")\n",
    "print(f\"Augmented Model - Accuracy: {augmented_model_accuracy}, F1 Score: {augmented_model_f1}, Recall: {augmented_model_recall}\")\n"
   ]
  },
  {
   "cell_type": "code",
   "execution_count": 41,
   "metadata": {},
   "outputs": [
    {
     "name": "stdout",
     "output_type": "stream",
     "text": [
      "ONNX Model - Accuracy: 0.9312, F1 Score: 0.9319129805048401, Recall: 0.9312\n"
     ]
    }
   ],
   "source": [
    "import onnxruntime as ort\n",
    "from sklearn.metrics import accuracy_score, f1_score, recall_score\n",
    "\n",
    "# Load the ONNX model\n",
    "onnx_model_path = 'models/resnet_augmented_model.onnx'\n",
    "ort_session = ort.InferenceSession(onnx_model_path)\n",
    "\n",
    "# Prepare the input data\n",
    "onnx_input_name = ort_session.get_inputs()[0].name\n",
    "onnx_input_data = test_images.reshape(-1, 28, 28, 1).astype('float32')\n",
    "\n",
    "# Make predictions\n",
    "onnx_predictions = ort_session.run(None, {onnx_input_name: onnx_input_data})[0]\n",
    "onnx_predictions = np.argmax(onnx_predictions, axis=1)\n",
    "\n",
    "# Evaluate the metrics\n",
    "onnx_model_accuracy = accuracy_score(test_labels, onnx_predictions)\n",
    "onnx_model_f1 = f1_score(test_labels, onnx_predictions, average='weighted')\n",
    "onnx_model_recall = recall_score(test_labels, onnx_predictions, average='weighted')\n",
    "\n",
    "print(f\"ONNX Model - Accuracy: {onnx_model_accuracy}, F1 Score: {onnx_model_f1}, Recall: {onnx_model_recall}\")"
   ]
  },
  {
   "cell_type": "code",
   "execution_count": 44,
   "metadata": {},
   "outputs": [
    {
     "ename": "AttributeError",
     "evalue": "'NoneType' object has no attribute 'create_execution_context'",
     "output_type": "error",
     "traceback": [
      "\u001b[1;31m---------------------------------------------------------------------------\u001b[0m",
      "\u001b[1;31mAttributeError\u001b[0m                            Traceback (most recent call last)",
      "Cell \u001b[1;32mIn[44], line 75\u001b[0m\n\u001b[0;32m     72\u001b[0m dataset \u001b[38;5;241m=\u001b[39m \u001b[38;5;28mlist\u001b[39m(\u001b[38;5;28mzip\u001b[39m(test_images, test_labels))\n\u001b[0;32m     74\u001b[0m \u001b[38;5;66;03m# Calculate accuracy\u001b[39;00m\n\u001b[1;32m---> 75\u001b[0m accuracy \u001b[38;5;241m=\u001b[39m \u001b[43mcalculate_accuracy\u001b[49m\u001b[43m(\u001b[49m\u001b[43mengine\u001b[49m\u001b[43m,\u001b[49m\u001b[43m \u001b[49m\u001b[43mdataset\u001b[49m\u001b[43m)\u001b[49m\n\u001b[0;32m     76\u001b[0m \u001b[38;5;28mprint\u001b[39m(\u001b[38;5;124mf\u001b[39m\u001b[38;5;124m\"\u001b[39m\u001b[38;5;124mAccuracy: \u001b[39m\u001b[38;5;132;01m{\u001b[39;00maccuracy\u001b[38;5;250m \u001b[39m\u001b[38;5;241m*\u001b[39m\u001b[38;5;250m \u001b[39m\u001b[38;5;241m100\u001b[39m\u001b[38;5;132;01m:\u001b[39;00m\u001b[38;5;124m.2f\u001b[39m\u001b[38;5;132;01m}\u001b[39;00m\u001b[38;5;124m%\u001b[39m\u001b[38;5;124m\"\u001b[39m)\n",
      "Cell \u001b[1;32mIn[44], line 54\u001b[0m, in \u001b[0;36mcalculate_accuracy\u001b[1;34m(engine, dataset)\u001b[0m\n\u001b[0;32m     52\u001b[0m \u001b[38;5;28;01mfor\u001b[39;00m image, label \u001b[38;5;129;01min\u001b[39;00m dataset:\n\u001b[0;32m     53\u001b[0m     input_data \u001b[38;5;241m=\u001b[39m prepare_input_data(image)\n\u001b[1;32m---> 54\u001b[0m     output_data \u001b[38;5;241m=\u001b[39m \u001b[43mrun_inference\u001b[49m\u001b[43m(\u001b[49m\u001b[43mengine\u001b[49m\u001b[43m,\u001b[49m\u001b[43m \u001b[49m\u001b[43minput_data\u001b[49m\u001b[43m)\u001b[49m\n\u001b[0;32m     56\u001b[0m     \u001b[38;5;66;03m# Assuming output_data has shape (1, 10), where 10 is the number of classes\u001b[39;00m\n\u001b[0;32m     57\u001b[0m     predicted_label \u001b[38;5;241m=\u001b[39m np\u001b[38;5;241m.\u001b[39margmax(output_data)\n",
      "Cell \u001b[1;32mIn[44], line 27\u001b[0m, in \u001b[0;36mrun_inference\u001b[1;34m(engine, input_data)\u001b[0m\n\u001b[0;32m     26\u001b[0m \u001b[38;5;28;01mdef\u001b[39;00m\u001b[38;5;250m \u001b[39m\u001b[38;5;21mrun_inference\u001b[39m(engine, input_data):\n\u001b[1;32m---> 27\u001b[0m     context \u001b[38;5;241m=\u001b[39m \u001b[43mengine\u001b[49m\u001b[38;5;241;43m.\u001b[39;49m\u001b[43mcreate_execution_context\u001b[49m()\n\u001b[0;32m     29\u001b[0m     \u001b[38;5;66;03m# Allocate memory for input/output\u001b[39;00m\n\u001b[0;32m     30\u001b[0m     d_input \u001b[38;5;241m=\u001b[39m cuda\u001b[38;5;241m.\u001b[39mmem_alloc(input_data\u001b[38;5;241m.\u001b[39mnbytes)\n",
      "\u001b[1;31mAttributeError\u001b[0m: 'NoneType' object has no attribute 'create_execution_context'"
     ]
    }
   ],
   "source": [
    "import numpy as np\n",
    "import tensorrt as trt\n",
    "import cv2  # for loading image data\n",
    "import tensorflow as tf  # for MNIST data handling\n",
    "from sklearn.metrics import accuracy_score\n",
    "import pycuda.driver as cuda\n",
    "import pycuda.autoinit\n",
    "\n",
    "# Load the TensorRT model (engine file)\n",
    "def load_engine(trt_logger, engine_file):\n",
    "    with open(engine_file, 'rb') as f:\n",
    "        runtime = trt.Runtime(trt_logger)\n",
    "        engine = runtime.deserialize_cuda_engine(f.read())\n",
    "    return engine\n",
    "\n",
    "# Prepare input data (example for MNIST dataset)\n",
    "def prepare_input_data(image):\n",
    "    # Reshape image to (1, 28, 28, 1) and normalize it\n",
    "    image = cv2.resize(image, (28, 28))  # Resize if necessary\n",
    "    image = np.expand_dims(image, axis=-1)  # Add channel dimension (28, 28, 1)\n",
    "    image = np.expand_dims(image, axis=0)  # Add batch dimension (1, 28, 28, 1)\n",
    "    image = image.astype(np.float32) / 255.0  # Normalize the image\n",
    "    return image\n",
    "\n",
    "# Run inference and get prediction\n",
    "def run_inference(engine, input_data):\n",
    "    context = engine.create_execution_context()\n",
    "\n",
    "    # Allocate memory for input/output\n",
    "    d_input = cuda.mem_alloc(input_data.nbytes)\n",
    "    d_output = cuda.mem_alloc(input_data.nbytes)  # Adjust output size as needed\n",
    "\n",
    "    bindings = [int(d_input), int(d_output)]\n",
    "    \n",
    "    # Transfer input data to GPU\n",
    "    cuda.memcpy_htod(d_input, input_data)\n",
    "    \n",
    "    # Execute the model\n",
    "    context.execute_v2(bindings)\n",
    "    \n",
    "    # Transfer output back to the host\n",
    "    output_data = np.empty_like(input_data)\n",
    "    cuda.memcpy_dtoh(output_data, d_output)\n",
    "\n",
    "    return output_data\n",
    "\n",
    "# Accuracy calculation\n",
    "def calculate_accuracy(engine, dataset):\n",
    "    correct_predictions = 0\n",
    "    total_predictions = len(dataset)\n",
    "\n",
    "    for image, label in dataset:\n",
    "        input_data = prepare_input_data(image)\n",
    "        output_data = run_inference(engine, input_data)\n",
    "\n",
    "        # Assuming output_data has shape (1, 10), where 10 is the number of classes\n",
    "        predicted_label = np.argmax(output_data)\n",
    "        if predicted_label == label:\n",
    "            correct_predictions += 1\n",
    "\n",
    "    accuracy = correct_predictions / total_predictions\n",
    "    return accuracy\n",
    "\n",
    "# Load the model\n",
    "trt_logger = trt.Logger(trt.Logger.WARNING)\n",
    "engine_file = r'D:\\Pravin\\MCW\\Assignments\\resnerArchi\\models\\resnet_abi_model.trt'\n",
    "engine = load_engine(trt_logger, engine_file)\n",
    "\n",
    "# Load your dataset (here using MNIST from TensorFlow)\n",
    "\n",
    "# Pair the images with labels\n",
    "dataset = list(zip(test_images, test_labels))\n",
    "\n",
    "# Calculate accuracy\n",
    "accuracy = calculate_accuracy(engine, dataset)\n",
    "print(f\"Accuracy: {accuracy * 100:.2f}%\")\n"
   ]
  },
  {
   "cell_type": "code",
   "execution_count": null,
   "metadata": {},
   "outputs": [],
   "source": []
  }
 ],
 "metadata": {
  "kernelspec": {
   "display_name": "tf",
   "language": "python",
   "name": "python3"
  },
  "language_info": {
   "codemirror_mode": {
    "name": "ipython",
    "version": 3
   },
   "file_extension": ".py",
   "mimetype": "text/x-python",
   "name": "python",
   "nbconvert_exporter": "python",
   "pygments_lexer": "ipython3",
   "version": "3.9.21"
  }
 },
 "nbformat": 4,
 "nbformat_minor": 2
}
