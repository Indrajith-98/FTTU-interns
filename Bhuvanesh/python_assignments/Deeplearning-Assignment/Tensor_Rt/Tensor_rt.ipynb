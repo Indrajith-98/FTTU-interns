{
  "cells": [
    {
      "cell_type": "code",
      "execution_count": 21,
      "metadata": {
        "id": "YCE9Beig661A"
      },
      "outputs": [],
      "source": [
        "import tensorflow as tf\n",
        "import matplotlib.pyplot as plt\n",
        "from tensorflow.keras import datasets, layers, models, losses\n",
        "from sklearn.metrics import classification_report, f1_score\n",
        "import numpy as np"
      ]
    },
    {
      "cell_type": "code",
      "execution_count": 2,
      "metadata": {
        "colab": {
          "base_uri": "https://localhost:8080/"
        },
        "id": "11j7t9uR7Fn6",
        "outputId": "ad523c89-0496-4ce5-e41d-19b0b1399584"
      },
      "outputs": [
        {
          "name": "stdout",
          "output_type": "stream",
          "text": [
            "Downloading data from https://storage.googleapis.com/tensorflow/tf-keras-datasets/mnist.npz\n",
            "\u001b[1m11490434/11490434\u001b[0m \u001b[32m━━━━━━━━━━━━━━━━━━━━\u001b[0m\u001b[37m\u001b[0m \u001b[1m0s\u001b[0m 0us/step\n"
          ]
        },
        {
          "data": {
            "text/plain": [
              "(60000, 28, 28)"
            ]
          },
          "execution_count": 2,
          "metadata": {},
          "output_type": "execute_result"
        }
      ],
      "source": [
        "(x_train,y_train),(x_test,y_test) = datasets.mnist.load_data()\n",
        "x_train.shape"
      ]
    },
    {
      "cell_type": "code",
      "execution_count": 3,
      "metadata": {
        "colab": {
          "base_uri": "https://localhost:8080/"
        },
        "id": "7iuzGPmX7JSq",
        "outputId": "23c962c3-f01e-4d23-9188-6d0c9581d576"
      },
      "outputs": [
        {
          "data": {
            "text/plain": [
              "TensorShape([60000, 32, 32])"
            ]
          },
          "execution_count": 3,
          "metadata": {},
          "output_type": "execute_result"
        }
      ],
      "source": [
        "x_train = tf.pad(x_train, [[0, 0], [2,2], [2,2]])/255\n",
        "x_test = tf.pad(x_test, [[0, 0], [2,2], [2,2]])/255\n",
        "x_train.shape"
      ]
    },
    {
      "cell_type": "code",
      "execution_count": 4,
      "metadata": {
        "colab": {
          "base_uri": "https://localhost:8080/"
        },
        "id": "nKjn8iXv7OEp",
        "outputId": "44b45b25-e599-41f9-e763-9e0b9778d151"
      },
      "outputs": [
        {
          "data": {
            "text/plain": [
              "TensorShape([60000, 32, 32, 1])"
            ]
          },
          "execution_count": 4,
          "metadata": {},
          "output_type": "execute_result"
        }
      ],
      "source": [
        "x_train = tf.expand_dims(x_train, axis=3, name=None)\n",
        "x_test = tf.expand_dims(x_test, axis=3, name=None)\n",
        "x_train.shape"
      ]
    },
    {
      "cell_type": "code",
      "execution_count": 5,
      "metadata": {
        "id": "Ayflvpnv7VCt"
      },
      "outputs": [],
      "source": [
        "x_val = x_train[-2000:,:,:,:]\n",
        "y_val = y_train[-2000:]\n",
        "x_train = x_train[:-2000,:,:,:]\n",
        "y_train = y_train[:-2000]"
      ]
    },
    {
      "cell_type": "code",
      "execution_count": 6,
      "metadata": {
        "colab": {
          "base_uri": "https://localhost:8080/",
          "height": 520
        },
        "id": "vH3OWiYm7cHv",
        "outputId": "283dcc53-9003-4c20-f1bd-bf2bf155a03f"
      },
      "outputs": [
        {
          "name": "stderr",
          "output_type": "stream",
          "text": [
            "/usr/local/lib/python3.11/dist-packages/keras/src/layers/convolutional/base_conv.py:107: UserWarning: Do not pass an `input_shape`/`input_dim` argument to a layer. When using Sequential models, prefer using an `Input(shape)` object as the first layer in the model instead.\n",
            "  super().__init__(activity_regularizer=activity_regularizer, **kwargs)\n"
          ]
        },
        {
          "data": {
            "text/html": [
              "<pre style=\"white-space:pre;overflow-x:auto;line-height:normal;font-family:Menlo,'DejaVu Sans Mono',consolas,'Courier New',monospace\"><span style=\"font-weight: bold\">Model: \"sequential\"</span>\n",
              "</pre>\n"
            ],
            "text/plain": [
              "\u001b[1mModel: \"sequential\"\u001b[0m\n"
            ]
          },
          "metadata": {},
          "output_type": "display_data"
        },
        {
          "data": {
            "text/html": [
              "<pre style=\"white-space:pre;overflow-x:auto;line-height:normal;font-family:Menlo,'DejaVu Sans Mono',consolas,'Courier New',monospace\">┏━━━━━━━━━━━━━━━━━━━━━━━━━━━━━━━━━━━━━━┳━━━━━━━━━━━━━━━━━━━━━━━━━━━━━┳━━━━━━━━━━━━━━━━━┓\n",
              "┃<span style=\"font-weight: bold\"> Layer (type)                         </span>┃<span style=\"font-weight: bold\"> Output Shape                </span>┃<span style=\"font-weight: bold\">         Param # </span>┃\n",
              "┡━━━━━━━━━━━━━━━━━━━━━━━━━━━━━━━━━━━━━━╇━━━━━━━━━━━━━━━━━━━━━━━━━━━━━╇━━━━━━━━━━━━━━━━━┩\n",
              "│ conv2d (<span style=\"color: #0087ff; text-decoration-color: #0087ff\">Conv2D</span>)                      │ (<span style=\"color: #00d7ff; text-decoration-color: #00d7ff\">None</span>, <span style=\"color: #00af00; text-decoration-color: #00af00\">28</span>, <span style=\"color: #00af00; text-decoration-color: #00af00\">28</span>, <span style=\"color: #00af00; text-decoration-color: #00af00\">6</span>)           │             <span style=\"color: #00af00; text-decoration-color: #00af00\">156</span> │\n",
              "├──────────────────────────────────────┼─────────────────────────────┼─────────────────┤\n",
              "│ average_pooling2d (<span style=\"color: #0087ff; text-decoration-color: #0087ff\">AveragePooling2D</span>) │ (<span style=\"color: #00d7ff; text-decoration-color: #00d7ff\">None</span>, <span style=\"color: #00af00; text-decoration-color: #00af00\">14</span>, <span style=\"color: #00af00; text-decoration-color: #00af00\">14</span>, <span style=\"color: #00af00; text-decoration-color: #00af00\">6</span>)           │               <span style=\"color: #00af00; text-decoration-color: #00af00\">0</span> │\n",
              "├──────────────────────────────────────┼─────────────────────────────┼─────────────────┤\n",
              "│ activation (<span style=\"color: #0087ff; text-decoration-color: #0087ff\">Activation</span>)              │ (<span style=\"color: #00d7ff; text-decoration-color: #00d7ff\">None</span>, <span style=\"color: #00af00; text-decoration-color: #00af00\">14</span>, <span style=\"color: #00af00; text-decoration-color: #00af00\">14</span>, <span style=\"color: #00af00; text-decoration-color: #00af00\">6</span>)           │               <span style=\"color: #00af00; text-decoration-color: #00af00\">0</span> │\n",
              "├──────────────────────────────────────┼─────────────────────────────┼─────────────────┤\n",
              "│ conv2d_1 (<span style=\"color: #0087ff; text-decoration-color: #0087ff\">Conv2D</span>)                    │ (<span style=\"color: #00d7ff; text-decoration-color: #00d7ff\">None</span>, <span style=\"color: #00af00; text-decoration-color: #00af00\">10</span>, <span style=\"color: #00af00; text-decoration-color: #00af00\">10</span>, <span style=\"color: #00af00; text-decoration-color: #00af00\">16</span>)          │           <span style=\"color: #00af00; text-decoration-color: #00af00\">2,416</span> │\n",
              "├──────────────────────────────────────┼─────────────────────────────┼─────────────────┤\n",
              "│ average_pooling2d_1                  │ (<span style=\"color: #00d7ff; text-decoration-color: #00d7ff\">None</span>, <span style=\"color: #00af00; text-decoration-color: #00af00\">5</span>, <span style=\"color: #00af00; text-decoration-color: #00af00\">5</span>, <span style=\"color: #00af00; text-decoration-color: #00af00\">16</span>)            │               <span style=\"color: #00af00; text-decoration-color: #00af00\">0</span> │\n",
              "│ (<span style=\"color: #0087ff; text-decoration-color: #0087ff\">AveragePooling2D</span>)                   │                             │                 │\n",
              "├──────────────────────────────────────┼─────────────────────────────┼─────────────────┤\n",
              "│ activation_1 (<span style=\"color: #0087ff; text-decoration-color: #0087ff\">Activation</span>)            │ (<span style=\"color: #00d7ff; text-decoration-color: #00d7ff\">None</span>, <span style=\"color: #00af00; text-decoration-color: #00af00\">5</span>, <span style=\"color: #00af00; text-decoration-color: #00af00\">5</span>, <span style=\"color: #00af00; text-decoration-color: #00af00\">16</span>)            │               <span style=\"color: #00af00; text-decoration-color: #00af00\">0</span> │\n",
              "├──────────────────────────────────────┼─────────────────────────────┼─────────────────┤\n",
              "│ conv2d_2 (<span style=\"color: #0087ff; text-decoration-color: #0087ff\">Conv2D</span>)                    │ (<span style=\"color: #00d7ff; text-decoration-color: #00d7ff\">None</span>, <span style=\"color: #00af00; text-decoration-color: #00af00\">1</span>, <span style=\"color: #00af00; text-decoration-color: #00af00\">1</span>, <span style=\"color: #00af00; text-decoration-color: #00af00\">120</span>)           │          <span style=\"color: #00af00; text-decoration-color: #00af00\">48,120</span> │\n",
              "├──────────────────────────────────────┼─────────────────────────────┼─────────────────┤\n",
              "│ flatten (<span style=\"color: #0087ff; text-decoration-color: #0087ff\">Flatten</span>)                    │ (<span style=\"color: #00d7ff; text-decoration-color: #00d7ff\">None</span>, <span style=\"color: #00af00; text-decoration-color: #00af00\">120</span>)                 │               <span style=\"color: #00af00; text-decoration-color: #00af00\">0</span> │\n",
              "├──────────────────────────────────────┼─────────────────────────────┼─────────────────┤\n",
              "│ dense (<span style=\"color: #0087ff; text-decoration-color: #0087ff\">Dense</span>)                        │ (<span style=\"color: #00d7ff; text-decoration-color: #00d7ff\">None</span>, <span style=\"color: #00af00; text-decoration-color: #00af00\">84</span>)                  │          <span style=\"color: #00af00; text-decoration-color: #00af00\">10,164</span> │\n",
              "├──────────────────────────────────────┼─────────────────────────────┼─────────────────┤\n",
              "│ dense_1 (<span style=\"color: #0087ff; text-decoration-color: #0087ff\">Dense</span>)                      │ (<span style=\"color: #00d7ff; text-decoration-color: #00d7ff\">None</span>, <span style=\"color: #00af00; text-decoration-color: #00af00\">10</span>)                  │             <span style=\"color: #00af00; text-decoration-color: #00af00\">850</span> │\n",
              "└──────────────────────────────────────┴─────────────────────────────┴─────────────────┘\n",
              "</pre>\n"
            ],
            "text/plain": [
              "┏━━━━━━━━━━━━━━━━━━━━━━━━━━━━━━━━━━━━━━┳━━━━━━━━━━━━━━━━━━━━━━━━━━━━━┳━━━━━━━━━━━━━━━━━┓\n",
              "┃\u001b[1m \u001b[0m\u001b[1mLayer (type)                        \u001b[0m\u001b[1m \u001b[0m┃\u001b[1m \u001b[0m\u001b[1mOutput Shape               \u001b[0m\u001b[1m \u001b[0m┃\u001b[1m \u001b[0m\u001b[1m        Param #\u001b[0m\u001b[1m \u001b[0m┃\n",
              "┡━━━━━━━━━━━━━━━━━━━━━━━━━━━━━━━━━━━━━━╇━━━━━━━━━━━━━━━━━━━━━━━━━━━━━╇━━━━━━━━━━━━━━━━━┩\n",
              "│ conv2d (\u001b[38;5;33mConv2D\u001b[0m)                      │ (\u001b[38;5;45mNone\u001b[0m, \u001b[38;5;34m28\u001b[0m, \u001b[38;5;34m28\u001b[0m, \u001b[38;5;34m6\u001b[0m)           │             \u001b[38;5;34m156\u001b[0m │\n",
              "├──────────────────────────────────────┼─────────────────────────────┼─────────────────┤\n",
              "│ average_pooling2d (\u001b[38;5;33mAveragePooling2D\u001b[0m) │ (\u001b[38;5;45mNone\u001b[0m, \u001b[38;5;34m14\u001b[0m, \u001b[38;5;34m14\u001b[0m, \u001b[38;5;34m6\u001b[0m)           │               \u001b[38;5;34m0\u001b[0m │\n",
              "├──────────────────────────────────────┼─────────────────────────────┼─────────────────┤\n",
              "│ activation (\u001b[38;5;33mActivation\u001b[0m)              │ (\u001b[38;5;45mNone\u001b[0m, \u001b[38;5;34m14\u001b[0m, \u001b[38;5;34m14\u001b[0m, \u001b[38;5;34m6\u001b[0m)           │               \u001b[38;5;34m0\u001b[0m │\n",
              "├──────────────────────────────────────┼─────────────────────────────┼─────────────────┤\n",
              "│ conv2d_1 (\u001b[38;5;33mConv2D\u001b[0m)                    │ (\u001b[38;5;45mNone\u001b[0m, \u001b[38;5;34m10\u001b[0m, \u001b[38;5;34m10\u001b[0m, \u001b[38;5;34m16\u001b[0m)          │           \u001b[38;5;34m2,416\u001b[0m │\n",
              "├──────────────────────────────────────┼─────────────────────────────┼─────────────────┤\n",
              "│ average_pooling2d_1                  │ (\u001b[38;5;45mNone\u001b[0m, \u001b[38;5;34m5\u001b[0m, \u001b[38;5;34m5\u001b[0m, \u001b[38;5;34m16\u001b[0m)            │               \u001b[38;5;34m0\u001b[0m │\n",
              "│ (\u001b[38;5;33mAveragePooling2D\u001b[0m)                   │                             │                 │\n",
              "├──────────────────────────────────────┼─────────────────────────────┼─────────────────┤\n",
              "│ activation_1 (\u001b[38;5;33mActivation\u001b[0m)            │ (\u001b[38;5;45mNone\u001b[0m, \u001b[38;5;34m5\u001b[0m, \u001b[38;5;34m5\u001b[0m, \u001b[38;5;34m16\u001b[0m)            │               \u001b[38;5;34m0\u001b[0m │\n",
              "├──────────────────────────────────────┼─────────────────────────────┼─────────────────┤\n",
              "│ conv2d_2 (\u001b[38;5;33mConv2D\u001b[0m)                    │ (\u001b[38;5;45mNone\u001b[0m, \u001b[38;5;34m1\u001b[0m, \u001b[38;5;34m1\u001b[0m, \u001b[38;5;34m120\u001b[0m)           │          \u001b[38;5;34m48,120\u001b[0m │\n",
              "├──────────────────────────────────────┼─────────────────────────────┼─────────────────┤\n",
              "│ flatten (\u001b[38;5;33mFlatten\u001b[0m)                    │ (\u001b[38;5;45mNone\u001b[0m, \u001b[38;5;34m120\u001b[0m)                 │               \u001b[38;5;34m0\u001b[0m │\n",
              "├──────────────────────────────────────┼─────────────────────────────┼─────────────────┤\n",
              "│ dense (\u001b[38;5;33mDense\u001b[0m)                        │ (\u001b[38;5;45mNone\u001b[0m, \u001b[38;5;34m84\u001b[0m)                  │          \u001b[38;5;34m10,164\u001b[0m │\n",
              "├──────────────────────────────────────┼─────────────────────────────┼─────────────────┤\n",
              "│ dense_1 (\u001b[38;5;33mDense\u001b[0m)                      │ (\u001b[38;5;45mNone\u001b[0m, \u001b[38;5;34m10\u001b[0m)                  │             \u001b[38;5;34m850\u001b[0m │\n",
              "└──────────────────────────────────────┴─────────────────────────────┴─────────────────┘\n"
            ]
          },
          "metadata": {},
          "output_type": "display_data"
        },
        {
          "data": {
            "text/html": [
              "<pre style=\"white-space:pre;overflow-x:auto;line-height:normal;font-family:Menlo,'DejaVu Sans Mono',consolas,'Courier New',monospace\"><span style=\"font-weight: bold\"> Total params: </span><span style=\"color: #00af00; text-decoration-color: #00af00\">61,706</span> (241.04 KB)\n",
              "</pre>\n"
            ],
            "text/plain": [
              "\u001b[1m Total params: \u001b[0m\u001b[38;5;34m61,706\u001b[0m (241.04 KB)\n"
            ]
          },
          "metadata": {},
          "output_type": "display_data"
        },
        {
          "data": {
            "text/html": [
              "<pre style=\"white-space:pre;overflow-x:auto;line-height:normal;font-family:Menlo,'DejaVu Sans Mono',consolas,'Courier New',monospace\"><span style=\"font-weight: bold\"> Trainable params: </span><span style=\"color: #00af00; text-decoration-color: #00af00\">61,706</span> (241.04 KB)\n",
              "</pre>\n"
            ],
            "text/plain": [
              "\u001b[1m Trainable params: \u001b[0m\u001b[38;5;34m61,706\u001b[0m (241.04 KB)\n"
            ]
          },
          "metadata": {},
          "output_type": "display_data"
        },
        {
          "data": {
            "text/html": [
              "<pre style=\"white-space:pre;overflow-x:auto;line-height:normal;font-family:Menlo,'DejaVu Sans Mono',consolas,'Courier New',monospace\"><span style=\"font-weight: bold\"> Non-trainable params: </span><span style=\"color: #00af00; text-decoration-color: #00af00\">0</span> (0.00 B)\n",
              "</pre>\n"
            ],
            "text/plain": [
              "\u001b[1m Non-trainable params: \u001b[0m\u001b[38;5;34m0\u001b[0m (0.00 B)\n"
            ]
          },
          "metadata": {},
          "output_type": "display_data"
        }
      ],
      "source": [
        "model = models.Sequential()\n",
        "model.add(layers.Conv2D(6, 5, activation='elu', input_shape=x_train.shape[1:]))\n",
        "model.add(layers.AveragePooling2D(2))\n",
        "model.add(layers.Activation('sigmoid'))\n",
        "model.add(layers.Conv2D(16, 5, activation='elu'))\n",
        "model.add(layers.AveragePooling2D(2))\n",
        "model.add(layers.Activation('sigmoid'))\n",
        "model.add(layers.Conv2D(120, 5, activation='elu'))\n",
        "model.add(layers.Flatten())\n",
        "model.add(layers.Dense(84, activation='elu'))\n",
        "model.add(layers.Dense(10, activation='softmax'))\n",
        "model.summary()"
      ]
    },
    {
      "cell_type": "code",
      "execution_count": 7,
      "metadata": {
        "colab": {
          "base_uri": "https://localhost:8080/"
        },
        "id": "Im7mJmfE7hKj",
        "outputId": "c33cc0c4-d538-4912-b0f7-076d6795bfd0"
      },
      "outputs": [
        {
          "name": "stdout",
          "output_type": "stream",
          "text": [
            "Epoch 1/5\n",
            "\u001b[1m907/907\u001b[0m \u001b[32m━━━━━━━━━━━━━━━━━━━━\u001b[0m\u001b[37m\u001b[0m \u001b[1m33s\u001b[0m 35ms/step - accuracy: 0.1051 - loss: 2.3069 - val_accuracy: 0.1070 - val_loss: 2.3074\n",
            "Epoch 2/5\n",
            "\u001b[1m907/907\u001b[0m \u001b[32m━━━━━━━━━━━━━━━━━━━━\u001b[0m\u001b[37m\u001b[0m \u001b[1m42s\u001b[0m 36ms/step - accuracy: 0.1161 - loss: 2.3002 - val_accuracy: 0.1550 - val_loss: 2.2920\n",
            "Epoch 3/5\n",
            "\u001b[1m907/907\u001b[0m \u001b[32m━━━━━━━━━━━━━━━━━━━━\u001b[0m\u001b[37m\u001b[0m \u001b[1m31s\u001b[0m 34ms/step - accuracy: 0.1688 - loss: 2.2726 - val_accuracy: 0.2970 - val_loss: 2.1153\n",
            "Epoch 4/5\n",
            "\u001b[1m907/907\u001b[0m \u001b[32m━━━━━━━━━━━━━━━━━━━━\u001b[0m\u001b[37m\u001b[0m \u001b[1m41s\u001b[0m 34ms/step - accuracy: 0.4781 - loss: 1.8619 - val_accuracy: 0.7900 - val_loss: 0.8601\n",
            "Epoch 5/5\n",
            "\u001b[1m907/907\u001b[0m \u001b[32m━━━━━━━━━━━━━━━━━━━━\u001b[0m\u001b[37m\u001b[0m \u001b[1m41s\u001b[0m 34ms/step - accuracy: 0.7630 - loss: 0.8230 - val_accuracy: 0.7395 - val_loss: 0.7474\n"
          ]
        }
      ],
      "source": [
        "model.compile(optimizer='sgd', loss=losses.sparse_categorical_crossentropy, metrics=['accuracy'])\n",
        "history = model.fit(x_train, y_train, batch_size=64, epochs=5, validation_data=(x_val, y_val))"
      ]
    },
    {
      "cell_type": "code",
      "execution_count": 8,
      "metadata": {
        "colab": {
          "base_uri": "https://localhost:8080/"
        },
        "id": "_BA779yD8XnX",
        "outputId": "5671e499-c473-4ceb-b714-0dbc1614d016"
      },
      "outputs": [
        {
          "name": "stdout",
          "output_type": "stream",
          "text": [
            "\u001b[1m313/313\u001b[0m \u001b[32m━━━━━━━━━━━━━━━━━━━━\u001b[0m\u001b[37m\u001b[0m \u001b[1m2s\u001b[0m 7ms/step - accuracy: 0.6598 - loss: 0.9794\n",
            "\u001b[1m313/313\u001b[0m \u001b[32m━━━━━━━━━━━━━━━━━━━━\u001b[0m\u001b[37m\u001b[0m \u001b[1m2s\u001b[0m 7ms/step - accuracy: 0.6598 - loss: 0.9794\n",
            "Accuracy on test set: 0.68\n"
          ]
        }
      ],
      "source": [
        "model.evaluate(x_test, y_test)\n",
        "print(f\"Accuracy on test set: {model.evaluate(x_test, y_test)[1]:.2f}\")"
      ]
    },
    {
      "cell_type": "code",
      "execution_count": 9,
      "metadata": {
        "colab": {
          "base_uri": "https://localhost:8080/"
        },
        "id": "dha50X4Y8fQJ",
        "outputId": "46793377-19c7-42e5-9f81-a947a2cc7bee"
      },
      "outputs": [
        {
          "name": "stdout",
          "output_type": "stream",
          "text": [
            "\u001b[1m313/313\u001b[0m \u001b[32m━━━━━━━━━━━━━━━━━━━━\u001b[0m\u001b[37m\u001b[0m \u001b[1m3s\u001b[0m 9ms/step\n"
          ]
        }
      ],
      "source": [
        "y_pred_probs = model.predict(x_test)\n",
        "y_pred_classes = np.argmax(y_pred_probs, axis=1)\n"
      ]
    },
    {
      "cell_type": "code",
      "execution_count": 10,
      "metadata": {
        "colab": {
          "base_uri": "https://localhost:8080/"
        },
        "id": "JOTMTVmM8j_8",
        "outputId": "341ae7c3-256e-4a95-cf6d-26c944f9e909"
      },
      "outputs": [
        {
          "name": "stdout",
          "output_type": "stream",
          "text": [
            "F1 Score (Weighted): 0.69\n"
          ]
        }
      ],
      "source": [
        "f1 = f1_score(y_test, y_pred_classes, average='macro')\n",
        "print(f\"F1 Score (Weighted): {f1:.2f}\")\n"
      ]
    },
    {
      "cell_type": "code",
      "execution_count": 12,
      "metadata": {
        "colab": {
          "base_uri": "https://localhost:8080/"
        },
        "id": "0JjiPQow8tt5",
        "outputId": "93f2b346-f63b-44ef-ef73-ed283dd26698"
      },
      "outputs": [
        {
          "name": "stdout",
          "output_type": "stream",
          "text": [
            "Mounted at /content/drive\n"
          ]
        }
      ],
      "source": [
        "from google.colab import drive\n",
        "drive.mount('/content/drive')"
      ]
    },
    {
      "cell_type": "code",
      "execution_count": 13,
      "metadata": {
        "id": "oyfB3FTs9Txi"
      },
      "outputs": [],
      "source": [
        "model.save('/content/drive/MyDrive/DL_Model/model.keras')"
      ]
    },
    {
      "cell_type": "code",
      "execution_count": 14,
      "metadata": {
        "colab": {
          "base_uri": "https://localhost:8080/"
        },
        "id": "_yOkR2vZ9-bo",
        "outputId": "458b8528-eecc-4011-963d-dd6c0629cc0f"
      },
      "outputs": [
        {
          "name": "stdout",
          "output_type": "stream",
          "text": [
            "Model successfully saved as a TensorFlow SavedModel at /content/drive/MyDrive/DL_Model/saved_model\n"
          ]
        }
      ],
      "source": [
        "from tensorflow.keras.models import load_model\n",
        "import tensorflow as tf\n",
        "\n",
        "# Load the Keras model\n",
        "model = load_model('/content/drive/MyDrive/DL_Model/model.keras')\n",
        "\n",
        "# Define the directory where the TensorFlow SavedModel will be exported\n",
        "export_path = '/content/drive/MyDrive/DL_Model/saved_model'\n",
        "\n",
        "# Save the model using the TensorFlow SavedModel format\n",
        "tf.saved_model.save(model, export_path)\n",
        "\n",
        "print(f\"Model successfully saved as a TensorFlow SavedModel at {export_path}\")"
      ]
    },
    {
      "cell_type": "code",
      "execution_count": 15,
      "metadata": {
        "colab": {
          "base_uri": "https://localhost:8080/",
          "height": 636
        },
        "id": "emArMvC8-kl6",
        "outputId": "ee691c41-fa90-42fc-b9b7-b4cb938e2ce7"
      },
      "outputs": [
        {
          "name": "stdout",
          "output_type": "stream",
          "text": [
            "Collecting tf2onnx\n",
            "  Downloading tf2onnx-1.16.1-py3-none-any.whl.metadata (1.3 kB)\n",
            "Requirement already satisfied: numpy>=1.14.1 in /usr/local/lib/python3.11/dist-packages (from tf2onnx) (1.26.4)\n",
            "Collecting onnx>=1.4.1 (from tf2onnx)\n",
            "  Downloading onnx-1.17.0-cp311-cp311-manylinux_2_17_x86_64.manylinux2014_x86_64.whl.metadata (16 kB)\n",
            "Requirement already satisfied: requests in /usr/local/lib/python3.11/dist-packages (from tf2onnx) (2.32.3)\n",
            "Requirement already satisfied: six in /usr/local/lib/python3.11/dist-packages (from tf2onnx) (1.17.0)\n",
            "Requirement already satisfied: flatbuffers>=1.12 in /usr/local/lib/python3.11/dist-packages (from tf2onnx) (24.12.23)\n",
            "Collecting protobuf~=3.20 (from tf2onnx)\n",
            "  Downloading protobuf-3.20.3-py2.py3-none-any.whl.metadata (720 bytes)\n",
            "Requirement already satisfied: charset-normalizer<4,>=2 in /usr/local/lib/python3.11/dist-packages (from requests->tf2onnx) (3.4.1)\n",
            "Requirement already satisfied: idna<4,>=2.5 in /usr/local/lib/python3.11/dist-packages (from requests->tf2onnx) (3.10)\n",
            "Requirement already satisfied: urllib3<3,>=1.21.1 in /usr/local/lib/python3.11/dist-packages (from requests->tf2onnx) (2.3.0)\n",
            "Requirement already satisfied: certifi>=2017.4.17 in /usr/local/lib/python3.11/dist-packages (from requests->tf2onnx) (2024.12.14)\n",
            "Downloading tf2onnx-1.16.1-py3-none-any.whl (455 kB)\n",
            "\u001b[2K   \u001b[90m━━━━━━━━━━━━━━━━━━━━━━━━━━━━━━━━━━━━━━━━\u001b[0m \u001b[32m455.8/455.8 kB\u001b[0m \u001b[31m12.3 MB/s\u001b[0m eta \u001b[36m0:00:00\u001b[0m\n",
            "\u001b[?25hDownloading onnx-1.17.0-cp311-cp311-manylinux_2_17_x86_64.manylinux2014_x86_64.whl (16.0 MB)\n",
            "\u001b[2K   \u001b[90m━━━━━━━━━━━━━━━━━━━━━━━━━━━━━━━━━━━━━━━━\u001b[0m \u001b[32m16.0/16.0 MB\u001b[0m \u001b[31m77.8 MB/s\u001b[0m eta \u001b[36m0:00:00\u001b[0m\n",
            "\u001b[?25hDownloading protobuf-3.20.3-py2.py3-none-any.whl (162 kB)\n",
            "\u001b[2K   \u001b[90m━━━━━━━━━━━━━━━━━━━━━━━━━━━━━━━━━━━━━━━━\u001b[0m \u001b[32m162.1/162.1 kB\u001b[0m \u001b[31m13.7 MB/s\u001b[0m eta \u001b[36m0:00:00\u001b[0m\n",
            "\u001b[?25hInstalling collected packages: protobuf, onnx, tf2onnx\n",
            "  Attempting uninstall: protobuf\n",
            "    Found existing installation: protobuf 4.25.5\n",
            "    Uninstalling protobuf-4.25.5:\n",
            "      Successfully uninstalled protobuf-4.25.5\n",
            "\u001b[31mERROR: pip's dependency resolver does not currently take into account all the packages that are installed. This behaviour is the source of the following dependency conflicts.\n",
            "grpcio-status 1.62.3 requires protobuf>=4.21.6, but you have protobuf 3.20.3 which is incompatible.\n",
            "tensorflow-metadata 1.16.1 requires protobuf<6.0.0dev,>=4.25.2; python_version >= \"3.11\", but you have protobuf 3.20.3 which is incompatible.\u001b[0m\u001b[31m\n",
            "\u001b[0mSuccessfully installed onnx-1.17.0 protobuf-3.20.3 tf2onnx-1.16.1\n"
          ]
        },
        {
          "data": {
            "application/vnd.colab-display-data+json": {
              "id": "726a47b95da44292b1ba898e555caf1d",
              "pip_warning": {
                "packages": [
                  "google"
                ]
              }
            }
          },
          "metadata": {},
          "output_type": "display_data"
        }
      ],
      "source": [
        "!pip install -U tf2onnx"
      ]
    },
    {
      "cell_type": "code",
      "execution_count": 16,
      "metadata": {
        "colab": {
          "base_uri": "https://localhost:8080/"
        },
        "id": "66Kmr4PH-wtq",
        "outputId": "cb0ca930-0bcf-43ff-c9e9-41956fc020a4"
      },
      "outputs": [
        {
          "name": "stdout",
          "output_type": "stream",
          "text": [
            "2025-01-24 11:04:22.402221: E external/local_xla/xla/stream_executor/cuda/cuda_fft.cc:485] Unable to register cuFFT factory: Attempting to register factory for plugin cuFFT when one has already been registered\n",
            "2025-01-24 11:04:22.430298: E external/local_xla/xla/stream_executor/cuda/cuda_dnn.cc:8454] Unable to register cuDNN factory: Attempting to register factory for plugin cuDNN when one has already been registered\n",
            "2025-01-24 11:04:22.438455: E external/local_xla/xla/stream_executor/cuda/cuda_blas.cc:1452] Unable to register cuBLAS factory: Attempting to register factory for plugin cuBLAS when one has already been registered\n",
            "2025-01-24 11:04:24.478050: W tensorflow/compiler/tf2tensorrt/utils/py_utils.cc:38] TF-TRT Warning: Could not find TensorRT\n",
            "<frozen runpy>:128: RuntimeWarning: 'tf2onnx.convert' found in sys.modules after import of package 'tf2onnx', but prior to execution of 'tf2onnx.convert'; this may result in unpredictable behaviour\n",
            "2025-01-24 11:04:28,333 - WARNING - ***IMPORTANT*** Installed protobuf is not cpp accelerated. Conversion will be extremely slow. See https://github.com/onnx/tensorflow-onnx/issues/1557\n",
            "2025-01-24 11:04:28,335 - WARNING - '--tag' not specified for saved_model. Using --tag serve\n",
            "2025-01-24 11:04:29,110 - INFO - Signatures found in model: [serving_default].\n",
            "2025-01-24 11:04:29,111 - WARNING - '--signature_def' not specified, using first signature: serving_default\n",
            "2025-01-24 11:04:29,111 - INFO - Output names: ['output_0']\n",
            "WARNING: All log messages before absl::InitializeLog() is called are written to STDERR\n",
            "I0000 00:00:1737716669.142850    4926 devices.cc:67] Number of eligible GPUs (core count >= 8, compute capability >= 0.0): 0\n",
            "I0000 00:00:1737716669.370369    4926 devices.cc:67] Number of eligible GPUs (core count >= 8, compute capability >= 0.0): 0\n",
            "2025-01-24 11:04:29,400 - INFO - Using tensorflow=2.17.1, onnx=1.17.0, tf2onnx=1.16.1/15c810\n",
            "2025-01-24 11:04:29,401 - INFO - Using opset <onnx, 16>\n",
            "2025-01-24 11:04:29,419 - INFO - Computed 0 values for constant folding\n",
            "2025-01-24 11:04:29,452 - INFO - Optimizing ONNX model\n",
            "2025-01-24 11:04:29,547 - INFO - After optimization: Add -3 (5->2), Cast -1 (1->0), Const +1 (11->12), Identity -2 (2->0), Reshape +1 (1->2), Transpose -10 (10->0)\n",
            "2025-01-24 11:04:29,558 - INFO - \n",
            "2025-01-24 11:04:29,559 - INFO - Successfully converted TensorFlow model /content/drive/MyDrive/DL_Model/saved_model to ONNX\n",
            "2025-01-24 11:04:29,559 - INFO - Model inputs: ['inputs']\n",
            "2025-01-24 11:04:29,559 - INFO - Model outputs: ['output_0']\n",
            "2025-01-24 11:04:29,559 - INFO - ONNX model is saved at /content/drive/MyDrive/DL_Model/saved_model.onnx\n"
          ]
        }
      ],
      "source": [
        "!python -m tf2onnx.convert --saved-model \"/content/drive/MyDrive/DL_Model/saved_model\" --output \"/content/drive/MyDrive/DL_Model/saved_model.onnx\" --opset 16"
      ]
    },
    {
      "cell_type": "code",
      "execution_count": 17,
      "metadata": {
        "colab": {
          "base_uri": "https://localhost:8080/"
        },
        "id": "bzdFSal-_Fdi",
        "outputId": "85311d01-d6e9-43cf-f971-859b4ef1a7b5"
      },
      "outputs": [
        {
          "name": "stdout",
          "output_type": "stream",
          "text": [
            "--2025-01-24 11:05:22--  https://developer.nvidia.com/downloads/compute/machine-learning/tensorrt/10.0.0/tars/TensorRT-10.0.0.6.Linux.x86_64-gnu.cuda-12.4.tar.gz\n",
            "Resolving developer.nvidia.com (developer.nvidia.com)... 23.54.19.192, 23.54.19.131\n",
            "Connecting to developer.nvidia.com (developer.nvidia.com)|23.54.19.192|:443... connected.\n",
            "HTTP request sent, awaiting response... 302 Moved Temporarily\n",
            "Location: https://developer.download.nvidia.com/compute/machine-learning/tensorrt/10.0.0/tars/TensorRT-10.0.0.6.Linux.x86_64-gnu.cuda-12.4.tar.gz [following]\n",
            "--2025-01-24 11:05:23--  https://developer.download.nvidia.com/compute/machine-learning/tensorrt/10.0.0/tars/TensorRT-10.0.0.6.Linux.x86_64-gnu.cuda-12.4.tar.gz\n",
            "Resolving developer.download.nvidia.com (developer.download.nvidia.com)... 23.54.19.131, 23.54.19.192\n",
            "Connecting to developer.download.nvidia.com (developer.download.nvidia.com)|23.54.19.131|:443... connected.\n",
            "HTTP request sent, awaiting response... 200 OK\n",
            "Length: 2348693005 (2.2G) [application/x-gzip]\n",
            "Saving to: ‘tensorrt.tar.gz’\n",
            "\n",
            "tensorrt.tar.gz     100%[===================>]   2.19G  24.8MB/s    in 97s     \n",
            "\n",
            "2025-01-24 11:07:00 (23.0 MB/s) - ‘tensorrt.tar.gz’ saved [2348693005/2348693005]\n",
            "\n"
          ]
        }
      ],
      "source": [
        "!wget https://developer.nvidia.com/downloads/compute/machine-learning/tensorrt/10.0.0/tars/TensorRT-10.0.0.6.Linux.x86_64-gnu.cuda-12.4.tar.gz -O tensorrt.tar.gz"
      ]
    },
    {
      "cell_type": "code",
      "execution_count": null,
      "metadata": {
        "id": "Ymubt-DwAMyj"
      },
      "outputs": [],
      "source": [
        "!/content/TensorRT-10.0.0.6/bin/trtexec --onnx=/content/drive/MyDrive/DL_Model/saved_model.onnx --saveEngine=/content/drive/MyDrive/ResNet20/saved_model.trt"
      ]
    },
    {
      "cell_type": "code",
      "execution_count": 20,
      "metadata": {
        "colab": {
          "base_uri": "https://localhost:8080/"
        },
        "id": "TlM0ddgZB9d_",
        "outputId": "81ad8f33-4507-4b76-d630-5efad4df4790"
      },
      "outputs": [
        {
          "name": "stdout",
          "output_type": "stream",
          "text": [
            "TensorRT-10.0.0.6/\n",
            "TensorRT-10.0.0.6/targets/\n",
            "TensorRT-10.0.0.6/targets/x86_64-linux-gnu/\n",
            "TensorRT-10.0.0.6/targets/x86_64-linux-gnu/samples\n",
            "TensorRT-10.0.0.6/targets/x86_64-linux-gnu/lib/\n",
            "TensorRT-10.0.0.6/targets/x86_64-linux-gnu/lib/libnvinfer_lean.so.10\n",
            "TensorRT-10.0.0.6/targets/x86_64-linux-gnu/lib/libnvinfer.so.10.0.0\n",
            "TensorRT-10.0.0.6/targets/x86_64-linux-gnu/lib/libnvonnxparser_static.a\n",
            "TensorRT-10.0.0.6/targets/x86_64-linux-gnu/lib/libnvinfer_vc_plugin.so\n",
            "TensorRT-10.0.0.6/targets/x86_64-linux-gnu/lib/libnvinfer_lean_static.a\n",
            "TensorRT-10.0.0.6/targets/x86_64-linux-gnu/lib/libonnx_proto.a\n",
            "TensorRT-10.0.0.6/targets/x86_64-linux-gnu/lib/libnvinfer.so\n",
            "TensorRT-10.0.0.6/targets/x86_64-linux-gnu/lib/libnvinfer_builder_resource.so.10.0.0\n",
            "TensorRT-10.0.0.6/targets/x86_64-linux-gnu/lib/libnvinfer_plugin.so.10\n",
            "TensorRT-10.0.0.6/targets/x86_64-linux-gnu/lib/stubs/\n",
            "TensorRT-10.0.0.6/targets/x86_64-linux-gnu/lib/stubs/libnvinfer_vc_plugin.so\n",
            "TensorRT-10.0.0.6/targets/x86_64-linux-gnu/lib/stubs/libnvinfer.so\n",
            "TensorRT-10.0.0.6/targets/x86_64-linux-gnu/lib/stubs/libnvinfer_lean.so\n",
            "TensorRT-10.0.0.6/targets/x86_64-linux-gnu/lib/stubs/libnvonnxparser.so\n",
            "TensorRT-10.0.0.6/targets/x86_64-linux-gnu/lib/stubs/libnvinfer_dispatch.so\n",
            "TensorRT-10.0.0.6/targets/x86_64-linux-gnu/lib/stubs/libnvinfer_plugin.so\n",
            "TensorRT-10.0.0.6/targets/x86_64-linux-gnu/lib/libnvinfer_lean.so\n",
            "TensorRT-10.0.0.6/targets/x86_64-linux-gnu/lib/libnvinfer_dispatch_static.a\n",
            "TensorRT-10.0.0.6/targets/x86_64-linux-gnu/lib/libnvonnxparser.so\n",
            "TensorRT-10.0.0.6/targets/x86_64-linux-gnu/lib/libnvonnxparser.so.10\n",
            "TensorRT-10.0.0.6/targets/x86_64-linux-gnu/lib/libnvinfer_dispatch.so\n",
            "TensorRT-10.0.0.6/targets/x86_64-linux-gnu/lib/libnvinfer_static.a\n",
            "TensorRT-10.0.0.6/targets/x86_64-linux-gnu/lib/libnvonnxparser.so.10.0.0\n",
            "TensorRT-10.0.0.6/targets/x86_64-linux-gnu/lib/libnvinfer_vc_plugin.so.10.0.0\n",
            "TensorRT-10.0.0.6/targets/x86_64-linux-gnu/lib/libnvinfer_vc_plugin.so.10\n",
            "TensorRT-10.0.0.6/targets/x86_64-linux-gnu/lib/libnvinfer_plugin_static.a\n",
            "TensorRT-10.0.0.6/targets/x86_64-linux-gnu/lib/libnvinfer.so.10\n",
            "TensorRT-10.0.0.6/targets/x86_64-linux-gnu/lib/libnvinfer_plugin.so.10.0.0\n",
            "TensorRT-10.0.0.6/targets/x86_64-linux-gnu/lib/libnvinfer_dispatch.so.10\n",
            "TensorRT-10.0.0.6/targets/x86_64-linux-gnu/lib/libnvinfer_dispatch.so.10.0.0\n",
            "TensorRT-10.0.0.6/targets/x86_64-linux-gnu/lib/libnvinfer_vc_plugin_static.a\n",
            "TensorRT-10.0.0.6/targets/x86_64-linux-gnu/lib/libnvinfer_plugin.so\n",
            "TensorRT-10.0.0.6/targets/x86_64-linux-gnu/lib/libnvinfer_lean.so.10.0.0\n",
            "TensorRT-10.0.0.6/targets/x86_64-linux-gnu/bin/\n",
            "TensorRT-10.0.0.6/targets/x86_64-linux-gnu/bin/trtexec\n",
            "TensorRT-10.0.0.6/targets/x86_64-linux-gnu/include\n",
            "TensorRT-10.0.0.6/samples/\n",
            "TensorRT-10.0.0.6/samples/utils/\n",
            "TensorRT-10.0.0.6/samples/utils/fileLock.h\n",
            "TensorRT-10.0.0.6/samples/utils/fileLock.cpp\n",
            "TensorRT-10.0.0.6/samples/utils/timingCache.cpp\n",
            "TensorRT-10.0.0.6/samples/utils/timingCache.h\n",
            "TensorRT-10.0.0.6/samples/Makefile.config\n",
            "TensorRT-10.0.0.6/samples/sampleDynamicReshape/\n",
            "TensorRT-10.0.0.6/samples/sampleDynamicReshape/Makefile\n",
            "TensorRT-10.0.0.6/samples/sampleDynamicReshape/sampleDynamicReshape.cpp\n",
            "TensorRT-10.0.0.6/samples/sampleDynamicReshape/README.md\n",
            "TensorRT-10.0.0.6/samples/sampleNonZeroPlugin/\n",
            "TensorRT-10.0.0.6/samples/sampleNonZeroPlugin/nonZeroKernel.cu\n",
            "TensorRT-10.0.0.6/samples/sampleNonZeroPlugin/Makefile\n",
            "TensorRT-10.0.0.6/samples/sampleNonZeroPlugin/nonZeroKernel.h\n",
            "TensorRT-10.0.0.6/samples/sampleNonZeroPlugin/sampleNonZeroPlugin.cpp\n",
            "TensorRT-10.0.0.6/samples/sampleNonZeroPlugin/README.md\n",
            "TensorRT-10.0.0.6/samples/python/\n",
            "TensorRT-10.0.0.6/samples/python/onnx_custom_plugin/\n",
            "TensorRT-10.0.0.6/samples/python/onnx_custom_plugin/plugin/\n",
            "TensorRT-10.0.0.6/samples/python/onnx_custom_plugin/plugin/customHardmaxPlugin.cpp\n",
            "TensorRT-10.0.0.6/samples/python/onnx_custom_plugin/plugin/customHardmaxPlugin.h\n",
            "TensorRT-10.0.0.6/samples/python/onnx_custom_plugin/README.md\n",
            "TensorRT-10.0.0.6/samples/python/onnx_custom_plugin/model.py\n",
            "TensorRT-10.0.0.6/samples/python/onnx_custom_plugin/CMakeLists.txt\n",
            "TensorRT-10.0.0.6/samples/python/onnx_custom_plugin/load_plugin_lib.py\n",
            "TensorRT-10.0.0.6/samples/python/onnx_custom_plugin/sample.py\n",
            "TensorRT-10.0.0.6/samples/python/onnx_custom_plugin/test_custom_hardmax_plugin.py\n",
            "TensorRT-10.0.0.6/samples/python/onnx_custom_plugin/requirements.txt\n",
            "TensorRT-10.0.0.6/samples/python/yolov3_onnx/\n",
            "TensorRT-10.0.0.6/samples/python/yolov3_onnx/onnx_to_tensorrt.py\n",
            "TensorRT-10.0.0.6/samples/python/yolov3_onnx/coco_labels.txt\n",
            "TensorRT-10.0.0.6/samples/python/yolov3_onnx/download.yml\n",
            "TensorRT-10.0.0.6/samples/python/yolov3_onnx/data_processing.py\n",
            "TensorRT-10.0.0.6/samples/python/yolov3_onnx/README.md\n",
            "TensorRT-10.0.0.6/samples/python/yolov3_onnx/requirements.txt\n",
            "TensorRT-10.0.0.6/samples/python/yolov3_onnx/yolov3_to_onnx.py\n",
            "TensorRT-10.0.0.6/samples/python/detectron2/\n",
            "TensorRT-10.0.0.6/samples/python/detectron2/onnx_utils.py\n",
            "TensorRT-10.0.0.6/samples/python/detectron2/infer.py\n",
            "TensorRT-10.0.0.6/samples/python/detectron2/eval_coco.py\n",
            "TensorRT-10.0.0.6/samples/python/detectron2/create_onnx.py\n",
            "TensorRT-10.0.0.6/samples/python/detectron2/README.md\n",
            "TensorRT-10.0.0.6/samples/python/detectron2/image_batcher.py\n",
            "TensorRT-10.0.0.6/samples/python/detectron2/build_engine.py\n",
            "TensorRT-10.0.0.6/samples/python/detectron2/requirements.txt\n",
            "TensorRT-10.0.0.6/samples/python/detectron2/visualize.py\n",
            "TensorRT-10.0.0.6/samples/python/network_api_pytorch_mnist/\n",
            "TensorRT-10.0.0.6/samples/python/network_api_pytorch_mnist/README.md\n",
            "TensorRT-10.0.0.6/samples/python/network_api_pytorch_mnist/model.py\n",
            "TensorRT-10.0.0.6/samples/python/network_api_pytorch_mnist/sample.py\n",
            "TensorRT-10.0.0.6/samples/python/network_api_pytorch_mnist/requirements.txt\n",
            "TensorRT-10.0.0.6/samples/python/tensorflow_object_detection_api/\n",
            "TensorRT-10.0.0.6/samples/python/tensorflow_object_detection_api/compare_tf.py\n",
            "TensorRT-10.0.0.6/samples/python/tensorflow_object_detection_api/onnx_utils.py\n",
            "TensorRT-10.0.0.6/samples/python/tensorflow_object_detection_api/infer.py\n",
            "TensorRT-10.0.0.6/samples/python/tensorflow_object_detection_api/eval_coco.py\n",
            "TensorRT-10.0.0.6/samples/python/tensorflow_object_detection_api/labels_coco.txt\n",
            "TensorRT-10.0.0.6/samples/python/tensorflow_object_detection_api/create_onnx.py\n",
            "TensorRT-10.0.0.6/samples/python/tensorflow_object_detection_api/README.md\n",
            "TensorRT-10.0.0.6/samples/python/tensorflow_object_detection_api/image_batcher.py\n",
            "TensorRT-10.0.0.6/samples/python/tensorflow_object_detection_api/build_engine.py\n",
            "TensorRT-10.0.0.6/samples/python/tensorflow_object_detection_api/requirements.txt\n",
            "TensorRT-10.0.0.6/samples/python/tensorflow_object_detection_api/visualize.py\n",
            "TensorRT-10.0.0.6/samples/python/python_plugin/\n",
            "TensorRT-10.0.0.6/samples/python/python_plugin/circ_pad_plugin_triton.py\n",
            "TensorRT-10.0.0.6/samples/python/python_plugin/circ_plugin_cpp/\n",
            "TensorRT-10.0.0.6/samples/python/python_plugin/circ_plugin_cpp/circ_pad_plugin.cu\n",
            "TensorRT-10.0.0.6/samples/python/python_plugin/utils.py\n",
            "TensorRT-10.0.0.6/samples/python/python_plugin/circ_pad_plugin_multi_tactic.py\n",
            "TensorRT-10.0.0.6/samples/python/python_plugin/circ_pad_plugin_cpp.py\n",
            "TensorRT-10.0.0.6/samples/python/python_plugin/circ_pad_plugin_cupy.py\n",
            "TensorRT-10.0.0.6/samples/python/python_plugin/circ_pad_example.png\n",
            "TensorRT-10.0.0.6/samples/python/python_plugin/circ_pad_plugin_cuda_python.py\n",
            "TensorRT-10.0.0.6/samples/python/python_plugin/circ_pad_plugin_numba.py\n",
            "TensorRT-10.0.0.6/samples/python/python_plugin/README.md\n",
            "TensorRT-10.0.0.6/samples/python/python_plugin/circ_pad_plugin_inetdef_cuda_python.py\n",
            "TensorRT-10.0.0.6/samples/python/python_plugin/CMakeLists.txt\n",
            "TensorRT-10.0.0.6/samples/python/python_plugin/circ_pad_plugin_torch.py\n",
            "TensorRT-10.0.0.6/samples/python/python_plugin/requirements.txt\n",
            "TensorRT-10.0.0.6/samples/python/common.py\n",
            "TensorRT-10.0.0.6/samples/python/introductory_parser_samples/\n",
            "TensorRT-10.0.0.6/samples/python/introductory_parser_samples/README.md\n",
            "TensorRT-10.0.0.6/samples/python/introductory_parser_samples/onnx_resnet50.py\n",
            "TensorRT-10.0.0.6/samples/python/introductory_parser_samples/requirements.txt\n",
            "TensorRT-10.0.0.6/samples/python/sample_weight_stripping/\n",
            "TensorRT-10.0.0.6/samples/python/sample_weight_stripping/build_engines.py\n",
            "TensorRT-10.0.0.6/samples/python/sample_weight_stripping/refit_engine_and_infer.py\n",
            "TensorRT-10.0.0.6/samples/python/sample_weight_stripping/README.md\n",
            "TensorRT-10.0.0.6/samples/python/sample_weight_stripping/requirements.txt\n",
            "TensorRT-10.0.0.6/samples/python/downloader.py\n",
            "TensorRT-10.0.0.6/samples/python/engine_refit_onnx_bidaf/\n",
            "TensorRT-10.0.0.6/samples/python/engine_refit_onnx_bidaf/download.yml\n",
            "TensorRT-10.0.0.6/samples/python/engine_refit_onnx_bidaf/data_processing.py\n",
            "TensorRT-10.0.0.6/samples/python/engine_refit_onnx_bidaf/build_and_refit_engine.py\n",
            "TensorRT-10.0.0.6/samples/python/engine_refit_onnx_bidaf/README.md\n",
            "TensorRT-10.0.0.6/samples/python/engine_refit_onnx_bidaf/prepare_model.py\n",
            "TensorRT-10.0.0.6/samples/python/engine_refit_onnx_bidaf/requirements.txt\n",
            "TensorRT-10.0.0.6/samples/python/simple_progress_monitor/\n",
            "TensorRT-10.0.0.6/samples/python/simple_progress_monitor/simple_progress_monitor.py\n",
            "TensorRT-10.0.0.6/samples/python/simple_progress_monitor/README.md\n",
            "TensorRT-10.0.0.6/samples/python/simple_progress_monitor/requirements.txt\n",
            "TensorRT-10.0.0.6/samples/python/README.md\n",
            "TensorRT-10.0.0.6/samples/python/onnx_packnet/\n",
            "TensorRT-10.0.0.6/samples/python/onnx_packnet/post_processing.py\n",
            "TensorRT-10.0.0.6/samples/python/onnx_packnet/download.yml\n",
            "TensorRT-10.0.0.6/samples/python/onnx_packnet/README.md\n",
            "TensorRT-10.0.0.6/samples/python/onnx_packnet/convert_to_onnx.py\n",
            "TensorRT-10.0.0.6/samples/python/onnx_packnet/requirements.txt\n",
            "TensorRT-10.0.0.6/samples/python/common_runtime.py\n",
            "TensorRT-10.0.0.6/samples/python/efficientnet/\n",
            "TensorRT-10.0.0.6/samples/python/efficientnet/compare_tf.py\n",
            "TensorRT-10.0.0.6/samples/python/efficientnet/infer.py\n",
            "TensorRT-10.0.0.6/samples/python/efficientnet/create_onnx.py\n",
            "TensorRT-10.0.0.6/samples/python/efficientnet/README.md\n",
            "TensorRT-10.0.0.6/samples/python/efficientnet/image_batcher.py\n",
            "TensorRT-10.0.0.6/samples/python/efficientnet/build_engine.py\n",
            "TensorRT-10.0.0.6/samples/python/efficientnet/eval_gt.py\n",
            "TensorRT-10.0.0.6/samples/python/efficientnet/requirements.txt\n",
            "TensorRT-10.0.0.6/samples/python/efficientdet/\n",
            "TensorRT-10.0.0.6/samples/python/efficientdet/compare_tf.py\n",
            "TensorRT-10.0.0.6/samples/python/efficientdet/onnx_utils.py\n",
            "TensorRT-10.0.0.6/samples/python/efficientdet/infer.py\n",
            "TensorRT-10.0.0.6/samples/python/efficientdet/eval_coco.py\n",
            "TensorRT-10.0.0.6/samples/python/efficientdet/labels_coco.txt\n",
            "TensorRT-10.0.0.6/samples/python/efficientdet/create_onnx.py\n",
            "TensorRT-10.0.0.6/samples/python/efficientdet/infer_tf.py\n",
            "TensorRT-10.0.0.6/samples/python/efficientdet/README.md\n",
            "TensorRT-10.0.0.6/samples/python/efficientdet/image_batcher.py\n",
            "TensorRT-10.0.0.6/samples/python/efficientdet/build_engine.py\n",
            "TensorRT-10.0.0.6/samples/python/efficientdet/requirements.txt\n",
            "TensorRT-10.0.0.6/samples/python/efficientdet/visualize.py\n",
            "TensorRT-10.0.0.6/samples/python/requirements.txt\n",
            "TensorRT-10.0.0.6/samples/sampleAlgorithmSelector/\n",
            "TensorRT-10.0.0.6/samples/sampleAlgorithmSelector/Makefile\n",
            "TensorRT-10.0.0.6/samples/sampleAlgorithmSelector/sampleAlgorithmSelector.cpp\n",
            "TensorRT-10.0.0.6/samples/sampleAlgorithmSelector/README.md\n",
            "TensorRT-10.0.0.6/samples/sampleINT8API/\n",
            "TensorRT-10.0.0.6/samples/sampleINT8API/Makefile\n",
            "TensorRT-10.0.0.6/samples/sampleINT8API/sampleINT8API.cpp\n",
            "TensorRT-10.0.0.6/samples/sampleINT8API/README.md\n",
            "TensorRT-10.0.0.6/samples/sampleIOFormats/\n",
            "TensorRT-10.0.0.6/samples/sampleIOFormats/sampleIOFormats.cpp\n",
            "TensorRT-10.0.0.6/samples/sampleIOFormats/Makefile\n",
            "TensorRT-10.0.0.6/samples/sampleIOFormats/README.md\n",
            "TensorRT-10.0.0.6/samples/Makefile\n",
            "TensorRT-10.0.0.6/samples/sampleProgressMonitor/\n",
            "TensorRT-10.0.0.6/samples/sampleProgressMonitor/sampleProgressMonitor.cpp\n",
            "TensorRT-10.0.0.6/samples/sampleProgressMonitor/Makefile\n",
            "TensorRT-10.0.0.6/samples/sampleProgressMonitor/README.md\n",
            "TensorRT-10.0.0.6/samples/sampleOnnxMNIST/\n",
            "TensorRT-10.0.0.6/samples/sampleOnnxMNIST/Makefile\n",
            "TensorRT-10.0.0.6/samples/sampleOnnxMNIST/sampleOnnxMNIST.cpp\n",
            "TensorRT-10.0.0.6/samples/sampleOnnxMNIST/README.md\n",
            "TensorRT-10.0.0.6/samples/common/\n",
            "TensorRT-10.0.0.6/samples/common/dumpTFWts.py\n",
            "TensorRT-10.0.0.6/samples/common/streamReader.h\n",
            "TensorRT-10.0.0.6/samples/common/getOptions.h\n",
            "TensorRT-10.0.0.6/samples/common/sampleDevice.cpp\n",
            "TensorRT-10.0.0.6/samples/common/parserOnnxConfig.h\n",
            "TensorRT-10.0.0.6/samples/common/bfloat16.cpp\n",
            "TensorRT-10.0.0.6/samples/common/sampleOptions.cpp\n",
            "TensorRT-10.0.0.6/samples/common/EntropyCalibrator.h\n",
            "TensorRT-10.0.0.6/samples/common/ErrorRecorder.h\n",
            "TensorRT-10.0.0.6/samples/common/buffers.h\n",
            "TensorRT-10.0.0.6/samples/common/sampleUtils.h\n",
            "TensorRT-10.0.0.6/samples/common/getOptions.cpp\n",
            "TensorRT-10.0.0.6/samples/common/getopt.c\n",
            "TensorRT-10.0.0.6/samples/common/sampleDevice.h\n",
            "TensorRT-10.0.0.6/samples/common/sampleEngines.h\n",
            "TensorRT-10.0.0.6/samples/common/getoptWin.h\n",
            "TensorRT-10.0.0.6/samples/common/sampleReporting.h\n",
            "TensorRT-10.0.0.6/samples/common/argsParser.h\n",
            "TensorRT-10.0.0.6/samples/common/sampleOptions.h\n",
            "TensorRT-10.0.0.6/samples/common/half.h\n",
            "TensorRT-10.0.0.6/samples/common/sampleReporting.cpp\n",
            "TensorRT-10.0.0.6/samples/common/logging.h\n",
            "TensorRT-10.0.0.6/samples/common/sampleConfig.h\n",
            "TensorRT-10.0.0.6/samples/common/sampleInference.cpp\n",
            "TensorRT-10.0.0.6/samples/common/sampleUtils.cpp\n",
            "TensorRT-10.0.0.6/samples/common/safeCommon.h\n",
            "TensorRT-10.0.0.6/samples/common/bfloat16.h\n",
            "TensorRT-10.0.0.6/samples/common/sampleInference.h\n",
            "TensorRT-10.0.0.6/samples/common/sampleEntrypoints.h\n",
            "TensorRT-10.0.0.6/samples/common/common.h\n",
            "TensorRT-10.0.0.6/samples/common/logger.cpp\n",
            "TensorRT-10.0.0.6/samples/common/logger.h\n",
            "TensorRT-10.0.0.6/samples/common/sampleEngines.cpp\n",
            "TensorRT-10.0.0.6/samples/common/BatchStream.h\n",
            "TensorRT-10.0.0.6/samples/fatbin.ld\n",
            "TensorRT-10.0.0.6/samples/sampleCharRNN/\n",
            "TensorRT-10.0.0.6/samples/sampleCharRNN/Makefile\n",
            "TensorRT-10.0.0.6/samples/sampleCharRNN/README.md\n",
            "TensorRT-10.0.0.6/samples/sampleCharRNN/sampleCharRNN.cpp\n",
            "TensorRT-10.0.0.6/samples/trtexec/\n",
            "TensorRT-10.0.0.6/samples/trtexec/Makefile\n",
            "TensorRT-10.0.0.6/samples/trtexec/tracer.py\n",
            "TensorRT-10.0.0.6/samples/trtexec/profiler.py\n",
            "TensorRT-10.0.0.6/samples/trtexec/README.md\n",
            "TensorRT-10.0.0.6/samples/trtexec/trtexec.cpp\n",
            "TensorRT-10.0.0.6/samples/trtexec/prn_utils.py\n",
            "TensorRT-10.0.0.6/samples/sampleNamedDimensions/\n",
            "TensorRT-10.0.0.6/samples/sampleNamedDimensions/create_model.py\n",
            "TensorRT-10.0.0.6/samples/sampleNamedDimensions/Makefile\n",
            "TensorRT-10.0.0.6/samples/sampleNamedDimensions/README.md\n",
            "TensorRT-10.0.0.6/samples/sampleNamedDimensions/sampleNamedDimensions.cpp\n",
            "TensorRT-10.0.0.6/samples/sampleOnnxMnistCoordConvAC/\n",
            "TensorRT-10.0.0.6/samples/sampleOnnxMnistCoordConvAC/Makefile\n",
            "TensorRT-10.0.0.6/samples/sampleOnnxMnistCoordConvAC/sampleOnnxMnistCoordConvAC.cpp\n",
            "TensorRT-10.0.0.6/samples/sampleOnnxMnistCoordConvAC/README.md\n",
            "TensorRT-10.0.0.6/samples/sampleOnnxMnistCoordConvAC/mnist_coord_conv_train.py\n",
            "TensorRT-10.0.0.6/samples/sampleOnnxMnistCoordConvAC/coord_conv.py\n",
            "TensorRT-10.0.0.6/samples/sampleOnnxMnistCoordConvAC/modify_onnx_ac.py\n",
            "TensorRT-10.0.0.6/data/\n",
            "TensorRT-10.0.0.6/data/int8_api/\n",
            "TensorRT-10.0.0.6/data/int8_api/reference_labels.txt\n",
            "TensorRT-10.0.0.6/data/int8_api/README.md\n",
            "TensorRT-10.0.0.6/data/int8_api/resnet50_per_tensor_dynamic_range.txt\n",
            "TensorRT-10.0.0.6/data/int8_api/airliner.ppm\n",
            "TensorRT-10.0.0.6/data/resnet50/\n",
            "TensorRT-10.0.0.6/data/resnet50/class_labels.txt\n",
            "TensorRT-10.0.0.6/data/resnet50/ResNet50.onnx\n",
            "TensorRT-10.0.0.6/data/resnet50/README.md\n",
            "TensorRT-10.0.0.6/data/resnet50/airliner.ppm\n",
            "TensorRT-10.0.0.6/data/resnet50/binoculars.jpeg\n",
            "TensorRT-10.0.0.6/data/resnet50/tabby_tiger_cat.jpg\n",
            "TensorRT-10.0.0.6/data/resnet50/reflex_camera.jpeg\n",
            "TensorRT-10.0.0.6/data/char-rnn/\n",
            "TensorRT-10.0.0.6/data/char-rnn/char-rnn.wts\n",
            "TensorRT-10.0.0.6/data/char-rnn/model/\n",
            "TensorRT-10.0.0.6/data/char-rnn/model/model-20080.index\n",
            "TensorRT-10.0.0.6/data/char-rnn/model/model-20080.meta\n",
            "TensorRT-10.0.0.6/data/char-rnn/model/checkpoint\n",
            "TensorRT-10.0.0.6/data/char-rnn/model/model-20080.data-00000-of-00001\n",
            "TensorRT-10.0.0.6/data/mnist/\n",
            "TensorRT-10.0.0.6/data/mnist/2.pgm\n",
            "TensorRT-10.0.0.6/data/mnist/1.pgm\n",
            "TensorRT-10.0.0.6/data/mnist/5.pgm\n",
            "TensorRT-10.0.0.6/data/mnist/8.pgm\n",
            "TensorRT-10.0.0.6/data/mnist/mnist.onnx\n",
            "TensorRT-10.0.0.6/data/mnist/3.pgm\n",
            "TensorRT-10.0.0.6/data/mnist/README.md\n",
            "TensorRT-10.0.0.6/data/mnist/4.pgm\n",
            "TensorRT-10.0.0.6/data/mnist/0.pgm\n",
            "TensorRT-10.0.0.6/data/mnist/6.pgm\n",
            "TensorRT-10.0.0.6/data/mnist/7.pgm\n",
            "TensorRT-10.0.0.6/data/mnist/9.pgm\n",
            "TensorRT-10.0.0.6/python/\n",
            "TensorRT-10.0.0.6/python/tensorrt_lean-10.0.0b6-cp38-none-linux_x86_64.whl\n",
            "TensorRT-10.0.0.6/python/tensorrt_lean-10.0.0b6-cp311-none-linux_x86_64.whl\n",
            "TensorRT-10.0.0.6/python/tensorrt-10.0.0b6-cp311-none-linux_x86_64.whl\n",
            "TensorRT-10.0.0.6/python/tensorrt_lean-10.0.0b6-cp312-none-linux_x86_64.whl\n",
            "TensorRT-10.0.0.6/python/tensorrt_dispatch-10.0.0b6-cp310-none-linux_x86_64.whl\n",
            "TensorRT-10.0.0.6/python/tensorrt-10.0.0b6-cp38-none-linux_x86_64.whl\n",
            "TensorRT-10.0.0.6/python/tensorrt_lean-10.0.0b6-cp39-none-linux_x86_64.whl\n",
            "TensorRT-10.0.0.6/python/tensorrt-10.0.0b6-cp310-none-linux_x86_64.whl\n",
            "TensorRT-10.0.0.6/python/tensorrt_dispatch-10.0.0b6-cp38-none-linux_x86_64.whl\n",
            "TensorRT-10.0.0.6/python/tensorrt_lean-10.0.0b6-cp310-none-linux_x86_64.whl\n",
            "TensorRT-10.0.0.6/python/tensorrt-10.0.0b6-cp39-none-linux_x86_64.whl\n",
            "TensorRT-10.0.0.6/python/tensorrt_dispatch-10.0.0b6-cp311-none-linux_x86_64.whl\n",
            "TensorRT-10.0.0.6/python/tensorrt_dispatch-10.0.0b6-cp39-none-linux_x86_64.whl\n",
            "TensorRT-10.0.0.6/python/tensorrt-10.0.0b6-cp312-none-linux_x86_64.whl\n",
            "TensorRT-10.0.0.6/python/tensorrt_dispatch-10.0.0b6-cp312-none-linux_x86_64.whl\n",
            "TensorRT-10.0.0.6/lib\n",
            "TensorRT-10.0.0.6/doc/\n",
            "TensorRT-10.0.0.6/doc/Acknowledgements.txt\n",
            "TensorRT-10.0.0.6/doc/Readme.txt\n",
            "TensorRT-10.0.0.6/bin\n",
            "TensorRT-10.0.0.6/onnx_graphsurgeon/\n",
            "TensorRT-10.0.0.6/onnx_graphsurgeon/onnx_graphsurgeon-0.5.0-py2.py3-none-any.whl\n",
            "TensorRT-10.0.0.6/include/\n",
            "TensorRT-10.0.0.6/include/NvInferVersion.h\n",
            "TensorRT-10.0.0.6/include/NvInferConsistencyImpl.h\n",
            "TensorRT-10.0.0.6/include/NvInferPluginUtils.h\n",
            "TensorRT-10.0.0.6/include/NvOnnxConfig.h\n",
            "TensorRT-10.0.0.6/include/NvInferImpl.h\n",
            "TensorRT-10.0.0.6/include/NvOnnxParser.h\n",
            "TensorRT-10.0.0.6/include/NvInferRuntimePlugin.h\n",
            "TensorRT-10.0.0.6/include/NvInferPlugin.h\n",
            "TensorRT-10.0.0.6/include/NvInferSafeRuntime.h\n",
            "TensorRT-10.0.0.6/include/NvInfer.h\n",
            "TensorRT-10.0.0.6/include/NvInferRuntime.h\n",
            "TensorRT-10.0.0.6/include/NvInferLegacyDims.h\n",
            "TensorRT-10.0.0.6/include/NvInferConsistency.h\n",
            "TensorRT-10.0.0.6/include/NvInferRuntimeCommon.h\n",
            "TensorRT-10.0.0.6/include/NvInferRuntimeBase.h\n"
          ]
        }
      ],
      "source": [
        "!tar -xvzf tensorrt.tar.gz"
      ]
    },
    {
      "cell_type": "code",
      "execution_count": 22,
      "metadata": {
        "colab": {
          "base_uri": "https://localhost:8080/"
        },
        "id": "p4xp3nfqDM4g",
        "outputId": "2c9777b7-43ed-4e4a-8364-8d230d0fb650"
      },
      "outputs": [
        {
          "name": "stdout",
          "output_type": "stream",
          "text": [
            "&&&& RUNNING TensorRT.trtexec [TensorRT v100000] # /content/TensorRT-10.0.0.6/bin/trtexec --onnx=/content/drive/MyDrive/DL_Model/saved_model.onnx --saveEngine=/content/drive/MyDrive/DL_Model/saved_model.trt\n",
            "[01/24/2025-11:24:31] [I] === Model Options ===\n",
            "[01/24/2025-11:24:31] [I] Format: ONNX\n",
            "[01/24/2025-11:24:31] [I] Model: /content/drive/MyDrive/DL_Model/saved_model.onnx\n",
            "[01/24/2025-11:24:31] [I] Output:\n",
            "[01/24/2025-11:24:31] [I] === Build Options ===\n",
            "[01/24/2025-11:24:31] [I] Memory Pools: workspace: default, dlaSRAM: default, dlaLocalDRAM: default, dlaGlobalDRAM: default, tacticSharedMem: default\n",
            "[01/24/2025-11:24:31] [I] avgTiming: 8\n",
            "[01/24/2025-11:24:31] [I] Precision: FP32\n",
            "[01/24/2025-11:24:31] [I] LayerPrecisions: \n",
            "[01/24/2025-11:24:31] [I] Layer Device Types: \n",
            "[01/24/2025-11:24:31] [I] Calibration: \n",
            "[01/24/2025-11:24:31] [I] Refit: Disabled\n",
            "[01/24/2025-11:24:31] [I] Strip weights: Disabled\n",
            "[01/24/2025-11:24:31] [I] Version Compatible: Disabled\n",
            "[01/24/2025-11:24:31] [I] ONNX Plugin InstanceNorm: Disabled\n",
            "[01/24/2025-11:24:31] [I] TensorRT runtime: full\n",
            "[01/24/2025-11:24:31] [I] Lean DLL Path: \n",
            "[01/24/2025-11:24:31] [I] Tempfile Controls: { in_memory: allow, temporary: allow }\n",
            "[01/24/2025-11:24:31] [I] Exclude Lean Runtime: Disabled\n",
            "[01/24/2025-11:24:31] [I] Sparsity: Disabled\n",
            "[01/24/2025-11:24:31] [I] Safe mode: Disabled\n",
            "[01/24/2025-11:24:31] [I] Build DLA standalone loadable: Disabled\n",
            "[01/24/2025-11:24:31] [I] Allow GPU fallback for DLA: Disabled\n",
            "[01/24/2025-11:24:31] [I] DirectIO mode: Disabled\n",
            "[01/24/2025-11:24:31] [I] Restricted mode: Disabled\n",
            "[01/24/2025-11:24:31] [I] Skip inference: Disabled\n",
            "[01/24/2025-11:24:31] [I] Save engine: /content/drive/MyDrive/DL_Model/saved_model.trt\n",
            "[01/24/2025-11:24:31] [I] Load engine: \n",
            "[01/24/2025-11:24:31] [I] Profiling verbosity: 0\n",
            "[01/24/2025-11:24:31] [I] Tactic sources: Using default tactic sources\n",
            "[01/24/2025-11:24:31] [I] timingCacheMode: local\n",
            "[01/24/2025-11:24:31] [I] timingCacheFile: \n",
            "[01/24/2025-11:24:31] [I] Enable Compilation Cache: Enabled\n",
            "[01/24/2025-11:24:31] [I] errorOnTimingCacheMiss: Disabled\n",
            "[01/24/2025-11:24:31] [I] Preview Features: Use default preview flags.\n",
            "[01/24/2025-11:24:31] [I] MaxAuxStreams: -1\n",
            "[01/24/2025-11:24:31] [I] BuilderOptimizationLevel: -1\n",
            "[01/24/2025-11:24:31] [I] Calibration Profile Index: 0\n",
            "[01/24/2025-11:24:31] [I] Weight Streaming: Disabled\n",
            "[01/24/2025-11:24:31] [I] Debug Tensors: \n",
            "[01/24/2025-11:24:31] [I] Input(s)s format: fp32:CHW\n",
            "[01/24/2025-11:24:31] [I] Output(s)s format: fp32:CHW\n",
            "[01/24/2025-11:24:31] [I] Input build shapes: model\n",
            "[01/24/2025-11:24:31] [I] Input calibration shapes: model\n",
            "[01/24/2025-11:24:31] [I] === System Options ===\n",
            "[01/24/2025-11:24:31] [I] Device: 0\n",
            "[01/24/2025-11:24:31] [I] DLACore: \n",
            "[01/24/2025-11:24:31] [I] Plugins:\n",
            "[01/24/2025-11:24:31] [I] setPluginsToSerialize:\n",
            "[01/24/2025-11:24:31] [I] dynamicPlugins:\n",
            "[01/24/2025-11:24:31] [I] ignoreParsedPluginLibs: 0\n",
            "[01/24/2025-11:24:31] [I] \n",
            "[01/24/2025-11:24:31] [I] === Inference Options ===\n",
            "[01/24/2025-11:24:31] [I] Batch: Explicit\n",
            "[01/24/2025-11:24:31] [I] Input inference shapes: model\n",
            "[01/24/2025-11:24:31] [I] Iterations: 10\n",
            "[01/24/2025-11:24:31] [I] Duration: 3s (+ 200ms warm up)\n",
            "[01/24/2025-11:24:31] [I] Sleep time: 0ms\n",
            "[01/24/2025-11:24:31] [I] Idle time: 0ms\n",
            "[01/24/2025-11:24:31] [I] Inference Streams: 1\n",
            "[01/24/2025-11:24:31] [I] ExposeDMA: Disabled\n",
            "[01/24/2025-11:24:31] [I] Data transfers: Enabled\n",
            "[01/24/2025-11:24:31] [I] Spin-wait: Disabled\n",
            "[01/24/2025-11:24:31] [I] Multithreading: Disabled\n",
            "[01/24/2025-11:24:31] [I] CUDA Graph: Disabled\n",
            "[01/24/2025-11:24:31] [I] Separate profiling: Disabled\n",
            "[01/24/2025-11:24:31] [I] Time Deserialize: Disabled\n",
            "[01/24/2025-11:24:31] [I] Time Refit: Disabled\n",
            "[01/24/2025-11:24:31] [I] NVTX verbosity: 0\n",
            "[01/24/2025-11:24:31] [I] Persistent Cache Ratio: 0\n",
            "[01/24/2025-11:24:31] [I] Optimization Profile Index: 0\n",
            "[01/24/2025-11:24:31] [I] Weight Streaming Budget: -1 bytes\n",
            "[01/24/2025-11:24:31] [I] Inputs:\n",
            "[01/24/2025-11:24:31] [I] Debug Tensor Save Destinations:\n",
            "[01/24/2025-11:24:31] [I] === Reporting Options ===\n",
            "[01/24/2025-11:24:31] [I] Verbose: Disabled\n",
            "[01/24/2025-11:24:31] [I] Averages: 10 inferences\n",
            "[01/24/2025-11:24:31] [I] Percentiles: 90,95,99\n",
            "[01/24/2025-11:24:31] [I] Dump refittable layers:Disabled\n",
            "[01/24/2025-11:24:31] [I] Dump output: Disabled\n",
            "[01/24/2025-11:24:31] [I] Profile: Disabled\n",
            "[01/24/2025-11:24:31] [I] Export timing to JSON file: \n",
            "[01/24/2025-11:24:31] [I] Export output to JSON file: \n",
            "[01/24/2025-11:24:31] [I] Export profile to JSON file: \n",
            "[01/24/2025-11:24:31] [I] \n",
            "[01/24/2025-11:24:31] [I] === Device Information ===\n",
            "Cuda failure: CUDA driver version is insufficient for CUDA runtime version\n"
          ]
        }
      ],
      "source": [
        "!/content/TensorRT-10.0.0.6/bin/trtexec --onnx=/content/drive/MyDrive/DL_Model/saved_model.onnx --saveEngine=/content/drive/MyDrive/DL_Model/saved_model.trt"
      ]
    },
    {
      "cell_type": "code",
      "execution_count": 25,
      "metadata": {
        "colab": {
          "base_uri": "https://localhost:8080/"
        },
        "id": "rOqRE0f4Duy4",
        "outputId": "23a77266-d323-4a8c-96a4-713a5a8e4fb7"
      },
      "outputs": [
        {
          "name": "stdout",
          "output_type": "stream",
          "text": [
            "Processing ./TensorRT-10.0.0.6/python/tensorrt-10.0.0b6-cp311-none-linux_x86_64.whl\n",
            "Installing collected packages: tensorrt\n",
            "Successfully installed tensorrt-10.0.0b6\n"
          ]
        }
      ],
      "source": [
        "!pip install /content/TensorRT-10.0.0.6/python/tensorrt-10.0.0b6-cp311-none-linux_x86_64.whl"
      ]
    },
    {
      "cell_type": "code",
      "execution_count": null,
      "metadata": {
        "collapsed": true,
        "id": "04r-JH2eEz2g"
      },
      "outputs": [],
      "source": [
        "import tensorflow as tf\n",
        "import tensorrt as trt\n",
        "import numpy as np\n",
        "import time\n",
        "import pycuda.driver as cuda\n",
        "import pycuda.autoinit\n",
        "from tensorflow.keras.datasets import cifar10\n",
        "\n",
        "BATCH_SIZE = 1\n",
        "INPUT_SHAPE = (32, 32, 3)  \n",
        "NUM_ITERATIONS = 1000\n",
        "NUM_WARMUP = 50\n",
        "\n",
        "(_, _), (x_test, _) = cifar10.load_data()\n",
        "x_test = x_test.astype(np.float32) / 255.0  \n",
        "x_test = x_test[:NUM_ITERATIONS]  \n",
        "\n",
        "class HostDeviceMem(object):\n",
        "    def __init__(self, host_mem, device_mem):\n",
        "        self.host = host_mem\n",
        "        self.device = device_mem\n",
        "\n",
        "def allocate_buffers(engine):\n",
        "    inputs = []\n",
        "    outputs = []\n",
        "    bindings = []\n",
        "    stream = cuda.Stream()\n",
        "\n",
        "    for binding in engine:\n",
        "        size = trt.volume(engine.get_binding_shape(binding)) * BATCH_SIZE\n",
        "        dtype = trt.nptype(engine.get_binding_dtype(binding))\n",
        "        host_mem = cuda.pagelocked_empty(size, dtype)\n",
        "        device_mem = cuda.mem_alloc(host_mem.nbytes)\n",
        "        bindings.append(int(device_mem))\n",
        "\n",
        "        if engine.binding_is_input(binding):\n",
        "            inputs.append(HostDeviceMem(host_mem, device_mem))\n",
        "        else:\n",
        "            outputs.append(HostDeviceMem(host_mem, device_mem))\n",
        "\n",
        "    return inputs, outputs, bindings, stream\n",
        "\n",
        "def do_inference(context, bindings, inputs, outputs, stream, batch_size=BATCH_SIZE):\n",
        "    [cuda.memcpy_htod_async(inp.device, inp.host, stream) for inp in inputs]\n",
        "    context.execute_async(batch_size=batch_size, bindings=bindings, stream_handle=stream.handle)\n",
        "    [cuda.memcpy_dtoh_async(out.host, out.device, stream) for out in outputs]\n",
        "    stream.synchronize()\n",
        "    return [out.host for out in outputs]\n",
        "\n",
        "def benchmark_tensorrt(model_path):\n",
        "    with open(model_path, 'rb') as f, trt.Runtime(trt.Logger(trt.Logger.WARNING)) as runtime:\n",
        "        engine = runtime.deserialize_cuda_engine(f.read())\n",
        "\n",
        "    context = engine.create_execution_context()\n",
        "    inputs, outputs, bindings, stream = allocate_buffers(engine)\n",
        "\n",
        "    for i in range(NUM_WARMUP):\n",
        "        img = x_test[i % len(x_test)].ravel()\n",
        "        np.copyto(inputs[0].host, img)\n",
        "        do_inference(context, bindings, inputs, outputs, stream)\n",
        "\n",
        "    times = []\n",
        "    for i in range(NUM_ITERATIONS):\n",
        "        img = x_test[i % len(x_test)].ravel()\n",
        "        np.copyto(inputs[0].host, img)\n",
        "\n",
        "        start_time = time.time()\n",
        "        do_inference(context, bindings, inputs, outputs, stream)\n",
        "        times.append(time.time() - start_time)\n",
        "\n",
        "    avg_latency = np.mean(times) * 1000  \n",
        "    throughput = 1000 / avg_latency * BATCH_SIZE  \n",
        "    return avg_latency, throughput\n",
        "\n",
        "def benchmark_tensorflow(model_path):\n",
        "    model = tf.saved_model.load(model_path)\n",
        "    infer = model.signatures['serving_default']\n",
        "\n",
        "    for i in range(NUM_WARMUP):\n",
        "        img = x_test[i % len(x_test)][np.newaxis, ...]  \n",
        "        infer(tf.constant(img))\n",
        "\n",
        "    times = []\n",
        "    for i in range(NUM_ITERATIONS):\n",
        "        img = x_test[i % len(x_test)][np.newaxis, ...]\n",
        "\n",
        "        start_time = time.time()\n",
        "        infer(tf.constant(img))\n",
        "        times.append(time.time() - start_time)\n",
        "\n",
        "    avg_latency = np.mean(times) * 1000  \n",
        "    throughput = 1000 / avg_latency * BATCH_SIZE  \n",
        "    return avg_latency, throughput\n",
        "\n",
        "if __name__ == '__main__':\n",
        "    print(\"Benchmarking TensorRT model...\")\n",
        "    trt_latency, trt_throughput = benchmark_tensorrt('/content/drive/MyDrive/DL_Model/saved_model.trt')\n",
        "\n",
        "    print(\"\\nBenchmarking TensorFlow model...\")\n",
        "    tf_latency, tf_throughput = benchmark_tensorflow('/content/drive/MyDrive/DL_Model/saved_model')\n",
        "\n",
        "    print(\"\\nResults:\")\n",
        "    print(f\"TensorRT Average Latency: {trt_latency:.2f}ms\")\n",
        "    print(f\"TensorRT Throughput: {trt_throughput:.2f} requests/sec\")\n",
        "    print(f\"TensorFlow Average Latency: {tf_latency:.2f}ms\")\n",
        "    print(f\"TensorFlow Throughput: {tf_throughput:.2f} requests/sec\")"
      ]
    },
    {
      "cell_type": "markdown",
      "metadata": {
        "id": "tZtkCA-NEy7Y"
      },
      "source": []
    }
  ],
  "metadata": {
    "accelerator": "GPU",
    "colab": {
      "gpuType": "T4",
      "provenance": []
    },
    "kernelspec": {
      "display_name": "Python 3",
      "name": "python3"
    },
    "language_info": {
      "name": "python"
    }
  },
  "nbformat": 4,
  "nbformat_minor": 0
}
