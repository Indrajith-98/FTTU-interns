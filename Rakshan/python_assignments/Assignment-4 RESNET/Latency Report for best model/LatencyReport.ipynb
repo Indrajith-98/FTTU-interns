{
 "cells": [
  {
   "cell_type": "code",
   "execution_count": 1,
   "metadata": {},
   "outputs": [
    {
     "name": "stderr",
     "output_type": "stream",
     "text": [
      "WARNING:absl:Compiled the loaded model, but the compiled metrics have yet to be built. `model.compile_metrics` will be empty until you train or evaluate the model.\n"
     ]
    },
    {
     "data": {
      "image/png": "[encoded data removed]",
      "text/plain": [
       "<Figure size 640x480 with 1 Axes>"
      ]
     },
     "metadata": {},
     "output_type": "display_data"
    },
    {
     "name": "stdout",
     "output_type": "stream",
     "text": [
      "\u001b[1m1/1\u001b[0m \u001b[32m━━━━━━━━━━━━━━━━━━━━\u001b[0m\u001b[37m\u001b[0m \u001b[1m0s\u001b[0m 397ms/step\n",
      "The prediction is correct! Predicted: 7\n",
      "Latency of the classification process: 0.472133 seconds\n"
     ]
    }
   ],
   "source": [
    "import tensorflow as tf\n",
    "import numpy as np\n",
    "import matplotlib.pyplot as plt\n",
    "import time\n",
    "from tensorflow.keras.datasets import mnist\n",
    "from tensorflow.keras.models import load_model\n",
    "\n",
    "# Load the saved model\n",
    "model = load_model(\"D:/MCW/Assignment-4 RESNET/MNIST starter/lightweight_resnet_mnist.h5\")  # Replace with the correct model path\n",
    "\n",
    "# Load MNIST data\n",
    "(_, _), (x_test, y_test) = mnist.load_data()\n",
    "\n",
    "# Normalize and reshape the image to (28, 28, 1)\n",
    "x_test = x_test / 255.0\n",
    "x_test = x_test.reshape(x_test.shape[0], 28, 28, 1)\n",
    "\n",
    "# Pick a random image\n",
    "random_index = np.random.randint(0, x_test.shape[0])\n",
    "random_image = x_test[random_index]\n",
    "true_label = y_test[random_index]\n",
    "\n",
    "# Plot the image before resizing\n",
    "plt.imshow(random_image.squeeze(), cmap='gray')\n",
    "plt.title(f\"True label: {true_label} (Before resizing)\")\n",
    "plt.show()\n",
    "\n",
    "# Resize and convert to 3 channels\n",
    "random_image_resized = tf.image.resize(random_image, (112, 112))\n",
    "random_image_resized = tf.image.grayscale_to_rgb(random_image_resized)\n",
    "\n",
    "# Measure the latency of the prediction\n",
    "start_time = time.time()\n",
    "prediction = model.predict(np.expand_dims(random_image_resized, axis=0))\n",
    "end_time = time.time()\n",
    "\n",
    "# Calculate latency\n",
    "latency = end_time - start_time\n",
    "\n",
    "predicted_label = np.argmax(prediction)\n",
    "\n",
    "# Print whether the prediction is correct or not and the latency\n",
    "if true_label == predicted_label:\n",
    "    print(f\"The prediction is correct! Predicted: {predicted_label}\")\n",
    "else:\n",
    "    print(f\"The prediction is incorrect. Predicted: {predicted_label}, True label: {true_label}\")\n",
    "\n",
    "print(f\"Latency of the classification process: {latency:.6f} seconds\")"
   ]
  }
 ],
 "metadata": {
  "kernelspec": {
   "display_name": "Python 3",
   "language": "python",
   "name": "python3"
  },
  "language_info": {
   "codemirror_mode": {
    "name": "ipython",
    "version": 3
   },
   "file_extension": ".py",
   "mimetype": "text/x-python",
   "name": "python",
   "nbconvert_exporter": "python",
   "pygments_lexer": "ipython3",
   "version": "3.12.0"
  }
 },
 "nbformat": 4,
 "nbformat_minor": 2
}
