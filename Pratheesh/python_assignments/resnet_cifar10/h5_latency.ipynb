{
 "cells": [
  {
   "cell_type": "code",
   "execution_count": 1,
   "metadata": {},
   "outputs": [],
   "source": [
    "import tensorflow as tf\n",
    "import numpy as np\n",
    "import matplotlib.pyplot as plt\n",
    "from tensorflow.keras.datasets import cifar10  # Change to CIFAR-10\n",
    "from tensorflow.keras.models import load_model\n",
    "import time  # Import time module for measuring latency"
   ]
  },
  {
   "cell_type": "code",
   "execution_count": 7,
   "metadata": {},
   "outputs": [
    {
     "name": "stderr",
     "output_type": "stream",
     "text": [
      "WARNING:absl:Compiled the loaded model, but the compiled metrics have yet to be built. `model.compile_metrics` will be empty until you train or evaluate the model.\n"
     ]
    },
    {
     "name": "stdout",
     "output_type": "stream",
     "text": [
      "WARNING:tensorflow:6 out of the last 6 calls to <function TensorFlowTrainer.make_predict_function.<locals>.one_step_on_data_distributed at 0x000001D8AFBFAF20> triggered tf.function retracing. Tracing is expensive and the excessive number of tracings could be due to (1) creating @tf.function repeatedly in a loop, (2) passing tensors with different shapes, (3) passing Python objects instead of tensors. For (1), please define your @tf.function outside of the loop. For (2), @tf.function has reduce_retracing=True option that can avoid unnecessary retracing. For (3), please refer to https://www.tensorflow.org/guide/function#controlling_retracing and https://www.tensorflow.org/api_docs/python/tf/function for  more details.\n"
     ]
    },
    {
     "name": "stderr",
     "output_type": "stream",
     "text": [
      "WARNING:tensorflow:6 out of the last 6 calls to <function TensorFlowTrainer.make_predict_function.<locals>.one_step_on_data_distributed at 0x000001D8AFBFAF20> triggered tf.function retracing. Tracing is expensive and the excessive number of tracings could be due to (1) creating @tf.function repeatedly in a loop, (2) passing tensors with different shapes, (3) passing Python objects instead of tensors. For (1), please define your @tf.function outside of the loop. For (2), @tf.function has reduce_retracing=True option that can avoid unnecessary retracing. For (3), please refer to https://www.tensorflow.org/guide/function#controlling_retracing and https://www.tensorflow.org/api_docs/python/tf/function for  more details.\n"
     ]
    },
    {
     "name": "stdout",
     "output_type": "stream",
     "text": [
      "\u001b[1m1/1\u001b[0m \u001b[32m━━━━━━━━━━━━━━━━━━━━\u001b[0m\u001b[37m\u001b[0m \u001b[1m0s\u001b[0m 494ms/step\n",
      "Prediction latency: 0.560863 seconds\n"
     ]
    },
    {
     "data": {
      "image/png": "[encoded data removed]",
      "text/plain": [
       "<Figure size 640x480 with 1 Axes>"
      ]
     },
     "metadata": {},
     "output_type": "display_data"
    },
    {
     "name": "stdout",
     "output_type": "stream",
     "text": [
      "The prediction is correct! Predicted: 8\n"
     ]
    }
   ],
   "source": [
    "# Load the saved model\n",
    "model = load_model(r'C:\\Users\\ragul\\Downloads\\cifar10_augmented.h5')  # Replace with the correct model path\n",
    "\n",
    "# Load CIFAR-10 data\n",
    "(_, _), (x_test, y_test) = cifar10.load_data()\n",
    "\n",
    "# Normalize the images\n",
    "x_test = x_test / 255.0\n",
    "\n",
    "# Pick a random image\n",
    "random_index = np.random.randint(0, x_test.shape[0])\n",
    "random_image = x_test[random_index]\n",
    "true_label = y_test[random_index][0]  # Change to match CIFAR-10 label shape\n",
    "\n",
    "# Measure the time before prediction\n",
    "start_time = time.time()\n",
    "\n",
    "# Make a prediction\n",
    "prediction = model.predict(np.expand_dims(random_image, axis=0))\n",
    "\n",
    "# Measure the time after prediction\n",
    "end_time = time.time()\n",
    "\n",
    "# Calculate the latency\n",
    "latency = end_time - start_time\n",
    "\n",
    "# Extract the predicted label\n",
    "predicted_label = np.argmax(prediction)\n",
    "\n",
    "# Print the latency\n",
    "print(f\"Prediction latency: {latency:.6f} seconds\")\n",
    "\n",
    "# Plot the image\n",
    "plt.imshow(random_image)\n",
    "plt.title(f\"True label: {true_label}, Predicted label: {predicted_label}\")\n",
    "plt.show()\n",
    "\n",
    "# Print whether the prediction is correct or not\n",
    "if true_label == predicted_label:\n",
    "    print(f\"The prediction is correct! Predicted: {predicted_label}\")\n",
    "else:\n",
    "    print(f\"The prediction is incorrect. Predicted: {predicted_label}, True label: {true_label}\")\n"
   ]
  },
  {
   "cell_type": "code",
   "execution_count": null,
   "metadata": {},
   "outputs": [],
   "source": []
  }
 ],
 "metadata": {
  "kernelspec": {
   "display_name": "Python 3",
   "language": "python",
   "name": "python3"
  },
  "language_info": {
   "codemirror_mode": {
    "name": "ipython",
    "version": 3
   },
   "file_extension": ".py",
   "mimetype": "text/x-python",
   "name": "python",
   "nbconvert_exporter": "python",
   "pygments_lexer": "ipython3",
   "version": "3.12.0"
  }
 },
 "nbformat": 4,
 "nbformat_minor": 2
}
