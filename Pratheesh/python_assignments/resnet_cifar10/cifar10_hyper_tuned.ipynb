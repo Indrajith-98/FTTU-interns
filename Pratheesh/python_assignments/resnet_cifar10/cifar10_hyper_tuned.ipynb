{
  "nbformat": 4,
  "nbformat_minor": 0,
  "metadata": {
    "colab": {
      "provenance": [],
      "gpuType": "T4"
    },
    "kernelspec": {
      "name": "python3",
      "display_name": "Python 3"
    },
    "language_info": {
      "name": "python"
    },
    "accelerator": "GPU"
  },
  "cells": [
    {
      "cell_type": "code",
      "source": [
        "!pip install keras-tuner"
      ],
      "metadata": {
        "colab": {
          "base_uri": "https://localhost:8080/"
        },
        "id": "7vLvyV6Sd1BE",
        "outputId": "583ea843-9291-43b3-be90-6c17b32dfac4"
      },
      "execution_count": 4,
      "outputs": [
        {
          "output_type": "stream",
          "name": "stdout",
          "text": [
            "Collecting keras-tuner\n",
            "  Downloading keras_tuner-1.4.7-py3-none-any.whl.metadata (5.4 kB)\n",
            "Requirement already satisfied: keras in /usr/local/lib/python3.11/dist-packages (from keras-tuner) (3.5.0)\n",
            "Requirement already satisfied: packaging in /usr/local/lib/python3.11/dist-packages (from keras-tuner) (24.2)\n",
            "Requirement already satisfied: requests in /usr/local/lib/python3.11/dist-packages (from keras-tuner) (2.32.3)\n",
            "Collecting kt-legacy (from keras-tuner)\n",
            "  Downloading kt_legacy-1.0.5-py3-none-any.whl.metadata (221 bytes)\n",
            "Requirement already satisfied: absl-py in /usr/local/lib/python3.11/dist-packages (from keras->keras-tuner) (1.4.0)\n",
            "Requirement already satisfied: numpy in /usr/local/lib/python3.11/dist-packages (from keras->keras-tuner) (1.26.4)\n",
            "Requirement already satisfied: rich in /usr/local/lib/python3.11/dist-packages (from keras->keras-tuner) (13.9.4)\n",
            "Requirement already satisfied: namex in /usr/local/lib/python3.11/dist-packages (from keras->keras-tuner) (0.0.8)\n",
            "Requirement already satisfied: h5py in /usr/local/lib/python3.11/dist-packages (from keras->keras-tuner) (3.12.1)\n",
            "Requirement already satisfied: optree in /usr/local/lib/python3.11/dist-packages (from keras->keras-tuner) (0.13.1)\n",
            "Requirement already satisfied: ml-dtypes in /usr/local/lib/python3.11/dist-packages (from keras->keras-tuner) (0.4.1)\n",
            "Requirement already satisfied: charset-normalizer<4,>=2 in /usr/local/lib/python3.11/dist-packages (from requests->keras-tuner) (3.4.1)\n",
            "Requirement already satisfied: idna<4,>=2.5 in /usr/local/lib/python3.11/dist-packages (from requests->keras-tuner) (3.10)\n",
            "Requirement already satisfied: urllib3<3,>=1.21.1 in /usr/local/lib/python3.11/dist-packages (from requests->keras-tuner) (2.3.0)\n",
            "Requirement already satisfied: certifi>=2017.4.17 in /usr/local/lib/python3.11/dist-packages (from requests->keras-tuner) (2024.12.14)\n",
            "Requirement already satisfied: typing-extensions>=4.5.0 in /usr/local/lib/python3.11/dist-packages (from optree->keras->keras-tuner) (4.12.2)\n",
            "Requirement already satisfied: markdown-it-py>=2.2.0 in /usr/local/lib/python3.11/dist-packages (from rich->keras->keras-tuner) (3.0.0)\n",
            "Requirement already satisfied: pygments<3.0.0,>=2.13.0 in /usr/local/lib/python3.11/dist-packages (from rich->keras->keras-tuner) (2.18.0)\n",
            "Requirement already satisfied: mdurl~=0.1 in /usr/local/lib/python3.11/dist-packages (from markdown-it-py>=2.2.0->rich->keras->keras-tuner) (0.1.2)\n",
            "Downloading keras_tuner-1.4.7-py3-none-any.whl (129 kB)\n",
            "\u001b[2K   \u001b[90m━━━━━━━━━━━━━━━━━━━━━━━━━━━━━━━━━━━━━━━━\u001b[0m \u001b[32m129.1/129.1 kB\u001b[0m \u001b[31m4.2 MB/s\u001b[0m eta \u001b[36m0:00:00\u001b[0m\n",
            "\u001b[?25hDownloading kt_legacy-1.0.5-py3-none-any.whl (9.6 kB)\n",
            "Installing collected packages: kt-legacy, keras-tuner\n",
            "Successfully installed keras-tuner-1.4.7 kt-legacy-1.0.5\n"
          ]
        }
      ]
    },
    {
      "cell_type": "code",
      "execution_count": 5,
      "metadata": {
        "id": "U8cX2GalbgKu"
      },
      "outputs": [],
      "source": [
        "import keras_tuner as kt\n",
        "from tensorflow.keras import layers, models\n",
        "from tensorflow.keras.datasets import cifar10\n",
        "from tensorflow.keras.utils import to_categorical\n",
        "from tensorflow.keras.mixed_precision import set_global_policy\n",
        "from sklearn.model_selection import train_test_split"
      ]
    },
    {
      "cell_type": "code",
      "source": [
        "set_global_policy('mixed_float16')"
      ],
      "metadata": {
        "id": "WhQkvK12cteC"
      },
      "execution_count": 6,
      "outputs": []
    },
    {
      "cell_type": "code",
      "source": [
        "(X_train, y_train), (X_test, y_test) = cifar10.load_data()"
      ],
      "metadata": {
        "colab": {
          "base_uri": "https://localhost:8080/"
        },
        "id": "HXyCCQO3cu_C",
        "outputId": "8a0ab325-7cc4-485d-f2ab-7b62f2fa003c"
      },
      "execution_count": 7,
      "outputs": [
        {
          "output_type": "stream",
          "name": "stdout",
          "text": [
            "Downloading data from https://www.cs.toronto.edu/~kriz/cifar-10-python.tar.gz\n",
            "\u001b[1m170498071/170498071\u001b[0m \u001b[32m━━━━━━━━━━━━━━━━━━━━\u001b[0m\u001b[37m\u001b[0m \u001b[1m4s\u001b[0m 0us/step\n"
          ]
        }
      ]
    },
    {
      "cell_type": "code",
      "source": [
        "X_train, X_valid, y_train, y_valid = train_test_split(X_train, y_train, test_size=0.1, random_state=0)"
      ],
      "metadata": {
        "id": "xhqxsYL2cwOS"
      },
      "execution_count": 8,
      "outputs": []
    },
    {
      "cell_type": "code",
      "source": [
        "X_train = X_train.astype('float32')\n",
        "X_test  = X_test.astype('float32')\n",
        "X_valid = X_valid.astype('float32')\n",
        "\n",
        "X_train = X_train/255.0\n",
        "X_valid = X_valid/255.0\n",
        "X_test = X_test/255.0"
      ],
      "metadata": {
        "id": "f1mYdwQecyvS"
      },
      "execution_count": 9,
      "outputs": []
    },
    {
      "cell_type": "code",
      "source": [
        "import tensorflow as tf\n",
        "y_train = tf.keras.utils.to_categorical(y_train, 10)\n",
        "y_valid = tf.keras.utils.to_categorical(y_valid, 10)\n",
        "y_test = tf.keras.utils.to_categorical(y_test, 10)"
      ],
      "metadata": {
        "id": "euxF2H5Lc0aa"
      },
      "execution_count": 12,
      "outputs": []
    },
    {
      "cell_type": "code",
      "source": [
        "# Define a hypermodel function\n",
        "def build_resnet_model(hp):\n",
        "    inputs = layers.Input(shape=(32, 32, 3))\n",
        "\n",
        "    # Tunable number of filters in the initial layer\n",
        "    x = layers.Conv2D(\n",
        "        filters=hp.Choice(\"conv1_filters\", [32, 64, 128]),\n",
        "        kernel_size=(3, 3),\n",
        "        padding=\"same\",\n",
        "        activation=\"relu\"\n",
        "    )(inputs)\n",
        "    x = layers.BatchNormalization()(x)\n",
        "\n",
        "    # First residual block\n",
        "    for _ in range(hp.Int(\"residual_blocks_1\", 1, 3)):  # Tunable number of blocks\n",
        "        residual = x\n",
        "        x = layers.Conv2D(\n",
        "            filters=hp.Choice(\"block1_filters\", [32, 64]),\n",
        "            kernel_size=(3, 3),\n",
        "            padding=\"same\",\n",
        "            activation=\"relu\"\n",
        "        )(x)\n",
        "        x = layers.BatchNormalization()(x)\n",
        "        x = layers.Conv2D(\n",
        "            filters=hp.Choice(\"block1_filters\", [32, 64]),\n",
        "            kernel_size=(3, 3),\n",
        "            padding=\"same\",\n",
        "            activation=None\n",
        "        )(x)\n",
        "        x = layers.BatchNormalization()(x)\n",
        "\n",
        "        if residual.shape[-1] != x.shape[-1]:  # Match the number of filters\n",
        "            residual = layers.Conv2D(\n",
        "                filters=x.shape[-1], kernel_size=(1, 1), padding=\"same\"\n",
        "            )(residual)\n",
        "\n",
        "        x = layers.Add()([x, residual])\n",
        "        x = layers.ReLU()(x)\n",
        "\n",
        "    # Second residual block\n",
        "    x = layers.Conv2D(\n",
        "        filters=hp.Choice(\"block2_filters\", [64, 128]),\n",
        "        kernel_size=(3, 3),\n",
        "        strides=(2, 2),\n",
        "        padding=\"same\",\n",
        "        activation=\"relu\"\n",
        "    )(x)\n",
        "    x = layers.BatchNormalization()(x)\n",
        "    for _ in range(hp.Int(\"residual_blocks_2\", 1, 3)):  # Tunable number of blocks\n",
        "        residual = x\n",
        "        x = layers.Conv2D(\n",
        "            filters=hp.Choice(\"block2_filters\", [64, 128]),\n",
        "            kernel_size=(3, 3),\n",
        "            padding=\"same\",\n",
        "            activation=\"relu\"\n",
        "        )(x)\n",
        "        x = layers.BatchNormalization()(x)\n",
        "        x = layers.Conv2D(\n",
        "            filters=hp.Choice(\"block2_filters\", [64, 128]),\n",
        "            kernel_size=(3, 3),\n",
        "            padding=\"same\",\n",
        "            activation=None\n",
        "        )(x)\n",
        "        x = layers.BatchNormalization()(x)\n",
        "\n",
        "        if residual.shape[-1] != x.shape[-1]:  # Match the number of filters\n",
        "            residual = layers.Conv2D(\n",
        "                filters=x.shape[-1], kernel_size=(1, 1), padding=\"same\"\n",
        "            )(residual)\n",
        "\n",
        "        x = layers.Add()([x, residual])\n",
        "        x = layers.ReLU()(x)\n",
        "\n",
        "    # Global average pooling and output\n",
        "    x = layers.GlobalAveragePooling2D()(x)\n",
        "    x = layers.Dropout(hp.Float(\"dropout_rate\", 0.2, 0.5))(x)  # Tunable dropout rate\n",
        "    outputs = layers.Dense(10, activation=\"softmax\")(x)\n",
        "\n",
        "    model = models.Model(inputs, outputs)\n",
        "\n",
        "    # Compile the model with a tunable learning rate\n",
        "    model.compile(\n",
        "        optimizer=tf.keras.optimizers.Adam(\n",
        "            learning_rate=hp.Choice(\"learning_rate\", [1e-2, 1e-3, 1e-4])\n",
        "        ),\n",
        "        loss=\"categorical_crossentropy\",\n",
        "        metrics=[\"accuracy\"]\n",
        "    )\n",
        "    return model"
      ],
      "metadata": {
        "id": "RiF-vtVCc10z"
      },
      "execution_count": 13,
      "outputs": []
    },
    {
      "cell_type": "code",
      "source": [
        "tuner = kt.RandomSearch(\n",
        "    build_resnet_model,\n",
        "    objective=\"val_accuracy\",\n",
        "    max_trials=10,\n",
        "    executions_per_trial=1,\n",
        "    directory=\"/content/drive/MyDrive/cifar10_models/resnet_tuning\",\n",
        "    project_name=\"cifar10_resnet\",\n",
        ")"
      ],
      "metadata": {
        "id": "zlgdgX1Rc3dz"
      },
      "execution_count": 14,
      "outputs": []
    },
    {
      "cell_type": "code",
      "source": [
        "stop_early = tf.keras.callbacks.EarlyStopping(monitor='val_accuracy', patience=5)"
      ],
      "metadata": {
        "id": "XzBxTSBUc5PT"
      },
      "execution_count": 15,
      "outputs": []
    },
    {
      "cell_type": "code",
      "source": [
        "tuner.search(\n",
        "    X_train,\n",
        "    y_train,\n",
        "    epochs=10,\n",
        "    validation_split=0.2,\n",
        "    batch_size=64,\n",
        ")"
      ],
      "metadata": {
        "colab": {
          "base_uri": "https://localhost:8080/"
        },
        "id": "ORj66B23c7xD",
        "outputId": "4938c23b-f466-410c-f8b3-1672a9f46b73"
      },
      "execution_count": 16,
      "outputs": [
        {
          "output_type": "stream",
          "name": "stdout",
          "text": [
            "Trial 10 Complete [00h 03m 27s]\n",
            "val_accuracy: 0.6946666836738586\n",
            "\n",
            "Best val_accuracy So Far: 0.8151111006736755\n",
            "Total elapsed time: 00h 42m 08s\n"
          ]
        }
      ]
    },
    {
      "cell_type": "code",
      "source": [
        "best_hps = tuner.get_best_hyperparameters(num_trials=1)[0]\n",
        "print(f\"Best Hyperparameters: {best_hps.values}\")"
      ],
      "metadata": {
        "colab": {
          "base_uri": "https://localhost:8080/"
        },
        "id": "cWGpfW1ic9Wj",
        "outputId": "ffe21899-fcab-408f-9f52-e26affddf8be"
      },
      "execution_count": 17,
      "outputs": [
        {
          "output_type": "stream",
          "name": "stdout",
          "text": [
            "Best Hyperparameters: {'conv1_filters': 128, 'residual_blocks_1': 1, 'block1_filters': 32, 'block2_filters': 128, 'residual_blocks_2': 2, 'dropout_rate': 0.4834147841297928, 'learning_rate': 0.001}\n"
          ]
        }
      ]
    },
    {
      "cell_type": "code",
      "source": [
        "best_model = tuner.hypermodel.build(best_hps)\n",
        "history = best_model.fit(\n",
        "    X_train, y_train, epochs=50, validation_data=(X_valid, y_valid), batch_size=64, callbacks=[stop_early]\n",
        ")"
      ],
      "metadata": {
        "colab": {
          "base_uri": "https://localhost:8080/"
        },
        "id": "3zCk60CDc-6r",
        "outputId": "fea757e5-27c3-45b8-c833-14c9649f4480"
      },
      "execution_count": 18,
      "outputs": [
        {
          "output_type": "stream",
          "name": "stdout",
          "text": [
            "Epoch 1/50\n",
            "\u001b[1m704/704\u001b[0m \u001b[32m━━━━━━━━━━━━━━━━━━━━\u001b[0m\u001b[37m\u001b[0m \u001b[1m35s\u001b[0m 36ms/step - accuracy: 0.3542 - loss: 1.8249 - val_accuracy: 0.4938 - val_loss: 1.3982\n",
            "Epoch 2/50\n",
            "\u001b[1m704/704\u001b[0m \u001b[32m━━━━━━━━━━━━━━━━━━━━\u001b[0m\u001b[37m\u001b[0m \u001b[1m17s\u001b[0m 24ms/step - accuracy: 0.6050 - loss: 1.1113 - val_accuracy: 0.5952 - val_loss: 1.1314\n",
            "Epoch 3/50\n",
            "\u001b[1m704/704\u001b[0m \u001b[32m━━━━━━━━━━━━━━━━━━━━\u001b[0m\u001b[37m\u001b[0m \u001b[1m21s\u001b[0m 24ms/step - accuracy: 0.6868 - loss: 0.8944 - val_accuracy: 0.7056 - val_loss: 0.8214\n",
            "Epoch 4/50\n",
            "\u001b[1m704/704\u001b[0m \u001b[32m━━━━━━━━━━━━━━━━━━━━\u001b[0m\u001b[37m\u001b[0m \u001b[1m20s\u001b[0m 24ms/step - accuracy: 0.7395 - loss: 0.7502 - val_accuracy: 0.6584 - val_loss: 1.0392\n",
            "Epoch 5/50\n",
            "\u001b[1m704/704\u001b[0m \u001b[32m━━━━━━━━━━━━━━━━━━━━\u001b[0m\u001b[37m\u001b[0m \u001b[1m17s\u001b[0m 24ms/step - accuracy: 0.7842 - loss: 0.6334 - val_accuracy: 0.7626 - val_loss: 0.6959\n",
            "Epoch 6/50\n",
            "\u001b[1m704/704\u001b[0m \u001b[32m━━━━━━━━━━━━━━━━━━━━\u001b[0m\u001b[37m\u001b[0m \u001b[1m21s\u001b[0m 24ms/step - accuracy: 0.8110 - loss: 0.5619 - val_accuracy: 0.7988 - val_loss: 0.5900\n",
            "Epoch 7/50\n",
            "\u001b[1m704/704\u001b[0m \u001b[32m━━━━━━━━━━━━━━━━━━━━\u001b[0m\u001b[37m\u001b[0m \u001b[1m17s\u001b[0m 24ms/step - accuracy: 0.8371 - loss: 0.4798 - val_accuracy: 0.8086 - val_loss: 0.5589\n",
            "Epoch 8/50\n",
            "\u001b[1m704/704\u001b[0m \u001b[32m━━━━━━━━━━━━━━━━━━━━\u001b[0m\u001b[37m\u001b[0m \u001b[1m17s\u001b[0m 24ms/step - accuracy: 0.8552 - loss: 0.4345 - val_accuracy: 0.7382 - val_loss: 0.8955\n",
            "Epoch 9/50\n",
            "\u001b[1m704/704\u001b[0m \u001b[32m━━━━━━━━━━━━━━━━━━━━\u001b[0m\u001b[37m\u001b[0m \u001b[1m17s\u001b[0m 24ms/step - accuracy: 0.8757 - loss: 0.3728 - val_accuracy: 0.8204 - val_loss: 0.5369\n",
            "Epoch 10/50\n",
            "\u001b[1m704/704\u001b[0m \u001b[32m━━━━━━━━━━━━━━━━━━━━\u001b[0m\u001b[37m\u001b[0m \u001b[1m21s\u001b[0m 24ms/step - accuracy: 0.8865 - loss: 0.3335 - val_accuracy: 0.8114 - val_loss: 0.5670\n",
            "Epoch 11/50\n",
            "\u001b[1m704/704\u001b[0m \u001b[32m━━━━━━━━━━━━━━━━━━━━\u001b[0m\u001b[37m\u001b[0m \u001b[1m17s\u001b[0m 24ms/step - accuracy: 0.9007 - loss: 0.2933 - val_accuracy: 0.8110 - val_loss: 0.5826\n",
            "Epoch 12/50\n",
            "\u001b[1m704/704\u001b[0m \u001b[32m━━━━━━━━━━━━━━━━━━━━\u001b[0m\u001b[37m\u001b[0m \u001b[1m20s\u001b[0m 24ms/step - accuracy: 0.9143 - loss: 0.2558 - val_accuracy: 0.8032 - val_loss: 0.6586\n",
            "Epoch 13/50\n",
            "\u001b[1m704/704\u001b[0m \u001b[32m━━━━━━━━━━━━━━━━━━━━\u001b[0m\u001b[37m\u001b[0m \u001b[1m17s\u001b[0m 24ms/step - accuracy: 0.9193 - loss: 0.2327 - val_accuracy: 0.8140 - val_loss: 0.6051\n",
            "Epoch 14/50\n",
            "\u001b[1m704/704\u001b[0m \u001b[32m━━━━━━━━━━━━━━━━━━━━\u001b[0m\u001b[37m\u001b[0m \u001b[1m17s\u001b[0m 24ms/step - accuracy: 0.9307 - loss: 0.2043 - val_accuracy: 0.8050 - val_loss: 0.6187\n"
          ]
        }
      ]
    },
    {
      "cell_type": "code",
      "source": [
        "best_model.save('/content/drive/MyDrive/cifar10_models/cifar10_hyper-tuned.h5')"
      ],
      "metadata": {
        "colab": {
          "base_uri": "https://localhost:8080/"
        },
        "id": "u8qKAIwYdA4U",
        "outputId": "1db95098-f33a-4a99-8205-ae570548eedc"
      },
      "execution_count": 19,
      "outputs": [
        {
          "output_type": "stream",
          "name": "stderr",
          "text": [
            "WARNING:absl:You are saving your model as an HDF5 file via `model.save()` or `keras.saving.save_model(model)`. This file format is considered legacy. We recommend using instead the native Keras format, e.g. `model.save('my_model.keras')` or `keras.saving.save_model(model, 'my_model.keras')`. \n"
          ]
        }
      ]
    },
    {
      "cell_type": "code",
      "source": [
        "import numpy as np\n",
        "from sklearn.metrics import classification_report, confusion_matrix, ConfusionMatrixDisplay\n",
        "import matplotlib.pyplot as plt\n",
        "\n",
        "# Predict probabilities for the test set\n",
        "y_pred = best_model.predict(X_test)\n",
        "\n",
        "# Convert probabilities to class labels\n",
        "y_pred_classes = np.argmax(y_pred, axis=1)\n",
        "\n",
        "# Ensure y_true is in the correct shape (integer labels, not one-hot encoded)\n",
        "y_true = np.argmax(y_test, axis=1) if y_test.ndim > 1 else y_test.flatten()"
      ],
      "metadata": {
        "colab": {
          "base_uri": "https://localhost:8080/"
        },
        "id": "C4QdIuQ5dCK0",
        "outputId": "dad00431-74f9-463b-a640-0023622fb6c1"
      },
      "execution_count": 20,
      "outputs": [
        {
          "output_type": "stream",
          "name": "stdout",
          "text": [
            "\u001b[1m313/313\u001b[0m \u001b[32m━━━━━━━━━━━━━━━━━━━━\u001b[0m\u001b[37m\u001b[0m \u001b[1m3s\u001b[0m 7ms/step\n"
          ]
        }
      ]
    },
    {
      "cell_type": "code",
      "source": [
        "# Compute the confusion matrix\n",
        "cm = confusion_matrix(y_true, y_pred_classes)\n",
        "\n",
        "# Define class labels (modify these according to your dataset)\n",
        "labels = ['Airplane', 'Automobile', 'Bird', 'Cat', 'Deer', 'Dog', 'Frog', 'Horse', 'Ship', 'Truck']\n",
        "\n",
        "# Plot the confusion matrix\n",
        "disp = ConfusionMatrixDisplay(confusion_matrix=cm, display_labels=labels)\n",
        "disp.plot(cmap=plt.cm.Blues)\n",
        "plt.title(\"Confusion Matrix\")\n",
        "plt.show()\n",
        "\n",
        "# Print classification report\n",
        "print(classification_report(y_true, y_pred_classes, target_names=labels))"
      ],
      "metadata": {
        "colab": {
          "base_uri": "https://localhost:8080/",
          "height": 767
        },
        "id": "PPLjvBz4dD20",
        "outputId": "dd999352-d40e-4101-87e6-ec44fe916469"
      },
      "execution_count": 21,
      "outputs": [
        {
          "output_type": "display_data",
          "data": {
            "text/plain": [
              "<Figure size 640x480 with 2 Axes>"
            ],
            "image/png": "[encoded data removed]"
          },
          "metadata": {}
        },
        {
          "output_type": "stream",
          "name": "stdout",
          "text": [
            "              precision    recall  f1-score   support\n",
            "\n",
            "    Airplane       0.89      0.81      0.85      1000\n",
            "  Automobile       0.96      0.88      0.91      1000\n",
            "        Bird       0.86      0.65      0.74      1000\n",
            "         Cat       0.57      0.82      0.67      1000\n",
            "        Deer       0.67      0.92      0.77      1000\n",
            "         Dog       0.90      0.59      0.71      1000\n",
            "        Frog       0.84      0.88      0.86      1000\n",
            "       Horse       0.92      0.75      0.82      1000\n",
            "        Ship       0.89      0.92      0.90      1000\n",
            "       Truck       0.88      0.92      0.90      1000\n",
            "\n",
            "    accuracy                           0.81     10000\n",
            "   macro avg       0.84      0.81      0.81     10000\n",
            "weighted avg       0.84      0.81      0.81     10000\n",
            "\n"
          ]
        }
      ]
    }
  ]
}