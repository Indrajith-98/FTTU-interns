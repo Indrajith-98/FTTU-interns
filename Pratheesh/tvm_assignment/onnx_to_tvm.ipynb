{
 "cells": [
  {
   "cell_type": "code",
   "execution_count": 5,
   "metadata": {},
   "outputs": [],
   "source": [
    "import tvm\n",
    "from tvm import relay\n",
    "import onnx\n",
    "from tvm.relay import testing\n",
    "from tvm.contrib import graph_executor"
   ]
  },
  {
   "cell_type": "code",
   "execution_count": 6,
   "metadata": {},
   "outputs": [],
   "source": [
    "# 1. Load the ONNX model\n",
    "onnx_model = onnx.load(\"cifar10_onnx(1).onnx\")\n",
    "\n",
    "input_name = \"input\"\n",
    "# Convert ONNX model to TVM relay format\n",
    "mod, params = relay.frontend.from_onnx(onnx_model, shape={input_name: (1,32, 32,3)})"
   ]
  },
  {
   "cell_type": "code",
   "execution_count": 14,
   "metadata": {},
   "outputs": [],
   "source": [
    "target = \"llvm\"  # Use \"cuda\" for GPU\n",
    "dev = tvm.device(target, 0)  # Use tvm.gpu() for GPU\n",
    "\n",
    "# Compile the model\n",
    "with tvm.transform.PassContext(opt_level=3):\n",
    "    lib = relay.build(mod, target=target, params=params)"
   ]
  },
  {
   "cell_type": "code",
   "execution_count": 15,
   "metadata": {},
   "outputs": [],
   "source": [
    "import numpy as np\n",
    "executor = graph_executor.GraphModule(lib[\"default\"](dev))\n",
    "\n",
    "# Prepare input data\n",
    "input_data = np.random.rand(1, 3, 32, 32).astype(np.float32)\n",
    "\n",
    "# Set input data\n",
    "executor.set_input(input_name, tvm.nd.array(input_data, dev))  # Replace \"input_name\" with the correct name\n",
    "\n",
    "# Run inference\n",
    "executor.run()"
   ]
  },
  {
   "cell_type": "code",
   "execution_count": 16,
   "metadata": {},
   "outputs": [
    {
     "name": "stdout",
     "output_type": "stream",
     "text": [
      "Inference Output: [[4.3504439e-08 2.6197007e-05 2.7501959e-01 1.8509616e-03 1.2210029e-01\n",
      "  1.2288886e-06 6.0099870e-01 1.6597917e-06 3.2078834e-08 1.4055591e-06]]\n"
     ]
    }
   ],
   "source": [
    "output = executor.get_output(0).asnumpy()\n",
    "print(\"Inference Output:\", output)"
   ]
  },
  {
   "cell_type": "code",
   "execution_count": 17,
   "metadata": {},
   "outputs": [],
   "source": [
    "lib.export_library(\"tvm_model.so\")"
   ]
  },
  {
   "cell_type": "code",
   "execution_count": 20,
   "metadata": {},
   "outputs": [],
   "source": [
    "with open(\"model_graph.json\",\"w\") as f:\n",
    "    f.write(lib.get_graph_json())"
   ]
  }
 ],
 "metadata": {
  "kernelspec": {
   "display_name": "tvm_env",
   "language": "python",
   "name": "python3"
  },
  "language_info": {
   "codemirror_mode": {
    "name": "ipython",
    "version": 3
   },
   "file_extension": ".py",
   "mimetype": "text/x-python",
   "name": "python",
   "nbconvert_exporter": "python",
   "pygments_lexer": "ipython3",
   "version": "3.12.3"
  }
 },
 "nbformat": 4,
 "nbformat_minor": 2
}
