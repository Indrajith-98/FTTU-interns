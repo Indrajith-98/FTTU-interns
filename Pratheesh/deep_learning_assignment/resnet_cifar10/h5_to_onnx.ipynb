{
  "cells": [
    {
      "cell_type": "code",
      "execution_count": 1,
      "metadata": {
        "colab": {
          "base_uri": "https://localhost:8080/"
        },
        "id": "ba5uX0qq99QG",
        "outputId": "6a5ae007-b44a-413d-84f9-a1406d864ddf"
      },
      "outputs": [
        {
          "name": "stderr",
          "output_type": "stream",
          "text": [
            "WARNING: There was an error checking the latest version of pip.\n",
            "ERROR: Exception:\n",
            "Traceback (most recent call last):\n",
            "  File \"C:\\Users\\ragul\\miniconda3\\Lib\\site-packages\\pip\\_internal\\cli\\base_command.py\", line 105, in _run_wrapper\n",
            "    status = _inner_run()\n",
            "             ^^^^^^^^^^^^\n",
            "  File \"C:\\Users\\ragul\\miniconda3\\Lib\\site-packages\\pip\\_internal\\cli\\base_command.py\", line 96, in _inner_run\n",
            "    return self.run(options, args)\n",
            "           ^^^^^^^^^^^^^^^^^^^^^^^\n",
            "  File \"C:\\Users\\ragul\\miniconda3\\Lib\\site-packages\\pip\\_internal\\cli\\req_command.py\", line 67, in wrapper\n",
            "    return func(self, options, args)\n",
            "           ^^^^^^^^^^^^^^^^^^^^^^^^^\n",
            "  File \"C:\\Users\\ragul\\miniconda3\\Lib\\site-packages\\pip\\_internal\\commands\\install.py\", line 325, in run\n",
            "    session = self.get_default_session(options)\n",
            "              ^^^^^^^^^^^^^^^^^^^^^^^^^^^^^^^^^\n",
            "  File \"C:\\Users\\ragul\\miniconda3\\Lib\\site-packages\\pip\\_internal\\cli\\index_command.py\", line 76, in get_default_session\n",
            "    self._session = self.enter_context(self._build_session(options))\n",
            "                                       ^^^^^^^^^^^^^^^^^^^^^^^^^^^^\n",
            "  File \"C:\\Users\\ragul\\miniconda3\\Lib\\site-packages\\pip\\_internal\\cli\\index_command.py\", line 99, in _build_session\n",
            "    session = PipSession(\n",
            "              ^^^^^^^^^^^\n",
            "  File \"C:\\Users\\ragul\\miniconda3\\Lib\\site-packages\\pip\\_internal\\network\\session.py\", line 344, in __init__\n",
            "    self.headers[\"User-Agent\"] = user_agent()\n",
            "                                 ^^^^^^^^^^^^\n",
            "  File \"C:\\Users\\ragul\\miniconda3\\Lib\\site-packages\\pip\\_internal\\network\\session.py\", line 179, in user_agent\n",
            "    data[\"setuptools_version\"] = str(setuptools_dist.version)\n",
            "                                     ^^^^^^^^^^^^^^^^^^^^^^^\n",
            "  File \"C:\\Users\\ragul\\miniconda3\\Lib\\site-packages\\pip\\_internal\\metadata\\importlib\\_dists.py\", line 168, in version\n",
            "    return parse_version(self._dist.version)\n",
            "           ^^^^^^^^^^^^^^^^^^^^^^^^^^^^^^^^^\n",
            "  File \"C:\\Users\\ragul\\miniconda3\\Lib\\site-packages\\pip\\_vendor\\packaging\\version.py\", line 56, in parse\n",
            "    return Version(version)\n",
            "           ^^^^^^^^^^^^^^^^\n",
            "  File \"C:\\Users\\ragul\\miniconda3\\Lib\\site-packages\\pip\\_vendor\\packaging\\version.py\", line 200, in __init__\n",
            "    match = self._regex.search(version)\n",
            "            ^^^^^^^^^^^^^^^^^^^^^^^^^^^\n",
            "TypeError: expected string or bytes-like object, got 'NoneType'\n"
          ]
        }
      ],
      "source": [
        "!pip install tf2onnx"
      ]
    },
    {
      "cell_type": "code",
      "execution_count": 2,
      "metadata": {
        "colab": {
          "base_uri": "https://localhost:8080/"
        },
        "id": "m6vvvt3_9XV5",
        "outputId": "9a9cc2ef-5972-4247-e71d-670fdef03190"
      },
      "outputs": [
        {
          "name": "stdout",
          "output_type": "stream",
          "text": [
            "WARNING:tensorflow:From c:\\Users\\ragul\\AppData\\Local\\Programs\\Python\\Python312\\Lib\\site-packages\\tf2onnx\\tf_loader.py:68: The name tf.reset_default_graph is deprecated. Please use tf.compat.v1.reset_default_graph instead.\n",
            "\n",
            "WARNING:tensorflow:From c:\\Users\\ragul\\AppData\\Local\\Programs\\Python\\Python312\\Lib\\site-packages\\tf2onnx\\tf_loader.py:72: The name tf.train.import_meta_graph is deprecated. Please use tf.compat.v1.train.import_meta_graph instead.\n",
            "\n"
          ]
        },
        {
          "name": "stderr",
          "output_type": "stream",
          "text": [
            "WARNING:absl:Compiled the loaded model, but the compiled metrics have yet to be built. `model.compile_metrics` will be empty until you train or evaluate the model.\n",
            "ERROR:tf2onnx.tfonnx:rewriter <function rewrite_constant_fold at 0x000001B7DA83BD80>: exception `np.cast` was removed in the NumPy 2.0 release. Use `np.asarray(arr, dtype=dtype)` instead.\n"
          ]
        },
        {
          "name": "stdout",
          "output_type": "stream",
          "text": [
            "ONNX model saved to: pradh_model.onnx\n"
          ]
        }
      ],
      "source": [
        "import tf2onnx\n",
        "import tensorflow as tf\n",
        "\n",
        "# Load the Keras .h5 model\n",
        "h5_model_path = r\"C:\\Users\\ragul\\Downloads\\cifar10_augmented.h5\"  # Replace with your .h5 file path\n",
        "model = tf.keras.models.load_model(h5_model_path)\n",
        "\n",
        "# Define the path for the ONNX file\n",
        "onnx_model_path = \"pradh_model.onnx\"\n",
        "\n",
        "# Convert the model\n",
        "spec = (tf.TensorSpec((None, *model.input.shape[1:]), tf.float32, name=\"input\"),)\n",
        "onnx_model, _ = tf2onnx.convert.from_keras(model, input_signature=spec, opset=13)\n",
        "\n",
        "# Save the ONNX model\n",
        "with open(onnx_model_path, \"wb\") as f:\n",
        "    f.write(onnx_model.SerializeToString())\n",
        "\n",
        "print(f\"ONNX model saved to: {onnx_model_path}\")"
      ]
    }
  ],
  "metadata": {
    "accelerator": "GPU",
    "colab": {
      "gpuType": "T4",
      "provenance": []
    },
    "kernelspec": {
      "display_name": "Python 3",
      "language": "python",
      "name": "python3"
    },
    "language_info": {
      "codemirror_mode": {
        "name": "ipython",
        "version": 3
      },
      "file_extension": ".py",
      "mimetype": "text/x-python",
      "name": "python",
      "nbconvert_exporter": "python",
      "pygments_lexer": "ipython3",
      "version": "3.12.0"
    }
  },
  "nbformat": 4,
  "nbformat_minor": 0
}
