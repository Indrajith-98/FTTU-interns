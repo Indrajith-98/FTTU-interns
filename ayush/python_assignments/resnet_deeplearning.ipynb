{
  "cells": [
    {
      "cell_type": "code",
      "source": [
        "!nvidia-smi"
      ],
      "metadata": {
        "colab": {
          "base_uri": "https://localhost:8080/"
        },
        "id": "rkvAy5fEZ6Ap",
        "outputId": "a1a84a0b-7d57-45b1-8e1e-3bc9ce2d1940"
      },
      "execution_count": 1,
      "outputs": [
        {
          "output_type": "stream",
          "name": "stdout",
          "text": [
            "Fri Jan 24 17:43:43 2025       \n",
            "+---------------------------------------------------------------------------------------+\n",
            "| NVIDIA-SMI 535.104.05             Driver Version: 535.104.05   CUDA Version: 12.2     |\n",
            "|-----------------------------------------+----------------------+----------------------+\n",
            "| GPU  Name                 Persistence-M | Bus-Id        Disp.A | Volatile Uncorr. ECC |\n",
            "| Fan  Temp   Perf          Pwr:Usage/Cap |         Memory-Usage | GPU-Util  Compute M. |\n",
            "|                                         |                      |               MIG M. |\n",
            "|=========================================+======================+======================|\n",
            "|   0  Tesla T4                       Off | 00000000:00:04.0 Off |                    0 |\n",
            "| N/A   34C    P8               9W /  70W |      0MiB / 15360MiB |      0%      Default |\n",
            "|                                         |                      |                  N/A |\n",
            "+-----------------------------------------+----------------------+----------------------+\n",
            "                                                                                         \n",
            "+---------------------------------------------------------------------------------------+\n",
            "| Processes:                                                                            |\n",
            "|  GPU   GI   CI        PID   Type   Process name                            GPU Memory |\n",
            "|        ID   ID                                                             Usage      |\n",
            "|=======================================================================================|\n",
            "|  No running processes found                                                           |\n",
            "+---------------------------------------------------------------------------------------+\n"
          ]
        }
      ]
    },
    {
      "cell_type": "code",
      "source": [
        "import torch\n",
        "import torchvision\n",
        "import torchvision.transforms as transforms\n",
        "\n",
        "# Define transforms for data augmentation\n",
        "transform = transforms.Compose([\n",
        "    transforms.RandomHorizontalFlip(),\n",
        "    transforms.RandomCrop(32, padding=4),\n",
        "    transforms.ToTensor(),\n",
        "    transforms.Normalize((0.5, 0.5, 0.5), (0.5, 0.5, 0.5))  # Normalize to [-1, 1]\n",
        "])\n",
        "\n",
        "# Load CIFAR-10 dataset\n",
        "trainset = torchvision.datasets.CIFAR10(root='./data', train=True, download=True, transform=transform)\n",
        "trainloader = torch.utils.data.DataLoader(trainset, batch_size=128, shuffle=True, num_workers=2)\n",
        "\n",
        "testset = torchvision.datasets.CIFAR10(root='./data', train=False, download=True, transform=transform)\n",
        "testloader = torch.utils.data.DataLoader(testset, batch_size=128, shuffle=False, num_workers=2)\n",
        "\n",
        "# Classes in CIFAR-10\n",
        "classes = ('plane', 'car', 'bird', 'cat', 'deer', 'dog', 'frog', 'horse', 'ship', 'truck')\n",
        "\n",
        "# Check device\n",
        "device = torch.device(\"cuda\" if torch.cuda.is_available() else \"cpu\")\n",
        "print(f\"Using device: {device}\")"
      ],
      "metadata": {
        "colab": {
          "base_uri": "https://localhost:8080/"
        },
        "id": "_zeQIDaTaHir",
        "outputId": "48c3913f-75c7-4fd6-e6e9-7f63e2f47bf1"
      },
      "execution_count": 2,
      "outputs": [
        {
          "output_type": "stream",
          "name": "stdout",
          "text": [
            "Downloading https://www.cs.toronto.edu/~kriz/cifar-10-python.tar.gz to ./data/cifar-10-python.tar.gz\n"
          ]
        },
        {
          "output_type": "stream",
          "name": "stderr",
          "text": [
            "100%|██████████| 170M/170M [00:04<00:00, 36.0MB/s]\n"
          ]
        },
        {
          "output_type": "stream",
          "name": "stdout",
          "text": [
            "Extracting ./data/cifar-10-python.tar.gz to ./data\n",
            "Files already downloaded and verified\n",
            "Using device: cuda\n"
          ]
        }
      ]
    },
    {
      "cell_type": "code",
      "source": [
        "import torch.nn as nn\n",
        "import torch.nn.functional as F\n",
        "\n",
        "# Define a Residual Block\n",
        "class ResidualBlock(nn.Module):\n",
        "    def __init__(self, in_channels, out_channels, stride=1):\n",
        "        super(ResidualBlock, self).__init__()\n",
        "        self.conv1 = nn.Conv2d(in_channels, out_channels, kernel_size=3, stride=stride, padding=1, bias=False)\n",
        "        self.bn1 = nn.BatchNorm2d(out_channels)\n",
        "        self.conv2 = nn.Conv2d(out_channels, out_channels, kernel_size=3, stride=1, padding=1, bias=False)\n",
        "        self.bn2 = nn.BatchNorm2d(out_channels)\n",
        "\n",
        "        # Skip connection\n",
        "        self.shortcut = nn.Sequential()\n",
        "        if stride != 1 or in_channels != out_channels:\n",
        "            self.shortcut = nn.Sequential(\n",
        "                nn.Conv2d(in_channels, out_channels, kernel_size=1, stride=stride, bias=False),\n",
        "                nn.BatchNorm2d(out_channels)\n",
        "            )\n",
        "\n",
        "    def forward(self, x):\n",
        "        out = F.relu(self.bn1(self.conv1(x)))\n",
        "        out = self.bn2(self.conv2(out))\n",
        "        out += self.shortcut(x)\n",
        "        return F.relu(out)\n",
        "\n",
        "# Define the ResNet-like model\n",
        "class ResNetLike(nn.Module):\n",
        "    def __init__(self, num_classes=10):\n",
        "        super(ResNetLike, self).__init__()\n",
        "        self.in_channels = 64\n",
        "\n",
        "        self.conv1 = nn.Conv2d(3, 64, kernel_size=3, stride=1, padding=1, bias=False)\n",
        "        self.bn1 = nn.BatchNorm2d(64)\n",
        "        self.layer1 = self._make_layer(64, 2, stride=1)\n",
        "        self.layer2 = self._make_layer(128, 2, stride=2)\n",
        "        self.layer3 = self._make_layer(256, 2, stride=2)\n",
        "        self.layer4 = self._make_layer(512, 2, stride=2)\n",
        "        self.fc = nn.Linear(512, num_classes)\n",
        "\n",
        "    def _make_layer(self, out_channels, blocks, stride):\n",
        "        layers = [ResidualBlock(self.in_channels, out_channels, stride)]\n",
        "        self.in_channels = out_channels\n",
        "        for _ in range(1, blocks):\n",
        "            layers.append(ResidualBlock(out_channels, out_channels))\n",
        "        return nn.Sequential(*layers)\n",
        "\n",
        "    def forward(self, x):\n",
        "        out = F.relu(self.bn1(self.conv1(x)))\n",
        "        out = self.layer1(out)\n",
        "        out = self.layer2(out)\n",
        "        out = self.layer3(out)\n",
        "        out = self.layer4(out)\n",
        "        out = F.avg_pool2d(out, 4)\n",
        "        out = out.view(out.size(0), -1)\n",
        "        return self.fc(out)\n",
        "\n",
        "# Instantiate and move the model to the device\n",
        "model = ResNetLike(num_classes=10).to(device)\n",
        "print(model)\n"
      ],
      "metadata": {
        "colab": {
          "base_uri": "https://localhost:8080/"
        },
        "id": "gd9lWYQqaHlL",
        "outputId": "c0cc4b05-e206-45c4-e291-f386639fe67e"
      },
      "execution_count": 3,
      "outputs": [
        {
          "output_type": "stream",
          "name": "stdout",
          "text": [
            "ResNetLike(\n",
            "  (conv1): Conv2d(3, 64, kernel_size=(3, 3), stride=(1, 1), padding=(1, 1), bias=False)\n",
            "  (bn1): BatchNorm2d(64, eps=1e-05, momentum=0.1, affine=True, track_running_stats=True)\n",
            "  (layer1): Sequential(\n",
            "    (0): ResidualBlock(\n",
            "      (conv1): Conv2d(64, 64, kernel_size=(3, 3), stride=(1, 1), padding=(1, 1), bias=False)\n",
            "      (bn1): BatchNorm2d(64, eps=1e-05, momentum=0.1, affine=True, track_running_stats=True)\n",
            "      (conv2): Conv2d(64, 64, kernel_size=(3, 3), stride=(1, 1), padding=(1, 1), bias=False)\n",
            "      (bn2): BatchNorm2d(64, eps=1e-05, momentum=0.1, affine=True, track_running_stats=True)\n",
            "      (shortcut): Sequential()\n",
            "    )\n",
            "    (1): ResidualBlock(\n",
            "      (conv1): Conv2d(64, 64, kernel_size=(3, 3), stride=(1, 1), padding=(1, 1), bias=False)\n",
            "      (bn1): BatchNorm2d(64, eps=1e-05, momentum=0.1, affine=True, track_running_stats=True)\n",
            "      (conv2): Conv2d(64, 64, kernel_size=(3, 3), stride=(1, 1), padding=(1, 1), bias=False)\n",
            "      (bn2): BatchNorm2d(64, eps=1e-05, momentum=0.1, affine=True, track_running_stats=True)\n",
            "      (shortcut): Sequential()\n",
            "    )\n",
            "  )\n",
            "  (layer2): Sequential(\n",
            "    (0): ResidualBlock(\n",
            "      (conv1): Conv2d(64, 128, kernel_size=(3, 3), stride=(2, 2), padding=(1, 1), bias=False)\n",
            "      (bn1): BatchNorm2d(128, eps=1e-05, momentum=0.1, affine=True, track_running_stats=True)\n",
            "      (conv2): Conv2d(128, 128, kernel_size=(3, 3), stride=(1, 1), padding=(1, 1), bias=False)\n",
            "      (bn2): BatchNorm2d(128, eps=1e-05, momentum=0.1, affine=True, track_running_stats=True)\n",
            "      (shortcut): Sequential(\n",
            "        (0): Conv2d(64, 128, kernel_size=(1, 1), stride=(2, 2), bias=False)\n",
            "        (1): BatchNorm2d(128, eps=1e-05, momentum=0.1, affine=True, track_running_stats=True)\n",
            "      )\n",
            "    )\n",
            "    (1): ResidualBlock(\n",
            "      (conv1): Conv2d(128, 128, kernel_size=(3, 3), stride=(1, 1), padding=(1, 1), bias=False)\n",
            "      (bn1): BatchNorm2d(128, eps=1e-05, momentum=0.1, affine=True, track_running_stats=True)\n",
            "      (conv2): Conv2d(128, 128, kernel_size=(3, 3), stride=(1, 1), padding=(1, 1), bias=False)\n",
            "      (bn2): BatchNorm2d(128, eps=1e-05, momentum=0.1, affine=True, track_running_stats=True)\n",
            "      (shortcut): Sequential()\n",
            "    )\n",
            "  )\n",
            "  (layer3): Sequential(\n",
            "    (0): ResidualBlock(\n",
            "      (conv1): Conv2d(128, 256, kernel_size=(3, 3), stride=(2, 2), padding=(1, 1), bias=False)\n",
            "      (bn1): BatchNorm2d(256, eps=1e-05, momentum=0.1, affine=True, track_running_stats=True)\n",
            "      (conv2): Conv2d(256, 256, kernel_size=(3, 3), stride=(1, 1), padding=(1, 1), bias=False)\n",
            "      (bn2): BatchNorm2d(256, eps=1e-05, momentum=0.1, affine=True, track_running_stats=True)\n",
            "      (shortcut): Sequential(\n",
            "        (0): Conv2d(128, 256, kernel_size=(1, 1), stride=(2, 2), bias=False)\n",
            "        (1): BatchNorm2d(256, eps=1e-05, momentum=0.1, affine=True, track_running_stats=True)\n",
            "      )\n",
            "    )\n",
            "    (1): ResidualBlock(\n",
            "      (conv1): Conv2d(256, 256, kernel_size=(3, 3), stride=(1, 1), padding=(1, 1), bias=False)\n",
            "      (bn1): BatchNorm2d(256, eps=1e-05, momentum=0.1, affine=True, track_running_stats=True)\n",
            "      (conv2): Conv2d(256, 256, kernel_size=(3, 3), stride=(1, 1), padding=(1, 1), bias=False)\n",
            "      (bn2): BatchNorm2d(256, eps=1e-05, momentum=0.1, affine=True, track_running_stats=True)\n",
            "      (shortcut): Sequential()\n",
            "    )\n",
            "  )\n",
            "  (layer4): Sequential(\n",
            "    (0): ResidualBlock(\n",
            "      (conv1): Conv2d(256, 512, kernel_size=(3, 3), stride=(2, 2), padding=(1, 1), bias=False)\n",
            "      (bn1): BatchNorm2d(512, eps=1e-05, momentum=0.1, affine=True, track_running_stats=True)\n",
            "      (conv2): Conv2d(512, 512, kernel_size=(3, 3), stride=(1, 1), padding=(1, 1), bias=False)\n",
            "      (bn2): BatchNorm2d(512, eps=1e-05, momentum=0.1, affine=True, track_running_stats=True)\n",
            "      (shortcut): Sequential(\n",
            "        (0): Conv2d(256, 512, kernel_size=(1, 1), stride=(2, 2), bias=False)\n",
            "        (1): BatchNorm2d(512, eps=1e-05, momentum=0.1, affine=True, track_running_stats=True)\n",
            "      )\n",
            "    )\n",
            "    (1): ResidualBlock(\n",
            "      (conv1): Conv2d(512, 512, kernel_size=(3, 3), stride=(1, 1), padding=(1, 1), bias=False)\n",
            "      (bn1): BatchNorm2d(512, eps=1e-05, momentum=0.1, affine=True, track_running_stats=True)\n",
            "      (conv2): Conv2d(512, 512, kernel_size=(3, 3), stride=(1, 1), padding=(1, 1), bias=False)\n",
            "      (bn2): BatchNorm2d(512, eps=1e-05, momentum=0.1, affine=True, track_running_stats=True)\n",
            "      (shortcut): Sequential()\n",
            "    )\n",
            "  )\n",
            "  (fc): Linear(in_features=512, out_features=10, bias=True)\n",
            ")\n"
          ]
        }
      ]
    },
    {
      "cell_type": "code",
      "source": [
        "from torch.utils.data import DataLoader\n",
        "from torchvision import transforms\n",
        "from torchvision.datasets import CIFAR10\n",
        "\n",
        "# Data augmentation and normalization for training\n",
        "transform = transforms.Compose([\n",
        "    transforms.RandomHorizontalFlip(),  # Data augmentation\n",
        "    transforms.ToTensor(),\n",
        "    transforms.Normalize(mean=[0.485, 0.456, 0.406], std=[0.229, 0.224, 0.225])  # Normalization\n",
        "])\n",
        "\n",
        "# Define the CIFAR-10 dataset for training and validation\n",
        "train_dataset = CIFAR10(root='./data', train=True, download=True, transform=transform)\n",
        "val_dataset = CIFAR10(root='./data', train=False, download=True, transform=transforms.Compose([\n",
        "    transforms.ToTensor(),\n",
        "    transforms.Normalize(mean=[0.485, 0.456, 0.406], std=[0.229, 0.224, 0.225])\n",
        "]))\n",
        "\n",
        "# DataLoader for training and validation\n",
        "train_loader = DataLoader(train_dataset, batch_size=64, shuffle=True, num_workers=2)\n",
        "val_loader = DataLoader(val_dataset, batch_size=64, shuffle=False, num_workers=2)\n"
      ],
      "metadata": {
        "colab": {
          "base_uri": "https://localhost:8080/"
        },
        "id": "go5FpzTlaHne",
        "outputId": "e2e2e64f-7e75-4baf-820c-4be57a38eed4"
      },
      "execution_count": 4,
      "outputs": [
        {
          "output_type": "stream",
          "name": "stdout",
          "text": [
            "Files already downloaded and verified\n",
            "Files already downloaded and verified\n"
          ]
        }
      ]
    },
    {
      "cell_type": "code",
      "source": [
        "import torch.optim as optim\n",
        "import torch.nn as nn\n",
        "from sklearn.metrics import f1_score\n",
        "\n",
        "# Define the loss function and optimizer\n",
        "criterion = nn.CrossEntropyLoss()  # For multi-class classification\n",
        "optimizer = optim.Adam(model.parameters(), lr=0.001)  # Adam optimizer\n",
        "\n",
        "# Function to calculate F1 score\n",
        "def calculate_f1_score(y_true, y_pred):\n",
        "    return f1_score(y_true, y_pred, average='weighted')\n",
        "\n",
        "# Training loop\n",
        "def train_model(model, train_loader, val_loader, criterion, optimizer, device, num_epochs=10):\n",
        "    best_f1 = 0\n",
        "    for epoch in range(num_epochs):\n",
        "        model.train()\n",
        "        running_loss = 0.0\n",
        "        y_true, y_pred = [], []\n",
        "\n",
        "        # Training phase\n",
        "        for inputs, labels in train_loader:\n",
        "            inputs, labels = inputs.to(device), labels.to(device)\n",
        "\n",
        "            optimizer.zero_grad()  # Zero the gradients\n",
        "            outputs = model(inputs)  # Forward pass\n",
        "            loss = criterion(outputs, labels)  # Compute loss\n",
        "            loss.backward()  # Backward pass\n",
        "            optimizer.step()  # Update weights\n",
        "\n",
        "            running_loss += loss.item() * inputs.size(0)\n",
        "            _, preds = torch.max(outputs, 1)  # Get the predicted class\n",
        "            y_true.extend(labels.cpu().numpy())\n",
        "            y_pred.extend(preds.cpu().numpy())\n",
        "\n",
        "        # Calculate F1 score for training\n",
        "        train_f1 = calculate_f1_score(y_true, y_pred)\n",
        "\n",
        "        # Validation phase\n",
        "        model.eval()\n",
        "        val_f1 = 0\n",
        "        with torch.no_grad():\n",
        "            y_true, y_pred = [], []\n",
        "            for inputs, labels in val_loader:\n",
        "                inputs, labels = inputs.to(device), labels.to(device)\n",
        "                outputs = model(inputs)\n",
        "                _, preds = torch.max(outputs, 1)\n",
        "                y_true.extend(labels.cpu().numpy())\n",
        "                y_pred.extend(preds.cpu().numpy())\n",
        "\n",
        "            # Calculate F1 score for validation\n",
        "            val_f1 = calculate_f1_score(y_true, y_pred)\n",
        "\n",
        "        # Print epoch summary\n",
        "        epoch_loss = running_loss / len(train_loader.dataset)\n",
        "        print(f\"Epoch {epoch+1}/{num_epochs}, Loss: {epoch_loss:.4f}, Train F1: {train_f1:.4f}, Val F1: {val_f1:.4f}\")\n",
        "\n",
        "        # Save the best model\n",
        "        if val_f1 > best_f1:\n",
        "            best_f1 = val_f1\n",
        "            torch.save(model.state_dict(), 'best_resnet_model.pth')\n",
        "\n",
        "    print(\"Training complete.\")\n",
        "\n",
        "# Call the function to train the model\n",
        "train_model(model, train_loader, val_loader, criterion, optimizer, device, num_epochs=10)"
      ],
      "metadata": {
        "colab": {
          "base_uri": "https://localhost:8080/"
        },
        "id": "M4rP2KhaaHp1",
        "outputId": "ace9e446-05c4-4d0f-fe16-b4d32b5fd11e"
      },
      "execution_count": 5,
      "outputs": [
        {
          "output_type": "stream",
          "name": "stdout",
          "text": [
            "Epoch 1/10, Loss: 1.2834, Train F1: 0.5329, Val F1: 0.5694\n",
            "Epoch 2/10, Loss: 0.8066, Train F1: 0.7141, Val F1: 0.7129\n",
            "Epoch 3/10, Loss: 0.6180, Train F1: 0.7835, Val F1: 0.7693\n",
            "Epoch 4/10, Loss: 0.5077, Train F1: 0.8236, Val F1: 0.7930\n",
            "Epoch 5/10, Loss: 0.4268, Train F1: 0.8520, Val F1: 0.8187\n",
            "Epoch 6/10, Loss: 0.3627, Train F1: 0.8732, Val F1: 0.8412\n",
            "Epoch 7/10, Loss: 0.3175, Train F1: 0.8898, Val F1: 0.8426\n",
            "Epoch 8/10, Loss: 0.2639, Train F1: 0.9078, Val F1: 0.8575\n",
            "Epoch 9/10, Loss: 0.2205, Train F1: 0.9224, Val F1: 0.8630\n",
            "Epoch 10/10, Loss: 0.1879, Train F1: 0.9345, Val F1: 0.8637\n",
            "Training complete.\n"
          ]
        }
      ]
    },
    {
      "cell_type": "code",
      "source": [
        "import time\n",
        "\n",
        "# Measure latency for one forward pass\n",
        "model.eval()  # Set the model to evaluation mode\n",
        "sample_input = torch.randn(1, 3, 32, 32).to(device)  # Random sample with the right shape\n",
        "\n",
        "start_time = time.time()\n",
        "output = model(sample_input)\n",
        "end_time = time.time()\n",
        "\n",
        "latency = end_time - start_time\n",
        "print(f\"Latency per sample: {latency:.6f} seconds\")"
      ],
      "metadata": {
        "colab": {
          "base_uri": "https://localhost:8080/"
        },
        "id": "KXtuRhtaaHsm",
        "outputId": "40fc7fde-cdd0-439a-aaa1-9131ba16a696"
      },
      "execution_count": 6,
      "outputs": [
        {
          "output_type": "stream",
          "name": "stdout",
          "text": [
            "Latency per sample: 0.087334 seconds\n"
          ]
        }
      ]
    },
    {
      "cell_type": "code",
      "source": [
        "import matplotlib.pyplot as plt\n",
        "\n",
        "# Function to train the model and return the metrics\n",
        "def train_and_plot(model, train_loader, val_loader, criterion, optimizer, device, num_epochs=10):\n",
        "    train_losses, val_losses = [], []\n",
        "    train_f1_scores, val_f1_scores = [], []\n",
        "\n",
        "    for epoch in range(num_epochs):\n",
        "        model.train()\n",
        "        running_loss = 0.0\n",
        "        correct_train, total_train = 0, 0\n",
        "        for inputs, labels in train_loader:\n",
        "            inputs, labels = inputs.to(device), labels.to(device)\n",
        "\n",
        "            optimizer.zero_grad()\n",
        "            outputs = model(inputs)\n",
        "            loss = criterion(outputs, labels)\n",
        "            loss.backward()\n",
        "            optimizer.step()\n",
        "\n",
        "            running_loss += loss.item()\n",
        "\n",
        "            # Calculate F1 score\n",
        "            _, predicted = torch.max(outputs, 1)\n",
        "            correct_train += (predicted == labels).sum().item()\n",
        "            total_train += labels.size(0)\n",
        "\n",
        "        train_loss = running_loss / len(train_loader)\n",
        "        train_f1 = correct_train / total_train\n",
        "\n",
        "        # Validation step\n",
        "        model.eval()\n",
        "        val_loss = 0.0\n",
        "        correct_val, total_val = 0, 0\n",
        "        with torch.no_grad():\n",
        "            for inputs, labels in val_loader:\n",
        "                inputs, labels = inputs.to(device), labels.to(device)\n",
        "\n",
        "                outputs = model(inputs)\n",
        "                loss = criterion(outputs, labels)\n",
        "                val_loss += loss.item()\n",
        "\n",
        "                # Calculate F1 score\n",
        "                _, predicted = torch.max(outputs, 1)\n",
        "                correct_val += (predicted == labels).sum().item()\n",
        "                total_val += labels.size(0)\n",
        "\n",
        "        val_loss = val_loss / len(val_loader)\n",
        "        val_f1 = correct_val / total_val\n",
        "\n",
        "        train_losses.append(train_loss)\n",
        "        val_losses.append(val_loss)\n",
        "        train_f1_scores.append(train_f1)\n",
        "        val_f1_scores.append(val_f1)\n",
        "\n",
        "        print(f\"Epoch {epoch+1}/{num_epochs}, Train Loss: {train_loss:.4f}, Train F1: {train_f1:.4f}, \"\n",
        "              f\"Val Loss: {val_loss:.4f}, Val F1: {val_f1:.4f}\")\n",
        "\n",
        "    # Plotting the results\n",
        "    plt.figure(figsize=(12, 5))\n",
        "\n",
        "    # Losses\n",
        "    plt.subplot(1, 2, 1)\n",
        "    plt.plot(range(1, num_epochs + 1), train_losses, label='Train Loss')\n",
        "    plt.plot(range(1, num_epochs + 1), val_losses, label='Validation Loss')\n",
        "    plt.xlabel('Epochs')\n",
        "    plt.ylabel('Loss')\n",
        "    plt.legend()\n",
        "    plt.title('Train and Validation Loss')\n",
        "\n",
        "    # F1 Scores\n",
        "    plt.subplot(1, 2, 2)\n",
        "    plt.plot(range(1, num_epochs + 1), train_f1_scores, label='Train F1')\n",
        "    plt.plot(range(1, num_epochs + 1), val_f1_scores, label='Validation F1')\n",
        "    plt.xlabel('Epochs')\n",
        "    plt.ylabel('F1 Score')\n",
        "    plt.legend()\n",
        "    plt.title('Train and Validation F1 Scores')\n",
        "\n",
        "    plt.show()\n",
        "\n",
        "# Now, use the function to tune the learning rate and plot the metrics\n",
        "optimizer = torch.optim.Adam(model.parameters(), lr=0.0005)  # Example of tuning the learning rate\n",
        "train_and_plot(model, train_loader, val_loader, criterion, optimizer, device, num_epochs=10)"
      ],
      "metadata": {
        "colab": {
          "base_uri": "https://localhost:8080/",
          "height": 661
        },
        "id": "8rByJV1gaHuu",
        "outputId": "ee997ac2-0678-4faf-b7d4-dd0f69d9008c"
      },
      "execution_count": 7,
      "outputs": [
        {
          "output_type": "stream",
          "name": "stdout",
          "text": [
            "Epoch 1/10, Train Loss: 0.1074, Train F1: 0.9629, Val Loss: 0.4218, Val F1: 0.8772\n",
            "Epoch 2/10, Train Loss: 0.0741, Train F1: 0.9752, Val Loss: 0.4489, Val F1: 0.8808\n",
            "Epoch 3/10, Train Loss: 0.0598, Train F1: 0.9800, Val Loss: 0.4494, Val F1: 0.8832\n",
            "Epoch 4/10, Train Loss: 0.0504, Train F1: 0.9826, Val Loss: 0.4936, Val F1: 0.8813\n",
            "Epoch 5/10, Train Loss: 0.0492, Train F1: 0.9830, Val Loss: 0.5100, Val F1: 0.8774\n",
            "Epoch 6/10, Train Loss: 0.0372, Train F1: 0.9876, Val Loss: 0.5467, Val F1: 0.8779\n",
            "Epoch 7/10, Train Loss: 0.0332, Train F1: 0.9882, Val Loss: 0.5729, Val F1: 0.8772\n",
            "Epoch 8/10, Train Loss: 0.0350, Train F1: 0.9879, Val Loss: 0.6141, Val F1: 0.8748\n",
            "Epoch 9/10, Train Loss: 0.0298, Train F1: 0.9895, Val Loss: 0.5400, Val F1: 0.8824\n",
            "Epoch 10/10, Train Loss: 0.0303, Train F1: 0.9895, Val Loss: 0.5928, Val F1: 0.8770\n"
          ]
        },
        {
          "output_type": "display_data",
          "data": {
            "text/plain": [
              "<Figure size 1200x500 with 2 Axes>"
            ],
            "image/png": "[encoded data removed]"
          },
          "metadata": {}
        }
      ]
    },
    {
      "cell_type": "code",
      "source": [
        "# Augmented transformation for training\n",
        "transform_augmented = transforms.Compose([\n",
        "    transforms.RandomHorizontalFlip(),\n",
        "    transforms.RandomRotation(15),  # Rotate the image by up to 15 degrees\n",
        "    transforms.RandomCrop(32, padding=4),  # Random crop\n",
        "    transforms.ToTensor(),\n",
        "    transforms.Normalize(mean=[0.485, 0.456, 0.406], std=[0.229, 0.224, 0.225])\n",
        "])\n",
        "\n",
        "# Apply this transformation to the train dataset\n",
        "train_dataset = CIFAR10(root='./data', train=True, download=True, transform=transform_augmented)\n",
        "train_loader = DataLoader(train_dataset, batch_size=64, shuffle=True, num_workers=2)\n",
        "\n",
        "# Retrain the model with augmented data\n",
        "optimizer = torch.optim.Adam(model.parameters(), lr=0.0005)\n",
        "train_and_plot(model, train_loader, val_loader, criterion, optimizer, device, num_epochs=10)"
      ],
      "metadata": {
        "colab": {
          "base_uri": "https://localhost:8080/",
          "height": 678
        },
        "id": "7MKKWSTMaHxK",
        "outputId": "b615af78-409d-449a-f252-260a3ac05b9e"
      },
      "execution_count": 8,
      "outputs": [
        {
          "output_type": "stream",
          "name": "stdout",
          "text": [
            "Files already downloaded and verified\n",
            "Epoch 1/10, Train Loss: 0.5119, Train F1: 0.8444, Val Loss: 0.3435, Val F1: 0.8883\n",
            "Epoch 2/10, Train Loss: 0.3646, Train F1: 0.8731, Val Loss: 0.3272, Val F1: 0.8967\n",
            "Epoch 3/10, Train Loss: 0.3335, Train F1: 0.8835, Val Loss: 0.3307, Val F1: 0.8920\n",
            "Epoch 4/10, Train Loss: 0.3108, Train F1: 0.8922, Val Loss: 0.3497, Val F1: 0.8916\n",
            "Epoch 5/10, Train Loss: 0.2924, Train F1: 0.8981, Val Loss: 0.3214, Val F1: 0.8968\n",
            "Epoch 6/10, Train Loss: 0.2787, Train F1: 0.9012, Val Loss: 0.3056, Val F1: 0.9037\n",
            "Epoch 7/10, Train Loss: 0.2635, Train F1: 0.9071, Val Loss: 0.3053, Val F1: 0.9021\n",
            "Epoch 8/10, Train Loss: 0.2486, Train F1: 0.9123, Val Loss: 0.3320, Val F1: 0.9026\n",
            "Epoch 9/10, Train Loss: 0.2379, Train F1: 0.9167, Val Loss: 0.3120, Val F1: 0.9017\n",
            "Epoch 10/10, Train Loss: 0.2274, Train F1: 0.9210, Val Loss: 0.2922, Val F1: 0.9073\n"
          ]
        },
        {
          "output_type": "display_data",
          "data": {
            "text/plain": [
              "<Figure size 1200x500 with 2 Axes>"
            ],
            "image/png": "[encoded data removed]"
          },
          "metadata": {}
        }
      ]
    },
    {
      "cell_type": "code",
      "source": [
        "import time\n",
        "import torch\n",
        "\n",
        "# Function to measure the latency (inference time) for a single image\n",
        "def measure_latency(model, device, input_image):\n",
        "    model.eval()  # Set the model to evaluation mode\n",
        "    input_image = input_image.to(device)  # Move the image to the appropriate device\n",
        "\n",
        "    # Measure the start time\n",
        "    start_time = time.time()\n",
        "\n",
        "    # Perform inference\n",
        "    with torch.no_grad():  # No need to calculate gradients during inference\n",
        "        output = model(input_image.unsqueeze(0))  # Add batch dimension\n",
        "\n",
        "    # Measure the end time and calculate latency\n",
        "    end_time = time.time()\n",
        "    latency = end_time - start_time\n",
        "    return latency\n",
        "\n",
        "# Example: Use a random image from the validation set\n",
        "example_image, _ = val_loader.dataset[0]  # Pick the first image from the validation set\n",
        "latency = measure_latency(model, device, example_image)\n",
        "\n",
        "print(f\"Inference latency per image: {latency:.6f} seconds\")"
      ],
      "metadata": {
        "colab": {
          "base_uri": "https://localhost:8080/"
        },
        "id": "bVVcoyRkaHza",
        "outputId": "41d58f89-3b43-4380-a78f-192a1cd08b0f"
      },
      "execution_count": 9,
      "outputs": [
        {
          "output_type": "stream",
          "name": "stdout",
          "text": [
            "Inference latency per image: 0.005034 seconds\n"
          ]
        }
      ]
    },
    {
      "cell_type": "code",
      "source": [
        "!pip install onnx"
      ],
      "metadata": {
        "colab": {
          "base_uri": "https://localhost:8080/"
        },
        "id": "FyEZk7tzdxEx",
        "outputId": "0403fd4b-2acf-4f42-b37f-ec0d871281e8"
      },
      "execution_count": 10,
      "outputs": [
        {
          "output_type": "stream",
          "name": "stdout",
          "text": [
            "Collecting onnx\n",
            "  Downloading onnx-1.17.0-cp311-cp311-manylinux_2_17_x86_64.manylinux2014_x86_64.whl.metadata (16 kB)\n",
            "Requirement already satisfied: numpy>=1.20 in /usr/local/lib/python3.11/dist-packages (from onnx) (1.26.4)\n",
            "Requirement already satisfied: protobuf>=3.20.2 in /usr/local/lib/python3.11/dist-packages (from onnx) (4.25.5)\n",
            "Downloading onnx-1.17.0-cp311-cp311-manylinux_2_17_x86_64.manylinux2014_x86_64.whl (16.0 MB)\n",
            "\u001b[2K   \u001b[90m━━━━━━━━━━━━━━━━━━━━━━━━━━━━━━━━━━━━━━━━\u001b[0m \u001b[32m16.0/16.0 MB\u001b[0m \u001b[31m92.3 MB/s\u001b[0m eta \u001b[36m0:00:00\u001b[0m\n",
            "\u001b[?25hInstalling collected packages: onnx\n",
            "Successfully installed onnx-1.17.0\n"
          ]
        }
      ]
    },
    {
      "cell_type": "code",
      "source": [
        "import torch.onnx\n",
        "\n",
        "# Convert model to ONNX format\n",
        "onnx_model_path = \"model.onnx\"\n",
        "dummy_input = torch.randn(1, 3, 32, 32).to(device)  # Example input tensor (batch_size=1, channels=3, 32x32 image)\n",
        "torch.onnx.export(model, dummy_input, onnx_model_path, opset_version=11)\n",
        "print(f\"Model exported to {onnx_model_path}\")\n"
      ],
      "metadata": {
        "colab": {
          "base_uri": "https://localhost:8080/"
        },
        "id": "5VONAndSh7sR",
        "outputId": "b2a45969-9e2f-4510-bbec-81f45ac04467"
      },
      "execution_count": 11,
      "outputs": [
        {
          "output_type": "stream",
          "name": "stdout",
          "text": [
            "Model exported to model.onnx\n"
          ]
        }
      ]
    },
    {
      "cell_type": "code",
      "source": [
        "!ls"
      ],
      "metadata": {
        "colab": {
          "base_uri": "https://localhost:8080/"
        },
        "id": "LTxxMohIiAe5",
        "outputId": "e9fd594d-1a7e-4aff-c909-69d76947aa73"
      },
      "execution_count": 12,
      "outputs": [
        {
          "output_type": "stream",
          "name": "stdout",
          "text": [
            "best_resnet_model.pth  data  model.onnx  sample_data\n"
          ]
        }
      ]
    },
    {
      "cell_type": "code",
      "source": [
        "!apt-get install -y python3-libnvinfer-dev"
      ],
      "metadata": {
        "colab": {
          "base_uri": "https://localhost:8080/"
        },
        "id": "8VyXNki1iGqy",
        "outputId": "d2355bd0-e0c8-42bb-b26a-8d4809bf2be3"
      },
      "execution_count": 13,
      "outputs": [
        {
          "output_type": "stream",
          "name": "stdout",
          "text": [
            "Reading package lists... Done\n",
            "Building dependency tree... Done\n",
            "Reading state information... Done\n",
            "The following additional packages will be installed:\n",
            "  libnvinfer-dev libnvinfer-dispatch-dev libnvinfer-dispatch10 libnvinfer-headers-dev\n",
            "  libnvinfer-headers-plugin-dev libnvinfer-lean-dev libnvinfer-lean10 libnvinfer-plugin-dev\n",
            "  libnvinfer-plugin10 libnvinfer-vc-plugin-dev libnvinfer-vc-plugin10 libnvinfer10\n",
            "  libnvonnxparsers-dev libnvonnxparsers10 python3-libnvinfer python3-libnvinfer-dispatch\n",
            "  python3-libnvinfer-lean\n",
            "The following NEW packages will be installed:\n",
            "  libnvinfer-dev libnvinfer-dispatch-dev libnvinfer-dispatch10 libnvinfer-headers-dev\n",
            "  libnvinfer-headers-plugin-dev libnvinfer-lean-dev libnvinfer-lean10 libnvinfer-plugin-dev\n",
            "  libnvinfer-plugin10 libnvinfer-vc-plugin-dev libnvinfer-vc-plugin10 libnvinfer10\n",
            "  libnvonnxparsers-dev libnvonnxparsers10 python3-libnvinfer python3-libnvinfer-dev\n",
            "  python3-libnvinfer-dispatch python3-libnvinfer-lean\n",
            "0 upgraded, 18 newly installed, 0 to remove and 49 not upgraded.\n",
            "Need to get 2,543 MB of archives.\n",
            "After this operation, 6,834 MB of additional disk space will be used.\n",
            "Get:1 https://developer.download.nvidia.com/compute/cuda/repos/ubuntu2204/x86_64  libnvinfer-headers-dev 10.7.0.23-1+cuda12.6 [106 kB]\n",
            "Get:2 https://developer.download.nvidia.com/compute/cuda/repos/ubuntu2204/x86_64  libnvinfer10 10.7.0.23-1+cuda12.6 [1,240 MB]\n",
            "Get:3 https://developer.download.nvidia.com/compute/cuda/repos/ubuntu2204/x86_64  libnvinfer-dev 10.7.0.23-1+cuda12.6 [1,246 MB]\n",
            "Get:4 https://developer.download.nvidia.com/compute/cuda/repos/ubuntu2204/x86_64  libnvinfer-dispatch10 10.7.0.23-1+cuda12.6 [213 kB]\n",
            "Get:5 https://developer.download.nvidia.com/compute/cuda/repos/ubuntu2204/x86_64  libnvinfer-dispatch-dev 10.7.0.23-1+cuda12.6 [124 kB]\n",
            "Get:6 https://developer.download.nvidia.com/compute/cuda/repos/ubuntu2204/x86_64  libnvinfer-headers-plugin-dev 10.7.0.23-1+cuda12.6 [6,060 B]\n",
            "Get:7 https://developer.download.nvidia.com/compute/cuda/repos/ubuntu2204/x86_64  libnvinfer-lean10 10.7.0.23-1+cuda12.6 [8,232 kB]\n",
            "Get:8 https://developer.download.nvidia.com/compute/cuda/repos/ubuntu2204/x86_64  libnvinfer-lean-dev 10.7.0.23-1+cuda12.6 [21.6 MB]\n",
            "Get:9 https://developer.download.nvidia.com/compute/cuda/repos/ubuntu2204/x86_64  libnvinfer-plugin10 10.7.0.23-1+cuda12.6 [9,874 kB]\n",
            "Get:10 https://developer.download.nvidia.com/compute/cuda/repos/ubuntu2204/x86_64  libnvinfer-plugin-dev 10.7.0.23-1+cuda12.6 [11.3 MB]\n",
            "Get:11 https://developer.download.nvidia.com/compute/cuda/repos/ubuntu2204/x86_64  libnvinfer-vc-plugin10 10.7.0.23-1+cuda12.6 [223 kB]\n",
            "Get:12 https://developer.download.nvidia.com/compute/cuda/repos/ubuntu2204/x86_64  libnvinfer-vc-plugin-dev 10.7.0.23-1+cuda12.6 [80.4 kB]\n",
            "Get:13 https://developer.download.nvidia.com/compute/cuda/repos/ubuntu2204/x86_64  libnvonnxparsers10 10.7.0.23-1+cuda12.6 [1,324 kB]\n",
            "Get:14 https://developer.download.nvidia.com/compute/cuda/repos/ubuntu2204/x86_64  libnvonnxparsers-dev 10.7.0.23-1+cuda12.6 [2,147 kB]\n",
            "Get:15 https://developer.download.nvidia.com/compute/cuda/repos/ubuntu2204/x86_64  python3-libnvinfer 10.7.0.23-1+cuda12.6 [810 kB]\n",
            "Get:16 https://developer.download.nvidia.com/compute/cuda/repos/ubuntu2204/x86_64  python3-libnvinfer-lean 10.7.0.23-1+cuda12.6 [504 kB]\n",
            "Get:17 https://developer.download.nvidia.com/compute/cuda/repos/ubuntu2204/x86_64  python3-libnvinfer-dispatch 10.7.0.23-1+cuda12.6 [504 kB]\n",
            "Get:18 https://developer.download.nvidia.com/compute/cuda/repos/ubuntu2204/x86_64  python3-libnvinfer-dev 10.7.0.23-1+cuda12.6 [2,962 B]\n",
            "Fetched 2,543 MB in 1min 24s (30.1 MB/s)\n",
            "Selecting previously unselected package libnvinfer-headers-dev.\n",
            "(Reading database ... 124574 files and directories currently installed.)\n",
            "Preparing to unpack .../00-libnvinfer-headers-dev_10.7.0.23-1+cuda12.6_amd64.deb ...\n",
            "Unpacking libnvinfer-headers-dev (10.7.0.23-1+cuda12.6) ...\n",
            "Selecting previously unselected package libnvinfer10.\n",
            "Preparing to unpack .../01-libnvinfer10_10.7.0.23-1+cuda12.6_amd64.deb ...\n",
            "Unpacking libnvinfer10 (10.7.0.23-1+cuda12.6) ...\n",
            "Selecting previously unselected package libnvinfer-dev.\n",
            "Preparing to unpack .../02-libnvinfer-dev_10.7.0.23-1+cuda12.6_amd64.deb ...\n",
            "Unpacking libnvinfer-dev (10.7.0.23-1+cuda12.6) ...\n",
            "Selecting previously unselected package libnvinfer-dispatch10.\n",
            "Preparing to unpack .../03-libnvinfer-dispatch10_10.7.0.23-1+cuda12.6_amd64.deb ...\n",
            "Unpacking libnvinfer-dispatch10 (10.7.0.23-1+cuda12.6) ...\n",
            "Selecting previously unselected package libnvinfer-dispatch-dev.\n",
            "Preparing to unpack .../04-libnvinfer-dispatch-dev_10.7.0.23-1+cuda12.6_amd64.deb ...\n",
            "Unpacking libnvinfer-dispatch-dev (10.7.0.23-1+cuda12.6) ...\n",
            "Selecting previously unselected package libnvinfer-headers-plugin-dev.\n",
            "Preparing to unpack .../05-libnvinfer-headers-plugin-dev_10.7.0.23-1+cuda12.6_amd64.deb ...\n",
            "Unpacking libnvinfer-headers-plugin-dev (10.7.0.23-1+cuda12.6) ...\n",
            "Selecting previously unselected package libnvinfer-lean10.\n",
            "Preparing to unpack .../06-libnvinfer-lean10_10.7.0.23-1+cuda12.6_amd64.deb ...\n",
            "Unpacking libnvinfer-lean10 (10.7.0.23-1+cuda12.6) ...\n",
            "Selecting previously unselected package libnvinfer-lean-dev.\n",
            "Preparing to unpack .../07-libnvinfer-lean-dev_10.7.0.23-1+cuda12.6_amd64.deb ...\n",
            "Unpacking libnvinfer-lean-dev (10.7.0.23-1+cuda12.6) ...\n",
            "Selecting previously unselected package libnvinfer-plugin10.\n",
            "Preparing to unpack .../08-libnvinfer-plugin10_10.7.0.23-1+cuda12.6_amd64.deb ...\n",
            "Unpacking libnvinfer-plugin10 (10.7.0.23-1+cuda12.6) ...\n",
            "Selecting previously unselected package libnvinfer-plugin-dev.\n",
            "Preparing to unpack .../09-libnvinfer-plugin-dev_10.7.0.23-1+cuda12.6_amd64.deb ...\n",
            "Unpacking libnvinfer-plugin-dev (10.7.0.23-1+cuda12.6) ...\n",
            "Selecting previously unselected package libnvinfer-vc-plugin10.\n",
            "Preparing to unpack .../10-libnvinfer-vc-plugin10_10.7.0.23-1+cuda12.6_amd64.deb ...\n",
            "Unpacking libnvinfer-vc-plugin10 (10.7.0.23-1+cuda12.6) ...\n",
            "Selecting previously unselected package libnvinfer-vc-plugin-dev.\n",
            "Preparing to unpack .../11-libnvinfer-vc-plugin-dev_10.7.0.23-1+cuda12.6_amd64.deb ...\n",
            "Unpacking libnvinfer-vc-plugin-dev (10.7.0.23-1+cuda12.6) ...\n",
            "Selecting previously unselected package libnvonnxparsers10.\n",
            "Preparing to unpack .../12-libnvonnxparsers10_10.7.0.23-1+cuda12.6_amd64.deb ...\n",
            "Unpacking libnvonnxparsers10 (10.7.0.23-1+cuda12.6) ...\n",
            "Selecting previously unselected package libnvonnxparsers-dev.\n",
            "Preparing to unpack .../13-libnvonnxparsers-dev_10.7.0.23-1+cuda12.6_amd64.deb ...\n",
            "Unpacking libnvonnxparsers-dev (10.7.0.23-1+cuda12.6) ...\n",
            "Selecting previously unselected package python3-libnvinfer.\n",
            "Preparing to unpack .../14-python3-libnvinfer_10.7.0.23-1+cuda12.6_amd64.deb ...\n",
            "Unpacking python3-libnvinfer (10.7.0.23-1+cuda12.6) ...\n",
            "Selecting previously unselected package python3-libnvinfer-lean.\n",
            "Preparing to unpack .../15-python3-libnvinfer-lean_10.7.0.23-1+cuda12.6_amd64.deb ...\n",
            "Unpacking python3-libnvinfer-lean (10.7.0.23-1+cuda12.6) ...\n",
            "Selecting previously unselected package python3-libnvinfer-dispatch.\n",
            "Preparing to unpack .../16-python3-libnvinfer-dispatch_10.7.0.23-1+cuda12.6_amd64.deb ...\n",
            "Unpacking python3-libnvinfer-dispatch (10.7.0.23-1+cuda12.6) ...\n",
            "Selecting previously unselected package python3-libnvinfer-dev.\n",
            "Preparing to unpack .../17-python3-libnvinfer-dev_10.7.0.23-1+cuda12.6_amd64.deb ...\n",
            "Unpacking python3-libnvinfer-dev (10.7.0.23-1+cuda12.6) ...\n",
            "Setting up libnvinfer-headers-dev (10.7.0.23-1+cuda12.6) ...\n",
            "Setting up libnvinfer10 (10.7.0.23-1+cuda12.6) ...\n",
            "Setting up libnvinfer-plugin10 (10.7.0.23-1+cuda12.6) ...\n",
            "Setting up libnvinfer-vc-plugin10 (10.7.0.23-1+cuda12.6) ...\n",
            "Setting up libnvonnxparsers10 (10.7.0.23-1+cuda12.6) ...\n",
            "Setting up libnvinfer-dispatch10 (10.7.0.23-1+cuda12.6) ...\n",
            "Setting up libnvinfer-dispatch-dev (10.7.0.23-1+cuda12.6) ...\n",
            "Setting up libnvinfer-dev (10.7.0.23-1+cuda12.6) ...\n",
            "Setting up libnvinfer-lean10 (10.7.0.23-1+cuda12.6) ...\n",
            "Setting up libnvonnxparsers-dev (10.7.0.23-1+cuda12.6) ...\n",
            "Setting up python3-libnvinfer-dispatch (10.7.0.23-1+cuda12.6) ...\n",
            "Setting up libnvinfer-headers-plugin-dev (10.7.0.23-1+cuda12.6) ...\n",
            "Setting up libnvinfer-lean-dev (10.7.0.23-1+cuda12.6) ...\n",
            "Setting up python3-libnvinfer (10.7.0.23-1+cuda12.6) ...\n",
            "Setting up python3-libnvinfer-lean (10.7.0.23-1+cuda12.6) ...\n",
            "Setting up libnvinfer-plugin-dev (10.7.0.23-1+cuda12.6) ...\n",
            "Setting up libnvinfer-vc-plugin-dev (10.7.0.23-1+cuda12.6) ...\n",
            "Setting up python3-libnvinfer-dev (10.7.0.23-1+cuda12.6) ...\n",
            "Processing triggers for libc-bin (2.35-0ubuntu3.4) ...\n",
            "/sbin/ldconfig.real: /usr/local/lib/libur_loader.so.0 is not a symbolic link\n",
            "\n",
            "/sbin/ldconfig.real: /usr/local/lib/libtbbmalloc.so.2 is not a symbolic link\n",
            "\n",
            "/sbin/ldconfig.real: /usr/local/lib/libtcm_debug.so.1 is not a symbolic link\n",
            "\n",
            "/sbin/ldconfig.real: /usr/local/lib/libur_adapter_opencl.so.0 is not a symbolic link\n",
            "\n",
            "/sbin/ldconfig.real: /usr/local/lib/libumf.so.0 is not a symbolic link\n",
            "\n",
            "/sbin/ldconfig.real: /usr/local/lib/libtcm.so.1 is not a symbolic link\n",
            "\n",
            "/sbin/ldconfig.real: /usr/local/lib/libtbbbind_2_0.so.3 is not a symbolic link\n",
            "\n",
            "/sbin/ldconfig.real: /usr/local/lib/libtbbbind.so.3 is not a symbolic link\n",
            "\n",
            "/sbin/ldconfig.real: /usr/local/lib/libur_adapter_level_zero.so.0 is not a symbolic link\n",
            "\n",
            "/sbin/ldconfig.real: /usr/local/lib/libtbb.so.12 is not a symbolic link\n",
            "\n",
            "/sbin/ldconfig.real: /usr/local/lib/libtbbmalloc_proxy.so.2 is not a symbolic link\n",
            "\n",
            "/sbin/ldconfig.real: /usr/local/lib/libhwloc.so.15 is not a symbolic link\n",
            "\n",
            "/sbin/ldconfig.real: /usr/local/lib/libtbbbind_2_5.so.3 is not a symbolic link\n",
            "\n"
          ]
        }
      ]
    },
    {
      "cell_type": "code",
      "source": [
        "!pip install nvidia-pyindex"
      ],
      "metadata": {
        "colab": {
          "base_uri": "https://localhost:8080/"
        },
        "id": "BSP9oEhMiJu6",
        "outputId": "5004873c-b490-434f-886e-62c51b1b5075"
      },
      "execution_count": 14,
      "outputs": [
        {
          "output_type": "stream",
          "name": "stdout",
          "text": [
            "Collecting nvidia-pyindex\n",
            "  Downloading nvidia-pyindex-1.0.9.tar.gz (10 kB)\n",
            "  Preparing metadata (setup.py) ... \u001b[?25l\u001b[?25hdone\n",
            "Building wheels for collected packages: nvidia-pyindex\n",
            "  Building wheel for nvidia-pyindex (setup.py) ... \u001b[?25l\u001b[?25hdone\n",
            "  Created wheel for nvidia-pyindex: filename=nvidia_pyindex-1.0.9-py3-none-any.whl size=8419 sha256=dfe7295a0d8e668e8b5c13ebb4486ac47a8086e9e50fde8a930e9f0ee55b593b\n",
            "  Stored in directory: /root/.cache/pip/wheels/49/d0/7d/b68b3665d16ee20355e65fb7ef48b7ca26533217d9f09924fe\n",
            "Successfully built nvidia-pyindex\n",
            "Installing collected packages: nvidia-pyindex\n",
            "Successfully installed nvidia-pyindex-1.0.9\n"
          ]
        }
      ]
    },
    {
      "cell_type": "code",
      "source": [
        "!pip install pycuda"
      ],
      "metadata": {
        "colab": {
          "base_uri": "https://localhost:8080/"
        },
        "id": "C-hcyWrSiQcD",
        "outputId": "23c933e1-58c7-4bd7-d46f-fa822015cf20"
      },
      "execution_count": 15,
      "outputs": [
        {
          "output_type": "stream",
          "name": "stdout",
          "text": [
            "Collecting pycuda\n",
            "  Downloading pycuda-2024.1.2.tar.gz (1.7 MB)\n",
            "\u001b[?25l     \u001b[90m━━━━━━━━━━━━━━━━━━━━━━━━━━━━━━━━━━━━━━━━\u001b[0m \u001b[32m0.0/1.7 MB\u001b[0m \u001b[31m?\u001b[0m eta \u001b[36m-:--:--\u001b[0m\r\u001b[2K     \u001b[91m━━━━━━━━━━━━\u001b[0m\u001b[91m╸\u001b[0m\u001b[90m━━━━━━━━━━━━━━━━━━━━━━━━━━━\u001b[0m \u001b[32m0.5/1.7 MB\u001b[0m \u001b[31m15.7 MB/s\u001b[0m eta \u001b[36m0:00:01\u001b[0m\r\u001b[2K     \u001b[90m━━━━━━━━━━━━━━━━━━━━━━━━━━━━━━━━━━━━━━━━\u001b[0m \u001b[32m1.7/1.7 MB\u001b[0m \u001b[31m27.7 MB/s\u001b[0m eta \u001b[36m0:00:00\u001b[0m\n",
            "\u001b[?25h  Installing build dependencies ... \u001b[?25l\u001b[?25hdone\n",
            "  Getting requirements to build wheel ... \u001b[?25l\u001b[?25hdone\n",
            "  Preparing metadata (pyproject.toml) ... \u001b[?25l\u001b[?25hdone\n",
            "Collecting pytools>=2011.2 (from pycuda)\n",
            "  Downloading pytools-2025.1.1-py3-none-any.whl.metadata (3.0 kB)\n",
            "Requirement already satisfied: platformdirs>=2.2.0 in /usr/local/lib/python3.11/dist-packages (from pycuda) (4.3.6)\n",
            "Collecting mako (from pycuda)\n",
            "  Downloading Mako-1.3.8-py3-none-any.whl.metadata (2.9 kB)\n",
            "Requirement already satisfied: typing-extensions>=4.5 in /usr/local/lib/python3.11/dist-packages (from pytools>=2011.2->pycuda) (4.12.2)\n",
            "Requirement already satisfied: MarkupSafe>=0.9.2 in /usr/local/lib/python3.11/dist-packages (from mako->pycuda) (3.0.2)\n",
            "Downloading pytools-2025.1.1-py3-none-any.whl (92 kB)\n",
            "\u001b[2K   \u001b[90m━━━━━━━━━━━━━━━━━━━━━━━━━━━━━━━━━━━━━━━━\u001b[0m \u001b[32m92.8/92.8 kB\u001b[0m \u001b[31m9.7 MB/s\u001b[0m eta \u001b[36m0:00:00\u001b[0m\n",
            "\u001b[?25hDownloading Mako-1.3.8-py3-none-any.whl (78 kB)\n",
            "\u001b[2K   \u001b[90m━━━━━━━━━━━━━━━━━━━━━━━━━━━━━━━━━━━━━━━━\u001b[0m \u001b[32m78.6/78.6 kB\u001b[0m \u001b[31m8.1 MB/s\u001b[0m eta \u001b[36m0:00:00\u001b[0m\n",
            "\u001b[?25hBuilding wheels for collected packages: pycuda\n",
            "  Building wheel for pycuda (pyproject.toml) ... \u001b[?25l\u001b[?25hdone\n",
            "  Created wheel for pycuda: filename=pycuda-2024.1.2-cp311-cp311-linux_x86_64.whl size=660362 sha256=37f87cbc42193b35ecdf74b39bf192d236b0ec39caf45f8996199e00130140da\n",
            "  Stored in directory: /root/.cache/pip/wheels/76/66/50/c65e6116d7e0e16abe0f7c19b50327f76724ccfefbdc61a1b9\n",
            "Successfully built pycuda\n",
            "Installing collected packages: pytools, mako, pycuda\n",
            "Successfully installed mako-1.3.8 pycuda-2024.1.2 pytools-2025.1.1\n"
          ]
        }
      ]
    },
    {
      "cell_type": "code",
      "source": [
        "!apt-get install -y cuda"
      ],
      "metadata": {
        "colab": {
          "base_uri": "https://localhost:8080/"
        },
        "id": "R7LppQdGiQy-",
        "outputId": "e1004603-1c49-4b90-d949-8b7036fe4686"
      },
      "execution_count": 16,
      "outputs": [
        {
          "output_type": "stream",
          "name": "stdout",
          "text": [
            "Reading package lists... Done\n",
            "Building dependency tree... Done\n",
            "Reading state information... Done\n",
            "Some packages could not be installed. This may mean that you have\n",
            "requested an impossible situation or if you are using the unstable\n",
            "distribution that some required packages have not yet been created\n",
            "or been moved out of Incoming.\n",
            "The following information may help to resolve the situation:\n",
            "\n",
            "The following packages have unmet dependencies:\n",
            " nvidia-open : Depends: nvidia-driver-565-open (>= 565.57.01) but it is not installable or\n",
            "                        nvidia-driver-565-server-open (>= 565.57.01) but it is not installable\n",
            "E: Unable to correct problems, you have held broken packages.\n"
          ]
        }
      ]
    },
    {
      "cell_type": "code",
      "source": [
        "!pip install nvidia-tensorrt"
      ],
      "metadata": {
        "colab": {
          "base_uri": "https://localhost:8080/"
        },
        "id": "jOIxZpIqnkY_",
        "outputId": "2c45f4c6-0e6e-42ab-ddcc-e2d09d5eeef1"
      },
      "execution_count": 19,
      "outputs": [
        {
          "output_type": "stream",
          "name": "stdout",
          "text": [
            "Collecting nvidia-tensorrt\n",
            "  Downloading nvidia_tensorrt-99.0.0-py3-none-manylinux_2_17_x86_64.whl.metadata (596 bytes)\n",
            "Collecting tensorrt (from nvidia-tensorrt)\n",
            "  Downloading tensorrt-10.8.0.43.tar.gz (35 kB)\n",
            "  Preparing metadata (setup.py) ... \u001b[?25l\u001b[?25hdone\n",
            "Collecting tensorrt_cu12==10.8.0.43 (from tensorrt->nvidia-tensorrt)\n",
            "  Downloading tensorrt_cu12-10.8.0.43.tar.gz (18 kB)\n",
            "  Preparing metadata (setup.py) ... \u001b[?25l\u001b[?25hdone\n",
            "Downloading nvidia_tensorrt-99.0.0-py3-none-manylinux_2_17_x86_64.whl (17 kB)\n",
            "Building wheels for collected packages: tensorrt, tensorrt_cu12\n",
            "  Building wheel for tensorrt (setup.py) ... \u001b[?25l\u001b[?25hdone\n",
            "  Created wheel for tensorrt: filename=tensorrt-10.8.0.43-py2.py3-none-any.whl size=42246 sha256=a0b007748fcef76f81c9b380db4a47bd4febad8dbdb0b2848c82abcada594d69\n",
            "  Stored in directory: /root/.cache/pip/wheels/74/b9/22/cd396c2ef84d0f65b7ad3c218d00b8049e426d0fde196209bc\n",
            "  Building wheel for tensorrt_cu12 (setup.py) ... \u001b[?25l\u001b[?25hdone\n",
            "  Created wheel for tensorrt_cu12: filename=tensorrt_cu12-10.8.0.43-py2.py3-none-any.whl size=17595 sha256=1aa05decc2ca8dd7a11dfcd7315a165c3724b0b10bca9175c535d10bf4d8742a\n",
            "  Stored in directory: /root/.cache/pip/wheels/ef/cf/7c/93e4012a84c44ffa5cf2a6a7ea03b282a8a19e17755808a9fb\n",
            "Successfully built tensorrt tensorrt_cu12\n",
            "Installing collected packages: tensorrt_cu12, tensorrt, nvidia-tensorrt\n",
            "Successfully installed nvidia-tensorrt-99.0.0 tensorrt-10.8.0.43 tensorrt_cu12-10.8.0.43\n"
          ]
        }
      ]
    },
    {
      "cell_type": "code",
      "source": [
        "import tensorrt as trt\n",
        "import pycuda.driver as cuda\n",
        "import pycuda.autoinit  # Automatically initializes CUDA context\n",
        "\n",
        "# Create a logger for TensorRT\n",
        "TRT_LOGGER = trt.Logger(trt.Logger.WARNING)\n",
        "\n",
        "# Function to build the TensorRT engine\n",
        "def build_trt_engine(onnx_file_path, output_engine_path):\n",
        "    # Load the ONNX model\n",
        "    with open(onnx_file_path, 'rb') as f:\n",
        "        onnx_model = f.read()\n",
        "\n",
        "    # Create a builder and network for TensorRT\n",
        "    builder = trt.Builder(TRT_LOGGER)\n",
        "    network = builder.create_network(flags=1 << int(trt.NetworkDefinitionCreationFlag.EXPLICIT_BATCH))\n",
        "    parser = trt.OnnxParser(network, TRT_LOGGER)\n",
        "\n",
        "    # Parse the ONNX model\n",
        "    if not parser.parse(onnx_model):\n",
        "        print(\"ERROR: Failed to parse the ONNX file.\")\n",
        "        for i in range(parser.num_errors):\n",
        "            print(parser.get_error(i))\n",
        "        return None\n",
        "\n",
        "    # Set the builder configurations\n",
        "    config = builder.create_builder_config()\n",
        "    config.set_memory_pool_limit(trt.MemoryPoolType.WORKSPACE, 1 << 30)  # 1GB workspace size\n",
        "\n",
        "    # Enable FP16 if supported\n",
        "    if builder.platform_has_fast_fp16:\n",
        "        config.set_flag(trt.BuilderFlag.FP16)\n",
        "\n",
        "    # Build the serialized network\n",
        "    serialized_engine = builder.build_serialized_network(network, config)\n",
        "    if not serialized_engine:\n",
        "        print(\"ERROR: Failed to build the TensorRT engine.\")\n",
        "        return None\n",
        "\n",
        "    # Save the serialized engine to a file\n",
        "    with open(output_engine_path, 'wb') as f:\n",
        "        f.write(serialized_engine)\n",
        "    print(f\"TensorRT engine saved to {output_engine_path}\")\n",
        "\n",
        "    # Deserialize the engine\n",
        "    runtime = trt.Runtime(TRT_LOGGER)\n",
        "    engine = runtime.deserialize_cuda_engine(serialized_engine)\n",
        "\n",
        "    return engine\n",
        "\n",
        "# File paths\n",
        "onnx_file = \"model.onnx\"  # Replace with your ONNX model file path\n",
        "engine_file = \"model_trt.engine\"  # Path to save the TensorRT engine\n",
        "\n",
        "# Build the TensorRT engine\n",
        "engine = build_trt_engine(onnx_file, engine_file)\n",
        "if engine:\n",
        "    print(\"TensorRT engine created successfully!\")\n",
        "else:\n",
        "    print(\"Failed to create TensorRT engine.\")\n"
      ],
      "metadata": {
        "colab": {
          "base_uri": "https://localhost:8080/"
        },
        "id": "S3jbpNyHiQ2I",
        "outputId": "4795d5c5-ef38-4b61-d89e-59b975580263"
      },
      "execution_count": 20,
      "outputs": [
        {
          "output_type": "stream",
          "name": "stdout",
          "text": [
            "TensorRT engine saved to model_trt.engine\n",
            "TensorRT engine created successfully!\n"
          ]
        }
      ]
    },
    {
      "cell_type": "code",
      "source": [
        "import tensorrt as trt\n",
        "print(trt.__version__)\n"
      ],
      "metadata": {
        "colab": {
          "base_uri": "https://localhost:8080/"
        },
        "id": "2-2wq-0erDRz",
        "outputId": "08483635-56e1-4bd0-d0b6-cafec228f64a"
      },
      "execution_count": 26,
      "outputs": [
        {
          "output_type": "stream",
          "name": "stdout",
          "text": [
            "10.8.0.43\n"
          ]
        }
      ]
    },
    {
      "cell_type": "code",
      "source": [
        "import tensorrt as trt\n",
        "import pycuda.driver as cuda\n",
        "import pycuda.autoinit  # Automatically initializes CUDA context\n",
        "import numpy as np\n",
        "import torch\n",
        "import torch.nn as nn\n",
        "import torch.optim as optim\n",
        "from sklearn.metrics import f1_score\n",
        "import time\n",
        "import matplotlib.pyplot as plt\n",
        "from torchvision import transforms\n",
        "from torchvision.datasets import CIFAR10\n",
        "from torch.utils.data import DataLoader\n",
        "\n",
        "# Create a logger for TensorRT\n",
        "TRT_LOGGER = trt.Logger(trt.Logger.WARNING)\n",
        "\n",
        "# Function to build the TensorRT engine\n",
        "def build_trt_engine(onnx_file_path, output_engine_path):\n",
        "    # Load the ONNX model\n",
        "    with open(onnx_file_path, 'rb') as f:\n",
        "        onnx_model = f.read()\n",
        "\n",
        "    # Create a builder and network for TensorRT\n",
        "    builder = trt.Builder(TRT_LOGGER)\n",
        "    network = builder.create_network(flags=1 << int(trt.NetworkDefinitionCreationFlag.EXPLICIT_BATCH))\n",
        "    parser = trt.OnnxParser(network, TRT_LOGGER)\n",
        "\n",
        "    # Parse the ONNX model\n",
        "    if not parser.parse(onnx_model):\n",
        "        print(\"ERROR: Failed to parse the ONNX file.\")\n",
        "        for i in range(parser.num_errors):\n",
        "            print(parser.get_error(i))\n",
        "        return None\n",
        "\n",
        "    # Set the builder configurations\n",
        "    config = builder.create_builder_config()\n",
        "    config.set_memory_pool_limit(trt.MemoryPoolType.WORKSPACE, 1 << 30)  # 1GB workspace size\n",
        "\n",
        "    # Enable FP16 if supported\n",
        "    if builder.platform_has_fast_fp16:\n",
        "        config.set_flag(trt.BuilderFlag.FP16)\n",
        "\n",
        "    # Build the serialized network\n",
        "    serialized_engine = builder.build_serialized_network(network, config)\n",
        "    if not serialized_engine:\n",
        "        print(\"ERROR: Failed to build the TensorRT engine.\")\n",
        "        return None\n",
        "\n",
        "    # Save the serialized engine to a file\n",
        "    with open(output_engine_path, 'wb') as f:\n",
        "        f.write(serialized_engine)\n",
        "    print(f\"TensorRT engine saved to {output_engine_path}\")\n",
        "\n",
        "    # Deserialize the engine\n",
        "    runtime = trt.Runtime(TRT_LOGGER)\n",
        "    engine = runtime.deserialize_cuda_engine(serialized_engine)\n",
        "\n",
        "    return engine\n",
        "\n",
        "# Function to allocate buffers for input and output\n",
        "def allocate_buffers(engine):\n",
        "    input_index = 0  # Adjust based on your model's input index\n",
        "    output_index = 1  # Adjust based on your model's output index\n",
        "\n",
        "    # Get input and output dimensions using get_binding_dimensions (correct method)\n",
        "    input_shape = engine.get_binding_dimensions(input_index)  # Use get_binding_dimensions instead of get_binding_shape\n",
        "    output_shape = engine.get_binding_dimensions(output_index)\n",
        "\n",
        "    # Allocate memory for input and output buffers based on shapes obtained from bindings\n",
        "    h_input = np.empty(trt.volume(input_shape), dtype=np.float32)  # Host input buffer (flattened)\n",
        "    d_input = cuda.mem_alloc(h_input.nbytes)                       # Device input buffer\n",
        "    h_output = np.empty(trt.volume(output_shape), dtype=np.float32) # Host output buffer (flattened)\n",
        "    d_output = cuda.mem_alloc(h_output.nbytes)                     # Device output buffer\n",
        "\n",
        "    stream = cuda.Stream()  # Create CUDA stream\n",
        "\n",
        "    return h_input, d_input, h_output, d_output, stream\n",
        "\n",
        "# Function to perform inference using TensorRT\n",
        "def infer(engine, h_input, d_input, h_output, d_output, stream):\n",
        "    context = engine.create_execution_context()\n",
        "\n",
        "    # Transfer input data to the device\n",
        "    cuda.memcpy_htod_async(d_input, h_input, stream)\n",
        "\n",
        "    # Execute the model\n",
        "    context.execute_async_v2(bindings=[int(d_input), int(d_output)], stream_handle=stream.handle)\n",
        "\n",
        "    # Transfer output data back to the host\n",
        "    cuda.memcpy_dtoh_async(h_output, d_output, stream)\n",
        "\n",
        "    # Synchronize the stream\n",
        "    stream.synchronize()\n",
        "\n",
        "# Main function to run everything together\n",
        "def main():\n",
        "    onnx_file = \"model.onnx\"  # Replace with your ONNX model file path\n",
        "    engine_file = \"model_trt.engine\"  # Path to save the TensorRT engine\n",
        "\n",
        "    # Build the TensorRT engine from ONNX model if it doesn't exist already.\n",
        "    engine = build_trt_engine(onnx_file, engine_file)\n",
        "\n",
        "    if not engine:\n",
        "        print(\"Failed to create TensorRT engine.\")\n",
        "        return\n",
        "\n",
        "    print(\"TensorRT engine created successfully!\")\n",
        "\n",
        "    # Allocate buffers for input and output for inference\n",
        "    h_input, d_input, h_output, d_output, stream = allocate_buffers(engine)\n",
        "\n",
        "   # Generate dummy input data (replace this with actual input data)\n",
        "    h_input[...] = np.random.rand(*h_input.shape).astype(np.float32)\n",
        "\n",
        "   # Perform inference using TensorRT\n",
        "    infer(engine, h_input, d_input, h_output, d_output, stream)\n",
        "\n",
        "   # Print the output results (for demonstration purposes)\n",
        "    print(\"Output from TensorRT inference:\", h_output)\n",
        "\n",
        "if __name__ == \"__main__\":\n",
        "   main()\n"
      ],
      "metadata": {
        "colab": {
          "base_uri": "https://localhost:8080/",
          "height": 356
        },
        "id": "MJATbQeUtvV5",
        "outputId": "4f8db4c5-3afd-4b53-9c54-1f400953ae81"
      },
      "execution_count": 30,
      "outputs": [
        {
          "output_type": "stream",
          "name": "stdout",
          "text": [
            "TensorRT engine saved to model_trt.engine\n",
            "TensorRT engine created successfully!\n"
          ]
        },
        {
          "output_type": "error",
          "ename": "AttributeError",
          "evalue": "'tensorrt_bindings.tensorrt.ICudaEngine' object has no attribute 'get_binding_dimensions'",
          "traceback": [
            "\u001b[0;31m---------------------------------------------------------------------------\u001b[0m",
            "\u001b[0;31mAttributeError\u001b[0m                            Traceback (most recent call last)",
            "\u001b[0;32m<ipython-input-30-d92e3cc9a14b>\u001b[0m in \u001b[0;36m<cell line: 0>\u001b[0;34m()\u001b[0m\n\u001b[1;32m    121\u001b[0m \u001b[0;34m\u001b[0m\u001b[0m\n\u001b[1;32m    122\u001b[0m \u001b[0;32mif\u001b[0m \u001b[0m__name__\u001b[0m \u001b[0;34m==\u001b[0m \u001b[0;34m\"__main__\"\u001b[0m\u001b[0;34m:\u001b[0m\u001b[0;34m\u001b[0m\u001b[0;34m\u001b[0m\u001b[0m\n\u001b[0;32m--> 123\u001b[0;31m    \u001b[0mmain\u001b[0m\u001b[0;34m(\u001b[0m\u001b[0;34m)\u001b[0m\u001b[0;34m\u001b[0m\u001b[0;34m\u001b[0m\u001b[0m\n\u001b[0m",
            "\u001b[0;32m<ipython-input-30-d92e3cc9a14b>\u001b[0m in \u001b[0;36mmain\u001b[0;34m()\u001b[0m\n\u001b[1;32m    109\u001b[0m \u001b[0;34m\u001b[0m\u001b[0m\n\u001b[1;32m    110\u001b[0m     \u001b[0;31m# Allocate buffers for input and output for inference\u001b[0m\u001b[0;34m\u001b[0m\u001b[0;34m\u001b[0m\u001b[0m\n\u001b[0;32m--> 111\u001b[0;31m     \u001b[0mh_input\u001b[0m\u001b[0;34m,\u001b[0m \u001b[0md_input\u001b[0m\u001b[0;34m,\u001b[0m \u001b[0mh_output\u001b[0m\u001b[0;34m,\u001b[0m \u001b[0md_output\u001b[0m\u001b[0;34m,\u001b[0m \u001b[0mstream\u001b[0m \u001b[0;34m=\u001b[0m \u001b[0mallocate_buffers\u001b[0m\u001b[0;34m(\u001b[0m\u001b[0mengine\u001b[0m\u001b[0;34m)\u001b[0m\u001b[0;34m\u001b[0m\u001b[0;34m\u001b[0m\u001b[0m\n\u001b[0m\u001b[1;32m    112\u001b[0m \u001b[0;34m\u001b[0m\u001b[0m\n\u001b[1;32m    113\u001b[0m    \u001b[0;31m# Generate dummy input data (replace this with actual input data)\u001b[0m\u001b[0;34m\u001b[0m\u001b[0;34m\u001b[0m\u001b[0m\n",
            "\u001b[0;32m<ipython-input-30-d92e3cc9a14b>\u001b[0m in \u001b[0;36mallocate_buffers\u001b[0;34m(engine)\u001b[0m\n\u001b[1;32m     65\u001b[0m \u001b[0;34m\u001b[0m\u001b[0m\n\u001b[1;32m     66\u001b[0m     \u001b[0;31m# Get input and output dimensions using get_binding_dimensions (correct method)\u001b[0m\u001b[0;34m\u001b[0m\u001b[0;34m\u001b[0m\u001b[0m\n\u001b[0;32m---> 67\u001b[0;31m     \u001b[0minput_shape\u001b[0m \u001b[0;34m=\u001b[0m \u001b[0mengine\u001b[0m\u001b[0;34m.\u001b[0m\u001b[0mget_binding_dimensions\u001b[0m\u001b[0;34m(\u001b[0m\u001b[0minput_index\u001b[0m\u001b[0;34m)\u001b[0m  \u001b[0;31m# Use get_binding_dimensions instead of get_binding_shape\u001b[0m\u001b[0;34m\u001b[0m\u001b[0;34m\u001b[0m\u001b[0m\n\u001b[0m\u001b[1;32m     68\u001b[0m     \u001b[0moutput_shape\u001b[0m \u001b[0;34m=\u001b[0m \u001b[0mengine\u001b[0m\u001b[0;34m.\u001b[0m\u001b[0mget_binding_dimensions\u001b[0m\u001b[0;34m(\u001b[0m\u001b[0moutput_index\u001b[0m\u001b[0;34m)\u001b[0m\u001b[0;34m\u001b[0m\u001b[0;34m\u001b[0m\u001b[0m\n\u001b[1;32m     69\u001b[0m \u001b[0;34m\u001b[0m\u001b[0m\n",
            "\u001b[0;31mAttributeError\u001b[0m: 'tensorrt_bindings.tensorrt.ICudaEngine' object has no attribute 'get_binding_dimensions'"
          ]
        }
      ]
    },
    {
      "cell_type": "code",
      "source": [
        "import tensorrt as trt\n",
        "import pycuda.driver as cuda\n",
        "import pycuda.autoinit  # Automatically initializes CUDA context\n",
        "import numpy as np\n",
        "\n",
        "# Create a logger for TensorRT\n",
        "TRT_LOGGER = trt.Logger(trt.Logger.WARNING)\n",
        "\n",
        "# Function to build and save the TensorRT engine\n",
        "def build_and_save_trt_engine(onnx_file_path, output_engine_path):\n",
        "    # Load the ONNX model\n",
        "    with open(onnx_file_path, 'rb') as f:\n",
        "        onnx_model = f.read()\n",
        "\n",
        "    # Create a builder and network for TensorRT\n",
        "    builder = trt.Builder(TRT_LOGGER)\n",
        "    network = builder.create_network(flags=1 << int(trt.NetworkDefinitionCreationFlag.EXPLICIT_BATCH))\n",
        "    parser = trt.OnnxParser(network, TRT_LOGGER)\n",
        "\n",
        "    # Parse the ONNX model\n",
        "    if not parser.parse(onnx_model):\n",
        "        print(\"ERROR: Failed to parse the ONNX file.\")\n",
        "        for i in range(parser.num_errors):\n",
        "            print(parser.get_error(i))\n",
        "        return None\n",
        "\n",
        "    # Set the builder configurations\n",
        "    config = builder.create_builder_config()\n",
        "    config.set_memory_pool_limit(trt.MemoryPoolType.WORKSPACE, 1 << 30)  # 1GB workspace size\n",
        "\n",
        "    # Enable FP16 if supported\n",
        "    if builder.platform_has_fast_fp16:\n",
        "        config.set_flag(trt.BuilderFlag.FP16)\n",
        "\n",
        "    # Build the serialized network\n",
        "    serialized_engine = builder.build_serialized_network(network, config)\n",
        "    if not serialized_engine:\n",
        "        print(\"ERROR: Failed to build the TensorRT engine.\")\n",
        "        return None\n",
        "\n",
        "    # Save the serialized engine to a file\n",
        "    with open(output_engine_path, 'wb') as f:\n",
        "        f.write(serialized_engine)\n",
        "    print(f\"TensorRT engine saved to {output_engine_path}\")\n",
        "\n",
        "    return serialized_engine  # Return serialized engine for further use if needed\n",
        "\n",
        "# Main function to run everything together\n",
        "def main():\n",
        "    onnx_file = \"model.onnx\"  # Replace with your ONNX model file path\n",
        "    engine_file = \"model_trt.engine\"  # Path to save the TensorRT engine\n",
        "\n",
        "   # Build and save the TensorRT engine from ONNX model\n",
        "    build_and_save_trt_engine(onnx_file, engine_file)\n",
        "\n",
        "if __name__ == \"__main__\":\n",
        "   main()"
      ],
      "metadata": {
        "colab": {
          "base_uri": "https://localhost:8080/"
        },
        "id": "0ltVQ9LT07Li",
        "outputId": "ea9e0985-caaa-4e5c-896d-7d179aef5ff5"
      },
      "execution_count": 44,
      "outputs": [
        {
          "output_type": "stream",
          "name": "stdout",
          "text": [
            "TensorRT engine saved to model_trt.engine\n"
          ]
        }
      ]
    },
    {
      "cell_type": "code",
      "source": [],
      "metadata": {
        "id": "Go2W0p8xz8Lo"
      },
      "execution_count": null,
      "outputs": []
    }
  ],
  "metadata": {
    "colab": {
      "name": "Welcome To Colab",
      "provenance": [],
      "gpuType": "T4"
    },
    "kernelspec": {
      "display_name": "Python 3",
      "name": "python3"
    },
    "accelerator": "GPU"
  },
  "nbformat": 4,
  "nbformat_minor": 0
}