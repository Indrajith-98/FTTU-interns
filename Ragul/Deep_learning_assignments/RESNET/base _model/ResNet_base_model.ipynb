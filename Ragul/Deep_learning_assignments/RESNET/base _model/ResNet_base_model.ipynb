{
  "nbformat": 4,
  "nbformat_minor": 0,
  "metadata": {
    "colab": {
      "provenance": [],
      "gpuType": "T4"
    },
    "kernelspec": {
      "name": "python3",
      "display_name": "Python 3"
    },
    "language_info": {
      "name": "python"
    },
    "accelerator": "GPU"
  },
  "cells": [
    {
      "cell_type": "code",
      "execution_count": 8,
      "metadata": {
        "id": "w9YuLmYCCaEB"
      },
      "outputs": [],
      "source": [
        "import tensorflow as tf\n",
        "from tensorflow.keras import layers, models, datasets\n",
        "from tensorflow.keras.utils import to_categorical"
      ]
    },
    {
      "cell_type": "code",
      "source": [
        "# Load and preprocess the MNIST dataset\n",
        "def load_and_preprocess_data():\n",
        "    (x_train, y_train), (x_test, y_test) = datasets.mnist.load_data()\n",
        "    x_train, x_test = x_train / 255.0, x_test / 255.0  # Normalize the images to [0, 1] range\n",
        "\n",
        "    # Reshape the data to include channel dimension (28, 28, 1)\n",
        "    x_train = x_train.reshape(x_train.shape[0], 28, 28, 1)\n",
        "    x_test = x_test.reshape(x_test.shape[0], 28, 28, 1)\n",
        "\n",
        "    # Convert class vectors to binary class matrices (one-hot encoding)\n",
        "    y_train = to_categorical(y_train, 10)\n",
        "    y_test = to_categorical(y_test, 10)\n",
        "\n",
        "    return (x_train, y_train), (x_test, y_test)\n"
      ],
      "metadata": {
        "id": "xox2r4srCbPC"
      },
      "execution_count": 9,
      "outputs": []
    },
    {
      "cell_type": "code",
      "source": [
        "# Define a residual block\n",
        "def residual_block(x, filters, kernel_size=3, stride=1):\n",
        "    shortcut = x\n",
        "    x = layers.Conv2D(filters, kernel_size=kernel_size, strides=stride, padding='same', activation='relu')(x)\n",
        "    x = layers.BatchNormalization()(x)\n",
        "    x = layers.Conv2D(filters, kernel_size=kernel_size, strides=stride, padding='same')(x)\n",
        "    x = layers.BatchNormalization()(x)\n",
        "\n",
        "    if stride != 1:\n",
        "        shortcut = layers.Conv2D(filters, kernel_size=1, strides=stride, padding='same')(shortcut)\n",
        "        shortcut = layers.BatchNormalization()(shortcut)\n",
        "\n",
        "    x = layers.add([x, shortcut])\n",
        "    x = layers.Activation('relu')(x)\n",
        "    return x"
      ],
      "metadata": {
        "id": "wAJKdSQYCknB"
      },
      "execution_count": 10,
      "outputs": []
    },
    {
      "cell_type": "code",
      "source": [
        "\n",
        "# Define the ResNet model\n",
        "def create_resnet_model(input_shape=(28, 28, 1), num_classes=10):\n",
        "    inputs = layers.Input(shape=input_shape)\n",
        "\n",
        "    x = layers.Conv2D(64, kernel_size=3, strides=1, padding='same', activation='relu')(inputs)\n",
        "    x = layers.BatchNormalization()(x)\n",
        "\n",
        "    # Add residual blocks\n",
        "    x = residual_block(x, filters=64)\n",
        "    x = residual_block(x, filters=64)\n",
        "\n",
        "    x = layers.GlobalAveragePooling2D()(x)\n",
        "    x = layers.Dense(num_classes, activation='softmax')(x)\n",
        "\n",
        "    model = models.Model(inputs, x)\n",
        "    return model"
      ],
      "metadata": {
        "id": "A4QXGmduCnEU"
      },
      "execution_count": 11,
      "outputs": []
    },
    {
      "cell_type": "code",
      "source": [
        "# Compile and train the model\n",
        "def train_model(model, x_train, y_train, x_test, y_test):\n",
        "    model.compile(optimizer='adam',\n",
        "                  loss='categorical_crossentropy',\n",
        "                  metrics=['accuracy'])\n",
        "\n",
        "    model.fit(x_train, y_train, epochs=30, batch_size=128, validation_data=(x_test, y_test))\n",
        "\n",
        "    return model"
      ],
      "metadata": {
        "id": "IRBuRSNxCsGu"
      },
      "execution_count": 12,
      "outputs": []
    },
    {
      "cell_type": "code",
      "source": [
        "# Main function to run the training\n",
        "if __name__ == '__main__':\n",
        "    (x_train, y_train), (x_test, y_test) = load_and_preprocess_data()\n",
        "    model = create_resnet_model()\n",
        "    trained_model = train_model(model, x_train, y_train, x_test, y_test)\n",
        "    trained_model.evaluate(x_test, y_test, verbose=2)"
      ],
      "metadata": {
        "colab": {
          "base_uri": "https://localhost:8080/"
        },
        "id": "iT8kNn8WCs_G",
        "outputId": "9755a2b0-9f91-48b5-f34d-e1b8ce47f001"
      },
      "execution_count": 13,
      "outputs": [
        {
          "output_type": "stream",
          "name": "stdout",
          "text": [
            "Epoch 1/30\n",
            "\u001b[1m469/469\u001b[0m \u001b[32m━━━━━━━━━━━━━━━━━━━━\u001b[0m\u001b[37m\u001b[0m \u001b[1m23s\u001b[0m 37ms/step - accuracy: 0.8113 - loss: 0.8758 - val_accuracy: 0.1326 - val_loss: 9.7944\n",
            "Epoch 2/30\n",
            "\u001b[1m469/469\u001b[0m \u001b[32m━━━━━━━━━━━━━━━━━━━━\u001b[0m\u001b[37m\u001b[0m \u001b[1m14s\u001b[0m 29ms/step - accuracy: 0.9830 - loss: 0.0972 - val_accuracy: 0.9722 - val_loss: 0.1070\n",
            "Epoch 3/30\n",
            "\u001b[1m469/469\u001b[0m \u001b[32m━━━━━━━━━━━━━━━━━━━━\u001b[0m\u001b[37m\u001b[0m \u001b[1m21s\u001b[0m 30ms/step - accuracy: 0.9874 - loss: 0.0587 - val_accuracy: 0.9438 - val_loss: 0.1851\n",
            "Epoch 4/30\n",
            "\u001b[1m469/469\u001b[0m \u001b[32m━━━━━━━━━━━━━━━━━━━━\u001b[0m\u001b[37m\u001b[0m \u001b[1m15s\u001b[0m 31ms/step - accuracy: 0.9887 - loss: 0.0469 - val_accuracy: 0.9802 - val_loss: 0.0658\n",
            "Epoch 5/30\n",
            "\u001b[1m469/469\u001b[0m \u001b[32m━━━━━━━━━━━━━━━━━━━━\u001b[0m\u001b[37m\u001b[0m \u001b[1m14s\u001b[0m 30ms/step - accuracy: 0.9907 - loss: 0.0382 - val_accuracy: 0.9775 - val_loss: 0.0765\n",
            "Epoch 6/30\n",
            "\u001b[1m469/469\u001b[0m \u001b[32m━━━━━━━━━━━━━━━━━━━━\u001b[0m\u001b[37m\u001b[0m \u001b[1m21s\u001b[0m 30ms/step - accuracy: 0.9918 - loss: 0.0317 - val_accuracy: 0.9785 - val_loss: 0.0719\n",
            "Epoch 7/30\n",
            "\u001b[1m469/469\u001b[0m \u001b[32m━━━━━━━━━━━━━━━━━━━━\u001b[0m\u001b[37m\u001b[0m \u001b[1m21s\u001b[0m 31ms/step - accuracy: 0.9931 - loss: 0.0280 - val_accuracy: 0.9674 - val_loss: 0.1020\n",
            "Epoch 8/30\n",
            "\u001b[1m469/469\u001b[0m \u001b[32m━━━━━━━━━━━━━━━━━━━━\u001b[0m\u001b[37m\u001b[0m \u001b[1m20s\u001b[0m 30ms/step - accuracy: 0.9932 - loss: 0.0257 - val_accuracy: 0.9863 - val_loss: 0.0432\n",
            "Epoch 9/30\n",
            "\u001b[1m469/469\u001b[0m \u001b[32m━━━━━━━━━━━━━━━━━━━━\u001b[0m\u001b[37m\u001b[0m \u001b[1m20s\u001b[0m 30ms/step - accuracy: 0.9949 - loss: 0.0211 - val_accuracy: 0.9879 - val_loss: 0.0411\n",
            "Epoch 10/30\n",
            "\u001b[1m469/469\u001b[0m \u001b[32m━━━━━━━━━━━━━━━━━━━━\u001b[0m\u001b[37m\u001b[0m \u001b[1m14s\u001b[0m 30ms/step - accuracy: 0.9947 - loss: 0.0190 - val_accuracy: 0.9431 - val_loss: 0.1752\n",
            "Epoch 11/30\n",
            "\u001b[1m469/469\u001b[0m \u001b[32m━━━━━━━━━━━━━━━━━━━━\u001b[0m\u001b[37m\u001b[0m \u001b[1m15s\u001b[0m 32ms/step - accuracy: 0.9956 - loss: 0.0169 - val_accuracy: 0.9867 - val_loss: 0.0457\n",
            "Epoch 12/30\n",
            "\u001b[1m469/469\u001b[0m \u001b[32m━━━━━━━━━━━━━━━━━━━━\u001b[0m\u001b[37m\u001b[0m \u001b[1m20s\u001b[0m 31ms/step - accuracy: 0.9954 - loss: 0.0159 - val_accuracy: 0.9860 - val_loss: 0.0514\n",
            "Epoch 13/30\n",
            "\u001b[1m469/469\u001b[0m \u001b[32m━━━━━━━━━━━━━━━━━━━━\u001b[0m\u001b[37m\u001b[0m \u001b[1m20s\u001b[0m 30ms/step - accuracy: 0.9964 - loss: 0.0132 - val_accuracy: 0.9880 - val_loss: 0.0391\n",
            "Epoch 14/30\n",
            "\u001b[1m469/469\u001b[0m \u001b[32m━━━━━━━━━━━━━━━━━━━━\u001b[0m\u001b[37m\u001b[0m \u001b[1m21s\u001b[0m 30ms/step - accuracy: 0.9957 - loss: 0.0146 - val_accuracy: 0.9875 - val_loss: 0.0404\n",
            "Epoch 15/30\n",
            "\u001b[1m469/469\u001b[0m \u001b[32m━━━━━━━━━━━━━━━━━━━━\u001b[0m\u001b[37m\u001b[0m \u001b[1m20s\u001b[0m 30ms/step - accuracy: 0.9967 - loss: 0.0126 - val_accuracy: 0.9641 - val_loss: 0.1251\n",
            "Epoch 16/30\n",
            "\u001b[1m469/469\u001b[0m \u001b[32m━━━━━━━━━━━━━━━━━━━━\u001b[0m\u001b[37m\u001b[0m \u001b[1m21s\u001b[0m 31ms/step - accuracy: 0.9960 - loss: 0.0130 - val_accuracy: 0.9810 - val_loss: 0.0647\n",
            "Epoch 17/30\n",
            "\u001b[1m469/469\u001b[0m \u001b[32m━━━━━━━━━━━━━━━━━━━━\u001b[0m\u001b[37m\u001b[0m \u001b[1m20s\u001b[0m 30ms/step - accuracy: 0.9972 - loss: 0.0097 - val_accuracy: 0.9680 - val_loss: 0.1040\n",
            "Epoch 18/30\n",
            "\u001b[1m469/469\u001b[0m \u001b[32m━━━━━━━━━━━━━━━━━━━━\u001b[0m\u001b[37m\u001b[0m \u001b[1m20s\u001b[0m 30ms/step - accuracy: 0.9972 - loss: 0.0107 - val_accuracy: 0.9834 - val_loss: 0.0526\n",
            "Epoch 19/30\n",
            "\u001b[1m469/469\u001b[0m \u001b[32m━━━━━━━━━━━━━━━━━━━━\u001b[0m\u001b[37m\u001b[0m \u001b[1m14s\u001b[0m 30ms/step - accuracy: 0.9976 - loss: 0.0091 - val_accuracy: 0.9843 - val_loss: 0.0484\n",
            "Epoch 20/30\n",
            "\u001b[1m469/469\u001b[0m \u001b[32m━━━━━━━━━━━━━━━━━━━━\u001b[0m\u001b[37m\u001b[0m \u001b[1m15s\u001b[0m 31ms/step - accuracy: 0.9980 - loss: 0.0076 - val_accuracy: 0.8359 - val_loss: 0.5766\n",
            "Epoch 21/30\n",
            "\u001b[1m469/469\u001b[0m \u001b[32m━━━━━━━━━━━━━━━━━━━━\u001b[0m\u001b[37m\u001b[0m \u001b[1m14s\u001b[0m 30ms/step - accuracy: 0.9981 - loss: 0.0083 - val_accuracy: 0.9888 - val_loss: 0.0367\n",
            "Epoch 22/30\n",
            "\u001b[1m469/469\u001b[0m \u001b[32m━━━━━━━━━━━━━━━━━━━━\u001b[0m\u001b[37m\u001b[0m \u001b[1m20s\u001b[0m 30ms/step - accuracy: 0.9987 - loss: 0.0059 - val_accuracy: 0.9870 - val_loss: 0.0418\n",
            "Epoch 23/30\n",
            "\u001b[1m469/469\u001b[0m \u001b[32m━━━━━━━━━━━━━━━━━━━━\u001b[0m\u001b[37m\u001b[0m \u001b[1m21s\u001b[0m 30ms/step - accuracy: 0.9978 - loss: 0.0082 - val_accuracy: 0.9830 - val_loss: 0.0590\n",
            "Epoch 24/30\n",
            "\u001b[1m469/469\u001b[0m \u001b[32m━━━━━━━━━━━━━━━━━━━━\u001b[0m\u001b[37m\u001b[0m \u001b[1m15s\u001b[0m 32ms/step - accuracy: 0.9985 - loss: 0.0057 - val_accuracy: 0.9800 - val_loss: 0.0693\n",
            "Epoch 25/30\n",
            "\u001b[1m469/469\u001b[0m \u001b[32m━━━━━━━━━━━━━━━━━━━━\u001b[0m\u001b[37m\u001b[0m \u001b[1m20s\u001b[0m 30ms/step - accuracy: 0.9987 - loss: 0.0056 - val_accuracy: 0.9877 - val_loss: 0.0399\n",
            "Epoch 26/30\n",
            "\u001b[1m469/469\u001b[0m \u001b[32m━━━━━━━━━━━━━━━━━━━━\u001b[0m\u001b[37m\u001b[0m \u001b[1m14s\u001b[0m 30ms/step - accuracy: 0.9985 - loss: 0.0064 - val_accuracy: 0.9879 - val_loss: 0.0434\n",
            "Epoch 27/30\n",
            "\u001b[1m469/469\u001b[0m \u001b[32m━━━━━━━━━━━━━━━━━━━━\u001b[0m\u001b[37m\u001b[0m \u001b[1m21s\u001b[0m 30ms/step - accuracy: 0.9988 - loss: 0.0046 - val_accuracy: 0.9898 - val_loss: 0.0342\n",
            "Epoch 28/30\n",
            "\u001b[1m469/469\u001b[0m \u001b[32m━━━━━━━━━━━━━━━━━━━━\u001b[0m\u001b[37m\u001b[0m \u001b[1m21s\u001b[0m 32ms/step - accuracy: 0.9994 - loss: 0.0031 - val_accuracy: 0.9715 - val_loss: 0.1004\n",
            "Epoch 29/30\n",
            "\u001b[1m469/469\u001b[0m \u001b[32m━━━━━━━━━━━━━━━━━━━━\u001b[0m\u001b[37m\u001b[0m \u001b[1m15s\u001b[0m 31ms/step - accuracy: 0.9973 - loss: 0.0087 - val_accuracy: 0.9467 - val_loss: 0.1970\n",
            "Epoch 30/30\n",
            "\u001b[1m469/469\u001b[0m \u001b[32m━━━━━━━━━━━━━━━━━━━━\u001b[0m\u001b[37m\u001b[0m \u001b[1m14s\u001b[0m 30ms/step - accuracy: 0.9989 - loss: 0.0048 - val_accuracy: 0.9918 - val_loss: 0.0296\n",
            "313/313 - 2s - 5ms/step - accuracy: 0.9918 - loss: 0.0296\n"
          ]
        }
      ]
    },
    {
      "cell_type": "code",
      "source": [
        "model.save('resnet_mnist_model.h5')\n",
        "\n",
        "# Evaluate the model and print the final accuracy\n",
        "loss, accuracy = trained_model.evaluate(x_test, y_test, verbose=2)\n",
        "print(f\"Final test accuracy: {accuracy:.4f}\")"
      ],
      "metadata": {
        "colab": {
          "base_uri": "https://localhost:8080/"
        },
        "id": "jXjTBXryHXgG",
        "outputId": "b31a2667-1d92-46cf-f37b-cb9acd795cf0"
      },
      "execution_count": 14,
      "outputs": [
        {
          "output_type": "stream",
          "name": "stderr",
          "text": [
            "WARNING:absl:You are saving your model as an HDF5 file via `model.save()` or `keras.saving.save_model(model)`. This file format is considered legacy. We recommend using instead the native Keras format, e.g. `model.save('my_model.keras')` or `keras.saving.save_model(model, 'my_model.keras')`. \n"
          ]
        },
        {
          "output_type": "stream",
          "name": "stdout",
          "text": [
            "313/313 - 1s - 3ms/step - accuracy: 0.9918 - loss: 0.0296\n",
            "Final test accuracy: 0.9918\n"
          ]
        }
      ]
    }
  ]
}