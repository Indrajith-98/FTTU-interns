{
 "cells": [
  {
   "cell_type": "code",
   "execution_count": 15,
   "metadata": {},
   "outputs": [],
   "source": [
    "import tensorrt as trt\n",
    "import pycuda.driver as cuda\n",
    "import pycuda.autoinit\n",
    "import numpy as np\n",
    "import matplotlib.pyplot as plt\n",
    "from tensorflow.keras.datasets import mnist\n",
    "import time"
   ]
  },
  {
   "cell_type": "code",
   "execution_count": 16,
   "metadata": {},
   "outputs": [],
   "source": [
    "# Helper function to load a TensorRT engine\n",
    "def load_trt_engine(engine_path):\n",
    "    with open(engine_path, 'rb') as f:\n",
    "        runtime = trt.Runtime(trt.Logger(trt.Logger.WARNING))\n",
    "        engine = runtime.deserialize_cuda_engine(f.read())\n",
    "    return engine"
   ]
  },
  {
   "cell_type": "code",
   "execution_count": 17,
   "metadata": {},
   "outputs": [],
   "source": [
    "# Prepare the TensorRT execution context\n",
    "def create_context(engine):\n",
    "    context = engine.create_execution_context()\n",
    "    return context"
   ]
  },
  {
   "cell_type": "code",
   "execution_count": 18,
   "metadata": {},
   "outputs": [],
   "source": [
    "# Load the TensorRT model\n",
    "trt_engine_path = r'E:\\RESNET\\Tensor_RT\\Hyper_parameter_tuning.trt'  # Replace with your TRT model path\n",
    "engine = load_trt_engine(trt_engine_path)\n",
    "context = create_context(engine)\n"
   ]
  },
  {
   "cell_type": "code",
   "execution_count": 19,
   "metadata": {},
   "outputs": [],
   "source": [
    "# Load MNIST data\n",
    "(_, _), (x_test, y_test) = mnist.load_data()\n",
    "\n",
    "# Normalize and reshape the image to (28, 28, 1)\n",
    "x_test = x_test / 255.0\n",
    "x_test = x_test.reshape(x_test.shape[0], 28, 28, 1)"
   ]
  },
  {
   "cell_type": "code",
   "execution_count": 20,
   "metadata": {},
   "outputs": [],
   "source": [
    "\n",
    "# Pick a random image\n",
    "random_index = np.random.randint(0, x_test.shape[0])\n",
    "random_image = x_test[random_index]\n",
    "true_label = y_test[random_index]\n",
    "\n",
    "# Prepare buffers\n",
    "input_shape = (1, 28, 28, 1)\n",
    "output_shape = (1, 10)  # Assuming 10 classes for MNIST"
   ]
  },
  {
   "cell_type": "code",
   "execution_count": 21,
   "metadata": {},
   "outputs": [
    {
     "data": {
      "image/png": "[encoded data removed]",
      "text/plain": [
       "<Figure size 640x480 with 1 Axes>"
      ]
     },
     "metadata": {},
     "output_type": "display_data"
    },
    {
     "name": "stdout",
     "output_type": "stream",
     "text": [
      "Prediction latency: 0.000000 seconds\n",
      "The prediction is correct! Predicted: 8\n"
     ]
    }
   ],
   "source": [
    "input_data = np.expand_dims(random_image, axis=0).astype(np.float32)\n",
    "\n",
    "# Allocate buffers for inputs and outputs\n",
    "d_input = cuda.mem_alloc(input_data.nbytes)\n",
    "d_output = cuda.mem_alloc(np.empty(output_shape, dtype=np.float32).nbytes)\n",
    "bindings = [int(d_input), int(d_output)]\n",
    "\n",
    "# Copy input to device\n",
    "cuda.memcpy_htod(d_input, input_data)\n",
    "\n",
    "# Measure the time before prediction\n",
    "start_time = time.time()\n",
    "\n",
    "# Run inference\n",
    "context.execute_v2(bindings)\n",
    "\n",
    "# Measure the time after prediction\n",
    "end_time = time.time()\n",
    "\n",
    "# Copy output from device\n",
    "output_data = np.empty(output_shape, dtype=np.float32)\n",
    "cuda.memcpy_dtoh(output_data, d_output)\n",
    "\n",
    "# Calculate the latency\n",
    "latency = end_time - start_time\n",
    "\n",
    "# Extract the predicted label\n",
    "predicted_label = np.argmax(output_data)\n",
    "\n",
    "# Plot the image\n",
    "plt.imshow(random_image.squeeze(), cmap='gray')\n",
    "plt.title(f\"True label: {true_label}, Predicted label: {predicted_label}\")\n",
    "plt.show()\n",
    "\n",
    "# Print the latency\n",
    "print(f\"Prediction latency: {latency:.6f} seconds\")\n",
    "\n",
    "# Print whether the prediction is correct or not\n",
    "if true_label == predicted_label:\n",
    "    print(f\"The prediction is correct! Predicted: {predicted_label}\")\n",
    "else:\n",
    "    print(f\"The prediction is incorrect. Predicted: {predicted_label}, True label: {true_label}\")"
   ]
  }
 ],
 "metadata": {
  "kernelspec": {
   "display_name": "Python 3",
   "language": "python",
   "name": "python3"
  },
  "language_info": {
   "codemirror_mode": {
    "name": "ipython",
    "version": 3
   },
   "file_extension": ".py",
   "mimetype": "text/x-python",
   "name": "python",
   "nbconvert_exporter": "python",
   "pygments_lexer": "ipython3",
   "version": "3.12.0"
  }
 },
 "nbformat": 4,
 "nbformat_minor": 2
}
