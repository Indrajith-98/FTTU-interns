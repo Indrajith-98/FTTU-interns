{
 "cells": [
  {
   "cell_type": "code",
   "execution_count": 15,
   "metadata": {},
   "outputs": [],
   "source": [
    "import tensorflow as tf\n",
    "import numpy as np\n",
    "import matplotlib.pyplot as plt\n",
    "from tensorflow.keras.datasets import mnist\n",
    "from tensorflow.keras.models import load_model\n",
    "import time  # Import time module for measuring latency\n"
   ]
  },
  {
   "cell_type": "code",
   "execution_count": 16,
   "metadata": {},
   "outputs": [
    {
     "name": "stderr",
     "output_type": "stream",
     "text": [
      "WARNING:absl:Compiled the loaded model, but the compiled metrics have yet to be built. `model.compile_metrics` will be empty until you train or evaluate the model.\n"
     ]
    }
   ],
   "source": [
    "\n",
    "# Load the saved model\n",
    "model = load_model(r'E:\\RESNET\\Data_Agumentation\\augmented_resnet_mnist_model.h5')  # Replace with the correct model path\n"
   ]
  },
  {
   "cell_type": "code",
   "execution_count": 17,
   "metadata": {},
   "outputs": [],
   "source": [
    "\n",
    "# Load MNIST data\n",
    "(_, _), (x_test, y_test) = mnist.load_data()\n",
    "\n",
    "# Normalize and reshape the image to (28, 28, 1)\n",
    "x_test = x_test / 255.0\n",
    "x_test = x_test.reshape(x_test.shape[0], 28, 28, 1)\n",
    "\n",
    "# Pick a random image\n",
    "random_index = np.random.randint(0, x_test.shape[0])\n",
    "random_image = x_test[random_index]\n",
    "true_label = y_test[random_index]\n"
   ]
  },
  {
   "cell_type": "code",
   "execution_count": 18,
   "metadata": {},
   "outputs": [
    {
     "name": "stdout",
     "output_type": "stream",
     "text": [
      "\u001b[1m1/1\u001b[0m \u001b[32m━━━━━━━━━━━━━━━━━━━━\u001b[0m\u001b[37m\u001b[0m \u001b[1m0s\u001b[0m 229ms/step\n"
     ]
    }
   ],
   "source": [
    "\n",
    "# Measure the time before prediction\n",
    "start_time = time.time()\n",
    "\n",
    "# Make a prediction\n",
    "prediction = model.predict(np.expand_dims(random_image, axis=0))\n",
    "\n",
    "# Measure the time after prediction\n",
    "end_time = time.time()\n",
    "\n",
    "# Calculate the latency\n",
    "latency = end_time - start_time\n",
    "\n"
   ]
  },
  {
   "cell_type": "code",
   "execution_count": 19,
   "metadata": {},
   "outputs": [
    {
     "name": "stdout",
     "output_type": "stream",
     "text": [
      "Prediction latency: 0.277151 seconds\n"
     ]
    },
    {
     "data": {
      "image/png": "[encoded data removed]",
      "text/plain": [
       "<Figure size 640x480 with 1 Axes>"
      ]
     },
     "metadata": {},
     "output_type": "display_data"
    }
   ],
   "source": [
    "# Extract the predicted label\n",
    "predicted_label = np.argmax(prediction)\n",
    "# Print the latency\n",
    "print(f\"Prediction latency: {latency:.6f} seconds\")\n",
    "\n",
    "# Plot the image\n",
    "plt.imshow(random_image.squeeze(), cmap='gray')\n",
    "plt.title(f\"True label: {true_label}, Predicted label: {predicted_label}\")\n",
    "plt.show()\n",
    "\n",
    "\n"
   ]
  },
  {
   "cell_type": "code",
   "execution_count": 20,
   "metadata": {},
   "outputs": [
    {
     "name": "stdout",
     "output_type": "stream",
     "text": [
      "The prediction is correct! Predicted: 2\n"
     ]
    }
   ],
   "source": [
    "# Print whether the prediction is correct or not\n",
    "if true_label == predicted_label:\n",
    "    print(f\"The prediction is correct! Predicted: {predicted_label}\")\n",
    "else:\n",
    "    print(f\"The prediction is incorrect. Predicted: {predicted_label}, True label: {true_label}\")\n"
   ]
  }
 ],
 "metadata": {
  "kernelspec": {
   "display_name": "Python 3",
   "language": "python",
   "name": "python3"
  },
  "language_info": {
   "codemirror_mode": {
    "name": "ipython",
    "version": 3
   },
   "file_extension": ".py",
   "mimetype": "text/x-python",
   "name": "python",
   "nbconvert_exporter": "python",
   "pygments_lexer": "ipython3",
   "version": "3.12.0"
  }
 },
 "nbformat": 4,
 "nbformat_minor": 2
}
