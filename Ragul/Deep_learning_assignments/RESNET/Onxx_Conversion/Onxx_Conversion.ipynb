{
  "nbformat": 4,
  "nbformat_minor": 0,
  "metadata": {
    "colab": {
      "provenance": [],
      "gpuType": "T4"
    },
    "kernelspec": {
      "name": "python3",
      "display_name": "Python 3"
    },
    "language_info": {
      "name": "python"
    },
    "accelerator": "GPU"
  },
  "cells": [
    {
      "cell_type": "code",
      "source": [
        "!pip install tf2onnx"
      ],
      "metadata": {
        "colab": {
          "base_uri": "https://localhost:8080/"
        },
        "id": "ba5uX0qq99QG",
        "outputId": "6a5ae007-b44a-413d-84f9-a1406d864ddf"
      },
      "execution_count": 1,
      "outputs": [
        {
          "output_type": "stream",
          "name": "stdout",
          "text": [
            "Requirement already satisfied: tf2onnx in /usr/local/lib/python3.11/dist-packages (1.16.1)\n",
            "Requirement already satisfied: numpy>=1.14.1 in /usr/local/lib/python3.11/dist-packages (from tf2onnx) (1.26.4)\n",
            "Requirement already satisfied: onnx>=1.4.1 in /usr/local/lib/python3.11/dist-packages (from tf2onnx) (1.17.0)\n",
            "Requirement already satisfied: requests in /usr/local/lib/python3.11/dist-packages (from tf2onnx) (2.32.3)\n",
            "Requirement already satisfied: six in /usr/local/lib/python3.11/dist-packages (from tf2onnx) (1.17.0)\n",
            "Requirement already satisfied: flatbuffers>=1.12 in /usr/local/lib/python3.11/dist-packages (from tf2onnx) (24.12.23)\n",
            "Requirement already satisfied: protobuf~=3.20 in /usr/local/lib/python3.11/dist-packages (from tf2onnx) (3.20.3)\n",
            "Requirement already satisfied: charset-normalizer<4,>=2 in /usr/local/lib/python3.11/dist-packages (from requests->tf2onnx) (3.4.1)\n",
            "Requirement already satisfied: idna<4,>=2.5 in /usr/local/lib/python3.11/dist-packages (from requests->tf2onnx) (3.10)\n",
            "Requirement already satisfied: urllib3<3,>=1.21.1 in /usr/local/lib/python3.11/dist-packages (from requests->tf2onnx) (2.3.0)\n",
            "Requirement already satisfied: certifi>=2017.4.17 in /usr/local/lib/python3.11/dist-packages (from requests->tf2onnx) (2024.12.14)\n"
          ]
        }
      ]
    },
    {
      "cell_type": "code",
      "execution_count": 2,
      "metadata": {
        "colab": {
          "base_uri": "https://localhost:8080/"
        },
        "id": "m6vvvt3_9XV5",
        "outputId": "9a9cc2ef-5972-4247-e71d-670fdef03190"
      },
      "outputs": [
        {
          "output_type": "stream",
          "name": "stderr",
          "text": [
            "WARNING:absl:Compiled the loaded model, but the compiled metrics have yet to be built. `model.compile_metrics` will be empty until you train or evaluate the model.\n"
          ]
        },
        {
          "output_type": "stream",
          "name": "stdout",
          "text": [
            "ONNX model saved to: your_model.onnx\n"
          ]
        }
      ],
      "source": [
        "import tf2onnx\n",
        "import tensorflow as tf\n",
        "\n",
        "# Load the Keras .h5 model\n",
        "h5_model_path = \"/content/drive/MyDrive/best_resnet_mnist_model.h5\"  # Replace with your .h5 file path\n",
        "model = tf.keras.models.load_model(h5_model_path)\n",
        "\n",
        "# Define the path for the ONNX file\n",
        "onnx_model_path = \"your_model.onnx\"\n",
        "\n",
        "# Convert the model\n",
        "spec = (tf.TensorSpec((None, *model.input.shape[1:]), tf.float32, name=\"input\"),)\n",
        "onnx_model, _ = tf2onnx.convert.from_keras(model, input_signature=spec, opset=13)\n",
        "\n",
        "# Save the ONNX model\n",
        "with open(onnx_model_path, \"wb\") as f:\n",
        "    f.write(onnx_model.SerializeToString())\n",
        "\n",
        "print(f\"ONNX model saved to: {onnx_model_path}\")"
      ]
    }
  ]
}