{
 "cells": [
  {
   "cell_type": "code",
   "execution_count": 1,
   "metadata": {},
   "outputs": [],
   "source": [
    "import onnx\n",
    "from tvm import relay\n",
    "import onnx\n",
    "from tvm import relay, autotvm\n",
    "from tvm.contrib import graph_executor\n",
    "import tvm\n",
    "import numpy as np"
   ]
  },
  {
   "cell_type": "code",
   "execution_count": 2,
   "metadata": {},
   "outputs": [
    {
     "name": "stdout",
     "output_type": "stream",
     "text": [
      "Inputs:\n",
      "input dim {\n",
      "  dim_param: \"unk__102\"\n",
      "}\n",
      "dim {\n",
      "  dim_value: 28\n",
      "}\n",
      "dim {\n",
      "  dim_value: 28\n",
      "}\n",
      "dim {\n",
      "  dim_value: 1\n",
      "}\n",
      "\n"
     ]
    }
   ],
   "source": [
    "# Step 1: Load the ONNX model\n",
    "onnx_model_path = r\"/home/ragul-1819/tvm_assignments/mnist_model.onnx\"\n",
    "model = onnx.load(onnx_model_path)\n",
    "print(\"Inputs:\")\n",
    "for input in model.graph.input:\n",
    "    print(input.name, input.type.tensor_type.shape)"
   ]
  },
  {
   "cell_type": "code",
   "execution_count": 3,
   "metadata": {},
   "outputs": [],
   "source": [
    "# Step 2: Define the input shape and create a Relay module\n",
    "input_name = \"input\"  # Adjust based on your ONNX model's input name\n",
    "shape_dict = {input_name: (1, 1, 28, 28)}  # Update based on your input shape\n",
    "\n",
    "# Convert ONNX model to Relay IR\n",
    "mod, params = relay.frontend.from_onnx(model, shape_dict)"
   ]
  },
  {
   "cell_type": "code",
   "execution_count": null,
   "metadata": {},
   "outputs": [
    {
     "name": "stderr",
     "output_type": "stream",
     "text": [
      "One or more operators have not been tuned. Please tune your model for better performance. Use DEBUG logging level to see more details.\n"
     ]
    }
   ],
   "source": [
    "# Step 3: Set the optimization target and compile the model\n",
    "# Choose \"llvm\" for CPU or \"cuda\" for GPU\n",
    "target = \"llvm\"\n",
    "with tvm.transform.PassContext(opt_level=3):\n",
    "    lib = relay.build(mod, target=target, params=params)"
   ]
  },
  {
   "cell_type": "code",
   "execution_count": 9,
   "metadata": {},
   "outputs": [
    {
     "name": "stdout",
     "output_type": "stream",
     "text": [
      "Optimized model saved to tvm_model.so\n"
     ]
    }
   ],
   "source": [
    "# Step 4: Save the compiled model\n",
    "compiled_lib_path = \"tvm_model.so\"\n",
    "lib.export_library(compiled_lib_path)\n",
    "print(f\"Optimized model saved to {compiled_lib_path}\")\n"
   ]
  },
  {
   "cell_type": "code",
   "execution_count": 6,
   "metadata": {},
   "outputs": [
    {
     "name": "stdout",
     "output_type": "stream",
     "text": [
      "Inference output: [[3.1590557e-09 3.8065000e-14 4.3464289e-07 2.1407073e-12 5.0909078e-04\n",
      "  6.9542942e-15 5.4215809e-11 2.4733222e-09 9.9949050e-01 9.5523500e-09]]\n"
     ]
    }
   ],
   "source": [
    "# Step 5: Load and run the model\n",
    "# Create a runtime executor\n",
    "dev = tvm.device(target ,0)  # Use tvm.gpu(0) for GPU\n",
    "module = graph_executor.GraphModule(lib[\"default\"](dev))\n",
    "\n",
    "# Prepare input data\n",
    "input_data = np.random.rand(1, 1, 28, 28).astype(\"float32\")  # Random input data\n",
    "module.set_input(input_name, input_data)\n",
    "\n",
    "# Run inference\n",
    "module.run()\n",
    "output = module.get_output(0).numpy()\n",
    "print(\"Inference output:\", output)"
   ]
  },
  {
   "cell_type": "code",
   "execution_count": 10,
   "metadata": {},
   "outputs": [],
   "source": [
    "with open(\"tvm_model_json\",\"w\") as f:\n",
    "    f.write(lib.get_graph_json())"
   ]
  }
 ],
 "metadata": {
  "kernelspec": {
   "display_name": "tvm_env",
   "language": "python",
   "name": "python3"
  },
  "language_info": {
   "codemirror_mode": {
    "name": "ipython",
    "version": 3
   },
   "file_extension": ".py",
   "mimetype": "text/x-python",
   "name": "python",
   "nbconvert_exporter": "python",
   "pygments_lexer": "ipython3",
   "version": "3.12.3"
  }
 },
 "nbformat": 4,
 "nbformat_minor": 2
}
