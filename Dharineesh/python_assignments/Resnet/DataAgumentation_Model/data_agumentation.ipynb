{
 "cells": [
  {
   "cell_type": "code",
   "execution_count": 1,
   "metadata": {},
   "outputs": [],
   "source": [
    "import tensorflow as tf\n",
    "from tensorflow.keras.models import load_model\n",
    "from tensorflow.keras.preprocessing.image import ImageDataGenerator\n",
    "from tensorflow.keras.datasets import mnist\n",
    "from tensorflow.keras.utils import to_categorical\n"
   ]
  },
  {
   "cell_type": "code",
   "execution_count": 2,
   "metadata": {},
   "outputs": [],
   "source": [
    "# Load the pre-trained model\n",
    "model = load_model(r'O:\\Training Assignments\\Resnet\\HyperParameter_Model\\best_resnet_model.h5')\n",
    "\n",
    "\n",
    "\n"
   ]
  },
  {
   "cell_type": "code",
   "execution_count": 3,
   "metadata": {},
   "outputs": [],
   "source": [
    "# Load the MNIST dataset\n",
    "(x_train, y_train), (x_test, y_test) = mnist.load_data()\n",
    "\n",
    "# Reshape the images to have a single channel (grayscale) and pad to 32x32\n",
    "x_train = x_train.reshape((-1, 28, 28, 1))\n",
    "x_test = x_test.reshape((-1, 28, 28, 1))\n",
    "x_train = tf.image.resize(x_train, (32, 32))\n",
    "x_test = tf.image.resize(x_test, (32, 32))\n",
    "\n",
    "# Normalize pixel values to the range [0, 1]\n",
    "x_train, x_test = x_train / 255.0, x_test / 255.0\n",
    "\n",
    "# One-hot encode the labels\n",
    "y_train = to_categorical(y_train, 10)\n",
    "y_test = to_categorical(y_test, 10)\n"
   ]
  },
  {
   "cell_type": "code",
   "execution_count": 4,
   "metadata": {},
   "outputs": [],
   "source": [
    "# Define data augmentation generator\n",
    "datagen = ImageDataGenerator(\n",
    "    rotation_range=10,           # Random rotation between -10 and 10 degrees\n",
    "    width_shift_range=0.1,       # Random horizontal shifts\n",
    "    height_shift_range=0.1,      # Random vertical shifts\n",
    "    zoom_range=0.1,              # Random zoom\n",
    "    shear_range=0.1,             # Shear transformations\n",
    "    horizontal_flip=False,       # MNIST digits don't require horizontal flipping\n",
    "    fill_mode='nearest'          # Fill any missing pixels\n",
    ")\n",
    "\n",
    "# Fit the generator to the training data\n",
    "datagen.fit(x_train)\n"
   ]
  },
  {
   "cell_type": "code",
   "execution_count": 5,
   "metadata": {},
   "outputs": [
    {
     "name": "stdout",
     "output_type": "stream",
     "text": [
      "Epoch 1/15\n",
      "938/938 [==============================] - 34s 32ms/step - loss: 0.0514 - accuracy: 0.9838 - val_loss: 0.0529 - val_accuracy: 0.9843\n",
      "Epoch 2/15\n",
      "938/938 [==============================] - 30s 31ms/step - loss: 0.0352 - accuracy: 0.9890 - val_loss: 0.1768 - val_accuracy: 0.9508\n",
      "Epoch 3/15\n",
      "938/938 [==============================] - 30s 32ms/step - loss: 0.0318 - accuracy: 0.9903 - val_loss: 0.0214 - val_accuracy: 0.9924\n",
      "Epoch 4/15\n",
      "938/938 [==============================] - 30s 32ms/step - loss: 0.0268 - accuracy: 0.9917 - val_loss: 0.0472 - val_accuracy: 0.9857\n",
      "Epoch 5/15\n",
      "938/938 [==============================] - 30s 32ms/step - loss: 0.0266 - accuracy: 0.9919 - val_loss: 0.0293 - val_accuracy: 0.9905\n",
      "Epoch 6/15\n",
      "938/938 [==============================] - 30s 32ms/step - loss: 0.0240 - accuracy: 0.9923 - val_loss: 0.0545 - val_accuracy: 0.9844\n",
      "Epoch 7/15\n",
      "938/938 [==============================] - 30s 32ms/step - loss: 0.0220 - accuracy: 0.9930 - val_loss: 0.0201 - val_accuracy: 0.9934\n",
      "Epoch 8/15\n",
      "938/938 [==============================] - 30s 32ms/step - loss: 0.0194 - accuracy: 0.9938 - val_loss: 0.0514 - val_accuracy: 0.9825\n",
      "Epoch 9/15\n",
      "938/938 [==============================] - 30s 32ms/step - loss: 0.0217 - accuracy: 0.9935 - val_loss: 0.0351 - val_accuracy: 0.9881\n",
      "Epoch 10/15\n",
      "938/938 [==============================] - 30s 32ms/step - loss: 0.0184 - accuracy: 0.9944 - val_loss: 0.0263 - val_accuracy: 0.9919\n",
      "Epoch 11/15\n",
      "938/938 [==============================] - 30s 32ms/step - loss: 0.0165 - accuracy: 0.9949 - val_loss: 0.0214 - val_accuracy: 0.9921\n",
      "Epoch 12/15\n",
      "938/938 [==============================] - 32s 34ms/step - loss: 0.0161 - accuracy: 0.9948 - val_loss: 0.0191 - val_accuracy: 0.9946\n",
      "Epoch 13/15\n",
      "938/938 [==============================] - 263s 281ms/step - loss: 0.0167 - accuracy: 0.9950 - val_loss: 0.0284 - val_accuracy: 0.9921\n",
      "Epoch 14/15\n",
      "938/938 [==============================] - 30s 32ms/step - loss: 0.0153 - accuracy: 0.9951 - val_loss: 0.0455 - val_accuracy: 0.9861\n",
      "Epoch 15/15\n",
      "938/938 [==============================] - 30s 32ms/step - loss: 0.0130 - accuracy: 0.9961 - val_loss: 0.0302 - val_accuracy: 0.9914\n"
     ]
    },
    {
     "data": {
      "text/plain": [
       "<keras.callbacks.History at 0x1a4126e3130>"
      ]
     },
     "execution_count": 5,
     "metadata": {},
     "output_type": "execute_result"
    }
   ],
   "source": [
    "# Train the model with data augmentation\n",
    "model.fit(\n",
    "    datagen.flow(x_train, y_train, batch_size=64),  # Use augmented data\n",
    "    validation_data=(x_test, y_test),              # Use original test data for validation\n",
    "    epochs=15\n",
    ")\n"
   ]
  },
  {
   "cell_type": "code",
   "execution_count": 6,
   "metadata": {},
   "outputs": [],
   "source": [
    "# Save the model after training with data augmentation\n",
    "model.save('resnet_model_augmented.h5')\n"
   ]
  },
  {
   "cell_type": "code",
   "execution_count": 7,
   "metadata": {},
   "outputs": [
    {
     "name": "stdout",
     "output_type": "stream",
     "text": [
      "313/313 [==============================] - 3s 8ms/step - loss: 0.0302 - accuracy: 0.9914\n",
      "Test accuracy after data augmentation: 0.9914000034332275\n"
     ]
    }
   ],
   "source": [
    "# Evaluate the model on test data\n",
    "test_loss, test_acc = model.evaluate(x_test, y_test)\n",
    "print(f\"Test accuracy after data augmentation: {test_acc}\")\n"
   ]
  }
 ],
 "metadata": {
  "kernelspec": {
   "display_name": "tfenv",
   "language": "python",
   "name": "python3"
  },
  "language_info": {
   "codemirror_mode": {
    "name": "ipython",
    "version": 3
   },
   "file_extension": ".py",
   "mimetype": "text/x-python",
   "name": "python",
   "nbconvert_exporter": "python",
   "pygments_lexer": "ipython3",
   "version": "3.9.21"
  }
 },
 "nbformat": 4,
 "nbformat_minor": 2
}
