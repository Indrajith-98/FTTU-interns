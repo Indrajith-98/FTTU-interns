{
 "cells": [
  {
   "cell_type": "code",
   "execution_count": 1,
   "metadata": {},
   "outputs": [],
   "source": [
    "import tensorflow as tf\n",
    "from tensorflow.keras import layers, models\n",
    "from tensorflow.keras.datasets import mnist\n",
    "from tensorflow.keras.utils import to_categorical\n",
    "import keras_tuner as kt\n"
   ]
  },
  {
   "cell_type": "code",
   "execution_count": 2,
   "metadata": {},
   "outputs": [],
   "source": [
    "def residual_block(x, filters, kernel_size=3, stride=1):\n",
    "    shortcut = x  # Save input for skip connection\n",
    "\n",
    "    if x.shape[-1] != filters:\n",
    "        shortcut = layers.Conv2D(filters, kernel_size=1, strides=stride, padding=\"same\")(shortcut)\n",
    "        shortcut = layers.BatchNormalization()(shortcut)\n",
    "\n",
    "    x = layers.Conv2D(filters, kernel_size=kernel_size, strides=stride, padding=\"same\")(x)\n",
    "    x = layers.BatchNormalization()(x)\n",
    "    x = layers.ReLU()(x)\n",
    "\n",
    "    x = layers.Conv2D(filters, kernel_size=kernel_size, strides=1, padding=\"same\")(x)\n",
    "    x = layers.BatchNormalization()(x)\n",
    "\n",
    "    x = layers.add([x, shortcut])\n",
    "    x = layers.ReLU()(x)\n",
    "\n",
    "    return x\n"
   ]
  },
  {
   "cell_type": "code",
   "execution_count": 3,
   "metadata": {},
   "outputs": [],
   "source": [
    "def build_resnet_tuned(hp):\n",
    "    inputs = layers.Input(shape=(32, 32, 1))\n",
    "\n",
    "    # Initial convolution layer\n",
    "    x = layers.Conv2D(\n",
    "        filters=hp.Choice('initial_filters', [32, 64, 128]),\n",
    "        kernel_size=7,\n",
    "        strides=2,\n",
    "        padding=\"same\"\n",
    "    )(inputs)\n",
    "    x = layers.BatchNormalization()(x)\n",
    "    x = layers.ReLU()(x)\n",
    "    x = layers.MaxPooling2D(pool_size=3, strides=2, padding=\"same\")(x)\n",
    "\n",
    "    # Add residual blocks\n",
    "    num_blocks = hp.Int('num_blocks', 2, 6)\n",
    "    filters = hp.Choice('block_filters', [64, 128, 256])\n",
    "    for _ in range(num_blocks):\n",
    "        x = residual_block(x, filters=filters)\n",
    "\n",
    "    # Global average pooling\n",
    "    x = layers.GlobalAveragePooling2D()(x)\n",
    "\n",
    "    # Fully connected output layer\n",
    "    outputs = layers.Dense(10, activation=\"softmax\")(x)\n",
    "\n",
    "    # Create the model\n",
    "    model = models.Model(inputs, outputs)\n",
    "\n",
    "    # Compile the model\n",
    "    model.compile(\n",
    "        optimizer=tf.keras.optimizers.Adam(\n",
    "            learning_rate=hp.Choice('learning_rate', [1e-3, 1e-4, 1e-5])\n",
    "        ),\n",
    "        loss='categorical_crossentropy',\n",
    "        metrics=['accuracy']\n",
    "    )\n",
    "\n",
    "    return model\n"
   ]
  },
  {
   "cell_type": "code",
   "execution_count": 4,
   "metadata": {},
   "outputs": [],
   "source": [
    "tuner = kt.Hyperband(\n",
    "    build_resnet_tuned,\n",
    "    objective='val_accuracy',\n",
    "    max_epochs=10,\n",
    "    factor=3,\n",
    "    directory='resnet_tuning',\n",
    "    project_name='mnist_resnet'\n",
    ")\n"
   ]
  },
  {
   "cell_type": "code",
   "execution_count": 5,
   "metadata": {},
   "outputs": [],
   "source": [
    "(x_train, y_train), (x_test, y_test) = mnist.load_data()\n",
    "\n",
    "x_train = x_train.reshape((-1, 28, 28, 1))\n",
    "x_test = x_test.reshape((-1, 28, 28, 1))\n",
    "x_train = tf.image.resize(x_train, (32, 32))\n",
    "x_test = tf.image.resize(x_test, (32, 32))\n",
    "\n",
    "x_train, x_test = x_train / 255.0, x_test / 255.0\n",
    "y_train = to_categorical(y_train, 10)\n",
    "y_test = to_categorical(y_test, 10)\n"
   ]
  },
  {
   "cell_type": "code",
   "execution_count": 6,
   "metadata": {},
   "outputs": [
    {
     "name": "stdout",
     "output_type": "stream",
     "text": [
      "Trial 30 Complete [00h 16m 26s]\n",
      "val_accuracy: 0.9907000064849854\n",
      "\n",
      "Best val_accuracy So Far: 0.9950000047683716\n",
      "Total elapsed time: 01h 10m 35s\n"
     ]
    }
   ],
   "source": [
    "early_stopping = tf.keras.callbacks.EarlyStopping(\n",
    "    monitor='val_loss', patience=3, restore_best_weights=True\n",
    ")\n",
    "\n",
    "tuner.search(\n",
    "    x_train, y_train,\n",
    "    epochs=15,\n",
    "    validation_data=(x_test, y_test),\n",
    "    callbacks=[early_stopping]\n",
    ")\n"
   ]
  },
  {
   "cell_type": "code",
   "execution_count": 7,
   "metadata": {},
   "outputs": [
    {
     "name": "stdout",
     "output_type": "stream",
     "text": [
      "Best hyperparameters: {'initial_filters': 128, 'num_blocks': 3, 'block_filters': 256, 'learning_rate': 0.001, 'tuner/epochs': 10, 'tuner/initial_epoch': 0, 'tuner/bracket': 0, 'tuner/round': 0}\n"
     ]
    }
   ],
   "source": [
    "best_hps = tuner.get_best_hyperparameters(num_trials=1)[0]\n",
    "print(f\"Best hyperparameters: {best_hps.values}\")\n"
   ]
  },
  {
   "cell_type": "code",
   "execution_count": 8,
   "metadata": {},
   "outputs": [
    {
     "name": "stdout",
     "output_type": "stream",
     "text": [
      "Epoch 1/15\n",
      "938/938 [==============================] - 31s 31ms/step - loss: 0.0993 - accuracy: 0.9696 - val_loss: 0.1990 - val_accuracy: 0.9376\n",
      "Epoch 2/15\n",
      "938/938 [==============================] - 29s 30ms/step - loss: 0.0425 - accuracy: 0.9866 - val_loss: 0.3009 - val_accuracy: 0.9097\n",
      "Epoch 3/15\n",
      "938/938 [==============================] - 29s 30ms/step - loss: 0.0353 - accuracy: 0.9893 - val_loss: 0.0279 - val_accuracy: 0.9910\n",
      "Epoch 4/15\n",
      "938/938 [==============================] - 29s 30ms/step - loss: 0.0294 - accuracy: 0.9905 - val_loss: 0.0710 - val_accuracy: 0.9783\n",
      "Epoch 5/15\n",
      "938/938 [==============================] - 29s 30ms/step - loss: 0.0243 - accuracy: 0.9924 - val_loss: 0.0413 - val_accuracy: 0.9862\n",
      "Epoch 6/15\n",
      "938/938 [==============================] - 192s 205ms/step - loss: 0.0228 - accuracy: 0.9928 - val_loss: 0.0676 - val_accuracy: 0.9769\n"
     ]
    },
    {
     "data": {
      "text/plain": [
       "<keras.callbacks.History at 0x1e08be16fd0>"
      ]
     },
     "execution_count": 8,
     "metadata": {},
     "output_type": "execute_result"
    }
   ],
   "source": [
    "best_model = tuner.hypermodel.build(best_hps)\n",
    "\n",
    "best_model.fit(\n",
    "    x_train, y_train,\n",
    "    epochs=15,\n",
    "    batch_size=64,\n",
    "    validation_data=(x_test, y_test),\n",
    "    callbacks=[early_stopping]\n",
    ")\n"
   ]
  },
  {
   "cell_type": "code",
   "execution_count": 9,
   "metadata": {},
   "outputs": [
    {
     "name": "stdout",
     "output_type": "stream",
     "text": [
      "313/313 [==============================] - 3s 9ms/step - loss: 0.0279 - accuracy: 0.9910\n",
      "Test accuracy with tuned model: 0.9909999966621399\n"
     ]
    }
   ],
   "source": [
    "best_model.save('best_resnet_model.h5')\n",
    "test_loss, test_acc = best_model.evaluate(x_test, y_test)\n",
    "print(f\"Test accuracy with tuned model: {test_acc}\")\n"
   ]
  }
 ],
 "metadata": {
  "kernelspec": {
   "display_name": "tfenv",
   "language": "python",
   "name": "python3"
  },
  "language_info": {
   "codemirror_mode": {
    "name": "ipython",
    "version": 3
   },
   "file_extension": ".py",
   "mimetype": "text/x-python",
   "name": "python",
   "nbconvert_exporter": "python",
   "pygments_lexer": "ipython3",
   "version": "3.9.21"
  }
 },
 "nbformat": 4,
 "nbformat_minor": 2
}
