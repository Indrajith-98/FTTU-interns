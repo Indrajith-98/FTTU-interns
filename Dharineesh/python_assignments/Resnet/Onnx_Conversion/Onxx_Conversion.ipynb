{
  "cells": [
    {
      "cell_type": "code",
      "execution_count": 1,
      "metadata": {
        "colab": {
          "base_uri": "https://localhost:8080/"
        },
        "id": "ba5uX0qq99QG",
        "outputId": "6a5ae007-b44a-413d-84f9-a1406d864ddf"
      },
      "outputs": [
        {
          "name": "stdout",
          "output_type": "stream",
          "text": [
            "Looking in indexes: https://pypi.org/simple, https://pypi.ngc.nvidia.com\n",
            "Requirement already satisfied: tf2onnx in c:\\users\\dhari\\miniconda3\\envs\\tfenv\\lib\\site-packages (1.16.1)\n",
            "Requirement already satisfied: numpy>=1.14.1 in c:\\users\\dhari\\miniconda3\\envs\\tfenv\\lib\\site-packages (from tf2onnx) (1.23.0)\n",
            "Requirement already satisfied: onnx>=1.4.1 in c:\\users\\dhari\\miniconda3\\envs\\tfenv\\lib\\site-packages (from tf2onnx) (1.17.0)\n",
            "Requirement already satisfied: requests in c:\\users\\dhari\\miniconda3\\envs\\tfenv\\lib\\site-packages (from tf2onnx) (2.32.3)\n",
            "Requirement already satisfied: six in c:\\users\\dhari\\miniconda3\\envs\\tfenv\\lib\\site-packages (from tf2onnx) (1.17.0)\n",
            "Requirement already satisfied: flatbuffers>=1.12 in c:\\users\\dhari\\miniconda3\\envs\\tfenv\\lib\\site-packages (from tf2onnx) (24.12.23)\n",
            "Requirement already satisfied: protobuf~=3.20 in c:\\users\\dhari\\miniconda3\\envs\\tfenv\\lib\\site-packages (from tf2onnx) (3.20.3)\n",
            "Requirement already satisfied: charset-normalizer<4,>=2 in c:\\users\\dhari\\miniconda3\\envs\\tfenv\\lib\\site-packages (from requests->tf2onnx) (3.4.1)\n",
            "Requirement already satisfied: idna<4,>=2.5 in c:\\users\\dhari\\miniconda3\\envs\\tfenv\\lib\\site-packages (from requests->tf2onnx) (3.10)\n",
            "Requirement already satisfied: urllib3<3,>=1.21.1 in c:\\users\\dhari\\miniconda3\\envs\\tfenv\\lib\\site-packages (from requests->tf2onnx) (2.3.0)\n",
            "Requirement already satisfied: certifi>=2017.4.17 in c:\\users\\dhari\\miniconda3\\envs\\tfenv\\lib\\site-packages (from requests->tf2onnx) (2024.12.14)\n"
          ]
        }
      ],
      "source": [
        "!pip install tf2onnx"
      ]
    },
    {
      "cell_type": "code",
      "execution_count": 2,
      "metadata": {
        "colab": {
          "base_uri": "https://localhost:8080/"
        },
        "id": "m6vvvt3_9XV5",
        "outputId": "9a9cc2ef-5972-4247-e71d-670fdef03190"
      },
      "outputs": [
        {
          "name": "stdout",
          "output_type": "stream",
          "text": [
            "ONNX model saved to: base_resnet_model.onnx\n"
          ]
        }
      ],
      "source": [
        "import tf2onnx\n",
        "import tensorflow as tf\n",
        "\n",
        "# Load the Keras .h5 model\n",
        "h5_model_path = \"O:/Training Assignments/Resnet/BaseModel/resnet_model.h5\"  # Replace with your .h5 file path\n",
        "model = tf.keras.models.load_model(h5_model_path)\n",
        "\n",
        "# Define the path for the ONNX file\n",
        "onnx_model_path = \"base_resnet_model.onnx\"\n",
        "\n",
        "# Convert the model\n",
        "spec = (tf.TensorSpec((None, *model.input.shape[1:]), tf.float32, name=\"input\"),)\n",
        "onnx_model, _ = tf2onnx.convert.from_keras(model, input_signature=spec, opset=13)\n",
        "\n",
        "# Save the ONNX model\n",
        "with open(onnx_model_path, \"wb\") as f:\n",
        "    f.write(onnx_model.SerializeToString())\n",
        "\n",
        "print(f\"ONNX model saved to: {onnx_model_path}\")"
      ]
    },
    {
      "cell_type": "code",
      "execution_count": 1,
      "metadata": {},
      "outputs": [
        {
          "name": "stdout",
          "output_type": "stream",
          "text": [
            "ONNX model is valid.\n"
          ]
        }
      ],
      "source": [
        "import onnx\n",
        "onnx_model = onnx.load(\"base_resnet_model.onnx\")\n",
        "onnx.checker.check_model(onnx_model)\n",
        "print(\"ONNX model is valid.\")\n"
      ]
    }
  ],
  "metadata": {
    "accelerator": "GPU",
    "colab": {
      "gpuType": "T4",
      "provenance": []
    },
    "kernelspec": {
      "display_name": "tfenv",
      "language": "python",
      "name": "python3"
    },
    "language_info": {
      "codemirror_mode": {
        "name": "ipython",
        "version": 3
      },
      "file_extension": ".py",
      "mimetype": "text/x-python",
      "name": "python",
      "nbconvert_exporter": "python",
      "pygments_lexer": "ipython3",
      "version": "3.9.21"
    }
  },
  "nbformat": 4,
  "nbformat_minor": 0
}
