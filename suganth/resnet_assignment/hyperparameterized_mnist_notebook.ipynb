{
  "cells": [
    {
      "cell_type": "markdown",
      "metadata": {},
      "source": [
        "**Import Libraries**"
      ]
    },
    {
      "cell_type": "code",
      "execution_count": 1,
      "metadata": {
        "id": "Zv3kNvQrToyB"
      },
      "outputs": [],
      "source": [
        "import tensorflow as tf\n",
        "from tensorflow.keras import layers, models, optimizers\n",
        "import numpy as np\n",
        "import matplotlib.pyplot as plt\n",
        "from sklearn.metrics import classification_report\n"
      ]
    },
    {
      "cell_type": "markdown",
      "metadata": {},
      "source": [
        "**Load and Preprocess Data**"
      ]
    },
    {
      "cell_type": "code",
      "execution_count": 2,
      "metadata": {
        "colab": {
          "base_uri": "https://localhost:8080/"
        },
        "id": "ulTCmIxiYB8n",
        "outputId": "40e75a85-91d8-4dba-89ad-497fcf4bc213"
      },
      "outputs": [
        {
          "name": "stdout",
          "output_type": "stream",
          "text": [
            "Downloading data from https://storage.googleapis.com/tensorflow/tf-keras-datasets/mnist.npz\n",
            "\u001b[1m11490434/11490434\u001b[0m \u001b[32m━━━━━━━━━━━━━━━━━━━━\u001b[0m\u001b[37m\u001b[0m \u001b[1m0s\u001b[0m 0us/step\n"
          ]
        }
      ],
      "source": [
        "def load_and_preprocess_data():\n",
        "    (x_train, y_train), (x_test, y_test) = tf.keras.datasets.mnist.load_data()\n",
        "    x_train, x_test = x_train / 255.0, x_test / 255.0\n",
        "    x_train = x_train.reshape((-1, 28, 28, 1))\n",
        "    x_test = x_test.reshape((-1, 28, 28, 1))\n",
        "    y_train = tf.keras.utils.to_categorical(y_train, 10)\n",
        "    y_test = tf.keras.utils.to_categorical(y_test, 10)\n",
        "    return x_train, y_train, x_test, y_test\n",
        "\n",
        "x_train, y_train, x_test, y_test = load_and_preprocess_data()\n"
      ]
    },
    {
      "cell_type": "markdown",
      "metadata": {},
      "source": [
        "**Build CNN Model**"
      ]
    },
    {
      "cell_type": "code",
      "execution_count": 3,
      "metadata": {
        "id": "X8iYnOPWYF8j"
      },
      "outputs": [],
      "source": [
        "def build_cnn_model(num_filters1=32, num_filters2=64, kernel_size=(3, 3), dense_units=128):\n",
        "    model = models.Sequential()\n",
        "    model.add(layers.Conv2D(num_filters1, kernel_size, activation='relu', input_shape=(28, 28, 1)))\n",
        "    model.add(layers.MaxPooling2D((2, 2)))\n",
        "    model.add(layers.Conv2D(num_filters2, kernel_size, activation='relu'))\n",
        "    model.add(layers.MaxPooling2D((2, 2)))\n",
        "    model.add(layers.Flatten())\n",
        "    model.add(layers.Dense(dense_units, activation='relu'))\n",
        "    model.add(layers.Dense(10, activation='softmax'))\n",
        "    return model\n"
      ]
    },
    {
      "cell_type": "markdown",
      "metadata": {},
      "source": [
        "**Compile Model**"
      ]
    },
    {
      "cell_type": "code",
      "execution_count": 4,
      "metadata": {
        "id": "6sFOqNYrYKHU"
      },
      "outputs": [],
      "source": [
        "def compile_model(model, learning_rate=0.001):\n",
        "    model.compile(optimizer=optimizers.Adam(learning_rate=learning_rate),\n",
        "                  loss='categorical_crossentropy',\n",
        "                  metrics=['accuracy'])\n",
        "    return model\n"
      ]
    },
    {
      "cell_type": "markdown",
      "metadata": {},
      "source": [
        "**Train and Evaluate Model**"
      ]
    },
    {
      "cell_type": "code",
      "execution_count": 8,
      "metadata": {
        "id": "Lr2ha7-wYMjB"
      },
      "outputs": [],
      "source": [
        "def train_and_evaluate_model(model, x_train, y_train, x_test, y_test, batch_size, epochs):\n",
        "    history = model.fit(x_train, y_train, epochs=epochs, batch_size=batch_size, validation_data=(x_test, y_test), verbose=0)\n",
        "    test_loss, test_accuracy = model.evaluate(x_test, y_test, verbose=0)\n",
        "    return test_loss, test_accuracy\n"
      ]
    },
    {
      "cell_type": "markdown",
      "metadata": {},
      "source": [
        "**Hyperparameter Tuning**"
      ]
    },
    {
      "cell_type": "code",
      "execution_count": 9,
      "metadata": {
        "id": "7YpyMdOHYO2a"
      },
      "outputs": [],
      "source": [
        "def plot_training_results(history):\n",
        "    plt.figure(figsize=(12, 6))\n",
        "    plt.subplot(1, 2, 1)\n",
        "    plt.plot(history.history['accuracy'], label='Training Accuracy')\n",
        "    plt.plot(history.history['val_accuracy'], label='Validation Accuracy')\n",
        "    plt.title('Training and Validation Accuracy')\n",
        "    plt.xlabel('Epochs')\n",
        "    plt.ylabel('Accuracy')\n",
        "    plt.legend()\n",
        "    plt.subplot(1, 2, 2)\n",
        "    plt.plot(history.history['loss'], label='Training Loss')\n",
        "    plt.plot(history.history['val_loss'], label='Validation Loss')\n",
        "    plt.title('Training and Validation Loss')\n",
        "    plt.xlabel('Epochs')\n",
        "    plt.ylabel('Loss')\n",
        "    plt.legend()\n",
        "    plt.show()\n"
      ]
    },
    {
      "cell_type": "markdown",
      "metadata": {},
      "source": [
        "**Model Summary for Best Hyperparameters**"
      ]
    },
    {
      "cell_type": "code",
      "execution_count": 11,
      "metadata": {
        "colab": {
          "base_uri": "https://localhost:8080/"
        },
        "id": "QE3wCYRjYRQy",
        "outputId": "cbb39410-45ad-4ade-e7d7-54ed6574c479"
      },
      "outputs": [
        {
          "name": "stdout",
          "output_type": "stream",
          "text": [
            "Training with parameters: {'num_filters1': 32, 'num_filters2': 64, 'kernel_size': (3, 3), 'dense_units': 128, 'learning_rate': 0.001, 'batch_size': 64, 'epochs': 5}\n"
          ]
        },
        {
          "name": "stderr",
          "output_type": "stream",
          "text": [
            "/usr/local/lib/python3.11/dist-packages/keras/src/layers/convolutional/base_conv.py:107: UserWarning: Do not pass an `input_shape`/`input_dim` argument to a layer. When using Sequential models, prefer using an `Input(shape)` object as the first layer in the model instead.\n",
            "  super().__init__(activity_regularizer=activity_regularizer, **kwargs)\n"
          ]
        },
        {
          "name": "stdout",
          "output_type": "stream",
          "text": [
            "Accuracy: 0.9908, Loss: 0.0255\n",
            "\n",
            "Training with parameters: {'num_filters1': 64, 'num_filters2': 128, 'kernel_size': (3, 3), 'dense_units': 256, 'learning_rate': 0.0005, 'batch_size': 128, 'epochs': 5}\n",
            "Accuracy: 0.9926, Loss: 0.0230\n",
            "\n",
            "Training with parameters: {'num_filters1': 32, 'num_filters2': 64, 'kernel_size': (5, 5), 'dense_units': 128, 'learning_rate': 0.0001, 'batch_size': 32, 'epochs': 5}\n",
            "Accuracy: 0.9860, Loss: 0.0419\n",
            "\n",
            "Training with parameters: {'num_filters1': 16, 'num_filters2': 32, 'kernel_size': (3, 3), 'dense_units': 64, 'learning_rate': 0.002, 'batch_size': 64, 'epochs': 5}\n",
            "Accuracy: 0.9900, Loss: 0.0320\n",
            "\n",
            "Training with parameters: {'num_filters1': 64, 'num_filters2': 128, 'kernel_size': (5, 5), 'dense_units': 128, 'learning_rate': 0.001, 'batch_size': 128, 'epochs': 5}\n",
            "Accuracy: 0.9937, Loss: 0.0219\n",
            "\n",
            "Training with parameters: {'num_filters1': 32, 'num_filters2': 64, 'kernel_size': (3, 3), 'dense_units': 256, 'learning_rate': 0.0005, 'batch_size': 32, 'epochs': 5}\n",
            "Accuracy: 0.9908, Loss: 0.0288\n",
            "\n",
            "Training with parameters: {'num_filters1': 16, 'num_filters2': 32, 'kernel_size': (5, 5), 'dense_units': 64, 'learning_rate': 0.0001, 'batch_size': 32, 'epochs': 5}\n",
            "Accuracy: 0.9828, Loss: 0.0576\n",
            "\n",
            "Training with parameters: {'num_filters1': 32, 'num_filters2': 64, 'kernel_size': (3, 3), 'dense_units': 64, 'learning_rate': 0.002, 'batch_size': 64, 'epochs': 5}\n",
            "Accuracy: 0.9910, Loss: 0.0312\n",
            "\n",
            "Training with parameters: {'num_filters1': 128, 'num_filters2': 256, 'kernel_size': (3, 3), 'dense_units': 512, 'learning_rate': 0.0001, 'batch_size': 32, 'epochs': 5}\n",
            "Accuracy: 0.9902, Loss: 0.0292\n",
            "\n",
            "Training with parameters: {'num_filters1': 64, 'num_filters2': 128, 'kernel_size': (3, 3), 'dense_units': 128, 'learning_rate': 0.001, 'batch_size': 64, 'epochs': 5}\n",
            "Accuracy: 0.9906, Loss: 0.0345\n",
            "\n",
            "Best Hyperparameters: {'num_filters1': 64, 'num_filters2': 128, 'kernel_size': (5, 5), 'dense_units': 128, 'learning_rate': 0.001, 'batch_size': 128, 'epochs': 5}\n",
            "Best Accuracy: 0.9937\n"
          ]
        }
      ],
      "source": [
        "best_accuracy = 0\n",
        "best_params = {}\n",
        "\n",
        "hyperparams_combinations = [\n",
        "    {'num_filters1': 32, 'num_filters2': 64, 'kernel_size': (3, 3), 'dense_units': 128, 'learning_rate': 0.001, 'batch_size': 64, 'epochs': 5},\n",
        "    {'num_filters1': 64, 'num_filters2': 128, 'kernel_size': (3, 3), 'dense_units': 256, 'learning_rate': 0.0005, 'batch_size': 128, 'epochs': 5},\n",
        "    {'num_filters1': 32, 'num_filters2': 64, 'kernel_size': (5, 5), 'dense_units': 128, 'learning_rate': 0.0001, 'batch_size': 32, 'epochs': 5},\n",
        "    {'num_filters1': 16, 'num_filters2': 32, 'kernel_size': (3, 3), 'dense_units': 64, 'learning_rate': 0.002, 'batch_size': 64, 'epochs': 5},\n",
        "    {'num_filters1': 64, 'num_filters2': 128, 'kernel_size': (5, 5), 'dense_units': 128, 'learning_rate': 0.001, 'batch_size': 128, 'epochs': 5},\n",
        "    {'num_filters1': 32, 'num_filters2': 64, 'kernel_size': (3, 3), 'dense_units': 256, 'learning_rate': 0.0005, 'batch_size': 32, 'epochs': 5},\n",
        "    {'num_filters1': 16, 'num_filters2': 32, 'kernel_size': (5, 5), 'dense_units': 64, 'learning_rate': 0.0001, 'batch_size': 32, 'epochs': 5},\n",
        "    {'num_filters1': 32, 'num_filters2': 64, 'kernel_size': (3, 3), 'dense_units': 64, 'learning_rate': 0.002, 'batch_size': 64, 'epochs': 5},\n",
        "    {'num_filters1': 128, 'num_filters2': 256, 'kernel_size': (3, 3), 'dense_units': 512, 'learning_rate': 0.0001, 'batch_size': 32, 'epochs': 5},\n",
        "    {'num_filters1': 64, 'num_filters2': 128, 'kernel_size': (3, 3), 'dense_units': 128, 'learning_rate': 0.001, 'batch_size': 64, 'epochs': 5}\n",
        "]\n",
        "\n",
        "for params in hyperparams_combinations:\n",
        "    print(f\"Training with parameters: {params}\")\n",
        "    model = build_cnn_model(params['num_filters1'], params['num_filters2'], params['kernel_size'], params['dense_units'])\n",
        "    model = compile_model(model, params['learning_rate'])\n",
        "    test_loss, test_accuracy = train_and_evaluate_model(model, x_train, y_train, x_test, y_test, params['batch_size'], params['epochs'])\n",
        "    print(f\"Accuracy: {test_accuracy:.4f}, Loss: {test_loss:.4f}\\n\")\n",
        "\n",
        "    if test_accuracy > best_accuracy:\n",
        "        best_accuracy = test_accuracy\n",
        "        best_params = params\n",
        "\n",
        "print(f\"Best Hyperparameters: {best_params}\")\n",
        "print(f\"Best Accuracy: {best_accuracy:.4f}\")\n"
      ]
    },
    {
      "cell_type": "markdown",
      "metadata": {},
      "source": [
        "**Summary of the best model**"
      ]
    },
    {
      "cell_type": "code",
      "execution_count": 12,
      "metadata": {
        "colab": {
          "base_uri": "https://localhost:8080/",
          "height": 406
        },
        "id": "bfjdFbhDYTcv",
        "outputId": "15dfbe91-5098-447c-a8e2-f2d3e7fd8f99"
      },
      "outputs": [
        {
          "name": "stdout",
          "output_type": "stream",
          "text": [
            "Best Hyperparameters: {'num_filters1': 64, 'num_filters2': 128, 'kernel_size': (5, 5), 'dense_units': 128, 'learning_rate': 0.001, 'batch_size': 128, 'epochs': 5}\n"
          ]
        },
        {
          "data": {
            "text/html": [
              "<pre style=\"white-space:pre;overflow-x:auto;line-height:normal;font-family:Menlo,'DejaVu Sans Mono',consolas,'Courier New',monospace\"><span style=\"font-weight: bold\">Model: \"sequential_14\"</span>\n",
              "</pre>\n"
            ],
            "text/plain": [
              "\u001b[1mModel: \"sequential_14\"\u001b[0m\n"
            ]
          },
          "metadata": {},
          "output_type": "display_data"
        },
        {
          "data": {
            "text/html": [
              "<pre style=\"white-space:pre;overflow-x:auto;line-height:normal;font-family:Menlo,'DejaVu Sans Mono',consolas,'Courier New',monospace\">┏━━━━━━━━━━━━━━━━━━━━━━━━━━━━━━━━━━━━━━┳━━━━━━━━━━━━━━━━━━━━━━━━━━━━━┳━━━━━━━━━━━━━━━━━┓\n",
              "┃<span style=\"font-weight: bold\"> Layer (type)                         </span>┃<span style=\"font-weight: bold\"> Output Shape                </span>┃<span style=\"font-weight: bold\">         Param # </span>┃\n",
              "┡━━━━━━━━━━━━━━━━━━━━━━━━━━━━━━━━━━━━━━╇━━━━━━━━━━━━━━━━━━━━━━━━━━━━━╇━━━━━━━━━━━━━━━━━┩\n",
              "│ conv2d_28 (<span style=\"color: #0087ff; text-decoration-color: #0087ff\">Conv2D</span>)                   │ (<span style=\"color: #00d7ff; text-decoration-color: #00d7ff\">None</span>, <span style=\"color: #00af00; text-decoration-color: #00af00\">24</span>, <span style=\"color: #00af00; text-decoration-color: #00af00\">24</span>, <span style=\"color: #00af00; text-decoration-color: #00af00\">64</span>)          │           <span style=\"color: #00af00; text-decoration-color: #00af00\">1,664</span> │\n",
              "├──────────────────────────────────────┼─────────────────────────────┼─────────────────┤\n",
              "│ max_pooling2d_28 (<span style=\"color: #0087ff; text-decoration-color: #0087ff\">MaxPooling2D</span>)      │ (<span style=\"color: #00d7ff; text-decoration-color: #00d7ff\">None</span>, <span style=\"color: #00af00; text-decoration-color: #00af00\">12</span>, <span style=\"color: #00af00; text-decoration-color: #00af00\">12</span>, <span style=\"color: #00af00; text-decoration-color: #00af00\">64</span>)          │               <span style=\"color: #00af00; text-decoration-color: #00af00\">0</span> │\n",
              "├──────────────────────────────────────┼─────────────────────────────┼─────────────────┤\n",
              "│ conv2d_29 (<span style=\"color: #0087ff; text-decoration-color: #0087ff\">Conv2D</span>)                   │ (<span style=\"color: #00d7ff; text-decoration-color: #00d7ff\">None</span>, <span style=\"color: #00af00; text-decoration-color: #00af00\">8</span>, <span style=\"color: #00af00; text-decoration-color: #00af00\">8</span>, <span style=\"color: #00af00; text-decoration-color: #00af00\">128</span>)           │         <span style=\"color: #00af00; text-decoration-color: #00af00\">204,928</span> │\n",
              "├──────────────────────────────────────┼─────────────────────────────┼─────────────────┤\n",
              "│ max_pooling2d_29 (<span style=\"color: #0087ff; text-decoration-color: #0087ff\">MaxPooling2D</span>)      │ (<span style=\"color: #00d7ff; text-decoration-color: #00d7ff\">None</span>, <span style=\"color: #00af00; text-decoration-color: #00af00\">4</span>, <span style=\"color: #00af00; text-decoration-color: #00af00\">4</span>, <span style=\"color: #00af00; text-decoration-color: #00af00\">128</span>)           │               <span style=\"color: #00af00; text-decoration-color: #00af00\">0</span> │\n",
              "├──────────────────────────────────────┼─────────────────────────────┼─────────────────┤\n",
              "│ flatten_14 (<span style=\"color: #0087ff; text-decoration-color: #0087ff\">Flatten</span>)                 │ (<span style=\"color: #00d7ff; text-decoration-color: #00d7ff\">None</span>, <span style=\"color: #00af00; text-decoration-color: #00af00\">2048</span>)                │               <span style=\"color: #00af00; text-decoration-color: #00af00\">0</span> │\n",
              "├──────────────────────────────────────┼─────────────────────────────┼─────────────────┤\n",
              "│ dense_28 (<span style=\"color: #0087ff; text-decoration-color: #0087ff\">Dense</span>)                     │ (<span style=\"color: #00d7ff; text-decoration-color: #00d7ff\">None</span>, <span style=\"color: #00af00; text-decoration-color: #00af00\">128</span>)                 │         <span style=\"color: #00af00; text-decoration-color: #00af00\">262,272</span> │\n",
              "├──────────────────────────────────────┼─────────────────────────────┼─────────────────┤\n",
              "│ dense_29 (<span style=\"color: #0087ff; text-decoration-color: #0087ff\">Dense</span>)                     │ (<span style=\"color: #00d7ff; text-decoration-color: #00d7ff\">None</span>, <span style=\"color: #00af00; text-decoration-color: #00af00\">10</span>)                  │           <span style=\"color: #00af00; text-decoration-color: #00af00\">1,290</span> │\n",
              "└──────────────────────────────────────┴─────────────────────────────┴─────────────────┘\n",
              "</pre>\n"
            ],
            "text/plain": [
              "┏━━━━━━━━━━━━━━━━━━━━━━━━━━━━━━━━━━━━━━┳━━━━━━━━━━━━━━━━━━━━━━━━━━━━━┳━━━━━━━━━━━━━━━━━┓\n",
              "┃\u001b[1m \u001b[0m\u001b[1mLayer (type)                        \u001b[0m\u001b[1m \u001b[0m┃\u001b[1m \u001b[0m\u001b[1mOutput Shape               \u001b[0m\u001b[1m \u001b[0m┃\u001b[1m \u001b[0m\u001b[1m        Param #\u001b[0m\u001b[1m \u001b[0m┃\n",
              "┡━━━━━━━━━━━━━━━━━━━━━━━━━━━━━━━━━━━━━━╇━━━━━━━━━━━━━━━━━━━━━━━━━━━━━╇━━━━━━━━━━━━━━━━━┩\n",
              "│ conv2d_28 (\u001b[38;5;33mConv2D\u001b[0m)                   │ (\u001b[38;5;45mNone\u001b[0m, \u001b[38;5;34m24\u001b[0m, \u001b[38;5;34m24\u001b[0m, \u001b[38;5;34m64\u001b[0m)          │           \u001b[38;5;34m1,664\u001b[0m │\n",
              "├──────────────────────────────────────┼─────────────────────────────┼─────────────────┤\n",
              "│ max_pooling2d_28 (\u001b[38;5;33mMaxPooling2D\u001b[0m)      │ (\u001b[38;5;45mNone\u001b[0m, \u001b[38;5;34m12\u001b[0m, \u001b[38;5;34m12\u001b[0m, \u001b[38;5;34m64\u001b[0m)          │               \u001b[38;5;34m0\u001b[0m │\n",
              "├──────────────────────────────────────┼─────────────────────────────┼─────────────────┤\n",
              "│ conv2d_29 (\u001b[38;5;33mConv2D\u001b[0m)                   │ (\u001b[38;5;45mNone\u001b[0m, \u001b[38;5;34m8\u001b[0m, \u001b[38;5;34m8\u001b[0m, \u001b[38;5;34m128\u001b[0m)           │         \u001b[38;5;34m204,928\u001b[0m │\n",
              "├──────────────────────────────────────┼─────────────────────────────┼─────────────────┤\n",
              "│ max_pooling2d_29 (\u001b[38;5;33mMaxPooling2D\u001b[0m)      │ (\u001b[38;5;45mNone\u001b[0m, \u001b[38;5;34m4\u001b[0m, \u001b[38;5;34m4\u001b[0m, \u001b[38;5;34m128\u001b[0m)           │               \u001b[38;5;34m0\u001b[0m │\n",
              "├──────────────────────────────────────┼─────────────────────────────┼─────────────────┤\n",
              "│ flatten_14 (\u001b[38;5;33mFlatten\u001b[0m)                 │ (\u001b[38;5;45mNone\u001b[0m, \u001b[38;5;34m2048\u001b[0m)                │               \u001b[38;5;34m0\u001b[0m │\n",
              "├──────────────────────────────────────┼─────────────────────────────┼─────────────────┤\n",
              "│ dense_28 (\u001b[38;5;33mDense\u001b[0m)                     │ (\u001b[38;5;45mNone\u001b[0m, \u001b[38;5;34m128\u001b[0m)                 │         \u001b[38;5;34m262,272\u001b[0m │\n",
              "├──────────────────────────────────────┼─────────────────────────────┼─────────────────┤\n",
              "│ dense_29 (\u001b[38;5;33mDense\u001b[0m)                     │ (\u001b[38;5;45mNone\u001b[0m, \u001b[38;5;34m10\u001b[0m)                  │           \u001b[38;5;34m1,290\u001b[0m │\n",
              "└──────────────────────────────────────┴─────────────────────────────┴─────────────────┘\n"
            ]
          },
          "metadata": {},
          "output_type": "display_data"
        },
        {
          "data": {
            "text/html": [
              "<pre style=\"white-space:pre;overflow-x:auto;line-height:normal;font-family:Menlo,'DejaVu Sans Mono',consolas,'Courier New',monospace\"><span style=\"font-weight: bold\"> Total params: </span><span style=\"color: #00af00; text-decoration-color: #00af00\">1,410,464</span> (5.38 MB)\n",
              "</pre>\n"
            ],
            "text/plain": [
              "\u001b[1m Total params: \u001b[0m\u001b[38;5;34m1,410,464\u001b[0m (5.38 MB)\n"
            ]
          },
          "metadata": {},
          "output_type": "display_data"
        },
        {
          "data": {
            "text/html": [
              "<pre style=\"white-space:pre;overflow-x:auto;line-height:normal;font-family:Menlo,'DejaVu Sans Mono',consolas,'Courier New',monospace\"><span style=\"font-weight: bold\"> Trainable params: </span><span style=\"color: #00af00; text-decoration-color: #00af00\">470,154</span> (1.79 MB)\n",
              "</pre>\n"
            ],
            "text/plain": [
              "\u001b[1m Trainable params: \u001b[0m\u001b[38;5;34m470,154\u001b[0m (1.79 MB)\n"
            ]
          },
          "metadata": {},
          "output_type": "display_data"
        },
        {
          "data": {
            "text/html": [
              "<pre style=\"white-space:pre;overflow-x:auto;line-height:normal;font-family:Menlo,'DejaVu Sans Mono',consolas,'Courier New',monospace\"><span style=\"font-weight: bold\"> Non-trainable params: </span><span style=\"color: #00af00; text-decoration-color: #00af00\">0</span> (0.00 B)\n",
              "</pre>\n"
            ],
            "text/plain": [
              "\u001b[1m Non-trainable params: \u001b[0m\u001b[38;5;34m0\u001b[0m (0.00 B)\n"
            ]
          },
          "metadata": {},
          "output_type": "display_data"
        },
        {
          "data": {
            "text/html": [
              "<pre style=\"white-space:pre;overflow-x:auto;line-height:normal;font-family:Menlo,'DejaVu Sans Mono',consolas,'Courier New',monospace\"><span style=\"font-weight: bold\"> Optimizer params: </span><span style=\"color: #00af00; text-decoration-color: #00af00\">940,310</span> (3.59 MB)\n",
              "</pre>\n"
            ],
            "text/plain": [
              "\u001b[1m Optimizer params: \u001b[0m\u001b[38;5;34m940,310\u001b[0m (3.59 MB)\n"
            ]
          },
          "metadata": {},
          "output_type": "display_data"
        }
      ],
      "source": [
        "# Train the model one more time with best parameters for visualization and summary\n",
        "print(f\"Best Hyperparameters: {best_params}\")\n",
        "\n",
        "best_model = build_cnn_model(\n",
        "    best_params['num_filters1'],\n",
        "    best_params['num_filters2'],\n",
        "    best_params['kernel_size'],\n",
        "    best_params['dense_units']\n",
        ")\n",
        "best_model = compile_model(best_model, best_params['learning_rate'])\n",
        "train_and_evaluate_model(\n",
        "    best_model, x_train, y_train, x_test, y_test, best_params['batch_size'], best_params['epochs']\n",
        ")\n",
        "\n",
        "# Display the model summary\n",
        "best_model.summary()\n"
      ]
    },
    {
      "cell_type": "code",
      "execution_count": 13,
      "metadata": {
        "colab": {
          "base_uri": "https://localhost:8080/"
        },
        "id": "N2YZ9aZJjv9V",
        "outputId": "4ccc7f30-5923-4f6a-fddd-8b6ff7208ca4"
      },
      "outputs": [
        {
          "name": "stderr",
          "output_type": "stream",
          "text": [
            "WARNING:absl:You are saving your model as an HDF5 file via `model.save()` or `keras.saving.save_model(model)`. This file format is considered legacy. We recommend using instead the native Keras format, e.g. `model.save('my_model.keras')` or `keras.saving.save_model(model, 'my_model.keras')`. \n"
          ]
        }
      ],
      "source": [
        "best_model.save('mnist_2.h5')"
      ]
    },
    {
      "cell_type": "code",
      "execution_count": null,
      "metadata": {
        "id": "lpr228IdkHBl"
      },
      "outputs": [],
      "source": []
    }
  ],
  "metadata": {
    "accelerator": "GPU",
    "colab": {
      "gpuType": "T4",
      "provenance": []
    },
    "kernelspec": {
      "display_name": "Python 3",
      "name": "python3"
    },
    "language_info": {
      "name": "python"
    }
  },
  "nbformat": 4,
  "nbformat_minor": 0
}
