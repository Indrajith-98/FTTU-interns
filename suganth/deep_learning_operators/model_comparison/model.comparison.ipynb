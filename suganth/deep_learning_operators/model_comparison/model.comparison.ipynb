{
 "cells": [
  {
   "cell_type": "code",
   "execution_count": 2,
   "metadata": {},
   "outputs": [
    {
     "name": "stdout",
     "output_type": "stream",
     "text": [
      "Weights are same.\n"
     ]
    }
   ],
   "source": [
    "import numpy as np\n",
    "import json\n",
    "\n",
    "def compare_weights(file1, file2, tolerance=1e-6):\n",
    "    with open(file1, 'r') as f1, open(file2, 'r') as f2:\n",
    "        weights1 = np.array(json.load(f1))\n",
    "        weights2 = np.array(json.load(f2))\n",
    "    \n",
    "    if weights1.shape != weights2.shape:\n",
    "        return \"Weights have different shapes, not comparable.\"\n",
    "    \n",
    "    differences = np.abs(weights1 - weights2)\n",
    "    max_difference = np.max(differences)\n",
    "    \n",
    "    if np.all(differences < tolerance):\n",
    "        return \"Weights are same.\"\n",
    "    else:\n",
    "        return f\"Weights differ, maximum difference: {max_difference:.2e}\"\n",
    "\n",
    "\n",
    "file1 = \"F:/MULTICOREWARE_FTU_INTERN/DEEP_LEARNING_OPERATORS/model_comparison/preTrained_model_softmax_outcomes.json\"\n",
    "file2 = \"F:/MULTICOREWARE_FTU_INTERN/DEEP_LEARNING_OPERATORS/data/output/dense_output_2.json\"\n",
    "\n",
    "result = compare_weights(file1, file2)\n",
    "print(result)\n"
   ]
  }
 ],
 "metadata": {
  "kernelspec": {
   "display_name": ".venv",
   "language": "python",
   "name": "python3"
  },
  "language_info": {
   "codemirror_mode": {
    "name": "ipython",
    "version": 3
   },
   "file_extension": ".py",
   "mimetype": "text/x-python",
   "name": "python",
   "nbconvert_exporter": "python",
   "pygments_lexer": "ipython3",
   "version": "3.12.2"
  }
 },
 "nbformat": 4,
 "nbformat_minor": 2
}
