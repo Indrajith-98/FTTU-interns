{
 "cells": [
  {
   "cell_type": "code",
   "execution_count": 1,
   "metadata": {},
   "outputs": [
    {
     "name": "stderr",
     "output_type": "stream",
     "text": [
      "WARNING:absl:Compiled the loaded model, but the compiled metrics have yet to be built. `model.compile_metrics` will be empty until you train or evaluate the model.\n"
     ]
    },
    {
     "name": "stdout",
     "output_type": "stream",
     "text": [
      "\u001b[1m1/1\u001b[0m \u001b[32m━━━━━━━━━━━━━━━━━━━━\u001b[0m\u001b[37m\u001b[0m \u001b[1m0s\u001b[0m 325ms/step\n",
      "Softmax results saved in softmax_outputs.json\n"
     ]
    }
   ],
   "source": [
    "import tensorflow as tf\n",
    "import numpy as np\n",
    "import json\n",
    "import cv2\n",
    "import os\n",
    "\n",
    "# Load the trained MNIST model\n",
    "model = tf.keras.models.load_model(\"mnist_model/mnist_model.h5\")\n",
    "\n",
    "def preprocess_image(image_path):\n",
    "    \"\"\"Loads, preprocesses, and reshapes an image for MNIST model.\"\"\"\n",
    "    img = cv2.imread(image_path, cv2.IMREAD_GRAYSCALE)  # Read as grayscale\n",
    "    img = cv2.resize(img, (28, 28))  # Resize to 28x28\n",
    "    img = img.astype(\"float32\") / 255.0  # Normalize pixel values\n",
    "    img = np.expand_dims(img, axis=-1)  # Add channel dimension\n",
    "    img = np.expand_dims(img, axis=0)  # Add batch dimension\n",
    "    return img\n",
    "\n",
    "# User provides a single image path\n",
    "image_path = \"mnist_images/mnist_image_5.png\"  # Replace with actual path\n",
    "\n",
    "if not os.path.exists(image_path):\n",
    "    print(f\"File not found: {image_path}\")\n",
    "else:\n",
    "    img = preprocess_image(image_path)\n",
    "    softmax_outputs = model.predict(img)[0]  # Get softmax probabilities\n",
    "    prediction = np.argmax(softmax_outputs) # Get predicted class\n",
    "    \n",
    "    # Save raw softmax values to a JSON file\n",
    "    with open(\"preTrained_model_softmax_outcomes.json\", \"w\") as json_file:\n",
    "        json.dump(softmax_outputs.tolist(), json_file, indent=4)\n",
    "\n",
    "    print(f\"Prediction: {prediction}\")\n",
    "    print(\"Softmax results saved in softmax_outputs.json\")\n"
   ]
  }
 ],
 "metadata": {
  "kernelspec": {
   "display_name": ".venv",
   "language": "python",
   "name": "python3"
  },
  "language_info": {
   "codemirror_mode": {
    "name": "ipython",
    "version": 3
   },
   "file_extension": ".py",
   "mimetype": "text/x-python",
   "name": "python",
   "nbconvert_exporter": "python",
   "pygments_lexer": "ipython3",
   "version": "3.12.2"
  }
 },
 "nbformat": 4,
 "nbformat_minor": 2
}
