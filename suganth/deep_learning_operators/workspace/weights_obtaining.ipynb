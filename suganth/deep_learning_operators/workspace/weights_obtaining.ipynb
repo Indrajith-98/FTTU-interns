{
 "cells": [
  {
   "cell_type": "code",
   "execution_count": 1,
   "metadata": {},
   "outputs": [
    {
     "name": "stderr",
     "output_type": "stream",
     "text": [
      "WARNING:absl:Compiled the loaded model, but the compiled metrics have yet to be built. `model.compile_metrics` will be empty until you train or evaluate the model.\n"
     ]
    }
   ],
   "source": [
    "import tensorflow as tf\n",
    "import json\n",
    "\n",
    "\n",
    "def load_model_from_file(file_path):\n",
    "    # Load the model from the .h5 file\n",
    "    model = tf.keras.models.load_model(file_path)\n",
    "    return model\n",
    "\n",
    "\n",
    "def extract_layer_details(model):\n",
    "    layer_details = []\n",
    "\n",
    "    for layer in model.layers:\n",
    "        layer_info = {}\n",
    "        layer_info[\"name\"] = layer.name\n",
    "        layer_info[\"type\"] = type(layer).__name__\n",
    "\n",
    "        # Extract input and output shapes\n",
    "        try:\n",
    "            layer_info[\"input_shape\"] = layer.input_shape\n",
    "            layer_info[\"output_shape\"] = layer.output_shape\n",
    "        except AttributeError:\n",
    "            # Convert KerasTensor to shape tuple\n",
    "            layer_info[\"input_shape\"] = (\n",
    "                tuple(layer.input.shape) if hasattr(layer, \"input\") else None\n",
    "            )\n",
    "            layer_info[\"output_shape\"] = (\n",
    "                tuple(layer.output.shape) if hasattr(layer, \"output\") else None\n",
    "            )\n",
    "\n",
    "        # Extract weights and biases if available\n",
    "        if hasattr(layer, \"get_weights\"):\n",
    "            weights = layer.get_weights()\n",
    "            if weights:\n",
    "                layer_info[\"weights\"] = weights[0].tolist()  # Convert numpy arrays to lists for JSON serialization\n",
    "                if len(weights) > 1:\n",
    "                    layer_info[\"biases\"] = weights[1].tolist()\n",
    "\n",
    "        # Additional layer-specific attributes\n",
    "        if isinstance(layer, tf.keras.layers.Conv2D):\n",
    "            layer_info[\"kernel_size\"] = layer.kernel_size\n",
    "            layer_info[\"filters\"] = layer.filters\n",
    "            layer_info[\"strides\"] = layer.strides\n",
    "            layer_info[\"padding\"] = layer.padding\n",
    "\n",
    "        layer_details.append(layer_info)\n",
    "\n",
    "    return layer_details\n",
    "\n",
    "\n",
    "def save_to_json(layer_details, filename=\"config.json\"):\n",
    "    with open(filename, \"w\") as json_file:\n",
    "        json.dump({\"layers\": layer_details}, json_file, indent=4)\n",
    "\n",
    "\n",
    "# Load the model from the .h5 file (update with your actual file path)\n",
    "model = load_model_from_file(\"mnist_1.h5\")\n",
    "\n",
    "# Extract layer details\n",
    "layer_details = extract_layer_details(model)\n",
    "\n",
    "# Save to JSON\n",
    "save_to_json(layer_details)\n"
   ]
  }
 ],
 "metadata": {
  "kernelspec": {
   "display_name": ".venv",
   "language": "python",
   "name": "python3"
  },
  "language_info": {
   "codemirror_mode": {
    "name": "ipython",
    "version": 3
   },
   "file_extension": ".py",
   "mimetype": "text/x-python",
   "name": "python",
   "nbconvert_exporter": "python",
   "pygments_lexer": "ipython3",
   "version": "3.12.2"
  }
 },
 "nbformat": 4,
 "nbformat_minor": 2
}
