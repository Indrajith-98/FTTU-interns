{
 "cells": [
  {
   "cell_type": "code",
   "execution_count": 1,
   "metadata": {},
   "outputs": [
    {
     "name": "stdout",
     "output_type": "stream",
     "text": [
      "Epoch 1/3\n",
      "32/32 [==============================] - 1s 3ms/step - loss: 2.4068 - accuracy: 0.1000\n",
      "Epoch 2/3\n",
      "32/32 [==============================] - 0s 3ms/step - loss: 2.2960 - accuracy: 0.1460\n",
      "Epoch 3/3\n",
      "32/32 [==============================] - 0s 3ms/step - loss: 2.2383 - accuracy: 0.1550\n"
     ]
    },
    {
     "name": "stderr",
     "output_type": "stream",
     "text": [
      "d:\\anaconda3\\envs\\tvm_env\\lib\\site-packages\\keras\\src\\engine\\training.py:3000: UserWarning: You are saving your model as an HDF5 file via `model.save()`. This file format is considered legacy. We recommend using instead the native Keras format, e.g. `model.save('my_model.keras')`.\n",
      "  saving_api.save_model(\n"
     ]
    }
   ],
   "source": [
    "import tensorflow as tf\n",
    "import numpy as np\n",
    "\n",
    "def train_model():\n",
    "    inputs = tf.keras.Input(shape=(784,))\n",
    "    x = tf.keras.layers.Dense(128, activation='relu')(inputs)\n",
    "    outputs = tf.keras.layers.Dense(10, activation='softmax')(x)\n",
    "    \n",
    "    model = tf.keras.Model(inputs=inputs, outputs=outputs)\n",
    "    model.compile(optimizer='adam', loss='sparse_categorical_crossentropy', metrics=['accuracy'])\n",
    "\n",
    "    X_train = np.random.rand(1000, 784).astype(\"float32\")\n",
    "    y_train = np.random.randint(0, 10, size=(1000,))\n",
    "\n",
    "    model.fit(X_train, y_train, epochs=3, batch_size=32)\n",
    "    model.save(\"simple_model.h5\")\n",
    "    return model\n",
    "\n",
    "model = train_model()"
   ]
  },
  {
   "cell_type": "code",
   "execution_count": 2,
   "metadata": {},
   "outputs": [],
   "source": [
    "import tf2onnx\n",
    "import tensorflow as tf\n",
    "\n",
    "model = tf.keras.models.load_model(\"simple_model.h5\")\n",
    "\n",
    "input_signature = [tf.TensorSpec([None] + list(model.input_shape[1:]), dtype=tf.float32)]\n",
    "\n",
    "onnx_model, _ = tf2onnx.convert.from_keras(\n",
    "    model,\n",
    "    input_signature=input_signature,\n",
    "    output_path=\"model.onnx\"\n",
    ")"
   ]
  },
  {
   "cell_type": "code",
   "execution_count": 3,
   "metadata": {},
   "outputs": [
    {
     "name": "stdout",
     "output_type": "stream",
     "text": [
      "Input Name: args_0\n",
      "Input Shape: [dim_param: \"unk__6\"\n",
      ", dim_value: 784\n",
      "]\n"
     ]
    }
   ],
   "source": [
    "import tvm\n",
    "import tvm.relay as relay\n",
    "import onnx\n",
    "import numpy as np\n",
    "from tvm.contrib import graph_executor\n",
    "\n",
    "onnx_model = onnx.load(\"model.onnx\")\n",
    "\n",
    "for input_tensor in onnx_model.graph.input:\n",
    "    print(f\"Input Name: {input_tensor.name}\")\n",
    "    print(f\"Input Shape: {input_tensor.type.tensor_type.shape.dim}\")"
   ]
  },
  {
   "cell_type": "code",
   "execution_count": 4,
   "metadata": {},
   "outputs": [],
   "source": [
    "mod, params = relay.frontend.from_onnx(onnx_model, shape={\"args_0\": (1, 784)})"
   ]
  },
  {
   "cell_type": "code",
   "execution_count": 5,
   "metadata": {},
   "outputs": [
    {
     "name": "stderr",
     "output_type": "stream",
     "text": [
      "One or more operators have not been tuned. Please tune your model for better performance. Use DEBUG logging level to see more details.\n"
     ]
    }
   ],
   "source": [
    "target = \"llvm\"  \n",
    "\n",
    "with tvm.transform.PassContext(opt_level=3):\n",
    "    lib = relay.build(mod, target=target, params=params)\n",
    "\n",
    "lib.export_library(\"model_tvm.dll\")"
   ]
  },
  {
   "cell_type": "code",
   "execution_count": 6,
   "metadata": {},
   "outputs": [
    {
     "name": "stdout",
     "output_type": "stream",
     "text": [
      "TVM model output: [[0.11951701 0.07923162 0.13205251 0.0524486  0.08625779 0.11336085\n",
      "  0.16997935 0.08701568 0.06630857 0.09382802]]\n"
     ]
    }
   ],
   "source": [
    "dev = tvm.cpu()  \n",
    "module = graph_executor.GraphModule(lib[\"default\"](dev))\n",
    "\n",
    "dummy_input = np.random.rand(1, 784).astype(\"float32\")\n",
    "\n",
    "module.set_input(\"args_0\", dummy_input)  \n",
    "\n",
    "module.run()\n",
    "\n",
    "output = module.get_output(0).asnumpy()\n",
    "print(\"TVM model output:\", output)"
   ]
  }
 ],
 "metadata": {
  "kernelspec": {
   "display_name": "tvm_env",
   "language": "python",
   "name": "python3"
  },
  "language_info": {
   "codemirror_mode": {
    "name": "ipython",
    "version": 3
   },
   "file_extension": ".py",
   "mimetype": "text/x-python",
   "name": "python",
   "nbconvert_exporter": "python",
   "pygments_lexer": "ipython3",
   "version": "3.8.20"
  }
 },
 "nbformat": 4,
 "nbformat_minor": 2
}
