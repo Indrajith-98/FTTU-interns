{
 "cells": [
  {
   "cell_type": "code",
   "execution_count": 1,
   "metadata": {},
   "outputs": [
    {
     "name": "stderr",
     "output_type": "stream",
     "text": [
      "One or more operators have not been tuned. Please tune your model for better performance. Use DEBUG logging level to see more details.\n"
     ]
    },
    {
     "name": "stdout",
     "output_type": "stream",
     "text": [
      "Updated Relay Intermediate Representation (IR):\n",
      "def @main(%args_0: Tensor[(1, 784), float32] /* ty=Tensor[(1, 784), float32] span=model/dense/MatMul.args_0:0:0 */) -> Tensor[(1, 10), float32] {\n",
      "  %0 = nn.dense(%args_0, meta[relay.Constant][0] /* ty=Tensor[(128, 784), float32] span=model/dense/MatMul:0:0 */, units=None, out_dtype=\"float32\") /* ty=Tensor[(1, 128), float32] span=model/dense/MatMul:0:0 */;\n",
      "  %1 = add(%0, meta[relay.Constant][1] /* ty=Tensor[(128), float32] span=model/dense/BiasAdd.model/dense/BiasAdd/ReadVariableOp:0:0:0 */) /* ty=Tensor[(1, 128), float32] span=model/dense/BiasAdd:0:0 */;\n",
      "  %2 = nn.relu(%1) /* ty=Tensor[(1, 128), float32] span=model/dense/Relu:0:0 */;\n",
      "  %3 = nn.dense(%2, meta[relay.Constant][2] /* ty=Tensor[(10, 128), float32] span=model/dense_1/MatMul:0:0 */, units=None, out_dtype=\"float32\") /* ty=Tensor[(1, 10), float32] span=model/dense_1/MatMul:0:0 */;\n",
      "  %4 = add(%3, meta[relay.Constant][3] /* ty=Tensor[(10), float32] span=model/dense_1/BiasAdd.model/dense_1/BiasAdd/ReadVariableOp:0:0:0 */) /* ty=Tensor[(1, 10), float32] span=model/dense_1/BiasAdd:0:0 */;\n",
      "  nn.softmax(%4, axis=1) /* ty=Tensor[(1, 10), float32] span=model/dense_1/Softmax:0:0 */\n",
      "}\n",
      "\n",
      "\n",
      "TVM model output: [[0.12864555 0.05273031 0.10358622 0.05322014 0.17799231 0.10371324\n",
      "  0.14480333 0.05715407 0.0829949  0.09515992]]\n"
     ]
    }
   ],
   "source": [
    "import tvm\n",
    "import tvm.relay as relay\n",
    "import onnx\n",
    "import numpy as np\n",
    "from tvm.contrib import graph_executor\n",
    "\n",
    "onnx_model = onnx.load(\"model.onnx\")\n",
    "\n",
    "mod, params = relay.frontend.from_onnx(onnx_model, shape={\"args_0\": (1, 784)})\n",
    "\n",
    "\n",
    "mod = relay.transform.FoldConstant()(mod)  \n",
    "mod = relay.transform.EliminateCommonSubexpr()(mod)  \n",
    "mod = relay.transform.SimplifyInference()(mod)  \n",
    "mod = relay.transform.CombineParallelDense()(mod)  \n",
    "\n",
    "print(\"Updated Relay Intermediate Representation (IR):\")\n",
    "print(mod)\n",
    "\n",
    "target = \"llvm\"  \n",
    "with tvm.transform.PassContext(opt_level=3):\n",
    "    lib = relay.build(mod, target=target, params=params)\n",
    "\n",
    "lib.export_library(\"optimized_model_tvm.dll\")\n",
    "\n",
    "dev = tvm.cpu()  \n",
    "module = graph_executor.GraphModule(lib[\"default\"](dev))\n",
    "\n",
    "dummy_input = np.random.rand(1, 784).astype(\"float32\")  \n",
    "module.set_input(\"args_0\", dummy_input)  \n",
    "module.run()\n",
    "\n",
    "output = module.get_output(0).asnumpy()\n",
    "print(\"TVM model output:\", output)\n"
   ]
  }
 ],
 "metadata": {
  "kernelspec": {
   "display_name": "tvm_env",
   "language": "python",
   "name": "python3"
  },
  "language_info": {
   "codemirror_mode": {
    "name": "ipython",
    "version": 3
   },
   "file_extension": ".py",
   "mimetype": "text/x-python",
   "name": "python",
   "nbconvert_exporter": "python",
   "pygments_lexer": "ipython3",
   "version": "3.8.20"
  }
 },
 "nbformat": 4,
 "nbformat_minor": 2
}
