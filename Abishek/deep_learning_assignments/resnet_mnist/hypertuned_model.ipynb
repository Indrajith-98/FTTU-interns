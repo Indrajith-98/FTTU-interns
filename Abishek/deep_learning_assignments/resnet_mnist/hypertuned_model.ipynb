{
 "cells": [
  {
   "cell_type": "code",
   "execution_count": 1,
   "metadata": {},
   "outputs": [],
   "source": [
    "import tensorflow as tf\n",
    "from tensorflow.keras import layers, models, callbacks\n",
    "from tensorflow.keras.datasets import mnist\n",
    "from sklearn.model_selection import train_test_split\n",
    "from sklearn.metrics import classification_report, confusion_matrix\n",
    "import matplotlib.pyplot as plt\n",
    "import seaborn as sns\n",
    "import numpy as np\n",
    "from keras_tuner import RandomSearch"
   ]
  },
  {
   "cell_type": "code",
   "execution_count": 2,
   "metadata": {},
   "outputs": [],
   "source": [
    "(x_data, y_data), (x_test, y_test) = mnist.load_data()"
   ]
  },
  {
   "cell_type": "code",
   "execution_count": 3,
   "metadata": {},
   "outputs": [],
   "source": [
    "x_train, x_val, y_train, y_val = train_test_split(x_data, y_data, test_size=0.2, random_state=42)"
   ]
  },
  {
   "cell_type": "code",
   "execution_count": 5,
   "metadata": {},
   "outputs": [],
   "source": [
    "x_train = x_train.astype('float32') / 255.0\n",
    "x_val = x_val.astype('float32') / 255.0\n",
    "x_test = x_test.astype('float32') / 255.0"
   ]
  },
  {
   "cell_type": "code",
   "execution_count": 6,
   "metadata": {},
   "outputs": [],
   "source": [
    "def preprocess(image, label):\n",
    "    # Add channel dimension and resize image\n",
    "    image = tf.expand_dims(image, axis=-1)\n",
    "    image = tf.image.resize(image, (224, 224))\n",
    "    image = tf.image.grayscale_to_rgb(image)\n",
    "    return image, tf.one_hot(label, 10)"
   ]
  },
  {
   "cell_type": "code",
   "execution_count": 7,
   "metadata": {},
   "outputs": [],
   "source": [
    "batch_size = 32\n",
    "\n",
    "train_ds = tf.data.Dataset.from_tensor_slices((x_train, y_train))\n",
    "train_ds = train_ds.map(preprocess).batch(batch_size).prefetch(tf.data.AUTOTUNE)\n",
    "\n",
    "val_ds = tf.data.Dataset.from_tensor_slices((x_val, y_val))\n",
    "val_ds = val_ds.map(preprocess).batch(batch_size).prefetch(tf.data.AUTOTUNE)\n",
    "\n",
    "test_ds = tf.data.Dataset.from_tensor_slices((x_test, y_test))\n",
    "test_ds = test_ds.map(preprocess).batch(batch_size).prefetch(tf.data.AUTOTUNE)"
   ]
  },
  {
   "cell_type": "code",
   "execution_count": 16,
   "metadata": {},
   "outputs": [],
   "source": [
    "def build_model(hp):\n",
    "    inputs = layers.Input(shape=(224, 224, 3))\n",
    "\n",
    "    # Initial Conv layer\n",
    "    filters = hp.Choice('filters', values=[32, 64])\n",
    "    x = layers.Conv2D(filters, (7, 7), strides=(2, 2), padding='same', activation=hp.Choice('activation', values=['relu', 'tanh']))(inputs)\n",
    "    x = layers.BatchNormalization()(x)\n",
    "    x = layers.MaxPooling2D((3, 3), strides=(2, 2), padding='same')(x)\n",
    "\n",
    "    # Residual Block 1\n",
    "    for _ in range(2):\n",
    "        shortcut = x\n",
    "        x = layers.Conv2D(filters, (3, 3), padding='same', activation='relu')(x)\n",
    "        x = layers.BatchNormalization()(x)\n",
    "        x = layers.Conv2D(filters, (3, 3), padding='same')(x)\n",
    "        x = layers.BatchNormalization()(x)\n",
    "        x = layers.Add()([x, shortcut])\n",
    "        x = layers.ReLU()(x)\n",
    "\n",
    "    # Residual Block 2 with dimensionality adjustment\n",
    "    for _ in range(2):\n",
    "        shortcut = x\n",
    "        if x.shape[-1] != 2 * filters:\n",
    "            shortcut = layers.Conv2D(2 * filters, (1, 1), strides=(1, 1), padding='same')(shortcut)\n",
    "        x = layers.Conv2D(2 * filters, (3, 3), padding='same', activation='relu')(x)\n",
    "        x = layers.BatchNormalization()(x)\n",
    "        x = layers.Conv2D(2 * filters, (3, 3), padding='same')(x)\n",
    "        x = layers.BatchNormalization()(x)\n",
    "        x = layers.Add()([x, shortcut])\n",
    "        x = layers.ReLU()(x)\n",
    "\n",
    "    nodes = hp.Choice('nodes', values=[128, 256, 512])\n",
    "\n",
    "    # Global Average Pooling and Dense output layer\n",
    "    x = layers.GlobalAveragePooling2D()(x)\n",
    "    x = layers.Dense(nodes, activation='relu')(x)\n",
    "    x = layers.Dropout(hp.Float('dropout_rate', 0.3, 0.5, step=0.1))(x)\n",
    "    outputs = layers.Dense(10, activation='softmax')(x)\n",
    "\n",
    "    model = models.Model(inputs, outputs)\n",
    "\n",
    "    model.compile(\n",
    "        optimizer=tf.keras.optimizers.Adam(learning_rate=hp.Choice('learning_rate', values=[1e-2, 1e-3, 1e-4])),\n",
    "        loss='categorical_crossentropy',\n",
    "        metrics=['accuracy']\n",
    "    )\n",
    "    return model"
   ]
  },
  {
   "cell_type": "code",
   "execution_count": 17,
   "metadata": {},
   "outputs": [],
   "source": [
    "tuner = RandomSearch(\n",
    "    build_model,\n",
    "    objective='val_accuracy',\n",
    "    max_trials=10,\n",
    "    executions_per_trial=1,\n",
    "    directory='mnist_tuning',\n",
    "    project_name='mnist_resnet'\n",
    ")"
   ]
  },
  {
   "cell_type": "code",
   "execution_count": 18,
   "metadata": {},
   "outputs": [],
   "source": [
    "early_stopping = callbacks.EarlyStopping(\n",
    "    monitor='val_loss',\n",
    "    patience=3,\n",
    "    restore_best_weights=True\n",
    ")"
   ]
  },
  {
   "cell_type": "code",
   "execution_count": 19,
   "metadata": {},
   "outputs": [
    {
     "name": "stdout",
     "output_type": "stream",
     "text": [
      "Trial 10 Complete [00h 18m 12s]\n",
      "val_accuracy: 0.8334166407585144\n",
      "\n",
      "Best val_accuracy So Far: 0.9776666760444641\n",
      "Total elapsed time: 04h 11m 23s\n"
     ]
    }
   ],
   "source": [
    "tuner.search(train_ds, validation_data=val_ds, epochs=10, callbacks=[early_stopping])"
   ]
  },
  {
   "cell_type": "code",
   "execution_count": 20,
   "metadata": {},
   "outputs": [],
   "source": [
    "best_hps = tuner.get_best_hyperparameters(1)[0]"
   ]
  },
  {
   "cell_type": "code",
   "execution_count": 21,
   "metadata": {},
   "outputs": [
    {
     "name": "stdout",
     "output_type": "stream",
     "text": [
      "Best hyperparameters: Filters: 32, Activation: relu, Learning Rate: 0.0001, Dropout Rate: 0.4\n"
     ]
    }
   ],
   "source": [
    "print(f\"Best hyperparameters: Filters: {best_hps.get('filters')}, Activation: {best_hps.get('activation')}, Learning Rate: {best_hps.get('learning_rate')}, Dropout Rate: {best_hps.get('dropout_rate')}\")"
   ]
  },
  {
   "cell_type": "code",
   "execution_count": 22,
   "metadata": {},
   "outputs": [],
   "source": [
    "best_model = tuner.hypermodel.build(best_hps)"
   ]
  },
  {
   "cell_type": "code",
   "execution_count": 23,
   "metadata": {},
   "outputs": [
    {
     "name": "stdout",
     "output_type": "stream",
     "text": [
      "Epoch 1/10\n",
      "1500/1500 [==============================] - 136s 90ms/step - loss: 1.0976 - accuracy: 0.6796 - val_loss: 1.4790 - val_accuracy: 0.5441\n",
      "Epoch 2/10\n",
      "1500/1500 [==============================] - 133s 89ms/step - loss: 0.3499 - accuracy: 0.9189 - val_loss: 1.4781 - val_accuracy: 0.5303\n",
      "Epoch 3/10\n",
      "1500/1500 [==============================] - 133s 88ms/step - loss: 0.2144 - accuracy: 0.9471 - val_loss: 0.6321 - val_accuracy: 0.7803\n",
      "Epoch 4/10\n",
      "1500/1500 [==============================] - 134s 90ms/step - loss: 0.1671 - accuracy: 0.9570 - val_loss: 0.4418 - val_accuracy: 0.8326\n",
      "Epoch 5/10\n",
      "1500/1500 [==============================] - 133s 88ms/step - loss: 0.1398 - accuracy: 0.9629 - val_loss: 0.3224 - val_accuracy: 0.9041\n",
      "Epoch 6/10\n",
      "1500/1500 [==============================] - 132s 88ms/step - loss: 0.1202 - accuracy: 0.9682 - val_loss: 0.2122 - val_accuracy: 0.9361\n",
      "Epoch 7/10\n",
      "1500/1500 [==============================] - 132s 88ms/step - loss: 0.1071 - accuracy: 0.9705 - val_loss: 3.7309 - val_accuracy: 0.3882\n",
      "Epoch 8/10\n",
      "1500/1500 [==============================] - 132s 88ms/step - loss: 0.0960 - accuracy: 0.9734 - val_loss: 0.1876 - val_accuracy: 0.9449\n",
      "Epoch 9/10\n",
      "1500/1500 [==============================] - 134s 90ms/step - loss: 0.0892 - accuracy: 0.9748 - val_loss: 11.3879 - val_accuracy: 0.1922\n",
      "Epoch 10/10\n",
      "1500/1500 [==============================] - 134s 90ms/step - loss: 0.0822 - accuracy: 0.9772 - val_loss: 0.1082 - val_accuracy: 0.9657\n"
     ]
    }
   ],
   "source": [
    "history = best_model.fit(\n",
    "    train_ds,\n",
    "    epochs=10,\n",
    "    validation_data=val_ds,\n",
    "    callbacks=[early_stopping]\n",
    ")"
   ]
  },
  {
   "cell_type": "code",
   "execution_count": 24,
   "metadata": {},
   "outputs": [],
   "source": [
    "best_model.save('mnist_best_resnet.h5')"
   ]
  },
  {
   "cell_type": "code",
   "execution_count": 25,
   "metadata": {},
   "outputs": [
    {
     "name": "stdout",
     "output_type": "stream",
     "text": [
      "Training Accuracy: 0.9771875143051147\n",
      "Validation Accuracy: 0.965749979019165\n"
     ]
    }
   ],
   "source": [
    "train_accuracy = history.history['accuracy'][-1]\n",
    "val_accuracy = history.history['val_accuracy'][-1]\n",
    "print(f\"Training Accuracy: {train_accuracy}\")\n",
    "print(f\"Validation Accuracy: {val_accuracy}\")"
   ]
  },
  {
   "cell_type": "code",
   "execution_count": 26,
   "metadata": {},
   "outputs": [
    {
     "name": "stdout",
     "output_type": "stream",
     "text": [
      "313/313 [==============================] - 10s 30ms/step\n"
     ]
    }
   ],
   "source": [
    "y_pred = best_model.predict(test_ds)\n",
    "y_pred_classes = tf.argmax(y_pred, axis=1).numpy()\n",
    "y_true = y_test.flatten()"
   ]
  },
  {
   "cell_type": "code",
   "execution_count": 27,
   "metadata": {},
   "outputs": [
    {
     "name": "stdout",
     "output_type": "stream",
     "text": [
      "\n",
      "Classification Report:\n",
      "\n",
      "              precision    recall  f1-score   support\n",
      "\n",
      "           0       0.98      0.99      0.98       980\n",
      "           1       0.98      0.99      0.99      1135\n",
      "           2       0.98      0.94      0.96      1032\n",
      "           3       0.85      1.00      0.92      1010\n",
      "           4       0.98      0.99      0.98       982\n",
      "           5       0.96      0.98      0.97       892\n",
      "           6       1.00      0.96      0.98       958\n",
      "           7       1.00      0.92      0.96      1028\n",
      "           8       0.96      0.97      0.97       974\n",
      "           9       0.99      0.94      0.96      1009\n",
      "\n",
      "    accuracy                           0.97     10000\n",
      "   macro avg       0.97      0.97      0.97     10000\n",
      "weighted avg       0.97      0.97      0.97     10000\n",
      "\n"
     ]
    }
   ],
   "source": [
    "report = classification_report(y_true, y_pred_classes, target_names=[str(i) for i in range(10)])\n",
    "print(\"\\nClassification Report:\\n\")\n",
    "print(report)"
   ]
  },
  {
   "cell_type": "code",
   "execution_count": 28,
   "metadata": {},
   "outputs": [
    {
     "data": {
      "image/png": "[encoded data removed]",
      "text/plain": [
       "<Figure size 1000x800 with 2 Axes>"
      ]
     },
     "metadata": {},
     "output_type": "display_data"
    }
   ],
   "source": [
    "conf_matrix = confusion_matrix(y_true, y_pred_classes)\n",
    "plt.figure(figsize=(10, 8))\n",
    "sns.heatmap(conf_matrix, annot=True, fmt='d', cmap='Blues', xticklabels=[str(i) for i in range(10)], yticklabels=[str(i) for i in range(10)])\n",
    "plt.title('Confusion Matrix')\n",
    "plt.ylabel('True Label')\n",
    "plt.xlabel('Predicted Label')\n",
    "plt.show()"
   ]
  }
 ],
 "metadata": {
  "kernelspec": {
   "display_name": "Python 3",
   "language": "python",
   "name": "python3"
  },
  "language_info": {
   "codemirror_mode": {
    "name": "ipython",
    "version": 3
   },
   "file_extension": ".py",
   "mimetype": "text/x-python",
   "name": "python",
   "nbconvert_exporter": "python",
   "pygments_lexer": "ipython3",
   "version": "3.9.21"
  }
 },
 "nbformat": 4,
 "nbformat_minor": 2
}
