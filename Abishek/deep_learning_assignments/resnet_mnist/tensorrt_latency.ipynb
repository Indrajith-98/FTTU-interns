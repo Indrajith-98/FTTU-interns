{
 "cells": [
  {
   "cell_type": "code",
   "execution_count": 135,
   "metadata": {},
   "outputs": [],
   "source": [
    "import numpy as np\n",
    "import tensorflow as tf\n",
    "from tensorflow.keras.datasets import mnist\n",
    "from sklearn.model_selection import train_test_split\n",
    "import tensorrt as trt\n",
    "import pycuda.driver as cuda\n",
    "import pycuda.autoinit\n",
    "import time"
   ]
  },
  {
   "cell_type": "code",
   "execution_count": 136,
   "metadata": {},
   "outputs": [],
   "source": [
    "(x_data, y_data), (x_test, y_test) = mnist.load_data()\n",
    "x_train, x_val, y_train, y_val = train_test_split(x_data, y_data, test_size=0.2, random_state=42)\n",
    "x_train = x_train.astype('float32') / 255.0\n",
    "x_val = x_val.astype('float32') / 255.0\n",
    "x_test = x_test.astype('float32') / 255.0"
   ]
  },
  {
   "cell_type": "code",
   "execution_count": 137,
   "metadata": {},
   "outputs": [],
   "source": [
    "def preprocess(image):\n",
    "    image = tf.expand_dims(image, axis=-1)\n",
    "    image = tf.image.resize(image, (224, 224))\n",
    "    image = tf.image.grayscale_to_rgb(image)\n",
    "    return image"
   ]
  },
  {
   "cell_type": "code",
   "execution_count": 143,
   "metadata": {},
   "outputs": [
    {
     "name": "stderr",
     "output_type": "stream",
     "text": [
      "f:\\MultiCoreWare\\Environments\\tensorrt\\Lib\\site-packages\\keras\\src\\optimizers\\base_optimizer.py:86: UserWarning: Argument `decay` is no longer supported and will be ignored.\n",
      "  warnings.warn(\n",
      "WARNING:absl:Compiled the loaded model, but the compiled metrics have yet to be built. `model.compile_metrics` will be empty until you train or evaluate the model.\n",
      "WARNING:absl:Error in loading the saved optimizer state. As a result, your model is starting with a freshly initialized optimizer.\n"
     ]
    }
   ],
   "source": [
    "model = tf.keras.models.load_model(\"mnist_data_aug_resnet.h5\")"
   ]
  },
  {
   "cell_type": "code",
   "execution_count": 138,
   "metadata": {},
   "outputs": [],
   "source": [
    "TRT_LOGGER = trt.Logger(trt.Logger.WARNING)\n",
    "with open(\"mnist_resnet_final.trt\", \"rb\") as f:\n",
    "    engine_data = f.read()"
   ]
  },
  {
   "cell_type": "code",
   "execution_count": 139,
   "metadata": {},
   "outputs": [],
   "source": [
    "runtime = trt.Runtime(TRT_LOGGER)\n",
    "engine = runtime.deserialize_cuda_engine(engine_data)"
   ]
  },
  {
   "cell_type": "code",
   "execution_count": 140,
   "metadata": {},
   "outputs": [],
   "source": [
    "context = engine.create_execution_context()"
   ]
  },
  {
   "cell_type": "code",
   "execution_count": 147,
   "metadata": {},
   "outputs": [
    {
     "name": "stdout",
     "output_type": "stream",
     "text": [
      "Average Prediction Latency: 0.004294 seconds\n",
      "Accuracy: 98.83%\n",
      ".h5 Model - Average Prediction Latency: 0.132996 seconds\n",
      ".h5 Model - Accuracy: 98.82%\n"
     ]
    }
   ],
   "source": [
    "trt_total_latency = 0.0\n",
    "trt_correct_predictions = 0\n",
    "\n",
    "h5_total_latency = 0.0\n",
    "h5_correct_predictions = 0\n",
    "\n",
    "input_shape = (1, 224, 224, 3)\n",
    "output_shape = (1, 10)\n",
    "\n",
    "for i in range(len(x_test)):\n",
    "    true_label = y_test[i]\n",
    "    input_data = preprocess(x_test[i]).numpy()\n",
    "    input_data = np.expand_dims(input_data, axis=0)\n",
    "\n",
    "    #TRT Inference\n",
    "\n",
    "    d_input = cuda.mem_alloc(input_data.nbytes)\n",
    "    d_output = cuda.mem_alloc(np.empty(output_shape, dtype=np.float32).nbytes)\n",
    "    bindings = [int(d_input), int(d_output)]\n",
    "\n",
    "    cuda.memcpy_htod(d_input, input_data)\n",
    "\n",
    "    trt_start_time = time.time()\n",
    "    context.execute_v2(bindings)\n",
    "    trt_end_time = time.time()\n",
    "\n",
    "    trt_latency = trt_end_time - trt_start_time\n",
    "    trt_total_latency += trt_latency\n",
    "\n",
    "    output_data = np.empty(output_shape, dtype=np.float32)\n",
    "    cuda.memcpy_dtoh(output_data, d_output)\n",
    "    trt_predicted_label = np.argmax(output_data)\n",
    "    if true_label == trt_predicted_label:\n",
    "        trt_correct_predictions += 1\n",
    "\n",
    "    #H5 Inference\n",
    "\n",
    "    h5_start_time = time.time()\n",
    "    h5_output = model.predict(input_data, verbose=0)\n",
    "    h5_end_time = time.time()\n",
    "\n",
    "    h5_latency = h5_end_time - h5_start_time\n",
    "    h5_total_latency += h5_latency\n",
    "\n",
    "    h5_predicted_label = np.argmax(h5_output)\n",
    "    if true_label == h5_predicted_label:\n",
    "        h5_correct_predictions += 1\n",
    "\n",
    "trt_average_latency = trt_total_latency / len(x_test)\n",
    "trt_accuracy = trt_correct_predictions / len(x_test)\n",
    "\n",
    "h5_average_latency = h5_total_latency / len(x_test)\n",
    "h5_accuracy = h5_correct_predictions / len(x_test)"
   ]
  },
  {
   "cell_type": "code",
   "execution_count": 149,
   "metadata": {},
   "outputs": [
    {
     "name": "stdout",
     "output_type": "stream",
     "text": [
      "TRT - Average Prediction Latency: 0.004294 seconds\n",
      "TRT - Accuracy: 98.83%\n",
      "H5 Model - Average Prediction Latency: 0.132996 seconds\n",
      "H5 Model - Accuracy: 98.82%\n"
     ]
    }
   ],
   "source": [
    "print(f\"TRT - Average Prediction Latency: {trt_average_latency:.6f} seconds\")\n",
    "print(f\"TRT - Accuracy: {trt_accuracy:.2%}\")\n",
    "\n",
    "print(f\"H5 Model - Average Prediction Latency: {h5_average_latency:.6f} seconds\")\n",
    "print(f\"H5 Model - Accuracy: {h5_accuracy:.2%}\")"
   ]
  }
 ],
 "metadata": {
  "kernelspec": {
   "display_name": "tensorrt",
   "language": "python",
   "name": "python3"
  },
  "language_info": {
   "codemirror_mode": {
    "name": "ipython",
    "version": 3
   },
   "file_extension": ".py",
   "mimetype": "text/x-python",
   "name": "python",
   "nbconvert_exporter": "python",
   "pygments_lexer": "ipython3",
   "version": "3.11.4"
  }
 },
 "nbformat": 4,
 "nbformat_minor": 2
}
