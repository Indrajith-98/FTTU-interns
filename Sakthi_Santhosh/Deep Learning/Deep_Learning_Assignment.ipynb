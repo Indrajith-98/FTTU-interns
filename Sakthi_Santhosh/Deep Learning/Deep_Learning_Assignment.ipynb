{
  "cells": [
    {
      "cell_type": "code",
      "execution_count": 35,
      "metadata": {
        "id": "z5cUpDwMWKwm"
      },
      "outputs": [],
      "source": [
        "import tensorflow as tf\n",
        "from tensorflow.keras import layers, models, datasets\n"
      ]
    },
    {
      "cell_type": "code",
      "execution_count": 36,
      "metadata": {
        "id": "BPyztumrWRuP"
      },
      "outputs": [],
      "source": [
        "(train_images, train_labels), (test_images, test_labels) = datasets.cifar10.load_data()"
      ]
    },
    {
      "cell_type": "code",
      "execution_count": 37,
      "metadata": {
        "id": "tevVJ3tXW5cd"
      },
      "outputs": [],
      "source": [
        "train_images, test_images = train_images / 255.0, test_images / 255.0\n",
        "\n",
        "\n",
        "train_labels = tf.keras.utils.to_categorical(train_labels, 10)\n",
        "test_labels = tf.keras.utils.to_categorical(test_labels, 10)\n"
      ]
    },
    {
      "cell_type": "code",
      "execution_count": 48,
      "metadata": {
        "id": "ialYBPhGXASL"
      },
      "outputs": [],
      "source": [
        "def residual_block(x, filters, kernel_size=3, stride=1):\n",
        "    shortcut = x  \n",
        "\n",
        "    \n",
        "    x = layers.Conv2D(filters, kernel_size, strides=stride, padding='same')(x)\n",
        "    x = layers.BatchNormalization()(x)\n",
        "    x = layers.ReLU()(x)\n",
        "\n",
        "   \n",
        "    x = layers.Conv2D(filters, kernel_size, strides=1, padding='same')(x)\n",
        "    x = layers.BatchNormalization()(x)\n",
        "\n",
        "\n",
        "    if stride != 1 or x.shape[-1] != shortcut.shape[-1]:\n",
        "        shortcut = layers.Conv2D(filters, (1, 1), strides=stride, padding='same')(shortcut)\n",
        "        shortcut = layers.BatchNormalization()(shortcut)\n",
        "\n",
        "    \n",
        "    x = layers.add([x, shortcut])\n",
        "    x = layers.ReLU()(x)\n",
        "    return x\n"
      ]
    },
    {
      "cell_type": "code",
      "execution_count": 50,
      "metadata": {
        "id": "ZTL8xfeeXRy-"
      },
      "outputs": [],
      "source": [
        "def resnet10_model(input_shape=(32, 32, 3)):\n",
        "    input = layers.Input(shape=input_shape)\n",
        "\n",
        "    \n",
        "    x = layers.Conv2D(16, (3, 3), padding='same')(input)\n",
        "    x = layers.BatchNormalization()(x)\n",
        "    x = layers.ReLU()(x)\n",
        "\n",
        "    \n",
        "    x = residual_block(x, 16)  \n",
        "    x = residual_block(x, 16) \n",
        "\n",
        "    x = residual_block(x, 32, stride=2)  \n",
        "    x = residual_block(x, 32)  \n",
        "\n",
        "   \n",
        "    x = layers.GlobalAveragePooling2D()(x)\n",
        "\n",
        "    \n",
        "    x = layers.Dense(10, activation='softmax')(x)\n",
        "\n",
        "    model = models.Model(inputs=input, outputs=x)\n",
        "    return model\n"
      ]
    },
    {
      "cell_type": "code",
      "execution_count": 51,
      "metadata": {
        "id": "Q1B-D33yXXuA"
      },
      "outputs": [],
      "source": [
        "model_resnet10 = resnet10_model(input_shape=(32, 32, 3))\n",
        "\n",
        "model_resnet10.compile(optimizer=tf.keras.optimizers.Adam(learning_rate=0.001),\n",
        "                       loss='categorical_crossentropy',\n",
        "                       metrics=['accuracy'])\n"
      ]
    },
    {
      "cell_type": "code",
      "execution_count": 52,
      "metadata": {
        "colab": {
          "base_uri": "https://localhost:8080/"
        },
        "id": "AtR-LCMMafXI",
        "outputId": "79225f46-9174-41e1-9ee4-4201a787e853"
      },
      "outputs": [
        {
          "name": "stdout",
          "output_type": "stream",
          "text": [
            "Epoch 1/10\n",
            "\u001b[1m1563/1563\u001b[0m \u001b[32m━━━━━━━━━━━━━━━━━━━━\u001b[0m\u001b[37m\u001b[0m \u001b[1m25s\u001b[0m 9ms/step - accuracy: 0.4142 - loss: 1.6227 - val_accuracy: 0.3944 - val_loss: 1.9449\n",
            "Epoch 2/10\n",
            "\u001b[1m1563/1563\u001b[0m \u001b[32m━━━━━━━━━━━━━━━━━━━━\u001b[0m\u001b[37m\u001b[0m \u001b[1m11s\u001b[0m 6ms/step - accuracy: 0.6087 - loss: 1.1046 - val_accuracy: 0.4853 - val_loss: 1.4913\n",
            "Epoch 3/10\n",
            "\u001b[1m1563/1563\u001b[0m \u001b[32m━━━━━━━━━━━━━━━━━━━━\u001b[0m\u001b[37m\u001b[0m \u001b[1m9s\u001b[0m 5ms/step - accuracy: 0.6660 - loss: 0.9464 - val_accuracy: 0.4058 - val_loss: 1.9300\n",
            "Epoch 4/10\n",
            "\u001b[1m1563/1563\u001b[0m \u001b[32m━━━━━━━━━━━━━━━━━━━━\u001b[0m\u001b[37m\u001b[0m \u001b[1m11s\u001b[0m 6ms/step - accuracy: 0.6959 - loss: 0.8724 - val_accuracy: 0.6122 - val_loss: 1.1147\n",
            "Epoch 5/10\n",
            "\u001b[1m1563/1563\u001b[0m \u001b[32m━━━━━━━━━━━━━━━━━━━━\u001b[0m\u001b[37m\u001b[0m \u001b[1m9s\u001b[0m 6ms/step - accuracy: 0.7136 - loss: 0.8102 - val_accuracy: 0.6737 - val_loss: 0.9376\n",
            "Epoch 6/10\n",
            "\u001b[1m1563/1563\u001b[0m \u001b[32m━━━━━━━━━━━━━━━━━━━━\u001b[0m\u001b[37m\u001b[0m \u001b[1m10s\u001b[0m 6ms/step - accuracy: 0.7351 - loss: 0.7610 - val_accuracy: 0.6091 - val_loss: 1.1739\n",
            "Epoch 7/10\n",
            "\u001b[1m1563/1563\u001b[0m \u001b[32m━━━━━━━━━━━━━━━━━━━━\u001b[0m\u001b[37m\u001b[0m \u001b[1m9s\u001b[0m 6ms/step - accuracy: 0.7550 - loss: 0.7140 - val_accuracy: 0.6458 - val_loss: 1.0088\n",
            "Epoch 8/10\n",
            "\u001b[1m1563/1563\u001b[0m \u001b[32m━━━━━━━━━━━━━━━━━━━━\u001b[0m\u001b[37m\u001b[0m \u001b[1m9s\u001b[0m 6ms/step - accuracy: 0.7619 - loss: 0.6819 - val_accuracy: 0.6437 - val_loss: 1.0645\n",
            "Epoch 9/10\n",
            "\u001b[1m1563/1563\u001b[0m \u001b[32m━━━━━━━━━━━━━━━━━━━━\u001b[0m\u001b[37m\u001b[0m \u001b[1m11s\u001b[0m 6ms/step - accuracy: 0.7718 - loss: 0.6566 - val_accuracy: 0.6530 - val_loss: 1.0657\n",
            "Epoch 10/10\n",
            "\u001b[1m1563/1563\u001b[0m \u001b[32m━━━━━━━━━━━━━━━━━━━━\u001b[0m\u001b[37m\u001b[0m \u001b[1m9s\u001b[0m 5ms/step - accuracy: 0.7838 - loss: 0.6287 - val_accuracy: 0.6311 - val_loss: 1.1341\n"
          ]
        }
      ],
      "source": [
        "history_resnet10 = model_resnet10.fit(train_images, train_labels, epochs=10,\n",
        "                                      validation_data=(test_images, test_labels))\n"
      ]
    },
    {
      "cell_type": "code",
      "execution_count": 53,
      "metadata": {
        "colab": {
          "base_uri": "https://localhost:8080/"
        },
        "id": "v0h3q0NKbtOf",
        "outputId": "be7eefeb-f5ba-4575-ed3b-6d65258f51f9"
      },
      "outputs": [
        {
          "name": "stdout",
          "output_type": "stream",
          "text": [
            "\u001b[1m313/313\u001b[0m \u001b[32m━━━━━━━━━━━━━━━━━━━━\u001b[0m\u001b[37m\u001b[0m \u001b[1m1s\u001b[0m 4ms/step - accuracy: 0.6363 - loss: 1.1259\n",
            "Test accuracy: 63.11%\n"
          ]
        }
      ],
      "source": [
        "test_loss, test_acc = model_resnet10.evaluate(test_images, test_labels)\n",
        "print(f\"Test accuracy: {test_acc*100:.2f}%\")"
      ]
    },
    {
      "cell_type": "code",
      "execution_count": 54,
      "metadata": {
        "colab": {
          "base_uri": "https://localhost:8080/",
          "height": 472
        },
        "id": "o9KRe13ljsX9",
        "outputId": "4a54f58a-ad2c-4216-cb6a-a610312e33ed"
      },
      "outputs": [
        {
          "data": {
            "image/png": "[encoded data removed]",
            "text/plain": [
              "<Figure size 640x480 with 1 Axes>"
            ]
          },
          "metadata": {},
          "output_type": "display_data"
        }
      ],
      "source": [
        "import matplotlib.pyplot as plt\n",
        "\n",
        "\n",
        "plt.plot(history_resnet10.history['accuracy'], label='Training Accuracy')\n",
        "plt.plot(history_resnet10.history['val_accuracy'], label='Validation Accuracy')\n",
        "plt.xlabel('Epochs')\n",
        "plt.ylabel('Accuracy')\n",
        "plt.title('Training and Validation Accuracy')\n",
        "plt.legend()\n",
        "plt.show()\n"
      ]
    },
    {
      "cell_type": "code",
      "execution_count": 55,
      "metadata": {
        "colab": {
          "base_uri": "https://localhost:8080/"
        },
        "id": "ahYaFQnKkQ15",
        "outputId": "beda33bf-ece4-467e-e789-e6368ec8639a"
      },
      "outputs": [
        {
          "name": "stdout",
          "output_type": "stream",
          "text": [
            "Collecting keras-tuner\n",
            "  Downloading keras_tuner-1.4.7-py3-none-any.whl.metadata (5.4 kB)\n",
            "Requirement already satisfied: keras in /usr/local/lib/python3.11/dist-packages (from keras-tuner) (3.5.0)\n",
            "Requirement already satisfied: packaging in /usr/local/lib/python3.11/dist-packages (from keras-tuner) (24.2)\n",
            "Requirement already satisfied: requests in /usr/local/lib/python3.11/dist-packages (from keras-tuner) (2.32.3)\n",
            "Collecting kt-legacy (from keras-tuner)\n",
            "  Downloading kt_legacy-1.0.5-py3-none-any.whl.metadata (221 bytes)\n",
            "Requirement already satisfied: absl-py in /usr/local/lib/python3.11/dist-packages (from keras->keras-tuner) (1.4.0)\n",
            "Requirement already satisfied: numpy in /usr/local/lib/python3.11/dist-packages (from keras->keras-tuner) (1.26.4)\n",
            "Requirement already satisfied: rich in /usr/local/lib/python3.11/dist-packages (from keras->keras-tuner) (13.9.4)\n",
            "Requirement already satisfied: namex in /usr/local/lib/python3.11/dist-packages (from keras->keras-tuner) (0.0.8)\n",
            "Requirement already satisfied: h5py in /usr/local/lib/python3.11/dist-packages (from keras->keras-tuner) (3.12.1)\n",
            "Requirement already satisfied: optree in /usr/local/lib/python3.11/dist-packages (from keras->keras-tuner) (0.13.1)\n",
            "Requirement already satisfied: ml-dtypes in /usr/local/lib/python3.11/dist-packages (from keras->keras-tuner) (0.4.1)\n",
            "Requirement already satisfied: charset-normalizer<4,>=2 in /usr/local/lib/python3.11/dist-packages (from requests->keras-tuner) (3.4.1)\n",
            "Requirement already satisfied: idna<4,>=2.5 in /usr/local/lib/python3.11/dist-packages (from requests->keras-tuner) (3.10)\n",
            "Requirement already satisfied: urllib3<3,>=1.21.1 in /usr/local/lib/python3.11/dist-packages (from requests->keras-tuner) (2.3.0)\n",
            "Requirement already satisfied: certifi>=2017.4.17 in /usr/local/lib/python3.11/dist-packages (from requests->keras-tuner) (2024.12.14)\n",
            "Requirement already satisfied: typing-extensions>=4.5.0 in /usr/local/lib/python3.11/dist-packages (from optree->keras->keras-tuner) (4.12.2)\n",
            "Requirement already satisfied: markdown-it-py>=2.2.0 in /usr/local/lib/python3.11/dist-packages (from rich->keras->keras-tuner) (3.0.0)\n",
            "Requirement already satisfied: pygments<3.0.0,>=2.13.0 in /usr/local/lib/python3.11/dist-packages (from rich->keras->keras-tuner) (2.18.0)\n",
            "Requirement already satisfied: mdurl~=0.1 in /usr/local/lib/python3.11/dist-packages (from markdown-it-py>=2.2.0->rich->keras->keras-tuner) (0.1.2)\n",
            "Downloading keras_tuner-1.4.7-py3-none-any.whl (129 kB)\n",
            "\u001b[2K   \u001b[90m━━━━━━━━━━━━━━━━━━━━━━━━━━━━━━━━━━━━━━━━\u001b[0m \u001b[32m129.1/129.1 kB\u001b[0m \u001b[31m11.1 MB/s\u001b[0m eta \u001b[36m0:00:00\u001b[0m\n",
            "\u001b[?25hDownloading kt_legacy-1.0.5-py3-none-any.whl (9.6 kB)\n",
            "Installing collected packages: kt-legacy, keras-tuner\n",
            "Successfully installed keras-tuner-1.4.7 kt-legacy-1.0.5\n"
          ]
        }
      ],
      "source": [
        "pip install keras-tuner\n"
      ]
    },
    {
      "cell_type": "code",
      "execution_count": 56,
      "metadata": {
        "id": "AwhgOMDks8Z5"
      },
      "outputs": [],
      "source": [
        "def residual_block(x, filters, kernel_size=3, stride=1):\n",
        "    shortcut = x  \n",
        "\n",
        "    # First convolution layer\n",
        "    x = layers.Conv2D(filters, kernel_size, strides=stride, padding='same')(x)\n",
        "    x = layers.BatchNormalization()(x)\n",
        "    x = layers.ReLU()(x)\n",
        "\n",
        "    # Second convolution layer\n",
        "    x = layers.Conv2D(filters, kernel_size, strides=1, padding='same')(x)\n",
        "    x = layers.BatchNormalization()(x)\n",
        "\n",
        "    # Shortcut (if needed, change it to match output dimensions)\n",
        "    if stride != 1 or x.shape[-1] != shortcut.shape[-1]:\n",
        "        shortcut = layers.Conv2D(filters, (1, 1), strides=stride, padding='same')(shortcut)\n",
        "        shortcut = layers.BatchNormalization()(shortcut)\n",
        "\n",
        "    # Adding the shortcut to the output\n",
        "    x = layers.add([x, shortcut])\n",
        "    x = layers.ReLU()(x)\n",
        "    return x\n"
      ]
    },
    {
      "cell_type": "code",
      "execution_count": 59,
      "metadata": {
        "id": "MXvGqRxhts1p"
      },
      "outputs": [],
      "source": [
        "def resnet10_model(input_shape=(32, 32, 3), filters=16, kernel_size=3, learning_rate=0.001):\n",
        "    input = layers.Input(shape=input_shape)\n",
        "\n",
        "    # Initial Convolution Layer\n",
        "    x = layers.Conv2D(filters, (kernel_size, kernel_size), padding='same')(input)\n",
        "    x = layers.BatchNormalization()(x)\n",
        "    x = layers.ReLU()(x)\n",
        "\n",
        "    # Residual Blocks\n",
        "    x = residual_block(x, filters)\n",
        "    x = residual_block(x, filters)\n",
        "\n",
        "    x = residual_block(x, filters * 2, stride=2)\n",
        "    x = residual_block(x, filters * 2)\n",
        "\n",
        "    # Global Average Pooling to reduce dimensions\n",
        "    x = layers.GlobalAveragePooling2D()(x)\n",
        "\n",
        "    # Fully connected layer for classification\n",
        "    x = layers.Dense(10, activation='softmax')(x)\n",
        "\n",
        "    model = models.Model(inputs=input, outputs=x)\n",
        "\n",
        "    # Compile model with variable learning rate\n",
        "    model.compile(optimizer=tf.keras.optimizers.Adam(learning_rate=learning_rate),\n",
        "                  loss='categorical_crossentropy',\n",
        "                  metrics=['accuracy'])\n",
        "\n",
        "    return model"
      ]
    },
    {
      "cell_type": "code",
      "execution_count": 60,
      "metadata": {
        "id": "meKx_Xkatu-s"
      },
      "outputs": [],
      "source": [
        "def model_builder(hp):\n",
        "    # Hyperparameters\n",
        "    filters = hp.Int('filters', min_value=16, max_value=64, step=16)\n",
        "    kernel_size = hp.Int('kernel_size', min_value=3, max_value=5, step=2)\n",
        "    learning_rate = hp.Float('learning_rate', min_value=1e-5, max_value=1e-2, sampling='log')\n",
        "\n",
        "    model = resnet10_model(filters=filters, kernel_size=kernel_size, learning_rate=learning_rate)\n",
        "\n",
        "    return model"
      ]
    },
    {
      "cell_type": "code",
      "execution_count": 62,
      "metadata": {
        "id": "WmNrYAuHtv2I"
      },
      "outputs": [],
      "source": [
        "\n",
        "import keras_tuner as kt\n",
        "\n",
        "tuner = kt.RandomSearch(\n",
        "    model_builder,\n",
        "    objective='val_accuracy',\n",
        "    max_trials=5,  # Number of trials (hyperparameter combinations to test)\n",
        "    executions_per_trial=1,\n",
        "    directory='my_dir',\n",
        "    project_name='resnet10_hyperparam_tuning'\n",
        ")"
      ]
    },
    {
      "cell_type": "code",
      "execution_count": 63,
      "metadata": {
        "colab": {
          "base_uri": "https://localhost:8080/"
        },
        "id": "EjmjDeCgt3-N",
        "outputId": "3bb77891-161b-4a74-ba99-3ac70ae63902"
      },
      "outputs": [
        {
          "name": "stdout",
          "output_type": "stream",
          "text": [
            "Trial 5 Complete [00h 01m 58s]\n",
            "val_accuracy: 0.45879998803138733\n",
            "\n",
            "Best val_accuracy So Far: 0.8274000287055969\n",
            "Total elapsed time: 00h 19m 20s\n"
          ]
        },
        {
          "name": "stderr",
          "output_type": "stream",
          "text": [
            "/usr/local/lib/python3.11/dist-packages/keras/src/saving/saving_lib.py:713: UserWarning: Skipping variable loading for optimizer 'adam', because it has 2 variables whereas the saved optimizer has 86 variables. \n",
            "  saveable.load_own_variables(weights_store.get(inner_path))\n"
          ]
        },
        {
          "name": "stdout",
          "output_type": "stream",
          "text": [
            "\u001b[1m313/313\u001b[0m \u001b[32m━━━━━━━━━━━━━━━━━━━━\u001b[0m\u001b[37m\u001b[0m \u001b[1m4s\u001b[0m 8ms/step - accuracy: 0.8275 - loss: 0.5362\n",
            "Test Accuracy: 82.74%\n"
          ]
        }
      ],
      "source": [
        "tuner.search(train_images, train_labels, epochs=10, validation_data=(test_images, test_labels))\n",
        "\n",
        "# Get the best model\n",
        "best_model = tuner.get_best_models(num_models=1)[0]\n",
        "\n",
        "# Evaluate the best model\n",
        "test_loss, test_acc = best_model.evaluate(test_images, test_labels)\n",
        "print(f'Test Accuracy: {test_acc * 100:.2f}%')"
      ]
    },
    {
      "cell_type": "code",
      "execution_count": 64,
      "metadata": {
        "colab": {
          "base_uri": "https://localhost:8080/"
        },
        "id": "kTo8wG_SzMYD",
        "outputId": "5fc1a73c-b3e0-4a6b-ebf0-acc2fb602e2a"
      },
      "outputs": [
        {
          "name": "stdout",
          "output_type": "stream",
          "text": [
            "Epoch 1/10\n"
          ]
        },
        {
          "name": "stderr",
          "output_type": "stream",
          "text": [
            "/usr/local/lib/python3.11/dist-packages/keras/src/trainers/data_adapters/py_dataset_adapter.py:122: UserWarning: Your `PyDataset` class should call `super().__init__(**kwargs)` in its constructor. `**kwargs` can include `workers`, `use_multiprocessing`, `max_queue_size`. Do not pass these arguments to `fit()`, as they will be ignored.\n",
            "  self._warn_if_super_not_called()\n"
          ]
        },
        {
          "name": "stdout",
          "output_type": "stream",
          "text": [
            "\u001b[1m1563/1563\u001b[0m \u001b[32m━━━━━━━━━━━━━━━━━━━━\u001b[0m\u001b[37m\u001b[0m \u001b[1m59s\u001b[0m 29ms/step - accuracy: 0.7608 - loss: 0.7272 - val_accuracy: 0.7920 - val_loss: 0.6623\n",
            "Epoch 2/10\n",
            "\u001b[1m1563/1563\u001b[0m \u001b[32m━━━━━━━━━━━━━━━━━━━━\u001b[0m\u001b[37m\u001b[0m \u001b[1m43s\u001b[0m 28ms/step - accuracy: 0.7821 - loss: 0.6317 - val_accuracy: 0.7534 - val_loss: 0.8214\n",
            "Epoch 3/10\n",
            "\u001b[1m1563/1563\u001b[0m \u001b[32m━━━━━━━━━━━━━━━━━━━━\u001b[0m\u001b[37m\u001b[0m \u001b[1m42s\u001b[0m 27ms/step - accuracy: 0.8001 - loss: 0.5825 - val_accuracy: 0.7928 - val_loss: 0.6513\n",
            "Epoch 4/10\n",
            "\u001b[1m1563/1563\u001b[0m \u001b[32m━━━━━━━━━━━━━━━━━━━━\u001b[0m\u001b[37m\u001b[0m \u001b[1m81s\u001b[0m 26ms/step - accuracy: 0.8076 - loss: 0.5534 - val_accuracy: 0.7497 - val_loss: 0.7903\n",
            "Epoch 5/10\n",
            "\u001b[1m1563/1563\u001b[0m \u001b[32m━━━━━━━━━━━━━━━━━━━━\u001b[0m\u001b[37m\u001b[0m \u001b[1m42s\u001b[0m 27ms/step - accuracy: 0.8178 - loss: 0.5329 - val_accuracy: 0.7690 - val_loss: 0.7688\n",
            "Epoch 6/10\n",
            "\u001b[1m1563/1563\u001b[0m \u001b[32m━━━━━━━━━━━━━━━━━━━━\u001b[0m\u001b[37m\u001b[0m \u001b[1m81s\u001b[0m 26ms/step - accuracy: 0.8256 - loss: 0.5053 - val_accuracy: 0.8182 - val_loss: 0.5496\n",
            "Epoch 7/10\n",
            "\u001b[1m1563/1563\u001b[0m \u001b[32m━━━━━━━━━━━━━━━━━━━━\u001b[0m\u001b[37m\u001b[0m \u001b[1m41s\u001b[0m 26ms/step - accuracy: 0.8311 - loss: 0.4914 - val_accuracy: 0.7967 - val_loss: 0.6567\n",
            "Epoch 8/10\n",
            "\u001b[1m1563/1563\u001b[0m \u001b[32m━━━━━━━━━━━━━━━━━━━━\u001b[0m\u001b[37m\u001b[0m \u001b[1m42s\u001b[0m 27ms/step - accuracy: 0.8375 - loss: 0.4745 - val_accuracy: 0.8262 - val_loss: 0.5436\n",
            "Epoch 9/10\n",
            "\u001b[1m1563/1563\u001b[0m \u001b[32m━━━━━━━━━━━━━━━━━━━━\u001b[0m\u001b[37m\u001b[0m \u001b[1m44s\u001b[0m 28ms/step - accuracy: 0.8417 - loss: 0.4566 - val_accuracy: 0.8106 - val_loss: 0.5922\n",
            "Epoch 10/10\n",
            "\u001b[1m1563/1563\u001b[0m \u001b[32m━━━━━━━━━━━━━━━━━━━━\u001b[0m\u001b[37m\u001b[0m \u001b[1m43s\u001b[0m 28ms/step - accuracy: 0.8452 - loss: 0.4507 - val_accuracy: 0.8170 - val_loss: 0.6027\n",
            "\u001b[1m313/313\u001b[0m \u001b[32m━━━━━━━━━━━━━━━━━━━━\u001b[0m\u001b[37m\u001b[0m \u001b[1m2s\u001b[0m 6ms/step - accuracy: 0.8172 - loss: 0.5956\n",
            "Test Accuracy with Data Augmentation: 81.70%\n"
          ]
        }
      ],
      "source": [
        "from tensorflow.keras.preprocessing.image import ImageDataGenerator\n",
        "\n",
        "# Define the data augmentation transformations\n",
        "datagen = ImageDataGenerator(\n",
        "    rotation_range=20,  # Random rotations in the range (0 to 20 degrees)\n",
        "    width_shift_range=0.2,  # Random horizontal shifts\n",
        "    height_shift_range=0.2,  # Random vertical shifts\n",
        "    shear_range=0.2,  # Random shearing transformations\n",
        "    zoom_range=0.2,  # Random zoom\n",
        "    horizontal_flip=True,  # Random horizontal flips\n",
        "    fill_mode='nearest'  # Fill in missing pixels after transformations\n",
        ")\n",
        "\n",
        "# Fit the data augmentation generator on the training data\n",
        "datagen.fit(train_images)\n",
        "\n",
        "# Train the model using augmented data\n",
        "history_with_augmentation = best_model.fit(datagen.flow(train_images, train_labels, batch_size=32),\n",
        "                                           epochs=10,\n",
        "                                           validation_data=(test_images, test_labels))\n",
        "\n",
        "# Evaluate the model after augmentation\n",
        "test_loss, test_acc = best_model.evaluate(test_images, test_labels)\n",
        "print(f'Test Accuracy with Data Augmentation: {test_acc * 100:.2f}%')\n"
      ]
    },
    {
      "cell_type": "code",
      "execution_count": 65,
      "metadata": {
        "colab": {
          "base_uri": "https://localhost:8080/"
        },
        "id": "u4n7V-lczXZ7",
        "outputId": "3adbdf6d-3a9e-455e-b2a8-642f5f073e21"
      },
      "outputs": [
        {
          "name": "stdout",
          "output_type": "stream",
          "text": [
            "\u001b[1m313/313\u001b[0m \u001b[32m━━━━━━━━━━━━━━━━━━━━\u001b[0m\u001b[37m\u001b[0m \u001b[1m3s\u001b[0m 9ms/step - accuracy: 0.8172 - loss: 0.5956\n",
            "Test Accuracy with Data Augmentation: 81.70%\n",
            "\u001b[1m313/313\u001b[0m \u001b[32m━━━━━━━━━━━━━━━━━━━━\u001b[0m\u001b[37m\u001b[0m \u001b[1m4s\u001b[0m 7ms/step\n",
            "\n",
            "Classification Report (with Data Augmentation):\n",
            "              precision    recall  f1-score   support\n",
            "\n",
            "           0       0.83      0.87      0.85      1000\n",
            "           1       0.85      0.94      0.89      1000\n",
            "           2       0.82      0.77      0.79      1000\n",
            "           3       0.84      0.59      0.70      1000\n",
            "           4       0.92      0.68      0.78      1000\n",
            "           5       0.87      0.72      0.79      1000\n",
            "           6       0.65      0.97      0.78      1000\n",
            "           7       0.84      0.92      0.87      1000\n",
            "           8       0.98      0.76      0.86      1000\n",
            "           9       0.75      0.95      0.84      1000\n",
            "\n",
            "    accuracy                           0.82     10000\n",
            "   macro avg       0.83      0.82      0.81     10000\n",
            "weighted avg       0.83      0.82      0.81     10000\n",
            "\n"
          ]
        }
      ],
      "source": [
        "from sklearn.metrics import classification_report\n",
        "import numpy as np\n",
        "\n",
        "# Evaluate the model with data augmentation\n",
        "test_loss, test_acc = best_model.evaluate(test_images, test_labels)\n",
        "print(f'Test Accuracy with Data Augmentation: {test_acc * 100:.2f}%')\n",
        "\n",
        "# Make predictions on the test set\n",
        "test_predictions = best_model.predict(test_images)\n",
        "test_predictions = np.argmax(test_predictions, axis=1)  # Convert one-hot to class labels\n",
        "test_labels_class = np.argmax(test_labels, axis=1)  # Convert one-hot to class labels\n",
        "\n",
        "# Generate the classification report\n",
        "report = classification_report(test_labels_class, test_predictions, target_names=[str(i) for i in range(10)])\n",
        "print(\"\\nClassification Report (with Data Augmentation):\")\n",
        "print(report)\n"
      ]
    },
    {
      "cell_type": "code",
      "execution_count": 66,
      "metadata": {
        "colab": {
          "base_uri": "https://localhost:8080/"
        },
        "id": "CdFlWefs1ZsR",
        "outputId": "60fcb020-1abb-45ee-a4e9-f2aa66b17821"
      },
      "outputs": [
        {
          "name": "stderr",
          "output_type": "stream",
          "text": [
            "WARNING:absl:You are saving your model as an HDF5 file via `model.save()` or `keras.saving.save_model(model)`. This file format is considered legacy. We recommend using instead the native Keras format, e.g. `model.save('my_model.keras')` or `keras.saving.save_model(model, 'my_model.keras')`. \n"
          ]
        }
      ],
      "source": [
        "best_model.save('resnet10_model.h5')"
      ]
    },
    {
      "cell_type": "code",
      "execution_count": 67,
      "metadata": {
        "colab": {
          "base_uri": "https://localhost:8080/"
        },
        "id": "y06bIGaM1lNU",
        "outputId": "3a2f31b6-1622-4390-dc7d-58b08e76940d"
      },
      "outputs": [
        {
          "name": "stdout",
          "output_type": "stream",
          "text": [
            "\u001b[1m1/1\u001b[0m \u001b[32m━━━━━━━━━━━━━━━━━━━━\u001b[0m\u001b[37m\u001b[0m \u001b[1m1s\u001b[0m 985ms/step\n",
            "Latency for processing a single sample: 1.045408 seconds\n"
          ]
        }
      ],
      "source": [
        "import time\n",
        "import numpy as np\n",
        "\n",
        "# Assume `best_model` is the model you obtained after hyperparameter tuning\n",
        "\n",
        "# Select a single sample from the test set\n",
        "sample = test_images[0:1]  # Selecting a single image (shape: (1, 32, 32, 3))\n",
        "\n",
        "# Record the start time\n",
        "start_time = time.time()\n",
        "\n",
        "# Perform inference (prediction) on the sample\n",
        "best_model.predict(sample)\n",
        "\n",
        "# Record the end time\n",
        "end_time = time.time()\n",
        "\n",
        "# Calculate the latency (in seconds)\n",
        "latency = end_time - start_time\n",
        "print(f\"Latency for processing a single sample: {latency:.6f} seconds\")\n"
      ]
    }
  ],
  "metadata": {
    "accelerator": "GPU",
    "colab": {
      "gpuType": "T4",
      "provenance": []
    },
    "kernelspec": {
      "display_name": "Python 3",
      "name": "python3"
    },
    "language_info": {
      "name": "python"
    }
  },
  "nbformat": 4,
  "nbformat_minor": 0
}
