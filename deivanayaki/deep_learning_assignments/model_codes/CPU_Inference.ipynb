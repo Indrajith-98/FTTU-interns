{
  "nbformat": 4,
  "nbformat_minor": 0,
  "metadata": {
    "colab": {
      "provenance": []
    },
    "kernelspec": {
      "name": "python3",
      "display_name": "Python 3"
    },
    "language_info": {
      "name": "python"
    }
  },
  "cells": [
    {
      "cell_type": "code",
      "execution_count": 1,
      "metadata": {
        "id": "8xze55BOXUr8"
      },
      "outputs": [],
      "source": [
        "import time\n",
        "import tensorflow as tf\n",
        "from tensorflow.keras.models import load_model\n",
        "import numpy as np\n",
        "import matplotlib.pyplot as plt"
      ]
    },
    {
      "cell_type": "code",
      "source": [
        "class Conv2DBatchNormReLU(tf.keras.layers.Layer):\n",
        "    def __init__(self, filters, l2=1e-4, kernel_size=3, **kwargs):\n",
        "        super().__init__(**kwargs)\n",
        "        self.conv2d = tf.keras.layers.Conv2D(\n",
        "            filters=filters,\n",
        "            kernel_size=kernel_size,\n",
        "            padding=\"same\",\n",
        "            use_bias=False,\n",
        "            kernel_initializer=tf.keras.initializers.HeUniform(),\n",
        "            kernel_regularizer=tf.keras.regularizers.l2(l2),\n",
        "        )\n",
        "        self.batch_norm = tf.keras.layers.BatchNormalization(\n",
        "            epsilon=1e-5, momentum=0.9,\n",
        "            beta_regularizer=tf.keras.regularizers.l2(l2),\n",
        "            gamma_regularizer=tf.keras.regularizers.l2(l2)\n",
        "        )\n",
        "\n",
        "    def call(self, inputs, training=False):\n",
        "        x = self.conv2d(inputs)\n",
        "        x = self.batch_norm(x, training=training)\n",
        "        return tf.nn.relu(x)\n",
        "\n",
        "\n",
        "class ResNet9Block(tf.keras.layers.Layer):\n",
        "    def __init__(self, filters, l2=1e-4, kernel_size=3, **kwargs):\n",
        "        super().__init__(**kwargs)\n",
        "        self.conv_bn_relu_1 = Conv2DBatchNormReLU(filters=filters, l2=l2, kernel_size=kernel_size)\n",
        "        self.conv_bn_relu_2 = Conv2DBatchNormReLU(filters=filters, l2=l2, kernel_size=kernel_size)\n",
        "        self.downsample = tf.keras.layers.Conv2D(\n",
        "            filters=filters,\n",
        "            kernel_size=1,\n",
        "            strides=2,\n",
        "            padding='SAME',\n",
        "            use_bias=False,\n",
        "            kernel_regularizer=tf.keras.regularizers.l2(l2)\n",
        "        )\n",
        "        self.batch_norm = tf.keras.layers.BatchNormalization(\n",
        "            epsilon=1e-5, momentum=0.9,\n",
        "            beta_regularizer=tf.keras.regularizers.l2(l2),\n",
        "            gamma_regularizer=tf.keras.regularizers.l2(l2)\n",
        "        )\n",
        "        self.max_pool2d = tf.keras.layers.MaxPool2D(pool_size=2)\n",
        "\n",
        "    def call(self, inputs, training=False):\n",
        "        shortcut = self.downsample(inputs)\n",
        "        shortcut = self.batch_norm(shortcut, training=training)\n",
        "\n",
        "        x = self.conv_bn_relu_1(inputs, training=training)\n",
        "        x = self.max_pool2d(x)\n",
        "        x = self.conv_bn_relu_2(x, training=training)\n",
        "\n",
        "        return tf.nn.relu(x + shortcut)\n",
        "\n",
        "\n",
        "# Load the model with custom layers\n",
        "model = tf.keras.models.load_model(\n",
        "    \"/content/CIFAR-TUNED-RESNET9-AUG.keras\",\n",
        "    custom_objects={\n",
        "        \"Conv2DBatchNormReLU\": Conv2DBatchNormReLU,\n",
        "        \"ResNet9Block\": ResNet9Block\n",
        "    }\n",
        ")\n",
        "\n"
      ],
      "metadata": {
        "colab": {
          "base_uri": "https://localhost:8080/"
        },
        "id": "lK5HrAzVy9R8",
        "outputId": "005ae37b-18ce-490c-92a0-4b5f126ea1dc"
      },
      "execution_count": 5,
      "outputs": [
        {
          "output_type": "stream",
          "name": "stderr",
          "text": [
            "/usr/local/lib/python3.11/dist-packages/keras/src/layers/layer.py:391: UserWarning: `build()` was called on layer 'conv2d_batch_norm_re_lu', however the layer does not have a `build()` method implemented and it looks like it has unbuilt state. This will cause the layer to be marked as built, despite not being actually built, which may cause failures down the line. Make sure to implement a proper `build()` method.\n",
            "  warnings.warn(\n",
            "/usr/local/lib/python3.11/dist-packages/keras/src/layers/layer.py:391: UserWarning: `build()` was called on layer 'res_net9_block', however the layer does not have a `build()` method implemented and it looks like it has unbuilt state. This will cause the layer to be marked as built, despite not being actually built, which may cause failures down the line. Make sure to implement a proper `build()` method.\n",
            "  warnings.warn(\n",
            "/usr/local/lib/python3.11/dist-packages/keras/src/layers/layer.py:391: UserWarning: `build()` was called on layer 'conv2d_batch_norm_re_lu_3', however the layer does not have a `build()` method implemented and it looks like it has unbuilt state. This will cause the layer to be marked as built, despite not being actually built, which may cause failures down the line. Make sure to implement a proper `build()` method.\n",
            "  warnings.warn(\n",
            "/usr/local/lib/python3.11/dist-packages/keras/src/layers/layer.py:391: UserWarning: `build()` was called on layer 'res_net9_block_1', however the layer does not have a `build()` method implemented and it looks like it has unbuilt state. This will cause the layer to be marked as built, despite not being actually built, which may cause failures down the line. Make sure to implement a proper `build()` method.\n",
            "  warnings.warn(\n"
          ]
        }
      ]
    },
    {
      "cell_type": "code",
      "source": [
        "(X_train, y_train), (X_test, y_test) = tf.keras.datasets.cifar10.load_data()\n",
        "class_labels = ['airplane', 'automobile', 'bird', 'cat', 'deer', 'dog', 'frog', 'horse', 'ship', 'truck']"
      ],
      "metadata": {
        "colab": {
          "base_uri": "https://localhost:8080/"
        },
        "id": "xH2tzm8ixara",
        "outputId": "ef964c51-29ff-4901-f63c-abb96aaa5961"
      },
      "execution_count": 6,
      "outputs": [
        {
          "output_type": "stream",
          "name": "stdout",
          "text": [
            "Downloading data from https://www.cs.toronto.edu/~kriz/cifar-10-python.tar.gz\n",
            "\u001b[1m170498071/170498071\u001b[0m \u001b[32m━━━━━━━━━━━━━━━━━━━━\u001b[0m\u001b[37m\u001b[0m \u001b[1m4s\u001b[0m 0us/step\n"
          ]
        }
      ]
    },
    {
      "cell_type": "code",
      "source": [
        "ind=1\n",
        "sample_image = X_test[1]\n",
        "plt.imshow(sample_image)\n",
        "plt.title(f\"Sample Image (Label: {class_labels[y_test[15][0]]})\")\n",
        "plt.show()"
      ],
      "metadata": {
        "colab": {
          "base_uri": "https://localhost:8080/",
          "height": 452
        },
        "id": "LAY8-RhpxdYs",
        "outputId": "aa990cf4-940d-493f-c47e-7c6546e3b4ac"
      },
      "execution_count": 12,
      "outputs": [
        {
          "output_type": "display_data",
          "data": {
            "text/plain": [
              "<Figure size 640x480 with 1 Axes>"
            ],
            "image/png": "[encoded data removed]"
          },
          "metadata": {}
        }
      ]
    },
    {
      "cell_type": "code",
      "source": [
        "sample_image = np.expand_dims(sample_image, axis=0)\n",
        "sample_image = sample_image.astype('float32') / 255.0"
      ],
      "metadata": {
        "id": "5LyXRqW9xiin"
      },
      "execution_count": 13,
      "outputs": []
    },
    {
      "cell_type": "code",
      "source": [
        "def measure_latency(model, sample_image, device='cpu'):\n",
        "    with tf.device(device):\n",
        "        start_time = time.time()\n",
        "        predictions = model.predict(sample_image)\n",
        "        end_time = time.time()\n",
        "\n",
        "    latency = end_time - start_time\n",
        "    return predictions, latency"
      ],
      "metadata": {
        "id": "CFe6Rw9jxjJQ"
      },
      "execution_count": 14,
      "outputs": []
    },
    {
      "cell_type": "code",
      "source": [
        "predictions, cpu_latency = measure_latency(model, sample_image, device='/CPU:0')\n",
        "predicted_label = np.argmax(predictions)\n",
        "print(f\"Predicted label (CPU): {class_labels[predicted_label]}\")\n",
        "print(f\"Latency on CPU: {cpu_latency:.6f} seconds\")"
      ],
      "metadata": {
        "colab": {
          "base_uri": "https://localhost:8080/"
        },
        "id": "V24ZMKZ1xlfV",
        "outputId": "eaf8bc58-e1ed-4e59-831a-5d4f2bb506fd"
      },
      "execution_count": 16,
      "outputs": [
        {
          "output_type": "stream",
          "name": "stdout",
          "text": [
            "\u001b[1m1/1\u001b[0m \u001b[32m━━━━━━━━━━━━━━━━━━━━\u001b[0m\u001b[37m\u001b[0m \u001b[1m0s\u001b[0m 61ms/step\n",
            "Predicted label (CPU): ship\n",
            "Latency on CPU: 0.155948 seconds\n"
          ]
        }
      ]
    }
  ]
}