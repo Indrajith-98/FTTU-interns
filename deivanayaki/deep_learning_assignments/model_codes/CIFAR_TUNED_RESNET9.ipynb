{
  "nbformat": 4,
  "nbformat_minor": 0,
  "metadata": {
    "colab": {
      "provenance": [],
      "gpuType": "T4"
    },
    "kernelspec": {
      "name": "python3",
      "display_name": "Python 3"
    },
    "language_info": {
      "name": "python"
    },
    "accelerator": "GPU"
  },
  "cells": [
    {
      "cell_type": "code",
      "source": [
        "!pip install keras-tuner"
      ],
      "metadata": {
        "colab": {
          "base_uri": "https://localhost:8080/"
        },
        "id": "0bA2MnioM-AZ",
        "outputId": "5c236872-2508-4896-d351-79c1fe03edad"
      },
      "execution_count": 1,
      "outputs": [
        {
          "output_type": "stream",
          "name": "stdout",
          "text": [
            "Collecting keras-tuner\n",
            "  Downloading keras_tuner-1.4.7-py3-none-any.whl.metadata (5.4 kB)\n",
            "Requirement already satisfied: keras in /usr/local/lib/python3.11/dist-packages (from keras-tuner) (3.5.0)\n",
            "Requirement already satisfied: packaging in /usr/local/lib/python3.11/dist-packages (from keras-tuner) (24.2)\n",
            "Requirement already satisfied: requests in /usr/local/lib/python3.11/dist-packages (from keras-tuner) (2.32.3)\n",
            "Collecting kt-legacy (from keras-tuner)\n",
            "  Downloading kt_legacy-1.0.5-py3-none-any.whl.metadata (221 bytes)\n",
            "Requirement already satisfied: absl-py in /usr/local/lib/python3.11/dist-packages (from keras->keras-tuner) (1.4.0)\n",
            "Requirement already satisfied: numpy in /usr/local/lib/python3.11/dist-packages (from keras->keras-tuner) (1.26.4)\n",
            "Requirement already satisfied: rich in /usr/local/lib/python3.11/dist-packages (from keras->keras-tuner) (13.9.4)\n",
            "Requirement already satisfied: namex in /usr/local/lib/python3.11/dist-packages (from keras->keras-tuner) (0.0.8)\n",
            "Requirement already satisfied: h5py in /usr/local/lib/python3.11/dist-packages (from keras->keras-tuner) (3.12.1)\n",
            "Requirement already satisfied: optree in /usr/local/lib/python3.11/dist-packages (from keras->keras-tuner) (0.13.1)\n",
            "Requirement already satisfied: ml-dtypes in /usr/local/lib/python3.11/dist-packages (from keras->keras-tuner) (0.4.1)\n",
            "Requirement already satisfied: charset-normalizer<4,>=2 in /usr/local/lib/python3.11/dist-packages (from requests->keras-tuner) (3.4.1)\n",
            "Requirement already satisfied: idna<4,>=2.5 in /usr/local/lib/python3.11/dist-packages (from requests->keras-tuner) (3.10)\n",
            "Requirement already satisfied: urllib3<3,>=1.21.1 in /usr/local/lib/python3.11/dist-packages (from requests->keras-tuner) (2.3.0)\n",
            "Requirement already satisfied: certifi>=2017.4.17 in /usr/local/lib/python3.11/dist-packages (from requests->keras-tuner) (2024.12.14)\n",
            "Requirement already satisfied: typing-extensions>=4.5.0 in /usr/local/lib/python3.11/dist-packages (from optree->keras->keras-tuner) (4.12.2)\n",
            "Requirement already satisfied: markdown-it-py>=2.2.0 in /usr/local/lib/python3.11/dist-packages (from rich->keras->keras-tuner) (3.0.0)\n",
            "Requirement already satisfied: pygments<3.0.0,>=2.13.0 in /usr/local/lib/python3.11/dist-packages (from rich->keras->keras-tuner) (2.18.0)\n",
            "Requirement already satisfied: mdurl~=0.1 in /usr/local/lib/python3.11/dist-packages (from markdown-it-py>=2.2.0->rich->keras->keras-tuner) (0.1.2)\n",
            "Downloading keras_tuner-1.4.7-py3-none-any.whl (129 kB)\n",
            "\u001b[2K   \u001b[90m━━━━━━━━━━━━━━━━━━━━━━━━━━━━━━━━━━━━━━━━\u001b[0m \u001b[32m129.1/129.1 kB\u001b[0m \u001b[31m4.1 MB/s\u001b[0m eta \u001b[36m0:00:00\u001b[0m\n",
            "\u001b[?25hDownloading kt_legacy-1.0.5-py3-none-any.whl (9.6 kB)\n",
            "Installing collected packages: kt-legacy, keras-tuner\n",
            "Successfully installed keras-tuner-1.4.7 kt-legacy-1.0.5\n"
          ]
        }
      ]
    },
    {
      "cell_type": "code",
      "source": [
        "#IMPORT NEEDED LIBRARIES\n",
        "\n",
        "from tensorflow.keras.datasets import cifar10\n",
        "import numpy as np\n",
        "import pandas as pd\n",
        "import pickle\n",
        "from sklearn.model_selection import train_test_split\n",
        "from sklearn.metrics import classification_report\n",
        "import tensorflow as tf\n",
        "from tensorflow import keras\n",
        "from tensorflow.keras.layers import Input, Conv2D, BatchNormalization, Activation, Add, AveragePooling2D, Flatten, Dense\n",
        "from tensorflow.keras.models import Model\n",
        "from tensorflow.keras.callbacks import ModelCheckpoint\n",
        "from tensorflow.keras.optimizers import Adam\n",
        "from tensorflow.keras import regularizers\n",
        "import matplotlib.pyplot as plt\n",
        "from tensorflow.keras.callbacks import ModelCheckpoint\n",
        "from keras_tuner import HyperParameters\n",
        "from keras_tuner import HyperModel\n",
        "from keras_tuner.tuners import RandomSearch\n",
        "import os"
      ],
      "metadata": {
        "id": "IF3GGTAqN53C"
      },
      "execution_count": 8,
      "outputs": []
    },
    {
      "cell_type": "code",
      "source": [
        "# LOAD THE CIFAR 10 DATASET AND NORMALIZE IT\n",
        "\n",
        "(X_train, y_train), (X_test, y_test) = cifar10.load_data()\n",
        "X_train = X_train.astype('float32')\n",
        "X_test = X_test.astype('float32')\n",
        "X_train = X_train / 255.0\n",
        "X_test = X_test / 255.0\n",
        "\n",
        "# PREPARE VALIDATION DATA\n",
        "\n",
        "X_train, X_valid, y_train, y_valid = train_test_split(X_train, y_train, test_size=0.2)\n",
        "\n",
        "print('Training set shape:', X_train.shape)\n",
        "print('Test set shape:', X_test.shape)\n",
        "print('Validation set shape:',X_valid.shape)"
      ],
      "metadata": {
        "colab": {
          "base_uri": "https://localhost:8080/"
        },
        "id": "kBe341tXN7_w",
        "outputId": "59df4f2a-7bd6-4287-d943-02b9138c8753"
      },
      "execution_count": 3,
      "outputs": [
        {
          "output_type": "stream",
          "name": "stdout",
          "text": [
            "Downloading data from https://www.cs.toronto.edu/~kriz/cifar-10-python.tar.gz\n",
            "\u001b[1m170498071/170498071\u001b[0m \u001b[32m━━━━━━━━━━━━━━━━━━━━\u001b[0m\u001b[37m\u001b[0m \u001b[1m4s\u001b[0m 0us/step\n",
            "Training set shape: (40000, 32, 32, 3)\n",
            "Test set shape: (10000, 32, 32, 3)\n",
            "Validation set shape: (10000, 32, 32, 3)\n"
          ]
        }
      ]
    },
    {
      "cell_type": "code",
      "source": [
        "class Conv2DBatchNormReLU(tf.keras.layers.Layer):\n",
        "    def __init__(self, filters, l2=2.5e-4, kernel_size=3, **kwargs):\n",
        "        super().__init__(**kwargs)\n",
        "        self.conv2d = tf.keras.layers.Conv2D(\n",
        "            filters=filters,\n",
        "            kernel_size=kernel_size,\n",
        "            padding=\"same\",\n",
        "            use_bias=False,\n",
        "            kernel_initializer=tf.keras.initializers.HeUniform(),\n",
        "            kernel_regularizer=tf.keras.regularizers.l2(l2),\n",
        "        )\n",
        "        self.batch_norm = tf.keras.layers.BatchNormalization(\n",
        "            epsilon=1e-5, momentum=0.9,\n",
        "            beta_regularizer=tf.keras.regularizers.l2(l2),\n",
        "            gamma_regularizer=tf.keras.regularizers.l2(l2)\n",
        "        )\n",
        "\n",
        "    def call(self, inputs, training=False):\n",
        "        x = self.conv2d(inputs)\n",
        "        x = self.batch_norm(x, training=training)\n",
        "        return tf.nn.relu(x)\n",
        "\n",
        "\n",
        "class ResNet9Block(tf.keras.layers.Layer):\n",
        "    def __init__(self, filters, l2=2.5e-4, kernel_size=3, **kwargs):\n",
        "        super().__init__(**kwargs)\n",
        "        self.conv_bn_relu_1 = Conv2DBatchNormReLU(filters=filters, l2=l2, kernel_size=kernel_size)\n",
        "        self.conv_bn_relu_2 = Conv2DBatchNormReLU(filters=filters, l2=l2, kernel_size=kernel_size)\n",
        "        self.downsample = tf.keras.layers.Conv2D(filters=filters,\n",
        "                                                 kernel_size=1,\n",
        "                                                 strides=2,\n",
        "                                                 padding='SAME',\n",
        "                                                 use_bias=False,\n",
        "                                                 kernel_regularizer=tf.keras.regularizers.l2(l2))\n",
        "        self.batch_norm = tf.keras.layers.BatchNormalization(epsilon=1e-5, momentum=0.9,\n",
        "                                                              beta_regularizer=tf.keras.regularizers.l2(l2),\n",
        "                                                              gamma_regularizer=tf.keras.regularizers.l2(l2))\n",
        "        self.max_pool2d = tf.keras.layers.MaxPool2D(pool_size=2)\n",
        "\n",
        "    def call(self, inputs, training=False):\n",
        "        shortcut = self.downsample(inputs)\n",
        "        shortcut = self.batch_norm(shortcut, training=training)\n",
        "\n",
        "        x = self.conv_bn_relu_1(inputs, training=training)\n",
        "        x = self.max_pool2d(x)\n",
        "        x = self.conv_bn_relu_2(x, training=training)\n",
        "\n",
        "        return tf.nn.relu(x + shortcut)\n",
        "\n",
        "def build_resnet9_model(hp):\n",
        "    input_shape = (32, 32, 3)\n",
        "    num_classes = 10\n",
        "\n",
        "    filters_1 = hp.Int(\"filters_1\", min_value=32, max_value=128, step=32)\n",
        "    filters_2 = hp.Int(\"filters_2\", min_value=64, max_value=256, step=64)\n",
        "    filters_3 = hp.Int(\"filters_3\", min_value=128, max_value=512, step=64)\n",
        "    filters_4 = hp.Int(\"filters_4\", min_value=256, max_value=512, step=64)\n",
        "\n",
        "    l2 = hp.Choice(\"l2\", values=[1e-4, 2.5e-4, 5e-4])\n",
        "    learning_rate = hp.Choice(\"learning_rate\", values=[1e-2, 1e-3, 1e-4])\n",
        "\n",
        "    inputs = tf.keras.Input(shape=input_shape)\n",
        "\n",
        "    x = Conv2DBatchNormReLU(filters_1, l2=l2)(inputs)\n",
        "    x = ResNet9Block(filters_2, l2=l2)(x)\n",
        "\n",
        "    x = Conv2DBatchNormReLU(filters_3, l2=l2)(x)\n",
        "    x = tf.keras.layers.MaxPool2D(2)(x)\n",
        "    x = ResNet9Block(filters_4, l2=l2)(x)\n",
        "\n",
        "    x = tf.keras.layers.GlobalAveragePooling2D()(x)\n",
        "    x = tf.keras.layers.Dense(\n",
        "        num_classes,\n",
        "        activation=\"softmax\",\n",
        "        use_bias=False,\n",
        "        kernel_regularizer=tf.keras.regularizers.l2(l2),\n",
        "        kernel_initializer=tf.keras.initializers.HeUniform(),\n",
        "    )(x)\n",
        "\n",
        "    model = tf.keras.Model(inputs, x, name=\"ResNet9\")\n",
        "    model.compile(\n",
        "        optimizer=tf.keras.optimizers.Adam(learning_rate=learning_rate),\n",
        "        loss=\"sparse_categorical_crossentropy\",\n",
        "        metrics=[\"accuracy\"],\n",
        "    )\n",
        "    return model\n",
        "\n",
        "# Directory to save the tuner state\n",
        "tuner_directory = 'resnet9_tuning'\n",
        "project_name = \"resnet9_hyperparameter_tuning\"\n",
        "\n",
        "# Check if the directory exists and contains necessary files for resumption\n",
        "if os.path.exists(tuner_directory) and os.path.isfile(os.path.join(tuner_directory, \"oracle.json\")):\n",
        "    tuner = RandomSearch(\n",
        "        build_resnet9_model,\n",
        "        objective=\"val_accuracy\",\n",
        "        max_trials=10,\n",
        "        executions_per_trial=2,\n",
        "        directory=tuner_directory,\n",
        "        project_name=project_name,\n",
        "    )\n",
        "    tuner.reload()\n",
        "    print(\"Resumed previous search.\")\n",
        "else:\n",
        "    tuner = RandomSearch(\n",
        "        build_resnet9_model,\n",
        "        objective=\"val_accuracy\",\n",
        "        max_trials=10,\n",
        "        executions_per_trial=2,\n",
        "        directory=tuner_directory,\n",
        "        project_name=project_name,\n",
        "    )\n",
        "    print(\"Starting new search.\")\n",
        "\n",
        "# Model checkpoint callback to save the best model\n",
        "model_checkpoint = ModelCheckpoint('cifar_resnet9_model.keras', monitor='val_loss', save_best_only=True)\n",
        "\n",
        "# Perform the search\n",
        "tuner.search(\n",
        "    x=X_train,\n",
        "    y=y_train,\n",
        "    validation_data=(X_valid, y_valid),\n",
        "    epochs=10,\n",
        "    batch_size=HyperParameters().Int(\"batch_size\", min_value=32, max_value=128, step=32),\n",
        "    callbacks=[tf.keras.callbacks.EarlyStopping(monitor=\"val_loss\", patience=3), model_checkpoint],\n",
        ")\n",
        "\n",
        "# Get the best hyperparameters from the search\n",
        "best_hps = tuner.get_best_hyperparameters(num_trials=1)[0]\n",
        "print(f\"\"\"\n",
        "Best hyperparameters:\n",
        "Filters 1: {best_hps.get('filters_1')}\n",
        "Filters 2: {best_hps.get('filters_2')}\n",
        "Filters 3: {best_hps.get('filters_3')}\n",
        "Filters 4: {best_hps.get('filters_4')}\n",
        "L2 Regularization: {best_hps.get('l2')}\n",
        "Learning Rate: {best_hps.get('learning_rate')}\n",
        "\"\"\")\n"
      ],
      "metadata": {
        "colab": {
          "base_uri": "https://localhost:8080/"
        },
        "id": "LfD47xJyMkvG",
        "outputId": "7e8903b3-2d84-4cb4-a5f0-80535e0f1085"
      },
      "execution_count": 10,
      "outputs": [
        {
          "output_type": "stream",
          "name": "stdout",
          "text": [
            "Reloading Tuner from resnet9_tuning/resnet9_hyperparameter_tuning/tuner0.json\n",
            "Starting new search.\n",
            "\n",
            "Best hyperparameters:\n",
            "Filters 1: 128\n",
            "Filters 2: 64\n",
            "Filters 3: 448\n",
            "Filters 4: 448\n",
            "L2 Regularization: 0.0001\n",
            "Learning Rate: 0.001\n",
            "\n"
          ]
        }
      ]
    },
    {
      "cell_type": "code",
      "source": [
        "# Build and train the best model with the best hyperparameters\n",
        "best_model = tuner.hypermodel.build(best_hps)\n",
        "history = best_model.fit(\n",
        "    X_train,\n",
        "    y_train,\n",
        "    validation_data=(X_valid, y_valid),\n",
        "    epochs=10,\n",
        "    batch_size=32,\n",
        "    callbacks=[model_checkpoint]\n",
        ")"
      ],
      "metadata": {
        "colab": {
          "base_uri": "https://localhost:8080/"
        },
        "id": "o3-dqfYSOEyE",
        "outputId": "384ddb00-67d4-495a-974a-778f6d54a130"
      },
      "execution_count": 15,
      "outputs": [
        {
          "output_type": "stream",
          "name": "stdout",
          "text": [
            "Epoch 1/10\n",
            "\u001b[1m1250/1250\u001b[0m \u001b[32m━━━━━━━━━━━━━━━━━━━━\u001b[0m\u001b[37m\u001b[0m \u001b[1m39s\u001b[0m 23ms/step - accuracy: 0.4739 - loss: 2.0478 - val_accuracy: 0.6643 - val_loss: 1.4659\n",
            "Epoch 2/10\n",
            "\u001b[1m1250/1250\u001b[0m \u001b[32m━━━━━━━━━━━━━━━━━━━━\u001b[0m\u001b[37m\u001b[0m \u001b[1m26s\u001b[0m 20ms/step - accuracy: 0.7039 - loss: 1.3049 - val_accuracy: 0.7154 - val_loss: 1.2498\n",
            "Epoch 3/10\n",
            "\u001b[1m1250/1250\u001b[0m \u001b[32m━━━━━━━━━━━━━━━━━━━━\u001b[0m\u001b[37m\u001b[0m \u001b[1m41s\u001b[0m 20ms/step - accuracy: 0.7759 - loss: 1.0918 - val_accuracy: 0.7465 - val_loss: 1.1589\n",
            "Epoch 4/10\n",
            "\u001b[1m1250/1250\u001b[0m \u001b[32m━━━━━━━━━━━━━━━━━━━━\u001b[0m\u001b[37m\u001b[0m \u001b[1m41s\u001b[0m 21ms/step - accuracy: 0.8140 - loss: 0.9753 - val_accuracy: 0.7945 - val_loss: 1.0369\n",
            "Epoch 5/10\n",
            "\u001b[1m1250/1250\u001b[0m \u001b[32m━━━━━━━━━━━━━━━━━━━━\u001b[0m\u001b[37m\u001b[0m \u001b[1m41s\u001b[0m 20ms/step - accuracy: 0.8440 - loss: 0.8739 - val_accuracy: 0.7599 - val_loss: 1.1632\n",
            "Epoch 6/10\n",
            "\u001b[1m1250/1250\u001b[0m \u001b[32m━━━━━━━━━━━━━━━━━━━━\u001b[0m\u001b[37m\u001b[0m \u001b[1m42s\u001b[0m 21ms/step - accuracy: 0.8760 - loss: 0.7855 - val_accuracy: 0.7709 - val_loss: 1.1017\n",
            "Epoch 7/10\n",
            "\u001b[1m1250/1250\u001b[0m \u001b[32m━━━━━━━━━━━━━━━━━━━━\u001b[0m\u001b[37m\u001b[0m \u001b[1m26s\u001b[0m 20ms/step - accuracy: 0.8965 - loss: 0.7288 - val_accuracy: 0.7984 - val_loss: 1.0592\n",
            "Epoch 8/10\n",
            "\u001b[1m1250/1250\u001b[0m \u001b[32m━━━━━━━━━━━━━━━━━━━━\u001b[0m\u001b[37m\u001b[0m \u001b[1m25s\u001b[0m 20ms/step - accuracy: 0.9104 - loss: 0.6840 - val_accuracy: 0.7929 - val_loss: 1.0955\n",
            "Epoch 9/10\n",
            "\u001b[1m1250/1250\u001b[0m \u001b[32m━━━━━━━━━━━━━━━━━━━━\u001b[0m\u001b[37m\u001b[0m \u001b[1m26s\u001b[0m 20ms/step - accuracy: 0.9256 - loss: 0.6403 - val_accuracy: 0.8090 - val_loss: 1.0502\n",
            "Epoch 10/10\n",
            "\u001b[1m1250/1250\u001b[0m \u001b[32m━━━━━━━━━━━━━━━━━━━━\u001b[0m\u001b[37m\u001b[0m \u001b[1m26s\u001b[0m 21ms/step - accuracy: 0.9368 - loss: 0.6063 - val_accuracy: 0.8218 - val_loss: 0.9791\n"
          ]
        }
      ]
    },
    {
      "cell_type": "code",
      "source": [
        "pd.DataFrame(history.history).plot()"
      ],
      "metadata": {
        "colab": {
          "base_uri": "https://localhost:8080/",
          "height": 452
        },
        "id": "dBZDS49CnOm7",
        "outputId": "cce7fd20-6109-4cbc-8c34-3a1f715bab5f"
      },
      "execution_count": 16,
      "outputs": [
        {
          "output_type": "execute_result",
          "data": {
            "text/plain": [
              "<Axes: >"
            ]
          },
          "metadata": {},
          "execution_count": 16
        },
        {
          "output_type": "display_data",
          "data": {
            "text/plain": [
              "<Figure size 640x480 with 1 Axes>"
            ],
            "image/png": "[encoded data removed]"
          },
          "metadata": {}
        }
      ]
    },
    {
      "cell_type": "code",
      "source": [
        "# TESTING THE MODEL WITH TEST DATA AND PREPARE CLASSIFICATION REPORT (PRECISION , RECALL, F1-SCORE)\n",
        "\n",
        "scores = best_model.evaluate(X_test, y_test)\n",
        "y_pred = best_model.predict(X_test)\n",
        "class_names = ['airplane','automobile','bird','cat','deer','dog','frog','horse','ship','truck']\n",
        "target = [class_names[i].format(i) for i in range(10)]\n",
        "\n",
        "print(\"\\n\\nTesting Accuracy :\",scores[1],\"\\n\")\n",
        "print(classification_report(y_test.flatten(), np.argmax(y_pred, axis=1), target_names=target))"
      ],
      "metadata": {
        "colab": {
          "base_uri": "https://localhost:8080/"
        },
        "id": "6vkyyxQ1nRTQ",
        "outputId": "78ec3c6b-bfba-45d7-8583-d40ed366f37c"
      },
      "execution_count": 17,
      "outputs": [
        {
          "output_type": "stream",
          "name": "stdout",
          "text": [
            "\u001b[1m313/313\u001b[0m \u001b[32m━━━━━━━━━━━━━━━━━━━━\u001b[0m\u001b[37m\u001b[0m \u001b[1m2s\u001b[0m 6ms/step - accuracy: 0.8249 - loss: 0.9706\n",
            "\u001b[1m313/313\u001b[0m \u001b[32m━━━━━━━━━━━━━━━━━━━━\u001b[0m\u001b[37m\u001b[0m \u001b[1m2s\u001b[0m 6ms/step\n",
            "\n",
            "\n",
            "Testing Accuracy : 0.8235999941825867 \n",
            "\n",
            "              precision    recall  f1-score   support\n",
            "\n",
            "    airplane       0.87      0.79      0.83      1000\n",
            "  automobile       0.94      0.88      0.90      1000\n",
            "        bird       0.75      0.73      0.74      1000\n",
            "         cat       0.67      0.71      0.69      1000\n",
            "        deer       0.84      0.80      0.82      1000\n",
            "         dog       0.76      0.76      0.76      1000\n",
            "        frog       0.83      0.90      0.86      1000\n",
            "       horse       0.82      0.88      0.85      1000\n",
            "        ship       0.89      0.90      0.90      1000\n",
            "       truck       0.88      0.89      0.89      1000\n",
            "\n",
            "    accuracy                           0.82     10000\n",
            "   macro avg       0.83      0.82      0.82     10000\n",
            "weighted avg       0.83      0.82      0.82     10000\n",
            "\n"
          ]
        }
      ]
    }
  ]
}