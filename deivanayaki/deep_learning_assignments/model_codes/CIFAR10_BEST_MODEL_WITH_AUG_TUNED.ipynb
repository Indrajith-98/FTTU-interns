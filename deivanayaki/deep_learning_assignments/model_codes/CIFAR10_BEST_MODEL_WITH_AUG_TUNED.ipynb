{
  "nbformat": 4,
  "nbformat_minor": 0,
  "metadata": {
    "colab": {
      "provenance": [],
      "gpuType": "T4"
    },
    "kernelspec": {
      "name": "python3",
      "display_name": "Python 3"
    },
    "language_info": {
      "name": "python"
    },
    "accelerator": "GPU"
  },
  "cells": [
    {
      "cell_type": "code",
      "source": [
        "#IMPORT NEEDED LIBRARIES\n",
        "\n",
        "from tensorflow.keras.datasets import cifar10\n",
        "import numpy as np\n",
        "import pandas as pd\n",
        "import pickle\n",
        "from sklearn.model_selection import train_test_split\n",
        "from sklearn.metrics import classification_report\n",
        "import tensorflow as tf\n",
        "from tensorflow import keras\n",
        "from tensorflow.keras.layers import Input, Conv2D, BatchNormalization, Activation, Add, AveragePooling2D, Flatten, Dense\n",
        "from tensorflow.keras.models import Model\n",
        "from tensorflow.keras.callbacks import ModelCheckpoint\n",
        "from tensorflow.keras.optimizers import Adam\n",
        "from tensorflow.keras import regularizers\n",
        "import matplotlib.pyplot as plt\n",
        "from tensorflow.keras.callbacks import EarlyStopping, ModelCheckpoint, ReduceLROnPlateau"
      ],
      "metadata": {
        "id": "yp6VLJjPKFn4"
      },
      "execution_count": 1,
      "outputs": []
    },
    {
      "cell_type": "code",
      "source": [
        "# LOAD THE CIFAR 10 DATASET AND NORMALIZE IT\n",
        "\n",
        "(X_train, y_train), (X_test, y_test) = cifar10.load_data()\n",
        "X_train = X_train.astype('float32')\n",
        "X_test = X_test.astype('float32')\n",
        "X_train = X_train / 255.0\n",
        "X_test = X_test / 255.0\n",
        "\n",
        "# PREPARE VALIDATION DATA\n",
        "\n",
        "X_train, X_valid, y_train, y_valid = train_test_split(X_train, y_train, test_size=0.2)\n",
        "\n",
        "print('Training set shape:', X_train.shape)\n",
        "print('Test set shape:', X_test.shape)\n",
        "print('Validation set shape:',X_valid.shape)"
      ],
      "metadata": {
        "colab": {
          "base_uri": "https://localhost:8080/"
        },
        "id": "d1zFftyRKGVx",
        "outputId": "fc0e9a7a-5b75-465b-a55d-56f4bd5adb36"
      },
      "execution_count": 2,
      "outputs": [
        {
          "output_type": "stream",
          "name": "stdout",
          "text": [
            "Downloading data from https://www.cs.toronto.edu/~kriz/cifar-10-python.tar.gz\n",
            "\u001b[1m170498071/170498071\u001b[0m \u001b[32m━━━━━━━━━━━━━━━━━━━━\u001b[0m\u001b[37m\u001b[0m \u001b[1m14s\u001b[0m 0us/step\n",
            "Training set shape: (40000, 32, 32, 3)\n",
            "Test set shape: (10000, 32, 32, 3)\n",
            "Validation set shape: (10000, 32, 32, 3)\n"
          ]
        }
      ]
    },
    {
      "cell_type": "code",
      "execution_count": 3,
      "metadata": {
        "id": "19VQGsnhuZCQ"
      },
      "outputs": [],
      "source": [
        "class Conv2DBatchNormReLU(tf.keras.layers.Layer):\n",
        "    def __init__(self, filters, l2=1e-4, kernel_size=3, **kwargs):\n",
        "        super().__init__(**kwargs)\n",
        "        self.conv2d = tf.keras.layers.Conv2D(\n",
        "            filters=filters,\n",
        "            kernel_size=kernel_size,\n",
        "            padding=\"same\",\n",
        "            use_bias=False,\n",
        "            kernel_initializer=tf.keras.initializers.HeUniform(),\n",
        "            kernel_regularizer=tf.keras.regularizers.l2(l2),\n",
        "        )\n",
        "        self.batch_norm = tf.keras.layers.BatchNormalization(\n",
        "            epsilon=1e-5, momentum=0.9,\n",
        "            beta_regularizer=tf.keras.regularizers.l2(l2),\n",
        "            gamma_regularizer=tf.keras.regularizers.l2(l2)\n",
        "        )\n",
        "\n",
        "    def call(self, inputs, training=False):\n",
        "        x = self.conv2d(inputs)\n",
        "        x = self.batch_norm(x, training=training)\n",
        "        return tf.nn.relu(x)\n",
        "\n",
        "\n",
        "class ResNet9Block(tf.keras.layers.Layer):\n",
        "    def __init__(self, filters, l2=1e-4, kernel_size=3, **kwargs):\n",
        "        super().__init__(**kwargs)\n",
        "        self.conv_bn_relu_1 = Conv2DBatchNormReLU(filters=filters, l2=l2, kernel_size=kernel_size)\n",
        "        self.conv_bn_relu_2 = Conv2DBatchNormReLU(filters=filters, l2=l2, kernel_size=kernel_size)\n",
        "        self.downsample = tf.keras.layers.Conv2D(\n",
        "            filters=filters,\n",
        "            kernel_size=1,\n",
        "            strides=2,\n",
        "            padding='SAME',\n",
        "            use_bias=False,\n",
        "            kernel_regularizer=tf.keras.regularizers.l2(l2)\n",
        "        )\n",
        "        self.batch_norm = tf.keras.layers.BatchNormalization(\n",
        "            epsilon=1e-5, momentum=0.9,\n",
        "            beta_regularizer=tf.keras.regularizers.l2(l2),\n",
        "            gamma_regularizer=tf.keras.regularizers.l2(l2)\n",
        "        )\n",
        "        self.max_pool2d = tf.keras.layers.MaxPool2D(pool_size=2)\n",
        "\n",
        "    def call(self, inputs, training=False):\n",
        "        shortcut = self.downsample(inputs)\n",
        "        shortcut = self.batch_norm(shortcut, training=training)\n",
        "\n",
        "        x = self.conv_bn_relu_1(inputs, training=training)\n",
        "        x = self.max_pool2d(x)\n",
        "        x = self.conv_bn_relu_2(x, training=training)\n",
        "\n",
        "        return tf.nn.relu(x + shortcut)\n",
        "\n",
        "\n",
        "def ResNet9(input_shape=(32, 32, 3), num_classes=10, l2=1e-4):\n",
        "    filters_1 = 128\n",
        "    filters_2 = 64\n",
        "    filters_3 = 448\n",
        "    filters_4 = 448\n",
        "\n",
        "    inputs = tf.keras.Input(shape=input_shape)\n",
        "\n",
        "    x = Conv2DBatchNormReLU(filters_1, l2=l2)(inputs)\n",
        "    x = ResNet9Block(filters_2, l2=l2)(x)\n",
        "\n",
        "    x = Conv2DBatchNormReLU(filters_3, l2=l2)(x)\n",
        "    x = tf.keras.layers.MaxPool2D(2)(x)\n",
        "    x = ResNet9Block(filters_4, l2=l2)(x)\n",
        "\n",
        "    x = tf.keras.layers.GlobalAveragePooling2D()(x)\n",
        "    x = tf.keras.layers.Dense(\n",
        "        num_classes,\n",
        "        activation=\"softmax\",\n",
        "        use_bias=False,\n",
        "        kernel_regularizer=tf.keras.regularizers.l2(l2),\n",
        "        kernel_initializer=tf.keras.initializers.HeUniform(),\n",
        "    )(x)\n",
        "\n",
        "    return tf.keras.Model(inputs, x, name=\"ResNet9\")\n"
      ]
    },
    {
      "cell_type": "code",
      "source": [
        "from tensorflow.keras.preprocessing.image import ImageDataGenerator\n",
        "datagen = ImageDataGenerator(\n",
        "    rotation_range=15,\n",
        "    width_shift_range=0.1,\n",
        "    height_shift_range=0.1,\n",
        "    horizontal_flip=True,\n",
        "    zoom_range=0.1,\n",
        "    fill_mode='nearest'\n",
        ")\n",
        "datagen.fit(X_train)"
      ],
      "metadata": {
        "id": "-7IsxIPUKXn9"
      },
      "execution_count": 4,
      "outputs": []
    },
    {
      "cell_type": "code",
      "source": [
        "# BUILD THE MODEL\n",
        "\n",
        "model = ResNet9(input_shape=(32, 32, 3), num_classes=10, l2=1e-4)\n",
        "model.summary()\n",
        "early_stopping = EarlyStopping(monitor='val_loss', patience=15, restore_best_weights=True)\n",
        "model_checkpoint = ModelCheckpoint('TunedC3D2model3_withauglr.keras', monitor='val_loss', save_best_only=True)\n",
        "reduce_lr = ReduceLROnPlateau(monitor='val_loss', factor=0.5, patience=5, min_lr=1e-6)\n"
      ],
      "metadata": {
        "colab": {
          "base_uri": "https://localhost:8080/",
          "height": 433
        },
        "id": "nfvVwfLCKcmr",
        "outputId": "0c62267e-bdb4-42f7-f912-308b2d0263b9"
      },
      "execution_count": 5,
      "outputs": [
        {
          "output_type": "display_data",
          "data": {
            "text/plain": [
              "\u001b[1mModel: \"ResNet9\"\u001b[0m\n"
            ],
            "text/html": [
              "<pre style=\"white-space:pre;overflow-x:auto;line-height:normal;font-family:Menlo,'DejaVu Sans Mono',consolas,'Courier New',monospace\"><span style=\"font-weight: bold\">Model: \"ResNet9\"</span>\n",
              "</pre>\n"
            ]
          },
          "metadata": {}
        },
        {
          "output_type": "display_data",
          "data": {
            "text/plain": [
              "┏━━━━━━━━━━━━━━━━━━━━━━━━━━━━━━━━━━━━━━┳━━━━━━━━━━━━━━━━━━━━━━━━━━━━━┳━━━━━━━━━━━━━━━━━┓\n",
              "┃\u001b[1m \u001b[0m\u001b[1mLayer (type)                        \u001b[0m\u001b[1m \u001b[0m┃\u001b[1m \u001b[0m\u001b[1mOutput Shape               \u001b[0m\u001b[1m \u001b[0m┃\u001b[1m \u001b[0m\u001b[1m        Param #\u001b[0m\u001b[1m \u001b[0m┃\n",
              "┡━━━━━━━━━━━━━━━━━━━━━━━━━━━━━━━━━━━━━━╇━━━━━━━━━━━━━━━━━━━━━━━━━━━━━╇━━━━━━━━━━━━━━━━━┩\n",
              "│ input_layer (\u001b[38;5;33mInputLayer\u001b[0m)             │ (\u001b[38;5;45mNone\u001b[0m, \u001b[38;5;34m32\u001b[0m, \u001b[38;5;34m32\u001b[0m, \u001b[38;5;34m3\u001b[0m)           │               \u001b[38;5;34m0\u001b[0m │\n",
              "├──────────────────────────────────────┼─────────────────────────────┼─────────────────┤\n",
              "│ conv2d_batch_norm_re_lu              │ (\u001b[38;5;45mNone\u001b[0m, \u001b[38;5;34m32\u001b[0m, \u001b[38;5;34m32\u001b[0m, \u001b[38;5;34m128\u001b[0m)         │           \u001b[38;5;34m3,968\u001b[0m │\n",
              "│ (\u001b[38;5;33mConv2DBatchNormReLU\u001b[0m)                │                             │                 │\n",
              "├──────────────────────────────────────┼─────────────────────────────┼─────────────────┤\n",
              "│ res_net9_block (\u001b[38;5;33mResNet9Block\u001b[0m)        │ (\u001b[38;5;45mNone\u001b[0m, \u001b[38;5;34m16\u001b[0m, \u001b[38;5;34m16\u001b[0m, \u001b[38;5;34m64\u001b[0m)          │         \u001b[38;5;34m119,552\u001b[0m │\n",
              "├──────────────────────────────────────┼─────────────────────────────┼─────────────────┤\n",
              "│ conv2d_batch_norm_re_lu_3            │ (\u001b[38;5;45mNone\u001b[0m, \u001b[38;5;34m16\u001b[0m, \u001b[38;5;34m16\u001b[0m, \u001b[38;5;34m448\u001b[0m)         │         \u001b[38;5;34m259,840\u001b[0m │\n",
              "│ (\u001b[38;5;33mConv2DBatchNormReLU\u001b[0m)                │                             │                 │\n",
              "├──────────────────────────────────────┼─────────────────────────────┼─────────────────┤\n",
              "│ max_pooling2d_1 (\u001b[38;5;33mMaxPooling2D\u001b[0m)       │ (\u001b[38;5;45mNone\u001b[0m, \u001b[38;5;34m8\u001b[0m, \u001b[38;5;34m8\u001b[0m, \u001b[38;5;34m448\u001b[0m)           │               \u001b[38;5;34m0\u001b[0m │\n",
              "├──────────────────────────────────────┼─────────────────────────────┼─────────────────┤\n",
              "│ res_net9_block_1 (\u001b[38;5;33mResNet9Block\u001b[0m)      │ (\u001b[38;5;45mNone\u001b[0m, \u001b[38;5;34m4\u001b[0m, \u001b[38;5;34m4\u001b[0m, \u001b[38;5;34m448\u001b[0m)           │       \u001b[38;5;34m3,818,752\u001b[0m │\n",
              "├──────────────────────────────────────┼─────────────────────────────┼─────────────────┤\n",
              "│ global_average_pooling2d             │ (\u001b[38;5;45mNone\u001b[0m, \u001b[38;5;34m448\u001b[0m)                 │               \u001b[38;5;34m0\u001b[0m │\n",
              "│ (\u001b[38;5;33mGlobalAveragePooling2D\u001b[0m)             │                             │                 │\n",
              "├──────────────────────────────────────┼─────────────────────────────┼─────────────────┤\n",
              "│ dense (\u001b[38;5;33mDense\u001b[0m)                        │ (\u001b[38;5;45mNone\u001b[0m, \u001b[38;5;34m10\u001b[0m)                  │           \u001b[38;5;34m4,480\u001b[0m │\n",
              "└──────────────────────────────────────┴─────────────────────────────┴─────────────────┘\n"
            ],
            "text/html": [
              "<pre style=\"white-space:pre;overflow-x:auto;line-height:normal;font-family:Menlo,'DejaVu Sans Mono',consolas,'Courier New',monospace\">┏━━━━━━━━━━━━━━━━━━━━━━━━━━━━━━━━━━━━━━┳━━━━━━━━━━━━━━━━━━━━━━━━━━━━━┳━━━━━━━━━━━━━━━━━┓\n",
              "┃<span style=\"font-weight: bold\"> Layer (type)                         </span>┃<span style=\"font-weight: bold\"> Output Shape                </span>┃<span style=\"font-weight: bold\">         Param # </span>┃\n",
              "┡━━━━━━━━━━━━━━━━━━━━━━━━━━━━━━━━━━━━━━╇━━━━━━━━━━━━━━━━━━━━━━━━━━━━━╇━━━━━━━━━━━━━━━━━┩\n",
              "│ input_layer (<span style=\"color: #0087ff; text-decoration-color: #0087ff\">InputLayer</span>)             │ (<span style=\"color: #00d7ff; text-decoration-color: #00d7ff\">None</span>, <span style=\"color: #00af00; text-decoration-color: #00af00\">32</span>, <span style=\"color: #00af00; text-decoration-color: #00af00\">32</span>, <span style=\"color: #00af00; text-decoration-color: #00af00\">3</span>)           │               <span style=\"color: #00af00; text-decoration-color: #00af00\">0</span> │\n",
              "├──────────────────────────────────────┼─────────────────────────────┼─────────────────┤\n",
              "│ conv2d_batch_norm_re_lu              │ (<span style=\"color: #00d7ff; text-decoration-color: #00d7ff\">None</span>, <span style=\"color: #00af00; text-decoration-color: #00af00\">32</span>, <span style=\"color: #00af00; text-decoration-color: #00af00\">32</span>, <span style=\"color: #00af00; text-decoration-color: #00af00\">128</span>)         │           <span style=\"color: #00af00; text-decoration-color: #00af00\">3,968</span> │\n",
              "│ (<span style=\"color: #0087ff; text-decoration-color: #0087ff\">Conv2DBatchNormReLU</span>)                │                             │                 │\n",
              "├──────────────────────────────────────┼─────────────────────────────┼─────────────────┤\n",
              "│ res_net9_block (<span style=\"color: #0087ff; text-decoration-color: #0087ff\">ResNet9Block</span>)        │ (<span style=\"color: #00d7ff; text-decoration-color: #00d7ff\">None</span>, <span style=\"color: #00af00; text-decoration-color: #00af00\">16</span>, <span style=\"color: #00af00; text-decoration-color: #00af00\">16</span>, <span style=\"color: #00af00; text-decoration-color: #00af00\">64</span>)          │         <span style=\"color: #00af00; text-decoration-color: #00af00\">119,552</span> │\n",
              "├──────────────────────────────────────┼─────────────────────────────┼─────────────────┤\n",
              "│ conv2d_batch_norm_re_lu_3            │ (<span style=\"color: #00d7ff; text-decoration-color: #00d7ff\">None</span>, <span style=\"color: #00af00; text-decoration-color: #00af00\">16</span>, <span style=\"color: #00af00; text-decoration-color: #00af00\">16</span>, <span style=\"color: #00af00; text-decoration-color: #00af00\">448</span>)         │         <span style=\"color: #00af00; text-decoration-color: #00af00\">259,840</span> │\n",
              "│ (<span style=\"color: #0087ff; text-decoration-color: #0087ff\">Conv2DBatchNormReLU</span>)                │                             │                 │\n",
              "├──────────────────────────────────────┼─────────────────────────────┼─────────────────┤\n",
              "│ max_pooling2d_1 (<span style=\"color: #0087ff; text-decoration-color: #0087ff\">MaxPooling2D</span>)       │ (<span style=\"color: #00d7ff; text-decoration-color: #00d7ff\">None</span>, <span style=\"color: #00af00; text-decoration-color: #00af00\">8</span>, <span style=\"color: #00af00; text-decoration-color: #00af00\">8</span>, <span style=\"color: #00af00; text-decoration-color: #00af00\">448</span>)           │               <span style=\"color: #00af00; text-decoration-color: #00af00\">0</span> │\n",
              "├──────────────────────────────────────┼─────────────────────────────┼─────────────────┤\n",
              "│ res_net9_block_1 (<span style=\"color: #0087ff; text-decoration-color: #0087ff\">ResNet9Block</span>)      │ (<span style=\"color: #00d7ff; text-decoration-color: #00d7ff\">None</span>, <span style=\"color: #00af00; text-decoration-color: #00af00\">4</span>, <span style=\"color: #00af00; text-decoration-color: #00af00\">4</span>, <span style=\"color: #00af00; text-decoration-color: #00af00\">448</span>)           │       <span style=\"color: #00af00; text-decoration-color: #00af00\">3,818,752</span> │\n",
              "├──────────────────────────────────────┼─────────────────────────────┼─────────────────┤\n",
              "│ global_average_pooling2d             │ (<span style=\"color: #00d7ff; text-decoration-color: #00d7ff\">None</span>, <span style=\"color: #00af00; text-decoration-color: #00af00\">448</span>)                 │               <span style=\"color: #00af00; text-decoration-color: #00af00\">0</span> │\n",
              "│ (<span style=\"color: #0087ff; text-decoration-color: #0087ff\">GlobalAveragePooling2D</span>)             │                             │                 │\n",
              "├──────────────────────────────────────┼─────────────────────────────┼─────────────────┤\n",
              "│ dense (<span style=\"color: #0087ff; text-decoration-color: #0087ff\">Dense</span>)                        │ (<span style=\"color: #00d7ff; text-decoration-color: #00d7ff\">None</span>, <span style=\"color: #00af00; text-decoration-color: #00af00\">10</span>)                  │           <span style=\"color: #00af00; text-decoration-color: #00af00\">4,480</span> │\n",
              "└──────────────────────────────────────┴─────────────────────────────┴─────────────────┘\n",
              "</pre>\n"
            ]
          },
          "metadata": {}
        },
        {
          "output_type": "display_data",
          "data": {
            "text/plain": [
              "\u001b[1m Total params: \u001b[0m\u001b[38;5;34m4,206,592\u001b[0m (16.05 MB)\n"
            ],
            "text/html": [
              "<pre style=\"white-space:pre;overflow-x:auto;line-height:normal;font-family:Menlo,'DejaVu Sans Mono',consolas,'Courier New',monospace\"><span style=\"font-weight: bold\"> Total params: </span><span style=\"color: #00af00; text-decoration-color: #00af00\">4,206,592</span> (16.05 MB)\n",
              "</pre>\n"
            ]
          },
          "metadata": {}
        },
        {
          "output_type": "display_data",
          "data": {
            "text/plain": [
              "\u001b[1m Trainable params: \u001b[0m\u001b[38;5;34m4,202,368\u001b[0m (16.03 MB)\n"
            ],
            "text/html": [
              "<pre style=\"white-space:pre;overflow-x:auto;line-height:normal;font-family:Menlo,'DejaVu Sans Mono',consolas,'Courier New',monospace\"><span style=\"font-weight: bold\"> Trainable params: </span><span style=\"color: #00af00; text-decoration-color: #00af00\">4,202,368</span> (16.03 MB)\n",
              "</pre>\n"
            ]
          },
          "metadata": {}
        },
        {
          "output_type": "display_data",
          "data": {
            "text/plain": [
              "\u001b[1m Non-trainable params: \u001b[0m\u001b[38;5;34m4,224\u001b[0m (16.50 KB)\n"
            ],
            "text/html": [
              "<pre style=\"white-space:pre;overflow-x:auto;line-height:normal;font-family:Menlo,'DejaVu Sans Mono',consolas,'Courier New',monospace\"><span style=\"font-weight: bold\"> Non-trainable params: </span><span style=\"color: #00af00; text-decoration-color: #00af00\">4,224</span> (16.50 KB)\n",
              "</pre>\n"
            ]
          },
          "metadata": {}
        }
      ]
    },
    {
      "cell_type": "code",
      "source": [
        "# COMPILE THE MODEL AND RUN IT.\n",
        "\n",
        "model.compile(\n",
        "        loss='sparse_categorical_crossentropy',\n",
        "        optimizer=Adam(learning_rate=0.001),\n",
        "        metrics=['accuracy'])\n",
        "\n",
        "history = model.fit(\n",
        "    datagen.flow(X_train, y_train, batch_size=64),\n",
        "    validation_data=(X_valid, y_valid),\n",
        "    epochs=200,\n",
        "    callbacks=[early_stopping,reduce_lr,model_checkpoint])"
      ],
      "metadata": {
        "colab": {
          "base_uri": "https://localhost:8080/"
        },
        "id": "PoKBSaz0KdPB",
        "outputId": "7cfccd1b-8489-4f56-ad54-edf95b0d1d10"
      },
      "execution_count": 6,
      "outputs": [
        {
          "output_type": "stream",
          "name": "stdout",
          "text": [
            "Epoch 1/200\n"
          ]
        },
        {
          "output_type": "stream",
          "name": "stderr",
          "text": [
            "/usr/local/lib/python3.11/dist-packages/keras/src/trainers/data_adapters/py_dataset_adapter.py:122: UserWarning: Your `PyDataset` class should call `super().__init__(**kwargs)` in its constructor. `**kwargs` can include `workers`, `use_multiprocessing`, `max_queue_size`. Do not pass these arguments to `fit()`, as they will be ignored.\n",
            "  self._warn_if_super_not_called()\n"
          ]
        },
        {
          "output_type": "stream",
          "name": "stdout",
          "text": [
            "\u001b[1m625/625\u001b[0m \u001b[32m━━━━━━━━━━━━━━━━━━━━\u001b[0m\u001b[37m\u001b[0m \u001b[1m56s\u001b[0m 64ms/step - accuracy: 0.4355 - loss: 2.1520 - val_accuracy: 0.5992 - val_loss: 1.6803 - learning_rate: 0.0010\n",
            "Epoch 2/200\n",
            "\u001b[1m625/625\u001b[0m \u001b[32m━━━━━━━━━━━━━━━━━━━━\u001b[0m\u001b[37m\u001b[0m \u001b[1m31s\u001b[0m 49ms/step - accuracy: 0.6453 - loss: 1.5028 - val_accuracy: 0.6407 - val_loss: 1.5184 - learning_rate: 0.0010\n",
            "Epoch 3/200\n",
            "\u001b[1m625/625\u001b[0m \u001b[32m━━━━━━━━━━━━━━━━━━━━\u001b[0m\u001b[37m\u001b[0m \u001b[1m42s\u001b[0m 50ms/step - accuracy: 0.7053 - loss: 1.2917 - val_accuracy: 0.7044 - val_loss: 1.2940 - learning_rate: 0.0010\n",
            "Epoch 4/200\n",
            "\u001b[1m625/625\u001b[0m \u001b[32m━━━━━━━━━━━━━━━━━━━━\u001b[0m\u001b[37m\u001b[0m \u001b[1m40s\u001b[0m 48ms/step - accuracy: 0.7383 - loss: 1.1758 - val_accuracy: 0.7248 - val_loss: 1.1945 - learning_rate: 0.0010\n",
            "Epoch 5/200\n",
            "\u001b[1m625/625\u001b[0m \u001b[32m━━━━━━━━━━━━━━━━━━━━\u001b[0m\u001b[37m\u001b[0m \u001b[1m43s\u001b[0m 51ms/step - accuracy: 0.7605 - loss: 1.0975 - val_accuracy: 0.6255 - val_loss: 1.5537 - learning_rate: 0.0010\n",
            "Epoch 6/200\n",
            "\u001b[1m625/625\u001b[0m \u001b[32m━━━━━━━━━━━━━━━━━━━━\u001b[0m\u001b[37m\u001b[0m \u001b[1m30s\u001b[0m 48ms/step - accuracy: 0.7811 - loss: 1.0336 - val_accuracy: 0.7593 - val_loss: 1.0925 - learning_rate: 0.0010\n",
            "Epoch 7/200\n",
            "\u001b[1m625/625\u001b[0m \u001b[32m━━━━━━━━━━━━━━━━━━━━\u001b[0m\u001b[37m\u001b[0m \u001b[1m30s\u001b[0m 48ms/step - accuracy: 0.7937 - loss: 0.9858 - val_accuracy: 0.8000 - val_loss: 0.9604 - learning_rate: 0.0010\n",
            "Epoch 8/200\n",
            "\u001b[1m625/625\u001b[0m \u001b[32m━━━━━━━━━━━━━━━━━━━━\u001b[0m\u001b[37m\u001b[0m \u001b[1m31s\u001b[0m 49ms/step - accuracy: 0.8139 - loss: 0.9325 - val_accuracy: 0.7826 - val_loss: 1.0252 - learning_rate: 0.0010\n",
            "Epoch 9/200\n",
            "\u001b[1m625/625\u001b[0m \u001b[32m━━━━━━━━━━━━━━━━━━━━\u001b[0m\u001b[37m\u001b[0m \u001b[1m41s\u001b[0m 49ms/step - accuracy: 0.8219 - loss: 0.8917 - val_accuracy: 0.7738 - val_loss: 1.1040 - learning_rate: 0.0010\n",
            "Epoch 10/200\n",
            "\u001b[1m625/625\u001b[0m \u001b[32m━━━━━━━━━━━━━━━━━━━━\u001b[0m\u001b[37m\u001b[0m \u001b[1m40s\u001b[0m 48ms/step - accuracy: 0.8298 - loss: 0.8570 - val_accuracy: 0.8064 - val_loss: 0.9596 - learning_rate: 0.0010\n",
            "Epoch 11/200\n",
            "\u001b[1m625/625\u001b[0m \u001b[32m━━━━━━━━━━━━━━━━━━━━\u001b[0m\u001b[37m\u001b[0m \u001b[1m30s\u001b[0m 48ms/step - accuracy: 0.8401 - loss: 0.8276 - val_accuracy: 0.8441 - val_loss: 0.8212 - learning_rate: 0.0010\n",
            "Epoch 12/200\n",
            "\u001b[1m625/625\u001b[0m \u001b[32m━━━━━━━━━━━━━━━━━━━━\u001b[0m\u001b[37m\u001b[0m \u001b[1m30s\u001b[0m 47ms/step - accuracy: 0.8427 - loss: 0.8150 - val_accuracy: 0.8025 - val_loss: 0.9715 - learning_rate: 0.0010\n",
            "Epoch 13/200\n",
            "\u001b[1m625/625\u001b[0m \u001b[32m━━━━━━━━━━━━━━━━━━━━\u001b[0m\u001b[37m\u001b[0m \u001b[1m31s\u001b[0m 49ms/step - accuracy: 0.8505 - loss: 0.7963 - val_accuracy: 0.8194 - val_loss: 0.8893 - learning_rate: 0.0010\n",
            "Epoch 14/200\n",
            "\u001b[1m625/625\u001b[0m \u001b[32m━━━━━━━━━━━━━━━━━━━━\u001b[0m\u001b[37m\u001b[0m \u001b[1m40s\u001b[0m 47ms/step - accuracy: 0.8574 - loss: 0.7713 - val_accuracy: 0.8556 - val_loss: 0.7680 - learning_rate: 0.0010\n",
            "Epoch 15/200\n",
            "\u001b[1m625/625\u001b[0m \u001b[32m━━━━━━━━━━━━━━━━━━━━\u001b[0m\u001b[37m\u001b[0m \u001b[1m30s\u001b[0m 48ms/step - accuracy: 0.8582 - loss: 0.7536 - val_accuracy: 0.8090 - val_loss: 0.9446 - learning_rate: 0.0010\n",
            "Epoch 16/200\n",
            "\u001b[1m625/625\u001b[0m \u001b[32m━━━━━━━━━━━━━━━━━━━━\u001b[0m\u001b[37m\u001b[0m \u001b[1m30s\u001b[0m 48ms/step - accuracy: 0.8656 - loss: 0.7384 - val_accuracy: 0.8442 - val_loss: 0.8141 - learning_rate: 0.0010\n",
            "Epoch 17/200\n",
            "\u001b[1m625/625\u001b[0m \u001b[32m━━━━━━━━━━━━━━━━━━━━\u001b[0m\u001b[37m\u001b[0m \u001b[1m29s\u001b[0m 47ms/step - accuracy: 0.8674 - loss: 0.7269 - val_accuracy: 0.8359 - val_loss: 0.8345 - learning_rate: 0.0010\n",
            "Epoch 18/200\n",
            "\u001b[1m625/625\u001b[0m \u001b[32m━━━━━━━━━━━━━━━━━━━━\u001b[0m\u001b[37m\u001b[0m \u001b[1m30s\u001b[0m 47ms/step - accuracy: 0.8742 - loss: 0.7112 - val_accuracy: 0.8420 - val_loss: 0.8301 - learning_rate: 0.0010\n",
            "Epoch 19/200\n",
            "\u001b[1m625/625\u001b[0m \u001b[32m━━━━━━━━━━━━━━━━━━━━\u001b[0m\u001b[37m\u001b[0m \u001b[1m42s\u001b[0m 49ms/step - accuracy: 0.8738 - loss: 0.7113 - val_accuracy: 0.8524 - val_loss: 0.7828 - learning_rate: 0.0010\n",
            "Epoch 20/200\n",
            "\u001b[1m625/625\u001b[0m \u001b[32m━━━━━━━━━━━━━━━━━━━━\u001b[0m\u001b[37m\u001b[0m \u001b[1m40s\u001b[0m 48ms/step - accuracy: 0.8984 - loss: 0.6366 - val_accuracy: 0.8790 - val_loss: 0.6735 - learning_rate: 5.0000e-04\n",
            "Epoch 21/200\n",
            "\u001b[1m625/625\u001b[0m \u001b[32m━━━━━━━━━━━━━━━━━━━━\u001b[0m\u001b[37m\u001b[0m \u001b[1m30s\u001b[0m 48ms/step - accuracy: 0.9113 - loss: 0.5777 - val_accuracy: 0.8827 - val_loss: 0.6712 - learning_rate: 5.0000e-04\n",
            "Epoch 22/200\n",
            "\u001b[1m625/625\u001b[0m \u001b[32m━━━━━━━━━━━━━━━━━━━━\u001b[0m\u001b[37m\u001b[0m \u001b[1m43s\u001b[0m 51ms/step - accuracy: 0.9145 - loss: 0.5555 - val_accuracy: 0.8812 - val_loss: 0.6817 - learning_rate: 5.0000e-04\n",
            "Epoch 23/200\n",
            "\u001b[1m625/625\u001b[0m \u001b[32m━━━━━━━━━━━━━━━━━━━━\u001b[0m\u001b[37m\u001b[0m \u001b[1m30s\u001b[0m 48ms/step - accuracy: 0.9144 - loss: 0.5539 - val_accuracy: 0.8830 - val_loss: 0.6491 - learning_rate: 5.0000e-04\n",
            "Epoch 24/200\n",
            "\u001b[1m625/625\u001b[0m \u001b[32m━━━━━━━━━━━━━━━━━━━━\u001b[0m\u001b[37m\u001b[0m \u001b[1m42s\u001b[0m 49ms/step - accuracy: 0.9186 - loss: 0.5308 - val_accuracy: 0.8863 - val_loss: 0.6355 - learning_rate: 5.0000e-04\n",
            "Epoch 25/200\n",
            "\u001b[1m625/625\u001b[0m \u001b[32m━━━━━━━━━━━━━━━━━━━━\u001b[0m\u001b[37m\u001b[0m \u001b[1m30s\u001b[0m 47ms/step - accuracy: 0.9174 - loss: 0.5249 - val_accuracy: 0.8773 - val_loss: 0.6736 - learning_rate: 5.0000e-04\n",
            "Epoch 26/200\n",
            "\u001b[1m625/625\u001b[0m \u001b[32m━━━━━━━━━━━━━━━━━━━━\u001b[0m\u001b[37m\u001b[0m \u001b[1m31s\u001b[0m 48ms/step - accuracy: 0.9194 - loss: 0.5163 - val_accuracy: 0.8765 - val_loss: 0.6677 - learning_rate: 5.0000e-04\n",
            "Epoch 27/200\n",
            "\u001b[1m625/625\u001b[0m \u001b[32m━━━━━━━━━━━━━━━━━━━━\u001b[0m\u001b[37m\u001b[0m \u001b[1m40s\u001b[0m 47ms/step - accuracy: 0.9230 - loss: 0.5102 - val_accuracy: 0.8705 - val_loss: 0.6881 - learning_rate: 5.0000e-04\n",
            "Epoch 28/200\n",
            "\u001b[1m625/625\u001b[0m \u001b[32m━━━━━━━━━━━━━━━━━━━━\u001b[0m\u001b[37m\u001b[0m \u001b[1m42s\u001b[0m 48ms/step - accuracy: 0.9237 - loss: 0.5029 - val_accuracy: 0.8887 - val_loss: 0.6365 - learning_rate: 5.0000e-04\n",
            "Epoch 29/200\n",
            "\u001b[1m625/625\u001b[0m \u001b[32m━━━━━━━━━━━━━━━━━━━━\u001b[0m\u001b[37m\u001b[0m \u001b[1m30s\u001b[0m 48ms/step - accuracy: 0.9241 - loss: 0.4942 - val_accuracy: 0.8846 - val_loss: 0.6491 - learning_rate: 5.0000e-04\n",
            "Epoch 30/200\n",
            "\u001b[1m625/625\u001b[0m \u001b[32m━━━━━━━━━━━━━━━━━━━━\u001b[0m\u001b[37m\u001b[0m \u001b[1m32s\u001b[0m 51ms/step - accuracy: 0.9366 - loss: 0.4639 - val_accuracy: 0.9014 - val_loss: 0.5890 - learning_rate: 2.5000e-04\n",
            "Epoch 31/200\n",
            "\u001b[1m625/625\u001b[0m \u001b[32m━━━━━━━━━━━━━━━━━━━━\u001b[0m\u001b[37m\u001b[0m \u001b[1m40s\u001b[0m 50ms/step - accuracy: 0.9470 - loss: 0.4243 - val_accuracy: 0.8968 - val_loss: 0.6051 - learning_rate: 2.5000e-04\n",
            "Epoch 32/200\n",
            "\u001b[1m625/625\u001b[0m \u001b[32m━━━━━━━━━━━━━━━━━━━━\u001b[0m\u001b[37m\u001b[0m \u001b[1m40s\u001b[0m 49ms/step - accuracy: 0.9479 - loss: 0.4155 - val_accuracy: 0.8960 - val_loss: 0.6009 - learning_rate: 2.5000e-04\n",
            "Epoch 33/200\n",
            "\u001b[1m625/625\u001b[0m \u001b[32m━━━━━━━━━━━━━━━━━━━━\u001b[0m\u001b[37m\u001b[0m \u001b[1m41s\u001b[0m 49ms/step - accuracy: 0.9505 - loss: 0.4044 - val_accuracy: 0.8901 - val_loss: 0.6216 - learning_rate: 2.5000e-04\n",
            "Epoch 34/200\n",
            "\u001b[1m625/625\u001b[0m \u001b[32m━━━━━━━━━━━━━━━━━━━━\u001b[0m\u001b[37m\u001b[0m \u001b[1m31s\u001b[0m 49ms/step - accuracy: 0.9529 - loss: 0.3959 - val_accuracy: 0.8986 - val_loss: 0.5721 - learning_rate: 2.5000e-04\n",
            "Epoch 35/200\n",
            "\u001b[1m625/625\u001b[0m \u001b[32m━━━━━━━━━━━━━━━━━━━━\u001b[0m\u001b[37m\u001b[0m \u001b[1m31s\u001b[0m 48ms/step - accuracy: 0.9536 - loss: 0.3888 - val_accuracy: 0.8973 - val_loss: 0.5781 - learning_rate: 2.5000e-04\n",
            "Epoch 36/200\n",
            "\u001b[1m625/625\u001b[0m \u001b[32m━━━━━━━━━━━━━━━━━━━━\u001b[0m\u001b[37m\u001b[0m \u001b[1m31s\u001b[0m 49ms/step - accuracy: 0.9532 - loss: 0.3855 - val_accuracy: 0.8914 - val_loss: 0.6067 - learning_rate: 2.5000e-04\n",
            "Epoch 37/200\n",
            "\u001b[1m625/625\u001b[0m \u001b[32m━━━━━━━━━━━━━━━━━━━━\u001b[0m\u001b[37m\u001b[0m \u001b[1m41s\u001b[0m 49ms/step - accuracy: 0.9543 - loss: 0.3801 - val_accuracy: 0.8926 - val_loss: 0.6032 - learning_rate: 2.5000e-04\n",
            "Epoch 38/200\n",
            "\u001b[1m625/625\u001b[0m \u001b[32m━━━━━━━━━━━━━━━━━━━━\u001b[0m\u001b[37m\u001b[0m \u001b[1m31s\u001b[0m 49ms/step - accuracy: 0.9574 - loss: 0.3697 - val_accuracy: 0.8959 - val_loss: 0.5816 - learning_rate: 2.5000e-04\n",
            "Epoch 39/200\n",
            "\u001b[1m625/625\u001b[0m \u001b[32m━━━━━━━━━━━━━━━━━━━━\u001b[0m\u001b[37m\u001b[0m \u001b[1m41s\u001b[0m 49ms/step - accuracy: 0.9560 - loss: 0.3709 - val_accuracy: 0.8952 - val_loss: 0.5969 - learning_rate: 2.5000e-04\n",
            "Epoch 40/200\n",
            "\u001b[1m625/625\u001b[0m \u001b[32m━━━━━━━━━━━━━━━━━━━━\u001b[0m\u001b[37m\u001b[0m \u001b[1m44s\u001b[0m 54ms/step - accuracy: 0.9630 - loss: 0.3533 - val_accuracy: 0.9068 - val_loss: 0.5492 - learning_rate: 1.2500e-04\n",
            "Epoch 41/200\n",
            "\u001b[1m625/625\u001b[0m \u001b[32m━━━━━━━━━━━━━━━━━━━━\u001b[0m\u001b[37m\u001b[0m \u001b[1m38s\u001b[0m 48ms/step - accuracy: 0.9699 - loss: 0.3315 - val_accuracy: 0.9002 - val_loss: 0.5712 - learning_rate: 1.2500e-04\n",
            "Epoch 42/200\n",
            "\u001b[1m625/625\u001b[0m \u001b[32m━━━━━━━━━━━━━━━━━━━━\u001b[0m\u001b[37m\u001b[0m \u001b[1m41s\u001b[0m 48ms/step - accuracy: 0.9690 - loss: 0.3286 - val_accuracy: 0.9063 - val_loss: 0.5531 - learning_rate: 1.2500e-04\n",
            "Epoch 43/200\n",
            "\u001b[1m625/625\u001b[0m \u001b[32m━━━━━━━━━━━━━━━━━━━━\u001b[0m\u001b[37m\u001b[0m \u001b[1m40s\u001b[0m 47ms/step - accuracy: 0.9701 - loss: 0.3252 - val_accuracy: 0.9046 - val_loss: 0.5618 - learning_rate: 1.2500e-04\n",
            "Epoch 44/200\n",
            "\u001b[1m625/625\u001b[0m \u001b[32m━━━━━━━━━━━━━━━━━━━━\u001b[0m\u001b[37m\u001b[0m \u001b[1m42s\u001b[0m 49ms/step - accuracy: 0.9717 - loss: 0.3168 - val_accuracy: 0.9035 - val_loss: 0.5687 - learning_rate: 1.2500e-04\n",
            "Epoch 45/200\n",
            "\u001b[1m625/625\u001b[0m \u001b[32m━━━━━━━━━━━━━━━━━━━━\u001b[0m\u001b[37m\u001b[0m \u001b[1m32s\u001b[0m 51ms/step - accuracy: 0.9708 - loss: 0.3150 - val_accuracy: 0.9001 - val_loss: 0.5794 - learning_rate: 1.2500e-04\n",
            "Epoch 46/200\n",
            "\u001b[1m625/625\u001b[0m \u001b[32m━━━━━━━━━━━━━━━━━━━━\u001b[0m\u001b[37m\u001b[0m \u001b[1m30s\u001b[0m 47ms/step - accuracy: 0.9746 - loss: 0.3063 - val_accuracy: 0.9075 - val_loss: 0.5558 - learning_rate: 6.2500e-05\n",
            "Epoch 47/200\n",
            "\u001b[1m625/625\u001b[0m \u001b[32m━━━━━━━━━━━━━━━━━━━━\u001b[0m\u001b[37m\u001b[0m \u001b[1m41s\u001b[0m 48ms/step - accuracy: 0.9755 - loss: 0.2985 - val_accuracy: 0.9061 - val_loss: 0.5580 - learning_rate: 6.2500e-05\n",
            "Epoch 48/200\n",
            "\u001b[1m625/625\u001b[0m \u001b[32m━━━━━━━━━━━━━━━━━━━━\u001b[0m\u001b[37m\u001b[0m \u001b[1m30s\u001b[0m 47ms/step - accuracy: 0.9760 - loss: 0.2958 - val_accuracy: 0.9046 - val_loss: 0.5602 - learning_rate: 6.2500e-05\n",
            "Epoch 49/200\n",
            "\u001b[1m625/625\u001b[0m \u001b[32m━━━━━━━━━━━━━━━━━━━━\u001b[0m\u001b[37m\u001b[0m \u001b[1m32s\u001b[0m 50ms/step - accuracy: 0.9791 - loss: 0.2888 - val_accuracy: 0.9106 - val_loss: 0.5440 - learning_rate: 6.2500e-05\n",
            "Epoch 50/200\n",
            "\u001b[1m625/625\u001b[0m \u001b[32m━━━━━━━━━━━━━━━━━━━━\u001b[0m\u001b[37m\u001b[0m \u001b[1m39s\u001b[0m 47ms/step - accuracy: 0.9762 - loss: 0.2928 - val_accuracy: 0.9084 - val_loss: 0.5501 - learning_rate: 6.2500e-05\n",
            "Epoch 51/200\n",
            "\u001b[1m625/625\u001b[0m \u001b[32m━━━━━━━━━━━━━━━━━━━━\u001b[0m\u001b[37m\u001b[0m \u001b[1m30s\u001b[0m 48ms/step - accuracy: 0.9809 - loss: 0.2800 - val_accuracy: 0.9073 - val_loss: 0.5587 - learning_rate: 6.2500e-05\n",
            "Epoch 52/200\n",
            "\u001b[1m625/625\u001b[0m \u001b[32m━━━━━━━━━━━━━━━━━━━━\u001b[0m\u001b[37m\u001b[0m \u001b[1m30s\u001b[0m 48ms/step - accuracy: 0.9801 - loss: 0.2819 - val_accuracy: 0.9072 - val_loss: 0.5459 - learning_rate: 6.2500e-05\n",
            "Epoch 53/200\n",
            "\u001b[1m625/625\u001b[0m \u001b[32m━━━━━━━━━━━━━━━━━━━━\u001b[0m\u001b[37m\u001b[0m \u001b[1m43s\u001b[0m 51ms/step - accuracy: 0.9809 - loss: 0.2811 - val_accuracy: 0.9069 - val_loss: 0.5472 - learning_rate: 6.2500e-05\n",
            "Epoch 54/200\n",
            "\u001b[1m625/625\u001b[0m \u001b[32m━━━━━━━━━━━━━━━━━━━━\u001b[0m\u001b[37m\u001b[0m \u001b[1m30s\u001b[0m 48ms/step - accuracy: 0.9810 - loss: 0.2752 - val_accuracy: 0.9104 - val_loss: 0.5338 - learning_rate: 6.2500e-05\n",
            "Epoch 55/200\n",
            "\u001b[1m625/625\u001b[0m \u001b[32m━━━━━━━━━━━━━━━━━━━━\u001b[0m\u001b[37m\u001b[0m \u001b[1m31s\u001b[0m 49ms/step - accuracy: 0.9804 - loss: 0.2774 - val_accuracy: 0.9099 - val_loss: 0.5399 - learning_rate: 6.2500e-05\n",
            "Epoch 56/200\n",
            "\u001b[1m625/625\u001b[0m \u001b[32m━━━━━━━━━━━━━━━━━━━━\u001b[0m\u001b[37m\u001b[0m \u001b[1m32s\u001b[0m 50ms/step - accuracy: 0.9814 - loss: 0.2732 - val_accuracy: 0.9074 - val_loss: 0.5445 - learning_rate: 6.2500e-05\n",
            "Epoch 57/200\n",
            "\u001b[1m625/625\u001b[0m \u001b[32m━━━━━━━━━━━━━━━━━━━━\u001b[0m\u001b[37m\u001b[0m \u001b[1m41s\u001b[0m 50ms/step - accuracy: 0.9804 - loss: 0.2722 - val_accuracy: 0.9054 - val_loss: 0.5476 - learning_rate: 6.2500e-05\n",
            "Epoch 58/200\n",
            "\u001b[1m625/625\u001b[0m \u001b[32m━━━━━━━━━━━━━━━━━━━━\u001b[0m\u001b[37m\u001b[0m \u001b[1m40s\u001b[0m 48ms/step - accuracy: 0.9803 - loss: 0.2733 - val_accuracy: 0.9068 - val_loss: 0.5484 - learning_rate: 6.2500e-05\n",
            "Epoch 59/200\n",
            "\u001b[1m625/625\u001b[0m \u001b[32m━━━━━━━━━━━━━━━━━━━━\u001b[0m\u001b[37m\u001b[0m \u001b[1m31s\u001b[0m 49ms/step - accuracy: 0.9818 - loss: 0.2677 - val_accuracy: 0.9076 - val_loss: 0.5453 - learning_rate: 6.2500e-05\n",
            "Epoch 60/200\n",
            "\u001b[1m625/625\u001b[0m \u001b[32m━━━━━━━━━━━━━━━━━━━━\u001b[0m\u001b[37m\u001b[0m \u001b[1m31s\u001b[0m 49ms/step - accuracy: 0.9835 - loss: 0.2632 - val_accuracy: 0.9088 - val_loss: 0.5379 - learning_rate: 3.1250e-05\n",
            "Epoch 61/200\n",
            "\u001b[1m625/625\u001b[0m \u001b[32m━━━━━━━━━━━━━━━━━━━━\u001b[0m\u001b[37m\u001b[0m \u001b[1m42s\u001b[0m 51ms/step - accuracy: 0.9834 - loss: 0.2614 - val_accuracy: 0.9104 - val_loss: 0.5265 - learning_rate: 3.1250e-05\n",
            "Epoch 62/200\n",
            "\u001b[1m625/625\u001b[0m \u001b[32m━━━━━━━━━━━━━━━━━━━━\u001b[0m\u001b[37m\u001b[0m \u001b[1m40s\u001b[0m 50ms/step - accuracy: 0.9851 - loss: 0.2578 - val_accuracy: 0.9106 - val_loss: 0.5297 - learning_rate: 3.1250e-05\n",
            "Epoch 63/200\n",
            "\u001b[1m625/625\u001b[0m \u001b[32m━━━━━━━━━━━━━━━━━━━━\u001b[0m\u001b[37m\u001b[0m \u001b[1m40s\u001b[0m 48ms/step - accuracy: 0.9837 - loss: 0.2608 - val_accuracy: 0.9100 - val_loss: 0.5307 - learning_rate: 3.1250e-05\n",
            "Epoch 64/200\n",
            "\u001b[1m625/625\u001b[0m \u001b[32m━━━━━━━━━━━━━━━━━━━━\u001b[0m\u001b[37m\u001b[0m \u001b[1m41s\u001b[0m 48ms/step - accuracy: 0.9849 - loss: 0.2567 - val_accuracy: 0.9101 - val_loss: 0.5394 - learning_rate: 3.1250e-05\n",
            "Epoch 65/200\n",
            "\u001b[1m625/625\u001b[0m \u001b[32m━━━━━━━━━━━━━━━━━━━━\u001b[0m\u001b[37m\u001b[0m \u001b[1m31s\u001b[0m 49ms/step - accuracy: 0.9849 - loss: 0.2547 - val_accuracy: 0.9094 - val_loss: 0.5385 - learning_rate: 3.1250e-05\n",
            "Epoch 66/200\n",
            "\u001b[1m625/625\u001b[0m \u001b[32m━━━━━━━━━━━━━━━━━━━━\u001b[0m\u001b[37m\u001b[0m \u001b[1m40s\u001b[0m 48ms/step - accuracy: 0.9841 - loss: 0.2567 - val_accuracy: 0.9099 - val_loss: 0.5418 - learning_rate: 3.1250e-05\n",
            "Epoch 67/200\n",
            "\u001b[1m625/625\u001b[0m \u001b[32m━━━━━━━━━━━━━━━━━━━━\u001b[0m\u001b[37m\u001b[0m \u001b[1m31s\u001b[0m 49ms/step - accuracy: 0.9861 - loss: 0.2511 - val_accuracy: 0.9134 - val_loss: 0.5274 - learning_rate: 1.5625e-05\n",
            "Epoch 68/200\n",
            "\u001b[1m625/625\u001b[0m \u001b[32m━━━━━━━━━━━━━━━━━━━━\u001b[0m\u001b[37m\u001b[0m \u001b[1m41s\u001b[0m 48ms/step - accuracy: 0.9850 - loss: 0.2523 - val_accuracy: 0.9107 - val_loss: 0.5316 - learning_rate: 1.5625e-05\n",
            "Epoch 69/200\n",
            "\u001b[1m625/625\u001b[0m \u001b[32m━━━━━━━━━━━━━━━━━━━━\u001b[0m\u001b[37m\u001b[0m \u001b[1m32s\u001b[0m 51ms/step - accuracy: 0.9867 - loss: 0.2494 - val_accuracy: 0.9111 - val_loss: 0.5386 - learning_rate: 1.5625e-05\n",
            "Epoch 70/200\n",
            "\u001b[1m625/625\u001b[0m \u001b[32m━━━━━━━━━━━━━━━━━━━━\u001b[0m\u001b[37m\u001b[0m \u001b[1m31s\u001b[0m 49ms/step - accuracy: 0.9868 - loss: 0.2492 - val_accuracy: 0.9092 - val_loss: 0.5367 - learning_rate: 1.5625e-05\n",
            "Epoch 71/200\n",
            "\u001b[1m625/625\u001b[0m \u001b[32m━━━━━━━━━━━━━━━━━━━━\u001b[0m\u001b[37m\u001b[0m \u001b[1m31s\u001b[0m 49ms/step - accuracy: 0.9867 - loss: 0.2483 - val_accuracy: 0.9079 - val_loss: 0.5442 - learning_rate: 1.5625e-05\n",
            "Epoch 72/200\n",
            "\u001b[1m625/625\u001b[0m \u001b[32m━━━━━━━━━━━━━━━━━━━━\u001b[0m\u001b[37m\u001b[0m \u001b[1m41s\u001b[0m 50ms/step - accuracy: 0.9868 - loss: 0.2483 - val_accuracy: 0.9126 - val_loss: 0.5296 - learning_rate: 7.8125e-06\n",
            "Epoch 73/200\n",
            "\u001b[1m625/625\u001b[0m \u001b[32m━━━━━━━━━━━━━━━━━━━━\u001b[0m\u001b[37m\u001b[0m \u001b[1m40s\u001b[0m 49ms/step - accuracy: 0.9888 - loss: 0.2425 - val_accuracy: 0.9111 - val_loss: 0.5331 - learning_rate: 7.8125e-06\n",
            "Epoch 74/200\n",
            "\u001b[1m625/625\u001b[0m \u001b[32m━━━━━━━━━━━━━━━━━━━━\u001b[0m\u001b[37m\u001b[0m \u001b[1m31s\u001b[0m 50ms/step - accuracy: 0.9877 - loss: 0.2452 - val_accuracy: 0.9128 - val_loss: 0.5300 - learning_rate: 7.8125e-06\n",
            "Epoch 75/200\n",
            "\u001b[1m625/625\u001b[0m \u001b[32m━━━━━━━━━━━━━━━━━━━━\u001b[0m\u001b[37m\u001b[0m \u001b[1m41s\u001b[0m 49ms/step - accuracy: 0.9872 - loss: 0.2458 - val_accuracy: 0.9094 - val_loss: 0.5404 - learning_rate: 7.8125e-06\n",
            "Epoch 76/200\n",
            "\u001b[1m625/625\u001b[0m \u001b[32m━━━━━━━━━━━━━━━━━━━━\u001b[0m\u001b[37m\u001b[0m \u001b[1m41s\u001b[0m 50ms/step - accuracy: 0.9870 - loss: 0.2457 - val_accuracy: 0.9117 - val_loss: 0.5388 - learning_rate: 7.8125e-06\n"
          ]
        }
      ]
    },
    {
      "cell_type": "code",
      "source": [
        "pd.DataFrame(history.history).plot()"
      ],
      "metadata": {
        "colab": {
          "base_uri": "https://localhost:8080/",
          "height": 447
        },
        "id": "bI0Vubz6Qamw",
        "outputId": "ef100541-5360-440e-e3bc-2273a3ff8301"
      },
      "execution_count": 7,
      "outputs": [
        {
          "output_type": "execute_result",
          "data": {
            "text/plain": [
              "<Axes: >"
            ]
          },
          "metadata": {},
          "execution_count": 7
        },
        {
          "output_type": "display_data",
          "data": {
            "text/plain": [
              "<Figure size 640x480 with 1 Axes>"
            ],
            "image/png": "[encoded data removed]"
          },
          "metadata": {}
        }
      ]
    },
    {
      "cell_type": "code",
      "source": [
        "# TESTING THE MODEL WITH TEST DATA AND PREPARE CLASSIFICATION REPORT (PRECISION , RECALL, F1-SCORE)\n",
        "\n",
        "scores = model.evaluate(X_test, y_test)\n",
        "y_pred = model.predict(X_test)\n",
        "class_names = ['airplane','automobile','bird','cat','deer','dog','frog','horse','ship','truck']\n",
        "target = [class_names[i].format(i) for i in range(10)]\n",
        "\n",
        "print(\"\\n\\nTesting Accuracy :\",scores[1],\"\\n\")\n",
        "print(classification_report(y_test.flatten(), np.argmax(y_pred, axis=1), target_names=target))"
      ],
      "metadata": {
        "colab": {
          "base_uri": "https://localhost:8080/"
        },
        "id": "6lh-zrPRQjzy",
        "outputId": "82c4ffc2-33ed-44b2-ff15-cadfc16dd52f"
      },
      "execution_count": 9,
      "outputs": [
        {
          "output_type": "stream",
          "name": "stdout",
          "text": [
            "\u001b[1m313/313\u001b[0m \u001b[32m━━━━━━━━━━━━━━━━━━━━\u001b[0m\u001b[37m\u001b[0m \u001b[1m2s\u001b[0m 5ms/step - accuracy: 0.9006 - loss: 0.5606\n",
            "\u001b[1m313/313\u001b[0m \u001b[32m━━━━━━━━━━━━━━━━━━━━\u001b[0m\u001b[37m\u001b[0m \u001b[1m3s\u001b[0m 6ms/step\n",
            "\n",
            "\n",
            "Testing Accuracy : 0.9047999978065491 \n",
            "\n",
            "              precision    recall  f1-score   support\n",
            "\n",
            "    airplane       0.89      0.92      0.90      1000\n",
            "  automobile       0.92      0.97      0.94      1000\n",
            "        bird       0.87      0.87      0.87      1000\n",
            "         cat       0.87      0.78      0.82      1000\n",
            "        deer       0.92      0.90      0.91      1000\n",
            "         dog       0.89      0.83      0.86      1000\n",
            "        frog       0.89      0.96      0.92      1000\n",
            "       horse       0.93      0.94      0.94      1000\n",
            "        ship       0.96      0.93      0.94      1000\n",
            "       truck       0.91      0.94      0.93      1000\n",
            "\n",
            "    accuracy                           0.90     10000\n",
            "   macro avg       0.90      0.90      0.90     10000\n",
            "weighted avg       0.90      0.90      0.90     10000\n",
            "\n"
          ]
        }
      ]
    },
    {
      "cell_type": "code",
      "source": [],
      "metadata": {
        "id": "j5M-T6zRQmUP"
      },
      "execution_count": null,
      "outputs": []
    }
  ]
}