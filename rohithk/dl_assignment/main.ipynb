{
 "cells": [
  {
   "cell_type": "markdown",
   "metadata": {},
   "source": [
    "# import libraries"
   ]
  },
  {
   "cell_type": "code",
   "execution_count": 2,
   "metadata": {},
   "outputs": [
    {
     "name": "stdout",
     "output_type": "stream",
     "text": [
      "torch.Size([1, 10])\n"
     ]
    }
   ],
   "source": [
    "import torch\n",
    "import torch.nn as nn\n",
    "import torchvision.transforms as transforms\n",
    "import torchvision.datasets as datasets\n",
    "import matplotlib.pyplot as plt\n",
    "from torchvision import models\n",
    "from sklearn.metrics import confusion_matrix,ConfusionMatrixDisplay,f1_score\n",
    "from custom_CNN import CustomCNN\n",
    "import psutil"
   ]
  },
  {
   "cell_type": "markdown",
   "metadata": {},
   "source": [
    "# training and testing functions"
   ]
  },
  {
   "cell_type": "code",
   "execution_count": 30,
   "metadata": {},
   "outputs": [
    {
     "name": "stdout",
     "output_type": "stream",
     "text": [
      "Total Inference Time: 0.10 seconds\n",
      "Latency per Sample: 0.01 ms\n",
      "Average Latency per Batch: 0.16 ms\n",
      "Test Accuracy: 98.62%\n"
     ]
    }
   ],
   "source": [
    "import time\n",
    "\n",
    "def train_model(model,device,train_loader, learning_rate, num_epochs):\n",
    "    # Print training details\n",
    "    batch_size = train_loader.batch_size\n",
    "    print(f\"Batch Size: {batch_size}\")\n",
    "    print(f\"Number of Epochs: {num_epochs}\")\n",
    "    print(f\"Learning Rate (starting): {learning_rate}\")\n",
    "\n",
    "    # Modify the model's final layer\n",
    "    model.to(device)\n",
    "\n",
    "    # Define loss function and optimizer\n",
    "    criterion = nn.CrossEntropyLoss()\n",
    "    optimizer = torch.optim.Adam(model.parameters(), lr=learning_rate)\n",
    "\n",
    "    for epoch in range(num_epochs):\n",
    "        model.train()\n",
    "        running_loss = 0.0\n",
    "        for images, labels in train_loader:\n",
    "            images = images.to(device)\n",
    "            labels = labels.to(device)\n",
    "\n",
    "            # Forward propagation\n",
    "            outputs = model(images)\n",
    "            loss = criterion(outputs, labels)\n",
    "\n",
    "            # Backward propagation\n",
    "            optimizer.zero_grad()\n",
    "            loss.backward()\n",
    "            optimizer.step()\n",
    "\n",
    "            running_loss += loss.item()\n",
    "\n",
    "        # Print loss per epoch\n",
    "        print(f\"Epoch: [{epoch + 1}/{num_epochs}], Loss: {running_loss / len(train_loader):.4f}\")\n",
    "    # Calculate latency for a single sample\n",
    "    model.eval() \n",
    "    with torch.no_grad():\n",
    "        start_time = time.time()\n",
    "        for images, _ in train_loader:\n",
    "            images = images.to(device)\n",
    "            # Simulate processing a single sample\n",
    "            for i in range(images.size(0)):\n",
    "                _ = model(images[i].unsqueeze(0))\n",
    "            break  # Measure for one batch\n",
    "        end_time = time.time()\n",
    "    \n",
    "    checkpoint_path = f'model-{batch_size}-{epoch}-{str(learning_rate)}.pth'\n",
    "\n",
    "    # Create a dictionary containing the model and optimizer state_dict\n",
    "    checkpoint = {\n",
    "        'model_state_dict': model.state_dict(),\n",
    "        'optimizer_state_dict': optimizer.state_dict()\n",
    "    }\n",
    "\n",
    "    # Save the checkpoint\n",
    "    torch.save(checkpoint, checkpoint_path)\n",
    "    # Latency per sample\n",
    "    latency_per_sample = (end_time - start_time) / images.size(0)\n",
    "    print(f\"Latency per sample: {latency_per_sample * 1000:.2f} ms\")\n",
    "    return latency_per_sample * 1000\n",
    "\n",
    "\n",
    "def measure_latency_cpu_usage(model, test_inputs):\n",
    "    process = psutil.Process()\n",
    "    cpu_start = process.cpu_percent()\n",
    "    start = time.time()\n",
    "    predictions = model(test_inputs)\n",
    "    end = time.time()\n",
    "    cpu_end = process.cpu_percent()\n",
    "    latency = end - start\n",
    "    cpu_usage = cpu_end - cpu_start\n",
    "    return latency, cpu_usage\n",
    "\n",
    "def test_model(test_loader, model, device):\n",
    "    model.eval()\n",
    "    correct = 0\n",
    "    total = 0\n",
    "    predicted_labels = []\n",
    "    true_labels = []\n",
    "    \n",
    "    total_latency = 0\n",
    "    total_cpu_usage = 0\n",
    "    \n",
    "    with torch.no_grad():\n",
    "        for images, labels in test_loader:\n",
    "            images = images.to(device)\n",
    "            labels = labels.to(device)\n",
    "            \n",
    "            # Measure latency and CPU usage\n",
    "            latency, cpu_usage = measure_latency_cpu_usage(model, images)\n",
    "            total_latency += latency\n",
    "            total_cpu_usage += cpu_usage\n",
    "            \n",
    "            outputs = model(images)\n",
    "            _, predicted = torch.max(outputs.data, 1)\n",
    "            total += labels.size(0)\n",
    "            correct += (predicted == labels).sum().item()\n",
    "            \n",
    "            predicted_labels.extend(predicted.to('cpu').tolist())\n",
    "            true_labels.extend(labels.to('cpu').tolist())\n",
    "    \n",
    "    # Calculate averages\n",
    "    avg_latency_per_batch = total_latency / len(test_loader)\n",
    "    avg_cpu_usage = total_cpu_usage / len(test_loader)\n",
    "    accuracy = 100 * correct / total\n",
    "    \n",
    "    print(f\"Average Latency per Batch: {avg_latency_per_batch * 1000:.2f} ms\")\n",
    "    print(f\"Average CPU Usage per Batch: {avg_cpu_usage:.2f}%\")\n",
    "    print(f\"Test Accuracy: {accuracy:.2f}%\")\n",
    "    \n",
    "    return accuracy,predicted_labels, true_labels\n"
   ]
  },
  {
   "cell_type": "markdown",
   "metadata": {},
   "source": [
    "# setting the device for execution - gpu or cpu"
   ]
  },
  {
   "cell_type": "code",
   "execution_count": 4,
   "metadata": {},
   "outputs": [],
   "source": [
    "device = torch.device('cuda' if torch.cuda.is_available() else 'cpu')"
   ]
  },
  {
   "cell_type": "markdown",
   "metadata": {},
   "source": [
    "# hyperparameters"
   ]
  },
  {
   "cell_type": "code",
   "execution_count": 5,
   "metadata": {},
   "outputs": [],
   "source": [
    "num_classes = 10\n",
    "num_epochs = 10\n",
    "batch_size = 32\n",
    "learning_rate =0.0001"
   ]
  },
  {
   "cell_type": "markdown",
   "metadata": {},
   "source": [
    "# pre processing functions"
   ]
  },
  {
   "cell_type": "code",
   "execution_count": 6,
   "metadata": {},
   "outputs": [],
   "source": [
    "train_transforms = transforms.Compose([\n",
    "    transforms.ToTensor(),\n",
    "    transforms.Resize((28,28)),    \n",
    "  transforms.Normalize((0.5,), (0.5,))\n",
    "])\n",
    "\n",
    "test_transforms = transforms.Compose([\n",
    "    transforms.ToTensor(),\n",
    "    transforms.Resize((28,28)),    \n",
    "  transforms.Normalize((0.5,), (0.5,))\n",
    "])"
   ]
  },
  {
   "cell_type": "markdown",
   "metadata": {},
   "source": [
    "## downloading public dataset - CIFAR10"
   ]
  },
  {
   "cell_type": "code",
   "execution_count": 7,
   "metadata": {},
   "outputs": [],
   "source": [
    "train_dataset = datasets.MNIST(root='./data', train=True, transform=train_transforms, download=True)\n",
    "test_dataset = datasets.MNIST(root='./data', train=False, transform=test_transforms, download=True)"
   ]
  },
  {
   "cell_type": "markdown",
   "metadata": {},
   "source": [
    "# loading ResNet18 model"
   ]
  },
  {
   "cell_type": "code",
   "execution_count": 8,
   "metadata": {},
   "outputs": [],
   "source": [
    "model = CustomCNN(10)"
   ]
  },
  {
   "cell_type": "code",
   "execution_count": 9,
   "metadata": {},
   "outputs": [],
   "source": [
    "batch_sizes = [16,32,64,128]\n",
    "num_epochs = [10,50,100]\n",
    "learning_rate = [0.001,0.0001,0.00001]\n",
    "data = []\n",
    "for batch_size in batch_sizes:\n",
    "    for epochs in num_epochs:\n",
    "        for lr in learning_rate:\n",
    "            \n",
    "            train_loader = torch.utils.data.DataLoader(train_dataset,batch_size=batch_size, shuffle=True)\n",
    "            test_loader = torch.utils.data.DataLoader(test_dataset,batch_size=batch_size,shuffle=False)\n",
    "            latency = train_model(model,device,train_loader,lr,epochs)\n",
    "            accuracy,predictedLabels,trueLabels = test_model(test_loader,model,device=device)\n",
    "            \n",
    "            cm = confusion_matrix(trueLabels, predictedLabels)\n",
    "            fig, ax = plt.subplots(figsize=(8,8))\n",
    "            disp = ConfusionMatrixDisplay(confusion_matrix=cm,display_labels=range(10))\n",
    "            disp.plot(ax=ax, cmap='Blues', colorbar=True)\n",
    "            plt.title(\"Confusion Matrix for 10 Classes\")\n",
    "            plt.show()\n",
    "            \n",
    "            f1_score_data = f1_score(trueLabels, predictedLabels,average=\"macro\")\n",
    "            data.append({\n",
    "                \"batch_size\":batch_size,\n",
    "                \"learning_rate\":lr,\n",
    "                \"epochs\":epochs,\n",
    "                \"accuracy\":accuracy,\n",
    "                \"f1_score\":f1_score_data,\n",
    "                \"latency\":latency\n",
    "            })"
   ]
  },
  {
   "cell_type": "code",
   "execution_count": 10,
   "metadata": {},
   "outputs": [],
   "source": [
    "data"
   ]
  },
  {
   "cell_type": "markdown",
   "metadata": {},
   "source": [
    "# performing image augmentations"
   ]
  },
  {
   "cell_type": "code",
   "execution_count": 11,
   "metadata": {},
   "outputs": [],
   "source": [
    "train_transforms = transforms.Compose([\n",
    "    transforms.RandomHorizontalFlip(p=0.5),  # Randomly flip images horizontally\n",
    "    transforms.RandomCrop(32, padding=4),   # Random crop with padding\n",
    "    transforms.ColorJitter(brightness=0.2, contrast=0.2, saturation=0.2, hue=0.1),  # Random color adjustments\n",
    "    transforms.RandomRotation(15),         # Random rotation within 15 degrees\n",
    "    transforms.ToTensor(),                 # Convert to tensor\n",
    "        transforms.Resize((28,28)),    \n",
    "  transforms.Normalize((0.5,), (0.5,))\n",
    "])\n",
    "\n",
    "# Test data transformations (no augmentation)\n",
    "test_transforms = transforms.Compose([\n",
    "        transforms.Resize((28,28)),    \n",
    "    transforms.ToTensor(),\n",
    "  transforms.Normalize((0.5,), (0.5,))\n",
    "])\n",
    "train_dataset = datasets.MNIST(root='./data', train=True, transform=train_transforms, download=True)\n",
    "test_dataset = datasets.MNIST(root='./data', train=False, transform=test_transforms, download=True)"
   ]
  },
  {
   "cell_type": "code",
   "execution_count": 12,
   "metadata": {},
   "outputs": [
    {
     "name": "stdout",
     "output_type": "stream",
     "text": [
      "Batch Size: 16\n",
      "Number of Epochs: 10\n",
      "Learning Rate (starting): 0.001\n",
      "Epoch: [1/10], Loss: 0.3622\n",
      "Epoch: [2/10], Loss: 0.1652\n",
      "Epoch: [3/10], Loss: 0.1261\n",
      "Epoch: [4/10], Loss: 0.1083\n",
      "Epoch: [5/10], Loss: 0.0976\n",
      "Epoch: [6/10], Loss: 0.0948\n",
      "Epoch: [7/10], Loss: 0.0860\n",
      "Epoch: [8/10], Loss: 0.0814\n",
      "Epoch: [9/10], Loss: 0.0812\n",
      "Epoch: [10/10], Loss: 0.0755\n",
      "Latency per sample: 2.65 ms\n",
      "Average Latency per Batch: 0.44 ms\n",
      "Average CPU Usage per Batch: 85.11%\n",
      "Test Accuracy: 98.62%\n"
     ]
    },
    {
     "data": {
      "image/png": "[encoded data removed]",
      "text/plain": [
       "<Figure size 800x800 with 2 Axes>"
      ]
     },
     "metadata": {},
     "output_type": "display_data"
    }
   ],
   "source": [
    "batch_sizes = [16,32,64,128]\n",
    "num_epochs = [10,50,100]\n",
    "learning_rate = [0.001,0.0001,0.00001]\n",
    "aug_data = []\n",
    "for batch_size in batch_sizes:\n",
    "    for epochs in num_epochs:\n",
    "        for lr in learning_rate:\n",
    "            \n",
    "            train_loader = torch.utils.data.DataLoader(train_dataset,batch_size=batch_size, shuffle=True)\n",
    "            test_loader = torch.utils.data.DataLoader(test_dataset,batch_size=batch_size,shuffle=False)\n",
    "            latency = train_model(model,device,train_loader,lr,epochs)\n",
    "            accuracy,predictedLabels,trueLabels = test_model(test_loader,model,device=device)\n",
    "            \n",
    "            cm = confusion_matrix(trueLabels, predictedLabels)\n",
    "            fig, ax = plt.subplots(figsize=(8,8))\n",
    "            disp = ConfusionMatrixDisplay(confusion_matrix=cm,display_labels=range(10))\n",
    "            disp.plot(ax=ax, cmap='Blues', colorbar=True)\n",
    "            plt.title(\"Confusion Matrix for 10 Classes\")\n",
    "            plt.show()\n",
    "            \n",
    "            f1_score_data = f1_score(trueLabels, predictedLabels,average=\"macro\")\n",
    "            aug_data.append({\n",
    "                \"batch_size\":batch_size,\n",
    "                \"learning_rate\":lr,\n",
    "                \"epochs\":epochs,\n",
    "                \"accuracy\":accuracy,\n",
    "                \"f1_score\":f1_score_data\n",
    "            })\n",
    "            break\n",
    "        break\n",
    "    break"
   ]
  },
  {
   "cell_type": "markdown",
   "metadata": {},
   "source": [
    "# adding tensor rt\n"
   ]
  },
  {
   "cell_type": "code",
   "execution_count": 13,
   "metadata": {},
   "outputs": [
    {
     "name": "stderr",
     "output_type": "stream",
     "text": [
      "/home/rohithk/miniconda3/lib/python3.9/site-packages/tqdm/auto.py:21: TqdmWarning: IProgress not found. Please update jupyter and ipywidgets. See https://ipywidgets.readthedocs.io/en/stable/user_install.html\n",
      "  from .autonotebook import tqdm as notebook_tqdm\n"
     ]
    }
   ],
   "source": [
    "import torch_tensorrt"
   ]
  },
  {
   "cell_type": "code",
   "execution_count": 16,
   "metadata": {},
   "outputs": [],
   "source": [
    "import os\n",
    "os.environ[\"TORCH_LOGS\"] = \"+dynamo\"\n",
    "os.environ[\"TORCHDYNAMO_VERBOSE\"] = \"1\"\n"
   ]
  },
  {
   "cell_type": "code",
   "execution_count": 26,
   "metadata": {},
   "outputs": [
    {
     "name": "stderr",
     "output_type": "stream",
     "text": [
      "WARNING:root:Given dtype that does not have direct mapping to torch (dtype.unknown), defaulting to torch.float\n"
     ]
    }
   ],
   "source": [
    "import torch\n",
    "import torch_tensorrt\n",
    "\n",
    "trt_module = torch_tensorrt.compile(\n",
    "    model,\n",
    "    inputs=[torch_tensorrt.Input((16, 1, 28, 28))],  \n",
    "    enabled_precisions={torch_tensorrt.dtype.half}   \n",
    ")\n",
    "\n",
    "example_input = torch.randn(16, 1, 28, 28).cuda()  \n",
    "scripted_trt_module = torch.jit.trace(trt_module, example_input)\n",
    "\n",
    "torch.jit.save(scripted_trt_module, \"trt_torchscript_module.ts\")"
   ]
  },
  {
   "cell_type": "code",
   "execution_count": null,
   "metadata": {},
   "outputs": [
    {
     "name": "stdout",
     "output_type": "stream",
     "text": [
      "Total inference time: 1.35 seconds\n",
      "Test Accuracy: 98.62%\n"
     ]
    }
   ],
   "source": [
    "import time\n",
    "import torch\n",
    "import torch_tensorrt\n",
    "from torch.utils.data import DataLoader\n",
    "\n",
    "loaded_module = torch.jit.load(\"trt_torchscript_module.ts\")\n",
    "loaded_module.eval() \n",
    "device = torch.device(\"cuda\" if torch.cuda.is_available() else \"cpu\")\n",
    "loaded_module = loaded_module.to(device)\n",
    "\n",
    "total_time = 0\n",
    "num_samples = 0\n",
    "num_batches = 0\n",
    "\n",
    "results = []\n",
    "with torch.no_grad():  \n",
    "    for inputs, labels in test_loader: \n",
    "        batch_size = inputs.size(0)\n",
    "        inputs = inputs.to(device) \n",
    "\n",
    "        start_time = time.time()\n",
    "        outputs = loaded_module(inputs) \n",
    "        end_time = time.time()\n",
    "\n",
    "        batch_time = end_time - start_time\n",
    "        total_time += batch_time\n",
    "        num_samples += batch_size\n",
    "        num_batches += 1\n",
    "\n",
    "        results.append((outputs, labels)) \n",
    "\n",
    "latency_per_sample = (total_time / num_samples) * 1000  \n",
    "average_latency_per_batch = (total_time / num_batches) * 1000  \n",
    "\n",
    "print(f\"Total Inference Time: {total_time:.2f} seconds\")\n",
    "print(f\"Latency per Sample: {latency_per_sample:.2f} ms\")\n",
    "print(f\"Average Latency per Batch: {average_latency_per_batch:.2f} ms\")\n",
    "\n",
    "correct = 0\n",
    "total = 0\n",
    "for outputs, labels in results:\n",
    "    predictions = torch.argmax(outputs, dim=1)  \n",
    "    correct += (predictions == labels.to(device)).sum().item()\n",
    "    total += labels.size(0)\n",
    "\n",
    "accuracy = correct / total * 100\n",
    "print(f\"Test Accuracy: {accuracy:.2f}%\")"
   ]
  }
 ],
 "metadata": {
  "kernelspec": {
   "display_name": "base",
   "language": "python",
   "name": "python3"
  },
  "language_info": {
   "codemirror_mode": {
    "name": "ipython",
    "version": 3
   },
   "file_extension": ".py",
   "mimetype": "text/x-python",
   "name": "python",
   "nbconvert_exporter": "python",
   "pygments_lexer": "ipython3",
   "version": "3.9.18"
  }
 },
 "nbformat": 4,
 "nbformat_minor": 4
}
