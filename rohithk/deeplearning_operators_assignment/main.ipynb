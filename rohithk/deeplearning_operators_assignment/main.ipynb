{
 "cells": [
  {
   "cell_type": "code",
   "execution_count": 1,
   "metadata": {},
   "outputs": [],
   "source": [
    "import torch\n",
    "import torch.nn as nn\n",
    "import torchvision.models as models\n",
    "import torchvision.transforms as transforms\n",
    "import torchvision.datasets as datasets\n",
    "import custom_cnn"
   ]
  },
  {
   "cell_type": "code",
   "execution_count": 2,
   "metadata": {},
   "outputs": [],
   "source": [
    "device = torch.device(\"cuda\" if torch.cuda.is_available() else \"cpu\")"
   ]
  },
  {
   "cell_type": "code",
   "execution_count": 3,
   "metadata": {},
   "outputs": [],
   "source": [
    "batch_size = 64\n",
    "num_epochs = 100\n",
    "learning_rate = 0.0001"
   ]
  },
  {
   "cell_type": "code",
   "execution_count": 4,
   "metadata": {},
   "outputs": [],
   "source": [
    "train_transform = transforms.Compose([\n",
    "    transforms.RandomHorizontalFlip(),\n",
    "    transforms.RandomCrop(32, padding=4),\n",
    "    transforms.ToTensor(),\n",
    "    transforms.Normalize((0.4914, 0.4822, 0.4465), (0.247, 0.243, 0.261))\n",
    "])\n",
    "test_transform = transforms.Compose([\n",
    "    transforms.ToTensor(),\n",
    "])"
   ]
  },
  {
   "cell_type": "code",
   "execution_count": 5,
   "metadata": {},
   "outputs": [
    {
     "name": "stdout",
     "output_type": "stream",
     "text": [
      "Files already downloaded and verified\n",
      "Files already downloaded and verified\n"
     ]
    }
   ],
   "source": [
    "train_dataset = datasets.CIFAR10(root='./data/dataset',train=True,transform=train_transform,download=True)\n",
    "test_dataset = datasets.CIFAR10(root='./data/dataset',train=False,transform=test_transform,download=True)"
   ]
  },
  {
   "cell_type": "code",
   "execution_count": 6,
   "metadata": {},
   "outputs": [],
   "source": [
    "train_loader = torch.utils.data.DataLoader(train_dataset, batch_size = batch_size, shuffle=True)\n",
    "test_loader = torch.utils.data.DataLoader(test_dataset, batch_size = batch_size, shuffle=False)"
   ]
  },
  {
   "cell_type": "code",
   "execution_count": 7,
   "metadata": {},
   "outputs": [
    {
     "name": "stdout",
     "output_type": "stream",
     "text": [
      "Epoch: [1/100], Loss: 1.8755\n",
      "Epoch: [2/100], Loss: 1.5977\n",
      "Epoch: [3/100], Loss: 1.5021\n",
      "Epoch: [4/100], Loss: 1.4345\n",
      "Epoch: [5/100], Loss: 1.3719\n",
      "Epoch: [6/100], Loss: 1.3244\n",
      "Epoch: [7/100], Loss: 1.2769\n",
      "Epoch: [8/100], Loss: 1.2364\n",
      "Epoch: [9/100], Loss: 1.1979\n",
      "Epoch: [10/100], Loss: 1.1673\n",
      "Epoch: [11/100], Loss: 1.1386\n",
      "Epoch: [12/100], Loss: 1.1152\n",
      "Epoch: [13/100], Loss: 1.0836\n",
      "Epoch: [14/100], Loss: 1.0650\n",
      "Epoch: [15/100], Loss: 1.0420\n",
      "Epoch: [16/100], Loss: 1.0244\n",
      "Epoch: [17/100], Loss: 1.0057\n",
      "Epoch: [18/100], Loss: 0.9931\n",
      "Epoch: [19/100], Loss: 0.9732\n",
      "Epoch: [20/100], Loss: 0.9529\n",
      "Epoch: [21/100], Loss: 0.9426\n",
      "Epoch: [22/100], Loss: 0.9274\n",
      "Epoch: [23/100], Loss: 0.9172\n",
      "Epoch: [24/100], Loss: 0.8998\n",
      "Epoch: [25/100], Loss: 0.8880\n",
      "Epoch: [26/100], Loss: 0.8732\n",
      "Epoch: [27/100], Loss: 0.8609\n",
      "Epoch: [28/100], Loss: 0.8518\n",
      "Epoch: [29/100], Loss: 0.8461\n",
      "Epoch: [30/100], Loss: 0.8287\n",
      "Epoch: [31/100], Loss: 0.8221\n",
      "Epoch: [32/100], Loss: 0.8099\n",
      "Epoch: [33/100], Loss: 0.8068\n",
      "Epoch: [34/100], Loss: 0.7937\n",
      "Epoch: [35/100], Loss: 0.7864\n",
      "Epoch: [36/100], Loss: 0.7781\n",
      "Epoch: [37/100], Loss: 0.7703\n",
      "Epoch: [38/100], Loss: 0.7623\n",
      "Epoch: [39/100], Loss: 0.7605\n",
      "Epoch: [40/100], Loss: 0.7553\n",
      "Epoch: [41/100], Loss: 0.7431\n",
      "Epoch: [42/100], Loss: 0.7386\n",
      "Epoch: [43/100], Loss: 0.7315\n",
      "Epoch: [44/100], Loss: 0.7281\n",
      "Epoch: [45/100], Loss: 0.7216\n",
      "Epoch: [46/100], Loss: 0.7161\n",
      "Epoch: [47/100], Loss: 0.7030\n",
      "Epoch: [48/100], Loss: 0.7034\n",
      "Epoch: [49/100], Loss: 0.6942\n",
      "Epoch: [50/100], Loss: 0.6892\n",
      "Epoch: [51/100], Loss: 0.6843\n",
      "Epoch: [52/100], Loss: 0.6826\n",
      "Epoch: [53/100], Loss: 0.6765\n",
      "Epoch: [54/100], Loss: 0.6653\n",
      "Epoch: [55/100], Loss: 0.6689\n",
      "Epoch: [56/100], Loss: 0.6624\n",
      "Epoch: [57/100], Loss: 0.6584\n",
      "Epoch: [58/100], Loss: 0.6527\n",
      "Epoch: [59/100], Loss: 0.6489\n",
      "Epoch: [60/100], Loss: 0.6428\n",
      "Epoch: [61/100], Loss: 0.6409\n",
      "Epoch: [62/100], Loss: 0.6405\n",
      "Epoch: [63/100], Loss: 0.6339\n",
      "Epoch: [64/100], Loss: 0.6320\n",
      "Epoch: [65/100], Loss: 0.6231\n",
      "Epoch: [66/100], Loss: 0.6197\n",
      "Epoch: [67/100], Loss: 0.6154\n",
      "Epoch: [68/100], Loss: 0.6146\n",
      "Epoch: [69/100], Loss: 0.6125\n",
      "Epoch: [70/100], Loss: 0.6063\n",
      "Epoch: [71/100], Loss: 0.6050\n",
      "Epoch: [72/100], Loss: 0.6004\n",
      "Epoch: [73/100], Loss: 0.5931\n",
      "Epoch: [74/100], Loss: 0.5944\n",
      "Epoch: [75/100], Loss: 0.5857\n",
      "Epoch: [76/100], Loss: 0.5889\n",
      "Epoch: [77/100], Loss: 0.5869\n",
      "Epoch: [78/100], Loss: 0.5818\n",
      "Epoch: [79/100], Loss: 0.5754\n",
      "Epoch: [80/100], Loss: 0.5775\n",
      "Epoch: [81/100], Loss: 0.5710\n",
      "Epoch: [82/100], Loss: 0.5705\n",
      "Epoch: [83/100], Loss: 0.5675\n",
      "Epoch: [84/100], Loss: 0.5666\n",
      "Epoch: [85/100], Loss: 0.5576\n",
      "Epoch: [86/100], Loss: 0.5577\n",
      "Epoch: [87/100], Loss: 0.5519\n",
      "Epoch: [88/100], Loss: 0.5533\n",
      "Epoch: [89/100], Loss: 0.5511\n",
      "Epoch: [90/100], Loss: 0.5493\n",
      "Epoch: [91/100], Loss: 0.5477\n",
      "Epoch: [92/100], Loss: 0.5433\n",
      "Epoch: [93/100], Loss: 0.5386\n",
      "Epoch: [94/100], Loss: 0.5384\n",
      "Epoch: [95/100], Loss: 0.5369\n",
      "Epoch: [96/100], Loss: 0.5296\n",
      "Epoch: [97/100], Loss: 0.5311\n",
      "Epoch: [98/100], Loss: 0.5298\n",
      "Epoch: [99/100], Loss: 0.5266\n",
      "Epoch: [100/100], Loss: 0.5252\n"
     ]
    }
   ],
   "source": [
    "model = custom_cnn.CNNModel()\n",
    "model.to(device)\n",
    "\n",
    "criterion = nn.CrossEntropyLoss()\n",
    "optimizer = torch.optim.Adam(model.parameters(), lr=learning_rate)\n",
    "\n",
    "for epoch in range(num_epochs):\n",
    "    model.train()\n",
    "    running_loss = 0.0\n",
    "    for images, labels in train_loader:\n",
    "            images = images.to(device)\n",
    "            labels = labels.to(device)\n",
    "\n",
    "            # Forward propagation\n",
    "            outputs = model(images)\n",
    "            loss = criterion(outputs, labels)\n",
    "\n",
    "            # Backward propagation\n",
    "            optimizer.zero_grad()\n",
    "            loss.backward()\n",
    "            optimizer.step()\n",
    "\n",
    "            running_loss += loss.item()\n",
    "\n",
    "        # Print loss per epoch\n",
    "    print(f\"Epoch: [{epoch + 1}/{num_epochs}], Loss: {running_loss / len(train_loader):.4f}\")\n"
   ]
  },
  {
   "cell_type": "code",
   "execution_count": null,
   "metadata": {},
   "outputs": [],
   "source": []
  }
 ],
 "metadata": {
  "kernelspec": {
   "display_name": "base",
   "language": "python",
   "name": "python3"
  },
  "language_info": {
   "codemirror_mode": {
    "name": "ipython",
    "version": 3
   },
   "file_extension": ".py",
   "mimetype": "text/x-python",
   "name": "python",
   "nbconvert_exporter": "python",
   "pygments_lexer": "ipython3",
   "version": "3.9.18"
  }
 },
 "nbformat": 4,
 "nbformat_minor": 2
}
