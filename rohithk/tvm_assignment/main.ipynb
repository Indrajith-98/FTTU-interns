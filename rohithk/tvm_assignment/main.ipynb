{
 "cells": [
  {
   "cell_type": "code",
   "execution_count": null,
   "metadata": {},
   "outputs": [
    {
     "ename": "AssertionError",
     "evalue": "User specified the shape for inputs that weren't found in the graph: {'input.1': (64, 3, 32, 32)}",
     "output_type": "error",
     "traceback": [
      "\u001b[0;31m---------------------------------------------------------------------------\u001b[0m",
      "\u001b[0;31mAssertionError\u001b[0m                            Traceback (most recent call last)",
      "Cell \u001b[0;32mIn[8], line 14\u001b[0m\n\u001b[1;32m     11\u001b[0m input_shape \u001b[38;5;241m=\u001b[39m {\u001b[38;5;124m\"\u001b[39m\u001b[38;5;124minput.1\u001b[39m\u001b[38;5;124m\"\u001b[39m: (\u001b[38;5;241m64\u001b[39m, \u001b[38;5;241m3\u001b[39m, \u001b[38;5;241m32\u001b[39m, \u001b[38;5;241m32\u001b[39m)}  \u001b[38;5;66;03m# Update the input shape if necessary\u001b[39;00m\n\u001b[1;32m     13\u001b[0m \u001b[38;5;66;03m# Convert the ONNX model to a Relay module\u001b[39;00m\n\u001b[0;32m---> 14\u001b[0m mod, params \u001b[38;5;241m=\u001b[39m \u001b[43mrelay\u001b[49m\u001b[38;5;241;43m.\u001b[39;49m\u001b[43mfrontend\u001b[49m\u001b[38;5;241;43m.\u001b[39;49m\u001b[43mfrom_onnx\u001b[49m\u001b[43m(\u001b[49m\u001b[43monnx_model\u001b[49m\u001b[43m,\u001b[49m\u001b[43m \u001b[49m\u001b[43minput_shape\u001b[49m\u001b[43m)\u001b[49m\n\u001b[1;32m     16\u001b[0m target \u001b[38;5;241m=\u001b[39m \u001b[38;5;124m\"\u001b[39m\u001b[38;5;124mcpu\u001b[39m\u001b[38;5;124m\"\u001b[39m  \n\u001b[1;32m     18\u001b[0m \u001b[38;5;66;03m# Build the model\u001b[39;00m\n",
      "File \u001b[0;32m~/miniconda3/lib/python3.9/site-packages/tvm/relay/frontend/onnx.py:4760\u001b[0m, in \u001b[0;36mfrom_onnx\u001b[0;34m(model, shape, dtype, opset, freeze_params, convert_config)\u001b[0m\n\u001b[1;32m   4758\u001b[0m \u001b[38;5;66;03m# Use the graph proto as a scope so that ops can access other nodes if needed.\u001b[39;00m\n\u001b[1;32m   4759\u001b[0m \u001b[38;5;28;01mwith\u001b[39;00m g:\n\u001b[0;32m-> 4760\u001b[0m     mod, params \u001b[38;5;241m=\u001b[39m \u001b[43mg\u001b[49m\u001b[38;5;241;43m.\u001b[39;49m\u001b[43mfrom_onnx\u001b[49m\u001b[43m(\u001b[49m\u001b[43mgraph\u001b[49m\u001b[43m,\u001b[49m\u001b[43m \u001b[49m\u001b[43mopset\u001b[49m\u001b[43m)\u001b[49m\n\u001b[1;32m   4761\u001b[0m \u001b[38;5;28;01mreturn\u001b[39;00m mod, params\n",
      "File \u001b[0;32m~/miniconda3/lib/python3.9/site-packages/tvm/relay/frontend/onnx.py:4487\u001b[0m, in \u001b[0;36mGraphProto.from_onnx\u001b[0;34m(self, graph, opset, get_output_expr)\u001b[0m\n\u001b[1;32m   4485\u001b[0m \u001b[38;5;66;03m# Only check user inputs in the outer-most graph scope.\u001b[39;00m\n\u001b[1;32m   4486\u001b[0m \u001b[38;5;28;01mif\u001b[39;00m \u001b[38;5;28mself\u001b[39m\u001b[38;5;241m.\u001b[39m_old_manager \u001b[38;5;129;01mis\u001b[39;00m \u001b[38;5;28;01mNone\u001b[39;00m:\n\u001b[0;32m-> 4487\u001b[0m     \u001b[38;5;28;01massert\u001b[39;00m \u001b[38;5;28mall\u001b[39m(\n\u001b[1;32m   4488\u001b[0m         [name \u001b[38;5;129;01min\u001b[39;00m \u001b[38;5;28mself\u001b[39m\u001b[38;5;241m.\u001b[39m_input_names \u001b[38;5;28;01mfor\u001b[39;00m name \u001b[38;5;129;01min\u001b[39;00m \u001b[38;5;28mself\u001b[39m\u001b[38;5;241m.\u001b[39m_shape\u001b[38;5;241m.\u001b[39mkeys()]\n\u001b[1;32m   4489\u001b[0m     ), \u001b[38;5;124m\"\u001b[39m\u001b[38;5;124mUser specified the shape for inputs that weren\u001b[39m\u001b[38;5;124m'\u001b[39m\u001b[38;5;124mt found in the graph: \u001b[39m\u001b[38;5;124m\"\u001b[39m \u001b[38;5;241m+\u001b[39m \u001b[38;5;28mstr\u001b[39m(\n\u001b[1;32m   4490\u001b[0m         \u001b[38;5;28mself\u001b[39m\u001b[38;5;241m.\u001b[39m_shape\n\u001b[1;32m   4491\u001b[0m     )\n\u001b[1;32m   4492\u001b[0m \u001b[38;5;66;03m# get list of unsupported ops\u001b[39;00m\n\u001b[1;32m   4493\u001b[0m convert_map \u001b[38;5;241m=\u001b[39m _get_convert_map(opset)\n",
      "\u001b[0;31mAssertionError\u001b[0m: User specified the shape for inputs that weren't found in the graph: {'input.1': (64, 3, 32, 32)}"
     ]
    }
   ],
   "source": [
    "import onnx\n",
    "import tvm\n",
    "from tvm import relay\n",
    "from tvm.contrib import graph_executor\n",
    "\n",
    "# Load the ONNX model\n",
    "onnx_model = onnx.load(\"model.onnx\")\n",
    "\n",
    "input_name = \"input.1\" \n",
    "input_shape = {\"input.1\": (64, 3, 32, 32)}  # Update the input shape if necessary\n",
    "\n",
    "# Convert the ONNX model to a Relay module\n",
    "mod, params = relay.frontend.from_onnx(onnx_model, input_shape)\n",
    "\n",
    "target = \"cpu\"  \n",
    "\n",
    "# Build the model\n",
    "with tvm.transform.PassContext(opt_level=3):\n",
    "    lib = relay.build(mod, target=target, params=params)\n",
    "\n",
    "# Create a TVM runtime executor\n",
    "dev = tvm.device(str(target), 0)\n",
    "module = graph_executor.GraphModule(lib[\"default\"](dev))\n",
    "\n",
    "# Prepare input data (example: random input)\n",
    "import numpy as np\n",
    "input_data = np.random.uniform(size=input_shape[input_name]).astype(\"float32\")\n",
    "module.set_input(input_name, input_data)\n",
    "\n",
    "# Run the model\n",
    "module.run()\n",
    "\n",
    "# Get the output\n",
    "output = module.get_output(0)\n",
    "print(output)\n"
   ]
  },
  {
   "cell_type": "markdown",
   "metadata": {},
   "source": []
  },
  {
   "cell_type": "code",
   "execution_count": 3,
   "metadata": {},
   "outputs": [
    {
     "name": "stdout",
     "output_type": "stream",
     "text": [
      "[name: \"input\"\n",
      "type {\n",
      "  tensor_type {\n",
      "    elem_type: 1\n",
      "    shape {\n",
      "      dim {\n",
      "        dim_param: \"batch_size\"\n",
      "      }\n",
      "      dim {\n",
      "        dim_value: 3\n",
      "      }\n",
      "      dim {\n",
      "        dim_value: 32\n",
      "      }\n",
      "      dim {\n",
      "        dim_value: 32\n",
      "      }\n",
      "    }\n",
      "  }\n",
      "}\n",
      "]\n"
     ]
    }
   ],
   "source": [
    "print(onnx_model.graph.input)\n"
   ]
  }
 ],
 "metadata": {
  "kernelspec": {
   "display_name": "base",
   "language": "python",
   "name": "python3"
  },
  "language_info": {
   "codemirror_mode": {
    "name": "ipython",
    "version": 3
   },
   "file_extension": ".py",
   "mimetype": "text/x-python",
   "name": "python",
   "nbconvert_exporter": "python",
   "pygments_lexer": "ipython3",
   "version": "3.9.18"
  }
 },
 "nbformat": 4,
 "nbformat_minor": 2
}
