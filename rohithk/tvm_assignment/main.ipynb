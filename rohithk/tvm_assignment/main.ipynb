{
 "cells": [
  {
   "cell_type": "code",
   "execution_count": 1,
   "metadata": {},
   "outputs": [
    {
     "name": "stderr",
     "output_type": "stream",
     "text": [
      "One or more operators have not been tuned. Please tune your model for better performance. Use DEBUG logging level to see more details.\n"
     ]
    },
    {
     "name": "stdout",
     "output_type": "stream",
     "text": [
      "[[-169.81454  -149.78537   -49.99475   -80.75202   -64.88769   -94.23434\n",
      "   -87.808624  -93.77419  -146.7838    -51.877163]]\n"
     ]
    }
   ],
   "source": [
    "import onnx\n",
    "import tvm\n",
    "from tvm import relay\n",
    "from tvm.contrib import graph_executor\n",
    "\n",
    "# Load the ONNX model\n",
    "onnx_model = onnx.load(\"model.onnx\")\n",
    "\n",
    "# Correct input name and shape based on the model's input specification\n",
    "input_name = \"input.1\"  # Update the input name\n",
    "input_shape = {\"input.1\": (1, 1, 28, 28)}  # Update the input shape if necessary\n",
    "\n",
    "# Convert the ONNX model to a Relay module\n",
    "mod, params = relay.frontend.from_onnx(onnx_model, input_shape)\n",
    "\n",
    "# Set the target (e.g., \"llvm\" for CPU, \"cuda\" for GPU)\n",
    "target = \"cuda\"  # Change to \"cuda\" if you have a GPU\n",
    "\n",
    "# Build the model\n",
    "with tvm.transform.PassContext(opt_level=3):\n",
    "    lib = relay.build(mod, target=target, params=params)\n",
    "\n",
    "# Create a TVM runtime executor\n",
    "dev = tvm.device(str(target), 0)\n",
    "module = graph_executor.GraphModule(lib[\"default\"](dev))\n",
    "\n",
    "# Prepare input data (example: random input)\n",
    "import numpy as np\n",
    "input_data = np.random.uniform(size=input_shape[input_name]).astype(\"float32\")\n",
    "module.set_input(input_name, input_data)\n",
    "\n",
    "# Run the model\n",
    "module.run()\n",
    "\n",
    "# Get the output\n",
    "output = module.get_output(0)\n",
    "print(output)\n"
   ]
  },
  {
   "cell_type": "code",
   "execution_count": 2,
   "metadata": {},
   "outputs": [
    {
     "name": "stdout",
     "output_type": "stream",
     "text": [
      "[name: \"input.1\"\n",
      "type {\n",
      "  tensor_type {\n",
      "    elem_type: 1\n",
      "    shape {\n",
      "      dim {\n",
      "        dim_value: 1\n",
      "      }\n",
      "      dim {\n",
      "        dim_value: 1\n",
      "      }\n",
      "      dim {\n",
      "        dim_value: 28\n",
      "      }\n",
      "      dim {\n",
      "        dim_value: 28\n",
      "      }\n",
      "    }\n",
      "  }\n",
      "}\n",
      "]\n"
     ]
    }
   ],
   "source": [
    "print(onnx_model.graph.input)\n"
   ]
  }
 ],
 "metadata": {
  "kernelspec": {
   "display_name": "base",
   "language": "python",
   "name": "python3"
  },
  "language_info": {
   "codemirror_mode": {
    "name": "ipython",
    "version": 3
   },
   "file_extension": ".py",
   "mimetype": "text/x-python",
   "name": "python",
   "nbconvert_exporter": "python",
   "pygments_lexer": "ipython3",
   "version": "3.9.18"
  }
 },
 "nbformat": 4,
 "nbformat_minor": 2
}
